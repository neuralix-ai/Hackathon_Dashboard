{
 "cells": [
  {
   "cell_type": "code",
   "execution_count": 1,
   "metadata": {},
   "outputs": [],
   "source": [
    "import os\n",
    "# import sys\n",
    "\n",
    "import pandas as pd\n",
    "import numpy as np\n",
    "\n",
    "import pickle as pkl\n",
    "\n",
    "# import glob\n",
    "# from datetime import datetime\n",
    "\n",
    "import plotly.graph_objects as go\n",
    "import plotly.io as pio\n",
    "from plotly.subplots import make_subplots\n",
    "\n",
    "# from sklearn.preprocessing import StandardScaler\n",
    "\n",
    "# from tqdm import tqdm\n",
    "\n",
    "# from sklearn.impute import SimpleImputer\n",
    "\n",
    "# from scipy.signal import butter, lfilter\n",
    "\n",
    "import json\n",
    "\n",
    "from itertools import compress\n",
    "\n",
    "from matplotlib.colors import to_rgb, to_hex"
   ]
  },
  {
   "cell_type": "code",
   "execution_count": 2,
   "metadata": {},
   "outputs": [],
   "source": [
    "output_dir = '../Output'\n",
    "\n",
    "if not os.path.exists(output_dir):\n",
    "    os.mkdir(output_dir)"
   ]
  },
  {
   "cell_type": "markdown",
   "metadata": {},
   "source": [
    "# Data Processing"
   ]
  },
  {
   "cell_type": "markdown",
   "metadata": {},
   "source": [
    "## Load Data"
   ]
  },
  {
   "cell_type": "code",
   "execution_count": 3,
   "metadata": {},
   "outputs": [
    {
     "name": "stdout",
     "output_type": "stream",
     "text": [
      "            Date/Time  LV ActivePower  Wind Speed  Theoretical_Power_Curve  \\\n",
      "0 2018-01-01 00:00:00      380.047791    5.311336               416.328908   \n",
      "1 2018-01-01 00:10:00      453.769196    5.672167               519.917511   \n",
      "2 2018-01-01 00:20:00      306.376587    5.216037               390.900016   \n",
      "3 2018-01-01 00:30:00      419.645905    5.659674               516.127569   \n",
      "4 2018-01-01 00:40:00      380.650696    5.577941               491.702972   \n",
      "\n",
      "   Wind Direction (deg)  \n",
      "0            259.994904  \n",
      "1            268.641113  \n",
      "2            272.564789  \n",
      "3            271.258087  \n",
      "4            265.674286  \n"
     ]
    }
   ],
   "source": [
    "# Define the directory path\n",
    "file_path = '../Data/T1.csv'\n",
    "\n",
    "# Initialize an empty list to store each file's DataFrame\n",
    "dataframes_list = []\n",
    "\n",
    "names = [\n",
    "    'Date/Time',\n",
    "    'LV ActivePower',\n",
    "    'Wind Speed',\n",
    "    'Theoretical_Power_Curve',\n",
    "    'Wind Direction (deg)',\n",
    "]\n",
    "\n",
    "df = pd.read_csv(file_path, sep=\",\", skiprows=1, names=names)\n",
    "\n",
    "# Convert the 'datetime' column to datetime objects\n",
    "df['Date/Time'] = pd.to_datetime(df['Date/Time'], format='%d %m %Y %H:%M')\n",
    "\n",
    "# Now you can sort the DataFrame by the 'datetime' column\n",
    "df = df.sort_values(by='Date/Time')\n",
    "\n",
    "\n",
    "print(df.head())"
   ]
  },
  {
   "cell_type": "markdown",
   "metadata": {},
   "source": [
    "## Slide02_YearlyChangeInProduction"
   ]
  },
  {
   "cell_type": "code",
   "execution_count": 4,
   "metadata": {},
   "outputs": [
    {
     "data": {
      "application/vnd.plotly.v1+json": {
       "config": {
        "plotlyServerURL": "https://plot.ly"
       },
       "data": [
        {
         "type": "bar",
         "x": [
          "Month 1",
          "Month 2",
          "Month 3",
          "Month 4",
          "Month 5",
          "Month 6",
          "Month 7",
          "Month 8",
          "Month 9",
          "Month 10",
          "Month 11",
          "Month 12"
         ],
         "y": [
          5050493.8997213235,
          6061527.4419922745,
          8713586.934177801,
          3548863.785300813,
          3723554.9424093086,
          4225856.646710033,
          2129391.827731573,
          8753485.419343268,
          5717938.55462572,
          5749986.324201826,
          7169436.699421369,
          5233166.814226255
         ]
        }
       ],
       "layout": {
        "plot_bgcolor": "white",
        "template": {
         "data": {
          "bar": [
           {
            "error_x": {
             "color": "#2a3f5f"
            },
            "error_y": {
             "color": "#2a3f5f"
            },
            "marker": {
             "line": {
              "color": "#E5ECF6",
              "width": 0.5
             },
             "pattern": {
              "fillmode": "overlay",
              "size": 10,
              "solidity": 0.2
             }
            },
            "type": "bar"
           }
          ],
          "barpolar": [
           {
            "marker": {
             "line": {
              "color": "#E5ECF6",
              "width": 0.5
             },
             "pattern": {
              "fillmode": "overlay",
              "size": 10,
              "solidity": 0.2
             }
            },
            "type": "barpolar"
           }
          ],
          "carpet": [
           {
            "aaxis": {
             "endlinecolor": "#2a3f5f",
             "gridcolor": "white",
             "linecolor": "white",
             "minorgridcolor": "white",
             "startlinecolor": "#2a3f5f"
            },
            "baxis": {
             "endlinecolor": "#2a3f5f",
             "gridcolor": "white",
             "linecolor": "white",
             "minorgridcolor": "white",
             "startlinecolor": "#2a3f5f"
            },
            "type": "carpet"
           }
          ],
          "choropleth": [
           {
            "colorbar": {
             "outlinewidth": 0,
             "ticks": ""
            },
            "type": "choropleth"
           }
          ],
          "contour": [
           {
            "colorbar": {
             "outlinewidth": 0,
             "ticks": ""
            },
            "colorscale": [
             [
              0,
              "#0d0887"
             ],
             [
              0.1111111111111111,
              "#46039f"
             ],
             [
              0.2222222222222222,
              "#7201a8"
             ],
             [
              0.3333333333333333,
              "#9c179e"
             ],
             [
              0.4444444444444444,
              "#bd3786"
             ],
             [
              0.5555555555555556,
              "#d8576b"
             ],
             [
              0.6666666666666666,
              "#ed7953"
             ],
             [
              0.7777777777777778,
              "#fb9f3a"
             ],
             [
              0.8888888888888888,
              "#fdca26"
             ],
             [
              1,
              "#f0f921"
             ]
            ],
            "type": "contour"
           }
          ],
          "contourcarpet": [
           {
            "colorbar": {
             "outlinewidth": 0,
             "ticks": ""
            },
            "type": "contourcarpet"
           }
          ],
          "heatmap": [
           {
            "colorbar": {
             "outlinewidth": 0,
             "ticks": ""
            },
            "colorscale": [
             [
              0,
              "#0d0887"
             ],
             [
              0.1111111111111111,
              "#46039f"
             ],
             [
              0.2222222222222222,
              "#7201a8"
             ],
             [
              0.3333333333333333,
              "#9c179e"
             ],
             [
              0.4444444444444444,
              "#bd3786"
             ],
             [
              0.5555555555555556,
              "#d8576b"
             ],
             [
              0.6666666666666666,
              "#ed7953"
             ],
             [
              0.7777777777777778,
              "#fb9f3a"
             ],
             [
              0.8888888888888888,
              "#fdca26"
             ],
             [
              1,
              "#f0f921"
             ]
            ],
            "type": "heatmap"
           }
          ],
          "heatmapgl": [
           {
            "colorbar": {
             "outlinewidth": 0,
             "ticks": ""
            },
            "colorscale": [
             [
              0,
              "#0d0887"
             ],
             [
              0.1111111111111111,
              "#46039f"
             ],
             [
              0.2222222222222222,
              "#7201a8"
             ],
             [
              0.3333333333333333,
              "#9c179e"
             ],
             [
              0.4444444444444444,
              "#bd3786"
             ],
             [
              0.5555555555555556,
              "#d8576b"
             ],
             [
              0.6666666666666666,
              "#ed7953"
             ],
             [
              0.7777777777777778,
              "#fb9f3a"
             ],
             [
              0.8888888888888888,
              "#fdca26"
             ],
             [
              1,
              "#f0f921"
             ]
            ],
            "type": "heatmapgl"
           }
          ],
          "histogram": [
           {
            "marker": {
             "pattern": {
              "fillmode": "overlay",
              "size": 10,
              "solidity": 0.2
             }
            },
            "type": "histogram"
           }
          ],
          "histogram2d": [
           {
            "colorbar": {
             "outlinewidth": 0,
             "ticks": ""
            },
            "colorscale": [
             [
              0,
              "#0d0887"
             ],
             [
              0.1111111111111111,
              "#46039f"
             ],
             [
              0.2222222222222222,
              "#7201a8"
             ],
             [
              0.3333333333333333,
              "#9c179e"
             ],
             [
              0.4444444444444444,
              "#bd3786"
             ],
             [
              0.5555555555555556,
              "#d8576b"
             ],
             [
              0.6666666666666666,
              "#ed7953"
             ],
             [
              0.7777777777777778,
              "#fb9f3a"
             ],
             [
              0.8888888888888888,
              "#fdca26"
             ],
             [
              1,
              "#f0f921"
             ]
            ],
            "type": "histogram2d"
           }
          ],
          "histogram2dcontour": [
           {
            "colorbar": {
             "outlinewidth": 0,
             "ticks": ""
            },
            "colorscale": [
             [
              0,
              "#0d0887"
             ],
             [
              0.1111111111111111,
              "#46039f"
             ],
             [
              0.2222222222222222,
              "#7201a8"
             ],
             [
              0.3333333333333333,
              "#9c179e"
             ],
             [
              0.4444444444444444,
              "#bd3786"
             ],
             [
              0.5555555555555556,
              "#d8576b"
             ],
             [
              0.6666666666666666,
              "#ed7953"
             ],
             [
              0.7777777777777778,
              "#fb9f3a"
             ],
             [
              0.8888888888888888,
              "#fdca26"
             ],
             [
              1,
              "#f0f921"
             ]
            ],
            "type": "histogram2dcontour"
           }
          ],
          "mesh3d": [
           {
            "colorbar": {
             "outlinewidth": 0,
             "ticks": ""
            },
            "type": "mesh3d"
           }
          ],
          "parcoords": [
           {
            "line": {
             "colorbar": {
              "outlinewidth": 0,
              "ticks": ""
             }
            },
            "type": "parcoords"
           }
          ],
          "pie": [
           {
            "automargin": true,
            "type": "pie"
           }
          ],
          "scatter": [
           {
            "fillpattern": {
             "fillmode": "overlay",
             "size": 10,
             "solidity": 0.2
            },
            "type": "scatter"
           }
          ],
          "scatter3d": [
           {
            "line": {
             "colorbar": {
              "outlinewidth": 0,
              "ticks": ""
             }
            },
            "marker": {
             "colorbar": {
              "outlinewidth": 0,
              "ticks": ""
             }
            },
            "type": "scatter3d"
           }
          ],
          "scattercarpet": [
           {
            "marker": {
             "colorbar": {
              "outlinewidth": 0,
              "ticks": ""
             }
            },
            "type": "scattercarpet"
           }
          ],
          "scattergeo": [
           {
            "marker": {
             "colorbar": {
              "outlinewidth": 0,
              "ticks": ""
             }
            },
            "type": "scattergeo"
           }
          ],
          "scattergl": [
           {
            "marker": {
             "colorbar": {
              "outlinewidth": 0,
              "ticks": ""
             }
            },
            "type": "scattergl"
           }
          ],
          "scattermapbox": [
           {
            "marker": {
             "colorbar": {
              "outlinewidth": 0,
              "ticks": ""
             }
            },
            "type": "scattermapbox"
           }
          ],
          "scatterpolar": [
           {
            "marker": {
             "colorbar": {
              "outlinewidth": 0,
              "ticks": ""
             }
            },
            "type": "scatterpolar"
           }
          ],
          "scatterpolargl": [
           {
            "marker": {
             "colorbar": {
              "outlinewidth": 0,
              "ticks": ""
             }
            },
            "type": "scatterpolargl"
           }
          ],
          "scatterternary": [
           {
            "marker": {
             "colorbar": {
              "outlinewidth": 0,
              "ticks": ""
             }
            },
            "type": "scatterternary"
           }
          ],
          "surface": [
           {
            "colorbar": {
             "outlinewidth": 0,
             "ticks": ""
            },
            "colorscale": [
             [
              0,
              "#0d0887"
             ],
             [
              0.1111111111111111,
              "#46039f"
             ],
             [
              0.2222222222222222,
              "#7201a8"
             ],
             [
              0.3333333333333333,
              "#9c179e"
             ],
             [
              0.4444444444444444,
              "#bd3786"
             ],
             [
              0.5555555555555556,
              "#d8576b"
             ],
             [
              0.6666666666666666,
              "#ed7953"
             ],
             [
              0.7777777777777778,
              "#fb9f3a"
             ],
             [
              0.8888888888888888,
              "#fdca26"
             ],
             [
              1,
              "#f0f921"
             ]
            ],
            "type": "surface"
           }
          ],
          "table": [
           {
            "cells": {
             "fill": {
              "color": "#EBF0F8"
             },
             "line": {
              "color": "white"
             }
            },
            "header": {
             "fill": {
              "color": "#C8D4E3"
             },
             "line": {
              "color": "white"
             }
            },
            "type": "table"
           }
          ]
         },
         "layout": {
          "annotationdefaults": {
           "arrowcolor": "#2a3f5f",
           "arrowhead": 0,
           "arrowwidth": 1
          },
          "autotypenumbers": "strict",
          "coloraxis": {
           "colorbar": {
            "outlinewidth": 0,
            "ticks": ""
           }
          },
          "colorscale": {
           "diverging": [
            [
             0,
             "#8e0152"
            ],
            [
             0.1,
             "#c51b7d"
            ],
            [
             0.2,
             "#de77ae"
            ],
            [
             0.3,
             "#f1b6da"
            ],
            [
             0.4,
             "#fde0ef"
            ],
            [
             0.5,
             "#f7f7f7"
            ],
            [
             0.6,
             "#e6f5d0"
            ],
            [
             0.7,
             "#b8e186"
            ],
            [
             0.8,
             "#7fbc41"
            ],
            [
             0.9,
             "#4d9221"
            ],
            [
             1,
             "#276419"
            ]
           ],
           "sequential": [
            [
             0,
             "#0d0887"
            ],
            [
             0.1111111111111111,
             "#46039f"
            ],
            [
             0.2222222222222222,
             "#7201a8"
            ],
            [
             0.3333333333333333,
             "#9c179e"
            ],
            [
             0.4444444444444444,
             "#bd3786"
            ],
            [
             0.5555555555555556,
             "#d8576b"
            ],
            [
             0.6666666666666666,
             "#ed7953"
            ],
            [
             0.7777777777777778,
             "#fb9f3a"
            ],
            [
             0.8888888888888888,
             "#fdca26"
            ],
            [
             1,
             "#f0f921"
            ]
           ],
           "sequentialminus": [
            [
             0,
             "#0d0887"
            ],
            [
             0.1111111111111111,
             "#46039f"
            ],
            [
             0.2222222222222222,
             "#7201a8"
            ],
            [
             0.3333333333333333,
             "#9c179e"
            ],
            [
             0.4444444444444444,
             "#bd3786"
            ],
            [
             0.5555555555555556,
             "#d8576b"
            ],
            [
             0.6666666666666666,
             "#ed7953"
            ],
            [
             0.7777777777777778,
             "#fb9f3a"
            ],
            [
             0.8888888888888888,
             "#fdca26"
            ],
            [
             1,
             "#f0f921"
            ]
           ]
          },
          "colorway": [
           "#636efa",
           "#EF553B",
           "#00cc96",
           "#ab63fa",
           "#FFA15A",
           "#19d3f3",
           "#FF6692",
           "#B6E880",
           "#FF97FF",
           "#FECB52"
          ],
          "font": {
           "color": "#2a3f5f"
          },
          "geo": {
           "bgcolor": "white",
           "lakecolor": "white",
           "landcolor": "#E5ECF6",
           "showlakes": true,
           "showland": true,
           "subunitcolor": "white"
          },
          "hoverlabel": {
           "align": "left"
          },
          "hovermode": "closest",
          "mapbox": {
           "style": "light"
          },
          "paper_bgcolor": "white",
          "plot_bgcolor": "#E5ECF6",
          "polar": {
           "angularaxis": {
            "gridcolor": "white",
            "linecolor": "white",
            "ticks": ""
           },
           "bgcolor": "#E5ECF6",
           "radialaxis": {
            "gridcolor": "white",
            "linecolor": "white",
            "ticks": ""
           }
          },
          "scene": {
           "xaxis": {
            "backgroundcolor": "#E5ECF6",
            "gridcolor": "white",
            "gridwidth": 2,
            "linecolor": "white",
            "showbackground": true,
            "ticks": "",
            "zerolinecolor": "white"
           },
           "yaxis": {
            "backgroundcolor": "#E5ECF6",
            "gridcolor": "white",
            "gridwidth": 2,
            "linecolor": "white",
            "showbackground": true,
            "ticks": "",
            "zerolinecolor": "white"
           },
           "zaxis": {
            "backgroundcolor": "#E5ECF6",
            "gridcolor": "white",
            "gridwidth": 2,
            "linecolor": "white",
            "showbackground": true,
            "ticks": "",
            "zerolinecolor": "white"
           }
          },
          "shapedefaults": {
           "line": {
            "color": "#2a3f5f"
           }
          },
          "ternary": {
           "aaxis": {
            "gridcolor": "white",
            "linecolor": "white",
            "ticks": ""
           },
           "baxis": {
            "gridcolor": "white",
            "linecolor": "white",
            "ticks": ""
           },
           "bgcolor": "#E5ECF6",
           "caxis": {
            "gridcolor": "white",
            "linecolor": "white",
            "ticks": ""
           }
          },
          "title": {
           "x": 0.05
          },
          "xaxis": {
           "automargin": true,
           "gridcolor": "white",
           "linecolor": "white",
           "ticks": "",
           "title": {
            "standoff": 15
           },
           "zerolinecolor": "white",
           "zerolinewidth": 2
          },
          "yaxis": {
           "automargin": true,
           "gridcolor": "white",
           "linecolor": "white",
           "ticks": "",
           "title": {
            "standoff": 15
           },
           "zerolinecolor": "white",
           "zerolinewidth": 2
          }
         }
        },
        "title": {
         "text": "Monthly Sum of LV ActivePower"
        },
        "xaxis": {
         "linecolor": "black",
         "showgrid": false,
         "showline": true,
         "title": {
          "text": "Month"
         }
        },
        "yaxis": {
         "gridcolor": "gray",
         "linecolor": "black",
         "showgrid": true,
         "showline": true,
         "title": {
          "text": "LV ActivePower (kW)"
         }
        }
       }
      }
     },
     "metadata": {},
     "output_type": "display_data"
    }
   ],
   "source": [
    "# Extract month from the 'Date/Time'\n",
    "if 'Month' not in df:\n",
    "    df['Month'] = df['Date/Time'].dt.month\n",
    "\n",
    "# Group by month and calculate mean of 'LV ActivePower'\n",
    "monthly_data = df.groupby('Month')['LV ActivePower'].sum()\n",
    "\n",
    "# Create a bar chart\n",
    "fig = go.Figure([go.Bar(x=[f'Month {m}' for m in monthly_data.index], y=monthly_data.values)])\n",
    "\n",
    "# Update layout\n",
    "fig.update_layout(\n",
    "    title='Monthly Sum of LV ActivePower',\n",
    "    xaxis_title='Month',\n",
    "    yaxis_title='LV ActivePower (kW)',\n",
    "    plot_bgcolor='white',\n",
    "    xaxis=dict(showline=True, showgrid=False, linecolor='black'),\n",
    "    yaxis=dict(showline=True, showgrid=True, gridcolor='gray', linecolor='black')\n",
    ")\n",
    "\n",
    "# Show plot\n",
    "fig.show()"
   ]
  },
  {
   "cell_type": "code",
   "execution_count": 5,
   "metadata": {},
   "outputs": [
    {
     "data": {
      "application/vnd.plotly.v1+json": {
       "config": {
        "plotlyServerURL": "https://plot.ly"
       },
       "data": [
        {
         "marker": {
          "color": [
           "green",
           "red",
           "green",
           "green",
           "red",
           "red",
           "green",
           "green",
           "red",
           "green",
           "red",
           "red"
          ]
         },
         "type": "bar",
         "x": [
          "Month 1",
          "Month 2",
          "Month 3",
          "Month 4",
          "Month 5",
          "Month 6",
          "Month 7",
          "Month 8",
          "Month 9",
          "Month 10",
          "Month 11",
          "Month 12"
         ],
         "y": [
          4967141.530112327,
          -1382643.011711846,
          6476885.381006926,
          15230298.564080253,
          -2341533.7472333596,
          -2341369.5694918055,
          15792128.155073915,
          7674347.291529087,
          -4694743.859349521,
          5425600.435859647,
          -4634176.928124622,
          -4657297.5357025685
         ]
        }
       ],
       "layout": {
        "plot_bgcolor": "white",
        "template": {
         "data": {
          "bar": [
           {
            "error_x": {
             "color": "#2a3f5f"
            },
            "error_y": {
             "color": "#2a3f5f"
            },
            "marker": {
             "line": {
              "color": "#E5ECF6",
              "width": 0.5
             },
             "pattern": {
              "fillmode": "overlay",
              "size": 10,
              "solidity": 0.2
             }
            },
            "type": "bar"
           }
          ],
          "barpolar": [
           {
            "marker": {
             "line": {
              "color": "#E5ECF6",
              "width": 0.5
             },
             "pattern": {
              "fillmode": "overlay",
              "size": 10,
              "solidity": 0.2
             }
            },
            "type": "barpolar"
           }
          ],
          "carpet": [
           {
            "aaxis": {
             "endlinecolor": "#2a3f5f",
             "gridcolor": "white",
             "linecolor": "white",
             "minorgridcolor": "white",
             "startlinecolor": "#2a3f5f"
            },
            "baxis": {
             "endlinecolor": "#2a3f5f",
             "gridcolor": "white",
             "linecolor": "white",
             "minorgridcolor": "white",
             "startlinecolor": "#2a3f5f"
            },
            "type": "carpet"
           }
          ],
          "choropleth": [
           {
            "colorbar": {
             "outlinewidth": 0,
             "ticks": ""
            },
            "type": "choropleth"
           }
          ],
          "contour": [
           {
            "colorbar": {
             "outlinewidth": 0,
             "ticks": ""
            },
            "colorscale": [
             [
              0,
              "#0d0887"
             ],
             [
              0.1111111111111111,
              "#46039f"
             ],
             [
              0.2222222222222222,
              "#7201a8"
             ],
             [
              0.3333333333333333,
              "#9c179e"
             ],
             [
              0.4444444444444444,
              "#bd3786"
             ],
             [
              0.5555555555555556,
              "#d8576b"
             ],
             [
              0.6666666666666666,
              "#ed7953"
             ],
             [
              0.7777777777777778,
              "#fb9f3a"
             ],
             [
              0.8888888888888888,
              "#fdca26"
             ],
             [
              1,
              "#f0f921"
             ]
            ],
            "type": "contour"
           }
          ],
          "contourcarpet": [
           {
            "colorbar": {
             "outlinewidth": 0,
             "ticks": ""
            },
            "type": "contourcarpet"
           }
          ],
          "heatmap": [
           {
            "colorbar": {
             "outlinewidth": 0,
             "ticks": ""
            },
            "colorscale": [
             [
              0,
              "#0d0887"
             ],
             [
              0.1111111111111111,
              "#46039f"
             ],
             [
              0.2222222222222222,
              "#7201a8"
             ],
             [
              0.3333333333333333,
              "#9c179e"
             ],
             [
              0.4444444444444444,
              "#bd3786"
             ],
             [
              0.5555555555555556,
              "#d8576b"
             ],
             [
              0.6666666666666666,
              "#ed7953"
             ],
             [
              0.7777777777777778,
              "#fb9f3a"
             ],
             [
              0.8888888888888888,
              "#fdca26"
             ],
             [
              1,
              "#f0f921"
             ]
            ],
            "type": "heatmap"
           }
          ],
          "heatmapgl": [
           {
            "colorbar": {
             "outlinewidth": 0,
             "ticks": ""
            },
            "colorscale": [
             [
              0,
              "#0d0887"
             ],
             [
              0.1111111111111111,
              "#46039f"
             ],
             [
              0.2222222222222222,
              "#7201a8"
             ],
             [
              0.3333333333333333,
              "#9c179e"
             ],
             [
              0.4444444444444444,
              "#bd3786"
             ],
             [
              0.5555555555555556,
              "#d8576b"
             ],
             [
              0.6666666666666666,
              "#ed7953"
             ],
             [
              0.7777777777777778,
              "#fb9f3a"
             ],
             [
              0.8888888888888888,
              "#fdca26"
             ],
             [
              1,
              "#f0f921"
             ]
            ],
            "type": "heatmapgl"
           }
          ],
          "histogram": [
           {
            "marker": {
             "pattern": {
              "fillmode": "overlay",
              "size": 10,
              "solidity": 0.2
             }
            },
            "type": "histogram"
           }
          ],
          "histogram2d": [
           {
            "colorbar": {
             "outlinewidth": 0,
             "ticks": ""
            },
            "colorscale": [
             [
              0,
              "#0d0887"
             ],
             [
              0.1111111111111111,
              "#46039f"
             ],
             [
              0.2222222222222222,
              "#7201a8"
             ],
             [
              0.3333333333333333,
              "#9c179e"
             ],
             [
              0.4444444444444444,
              "#bd3786"
             ],
             [
              0.5555555555555556,
              "#d8576b"
             ],
             [
              0.6666666666666666,
              "#ed7953"
             ],
             [
              0.7777777777777778,
              "#fb9f3a"
             ],
             [
              0.8888888888888888,
              "#fdca26"
             ],
             [
              1,
              "#f0f921"
             ]
            ],
            "type": "histogram2d"
           }
          ],
          "histogram2dcontour": [
           {
            "colorbar": {
             "outlinewidth": 0,
             "ticks": ""
            },
            "colorscale": [
             [
              0,
              "#0d0887"
             ],
             [
              0.1111111111111111,
              "#46039f"
             ],
             [
              0.2222222222222222,
              "#7201a8"
             ],
             [
              0.3333333333333333,
              "#9c179e"
             ],
             [
              0.4444444444444444,
              "#bd3786"
             ],
             [
              0.5555555555555556,
              "#d8576b"
             ],
             [
              0.6666666666666666,
              "#ed7953"
             ],
             [
              0.7777777777777778,
              "#fb9f3a"
             ],
             [
              0.8888888888888888,
              "#fdca26"
             ],
             [
              1,
              "#f0f921"
             ]
            ],
            "type": "histogram2dcontour"
           }
          ],
          "mesh3d": [
           {
            "colorbar": {
             "outlinewidth": 0,
             "ticks": ""
            },
            "type": "mesh3d"
           }
          ],
          "parcoords": [
           {
            "line": {
             "colorbar": {
              "outlinewidth": 0,
              "ticks": ""
             }
            },
            "type": "parcoords"
           }
          ],
          "pie": [
           {
            "automargin": true,
            "type": "pie"
           }
          ],
          "scatter": [
           {
            "fillpattern": {
             "fillmode": "overlay",
             "size": 10,
             "solidity": 0.2
            },
            "type": "scatter"
           }
          ],
          "scatter3d": [
           {
            "line": {
             "colorbar": {
              "outlinewidth": 0,
              "ticks": ""
             }
            },
            "marker": {
             "colorbar": {
              "outlinewidth": 0,
              "ticks": ""
             }
            },
            "type": "scatter3d"
           }
          ],
          "scattercarpet": [
           {
            "marker": {
             "colorbar": {
              "outlinewidth": 0,
              "ticks": ""
             }
            },
            "type": "scattercarpet"
           }
          ],
          "scattergeo": [
           {
            "marker": {
             "colorbar": {
              "outlinewidth": 0,
              "ticks": ""
             }
            },
            "type": "scattergeo"
           }
          ],
          "scattergl": [
           {
            "marker": {
             "colorbar": {
              "outlinewidth": 0,
              "ticks": ""
             }
            },
            "type": "scattergl"
           }
          ],
          "scattermapbox": [
           {
            "marker": {
             "colorbar": {
              "outlinewidth": 0,
              "ticks": ""
             }
            },
            "type": "scattermapbox"
           }
          ],
          "scatterpolar": [
           {
            "marker": {
             "colorbar": {
              "outlinewidth": 0,
              "ticks": ""
             }
            },
            "type": "scatterpolar"
           }
          ],
          "scatterpolargl": [
           {
            "marker": {
             "colorbar": {
              "outlinewidth": 0,
              "ticks": ""
             }
            },
            "type": "scatterpolargl"
           }
          ],
          "scatterternary": [
           {
            "marker": {
             "colorbar": {
              "outlinewidth": 0,
              "ticks": ""
             }
            },
            "type": "scatterternary"
           }
          ],
          "surface": [
           {
            "colorbar": {
             "outlinewidth": 0,
             "ticks": ""
            },
            "colorscale": [
             [
              0,
              "#0d0887"
             ],
             [
              0.1111111111111111,
              "#46039f"
             ],
             [
              0.2222222222222222,
              "#7201a8"
             ],
             [
              0.3333333333333333,
              "#9c179e"
             ],
             [
              0.4444444444444444,
              "#bd3786"
             ],
             [
              0.5555555555555556,
              "#d8576b"
             ],
             [
              0.6666666666666666,
              "#ed7953"
             ],
             [
              0.7777777777777778,
              "#fb9f3a"
             ],
             [
              0.8888888888888888,
              "#fdca26"
             ],
             [
              1,
              "#f0f921"
             ]
            ],
            "type": "surface"
           }
          ],
          "table": [
           {
            "cells": {
             "fill": {
              "color": "#EBF0F8"
             },
             "line": {
              "color": "white"
             }
            },
            "header": {
             "fill": {
              "color": "#C8D4E3"
             },
             "line": {
              "color": "white"
             }
            },
            "type": "table"
           }
          ]
         },
         "layout": {
          "annotationdefaults": {
           "arrowcolor": "#2a3f5f",
           "arrowhead": 0,
           "arrowwidth": 1
          },
          "autotypenumbers": "strict",
          "coloraxis": {
           "colorbar": {
            "outlinewidth": 0,
            "ticks": ""
           }
          },
          "colorscale": {
           "diverging": [
            [
             0,
             "#8e0152"
            ],
            [
             0.1,
             "#c51b7d"
            ],
            [
             0.2,
             "#de77ae"
            ],
            [
             0.3,
             "#f1b6da"
            ],
            [
             0.4,
             "#fde0ef"
            ],
            [
             0.5,
             "#f7f7f7"
            ],
            [
             0.6,
             "#e6f5d0"
            ],
            [
             0.7,
             "#b8e186"
            ],
            [
             0.8,
             "#7fbc41"
            ],
            [
             0.9,
             "#4d9221"
            ],
            [
             1,
             "#276419"
            ]
           ],
           "sequential": [
            [
             0,
             "#0d0887"
            ],
            [
             0.1111111111111111,
             "#46039f"
            ],
            [
             0.2222222222222222,
             "#7201a8"
            ],
            [
             0.3333333333333333,
             "#9c179e"
            ],
            [
             0.4444444444444444,
             "#bd3786"
            ],
            [
             0.5555555555555556,
             "#d8576b"
            ],
            [
             0.6666666666666666,
             "#ed7953"
            ],
            [
             0.7777777777777778,
             "#fb9f3a"
            ],
            [
             0.8888888888888888,
             "#fdca26"
            ],
            [
             1,
             "#f0f921"
            ]
           ],
           "sequentialminus": [
            [
             0,
             "#0d0887"
            ],
            [
             0.1111111111111111,
             "#46039f"
            ],
            [
             0.2222222222222222,
             "#7201a8"
            ],
            [
             0.3333333333333333,
             "#9c179e"
            ],
            [
             0.4444444444444444,
             "#bd3786"
            ],
            [
             0.5555555555555556,
             "#d8576b"
            ],
            [
             0.6666666666666666,
             "#ed7953"
            ],
            [
             0.7777777777777778,
             "#fb9f3a"
            ],
            [
             0.8888888888888888,
             "#fdca26"
            ],
            [
             1,
             "#f0f921"
            ]
           ]
          },
          "colorway": [
           "#636efa",
           "#EF553B",
           "#00cc96",
           "#ab63fa",
           "#FFA15A",
           "#19d3f3",
           "#FF6692",
           "#B6E880",
           "#FF97FF",
           "#FECB52"
          ],
          "font": {
           "color": "#2a3f5f"
          },
          "geo": {
           "bgcolor": "white",
           "lakecolor": "white",
           "landcolor": "#E5ECF6",
           "showlakes": true,
           "showland": true,
           "subunitcolor": "white"
          },
          "hoverlabel": {
           "align": "left"
          },
          "hovermode": "closest",
          "mapbox": {
           "style": "light"
          },
          "paper_bgcolor": "white",
          "plot_bgcolor": "#E5ECF6",
          "polar": {
           "angularaxis": {
            "gridcolor": "white",
            "linecolor": "white",
            "ticks": ""
           },
           "bgcolor": "#E5ECF6",
           "radialaxis": {
            "gridcolor": "white",
            "linecolor": "white",
            "ticks": ""
           }
          },
          "scene": {
           "xaxis": {
            "backgroundcolor": "#E5ECF6",
            "gridcolor": "white",
            "gridwidth": 2,
            "linecolor": "white",
            "showbackground": true,
            "ticks": "",
            "zerolinecolor": "white"
           },
           "yaxis": {
            "backgroundcolor": "#E5ECF6",
            "gridcolor": "white",
            "gridwidth": 2,
            "linecolor": "white",
            "showbackground": true,
            "ticks": "",
            "zerolinecolor": "white"
           },
           "zaxis": {
            "backgroundcolor": "#E5ECF6",
            "gridcolor": "white",
            "gridwidth": 2,
            "linecolor": "white",
            "showbackground": true,
            "ticks": "",
            "zerolinecolor": "white"
           }
          },
          "shapedefaults": {
           "line": {
            "color": "#2a3f5f"
           }
          },
          "ternary": {
           "aaxis": {
            "gridcolor": "white",
            "linecolor": "white",
            "ticks": ""
           },
           "baxis": {
            "gridcolor": "white",
            "linecolor": "white",
            "ticks": ""
           },
           "bgcolor": "#E5ECF6",
           "caxis": {
            "gridcolor": "white",
            "linecolor": "white",
            "ticks": ""
           }
          },
          "title": {
           "x": 0.05
          },
          "xaxis": {
           "automargin": true,
           "gridcolor": "white",
           "linecolor": "white",
           "ticks": "",
           "title": {
            "standoff": 15
           },
           "zerolinecolor": "white",
           "zerolinewidth": 2
          },
          "yaxis": {
           "automargin": true,
           "gridcolor": "white",
           "linecolor": "white",
           "ticks": "",
           "title": {
            "standoff": 15
           },
           "zerolinecolor": "white",
           "zerolinewidth": 2
          }
         }
        },
        "title": {
         "text": "Difference Between Year 2 and Year 1 (with Noise)"
        },
        "xaxis": {
         "linecolor": "black",
         "showgrid": false,
         "showline": true,
         "title": {
          "text": "Month"
         }
        },
        "yaxis": {
         "gridcolor": "gray",
         "linecolor": "black",
         "showgrid": true,
         "showline": true,
         "title": {
          "text": "Difference in LV ActivePower (kW)"
         }
        }
       }
      }
     },
     "metadata": {},
     "output_type": "display_data"
    }
   ],
   "source": [
    "# Generate second year data by adding normal noise\n",
    "np.random.seed(42)  # For reproducibility\n",
    "noise = np.random.normal(0, 10000000, size=monthly_data.shape)\n",
    "second_year_data = monthly_data + noise\n",
    "\n",
    "# Calculate differences\n",
    "differences = second_year_data - monthly_data\n",
    "\n",
    "# Create a bar chart with colored bars\n",
    "fig = go.Figure(data=[go.Bar(\n",
    "    x=[f'Month {m}' for m in monthly_data.index],\n",
    "    y=differences,\n",
    "    marker_color=['green' if x > 0 else 'red' for x in differences]  # Set color based on the condition\n",
    ")])\n",
    "\n",
    "# Update layout\n",
    "fig.update_layout(\n",
    "    title='Difference Between Year 2 and Year 1 (with Noise)',\n",
    "    xaxis_title='Month',\n",
    "    yaxis_title='Difference in LV ActivePower (kW)',\n",
    "    plot_bgcolor='white',\n",
    "    xaxis=dict(showline=True, showgrid=False, linecolor='black'),\n",
    "    yaxis=dict(showline=True, showgrid=True, gridcolor='gray', linecolor='black')\n",
    ")\n",
    "\n",
    "# Show plot\n",
    "fig.show()"
   ]
  },
  {
   "cell_type": "code",
   "execution_count": 6,
   "metadata": {},
   "outputs": [
    {
     "name": "stdout",
     "output_type": "stream",
     "text": [
      "{\n",
      "    \"x\": [\n",
      "        \"Jan\",\n",
      "        \"Feb\",\n",
      "        \"Mar\",\n",
      "        \"Apr\",\n",
      "        \"May\",\n",
      "        \"Jun\",\n",
      "        \"Jul\",\n",
      "        \"Aug\",\n",
      "        \"Sep\",\n",
      "        \"Oct\",\n",
      "        \"Nov\",\n",
      "        \"Dec\"\n",
      "    ],\n",
      "    \"y\": [\n",
      "        4967141.530112327,\n",
      "        -1382643.011711846,\n",
      "        6476885.381006926,\n",
      "        15230298.564080253,\n",
      "        -2341533.7472333596,\n",
      "        -2341369.5694918055,\n",
      "        15792128.155073915,\n",
      "        7674347.291529087,\n",
      "        -4694743.859349521,\n",
      "        5425600.435859647,\n",
      "        -4634176.928124622,\n",
      "        -4657297.5357025685\n",
      "    ],\n",
      "    \"x_series\": [\n",
      "        \"x\"\n",
      "    ],\n",
      "    \"y_series\": [\n",
      "        \"y\"\n",
      "    ],\n",
      "    \"labels\": {\n",
      "        \"x\": \"Month\",\n",
      "        \"y\": \"Difference in LV ActivePower (2023 - 2022)\"\n",
      "    },\n",
      "    \"series_colors\": {\n",
      "        \"y\": {\n",
      "            \"Jan\": \"green\",\n",
      "            \"Feb\": \"red\",\n",
      "            \"Mar\": \"green\",\n",
      "            \"Apr\": \"green\",\n",
      "            \"May\": \"red\",\n",
      "            \"Jun\": \"red\",\n",
      "            \"Jul\": \"green\",\n",
      "            \"Aug\": \"green\",\n",
      "            \"Sep\": \"red\",\n",
      "            \"Oct\": \"green\",\n",
      "            \"Nov\": \"red\",\n",
      "            \"Dec\": \"red\"\n",
      "        }\n",
      "    }\n",
      "}\n"
     ]
    }
   ],
   "source": [
    "file_name = 'Slide02_YearlyChangeInProduction.json'\n",
    "\n",
    "# Month names\n",
    "month_names = ['Jan', 'Feb', 'Mar', 'Apr', 'May', 'Jun', 'Jul', 'Aug', 'Sep', 'Oct', 'Nov', 'Dec']\n",
    "\n",
    "# Prepare JSON data structure\n",
    "json_data = {\n",
    "    \"x\": [month_names[m-1] for m in monthly_data.index],  # m-1 to align month number with index\n",
    "    \"y\": differences.tolist(),\n",
    "    \"x_series\": [\"x\"],\n",
    "    \"y_series\": [\"y\"],\n",
    "    \"labels\": {\n",
    "        \"x\": \"Month\",\n",
    "        \"y\": \"Difference in LV ActivePower (2023 - 2022)\"\n",
    "    },\n",
    "    \"series_colors\": {\n",
    "        \"y\": {month_names[m-1]: \"green\" if val > 0 else \"red\" for m, val in zip(monthly_data.index, differences)}\n",
    "    }\n",
    "}\n",
    "\n",
    "# Serialize JSON data to a string\n",
    "json_str = json.dumps(json_data, indent=4)\n",
    "print(json_str)\n",
    "\n",
    "# Optionally, write to a file\n",
    "with open(os.path.join(output_dir, file_name), 'w') as f:\n",
    "    json.dump(json_data, f, indent=4)"
   ]
  },
  {
   "cell_type": "markdown",
   "metadata": {},
   "source": [
    "## Slide 2 Coordinates"
   ]
  },
  {
   "cell_type": "code",
   "execution_count": 7,
   "metadata": {},
   "outputs": [],
   "source": [
    "coordinates = [\n",
    "[-116.73259,33.909111],\n",
    "[-116.729286,33.916096],\n",
    "[-116.735954,33.905323],\n",
    "[-116.718285,33.917294],\n",
    "[-116.732643,33.9118],\n",
    "[-116.702385,33.91621],\n",
    "[-116.735947,33.9048],\n",
    "[-116.702385,33.912697],\n",
    "[-116.732529,33.906998],\n",
    "[-116.732521,33.905903],\n",
    "[-116.736069,33.910629],\n",
    "[-116.736122,33.912216],\n",
    "[-116.73275,33.917213],\n",
    "[-116.706398,33.912071],\n",
    "[-116.729286,33.915031],\n",
    "[-116.736145,33.913269],\n",
    "[-116.714386,33.917294],\n",
    "[-116.73259,33.910194],\n",
    "[-116.732475,33.904316],\n",
    "[-116.702446,33.911583],\n",
    "[-116.725815,33.914333],\n",
    "[-116.710388,33.912094],\n",
    "[-116.718391,33.912594],\n",
    "[-116.714401,33.911457],\n",
    "[-116.710388,33.913795],\n",
    "[-116.702415,33.912121],\n",
    "[-116.710381,33.912636],\n",
    "[-116.732651,33.912327],\n",
    "[-116.710335,33.916775],\n",
    "[-116.732513,33.905334],\n",
    "[-116.732567,33.908039],\n",
    "[-116.732491,33.904797],\n",
    "[-116.736061,33.910099],\n",
    "[-116.736,33.907455],\n",
    "[-116.732605,33.909649],\n",
    "[-116.732719,33.915562],\n",
    "[-116.732681,33.915058],\n",
    "[-116.70639,33.916195],\n",
    "[-116.736191,33.915394],\n",
    "[-116.732735,33.916641],\n",
    "[-116.736092,33.911694],\n",
    "[-116.714371,33.916134],\n",
    "[-116.736191,33.915916],\n",
    "[-116.710388,33.914394],\n",
    "[-116.735992,33.906914],\n",
    "[-116.736015,33.909058],\n",
    "[-116.725815,33.91547],\n",
    "[-116.729591,33.913994],\n",
    "[-116.714401,33.915558],\n",
    "[-116.702385,33.913296],\n",
    "[-116.702431,33.910366],\n",
    "[-116.736206,33.916458],\n",
    "[-116.714386,33.912094],\n",
    "[-116.732658,33.913403],\n",
    "[-116.736023,33.908508],\n",
    "[-116.725861,33.915989],\n",
    "[-116.714386,33.914394],\n",
    "[-116.702385,33.913895],\n",
    "[-116.729286,33.915554],\n",
    "[-116.718391,33.911995],\n",
    "[-116.70639,33.917397],\n",
    "[-116.736046,33.909576],\n",
    "[-116.702385,33.915096],\n",
    "[-116.73262,33.910721],\n",
    "[-116.710396,33.91325],\n",
    "[-116.70639,33.914494],\n",
    "[-116.718369,33.913147],\n",
    "[-116.718391,33.914894],\n",
    "[-116.706383,33.913853],\n",
    "[-116.714386,33.916695],\n",
    "[-116.72583,33.91489],\n",
    "[-116.70237,33.916851],\n",
    "[-116.725891,33.917095],\n",
    "[-116.718391,33.913696],\n",
    "[-116.732689,33.912895],\n",
    "[-116.702385,33.915695],\n",
    "[-116.714386,33.913795],\n",
    "[-116.706383,33.915058],\n",
    "[-116.736076,33.911156],\n",
    "[-116.714386,33.913197],\n",
    "[-116.732735,33.916103],\n",
    "[-116.725891,33.916538],\n",
    "[-116.717186,33.915695],\n",
    "[-116.710365,33.915005],\n",
    "[-116.72934,33.917141],\n",
    "[-116.732689,33.914494],\n",
    "[-116.73262,33.91127],\n",
    "[-116.714371,33.914967],\n",
    "[-116.714386,33.912594],\n",
    "[-116.70639,33.915596],\n",
    "[-116.729286,33.914494],\n",
    "[-116.710335,33.917351],\n",
    "[-116.732689,33.913994],\n",
    "[-116.736168,33.914337],\n",
    "[-116.706398,33.912674],\n",
    "[-116.70639,33.916794],\n",
    "[-116.732513,33.906448],\n",
    "[-116.706413,33.913261],\n",
    "[-116.729286,33.916595],\n",
    "[-116.702385,33.917397],\n",
    "[-116.73259,33.908596],\n",
    "[-116.736191,33.914894],\n",
    "[-116.735924,33.904274],\n",
    "[-116.73616,33.913807],\n",
    "[-116.71035,33.915585],\n",
    "[-116.702385,33.910995],\n",
    "[-116.73613,33.91275],\n",
    "[-116.735992,33.906399],\n",
    "[-116.7024,33.914494],\n",
    "[-116.710396,33.916172],\n",
    "]"
   ]
  },
  {
   "cell_type": "code",
   "execution_count": 8,
   "metadata": {},
   "outputs": [],
   "source": [
    "# Function to adjust color lightness\n",
    "def adjust_color_lightness(color, amount=0.5):\n",
    "    import colorsys\n",
    "    try:\n",
    "        c = to_rgb(color)\n",
    "        c = colorsys.rgb_to_hls(*c)\n",
    "        return to_hex(colorsys.hls_to_rgb(c[0], max(0, min(1, amount * c[1])), c[2]))\n",
    "    except:\n",
    "        return color"
   ]
  },
  {
   "cell_type": "code",
   "execution_count": 9,
   "metadata": {},
   "outputs": [
    {
     "data": {
      "application/vnd.plotly.v1+json": {
       "config": {
        "plotlyServerURL": "https://plot.ly"
       },
       "data": [
        {
         "lat": [
          33.912216,
          33.908039,
          33.909058,
          33.91325,
          33.913853,
          33.913197,
          33.917141,
          33.906448
         ],
         "lon": [
          -116.736122,
          -116.732567,
          -116.736015,
          -116.710396,
          -116.706383,
          -116.714386,
          -116.72934,
          -116.732513
         ],
         "marker": {
          "color": [
           "#ffff80",
           "#ffff80",
           "#ffff80",
           "#ffff80",
           "#ffff80",
           "#ffff80",
           "#ffff80",
           "#ffff80"
          ],
          "line": {
           "color": [
            "#999900",
            "#999900",
            "#999900",
            "#999900",
            "#999900",
            "#999900",
            "#999900",
            "#999900"
           ],
           "width": 1
          },
          "size": 7
         },
         "mode": "markers",
         "type": "scattergeo"
        }
       ],
       "layout": {
        "geo": {
         "countrycolor": "rgb(255, 255, 255)",
         "lakecolor": "rgb(255, 255, 255)",
         "landcolor": "rgb(217, 217, 217)",
         "lataxis": {
          "dtick": 5,
          "gridwidth": 0.5,
          "range": [
           33.9029617,
           33.9187093
          ],
          "showgrid": true
         },
         "lonaxis": {
          "dtick": 5,
          "gridwidth": 0.5,
          "range": [
           -116.73958959999999,
           -116.6989864
          ],
          "showgrid": true
         },
         "projection": {
          "type": "mercator"
         },
         "resolution": 50,
         "showcountries": true,
         "showlakes": true,
         "showland": true,
         "showsubunits": true,
         "subunitcolor": "rgb(255, 255, 255)"
        },
        "template": {
         "data": {
          "bar": [
           {
            "error_x": {
             "color": "#2a3f5f"
            },
            "error_y": {
             "color": "#2a3f5f"
            },
            "marker": {
             "line": {
              "color": "#E5ECF6",
              "width": 0.5
             },
             "pattern": {
              "fillmode": "overlay",
              "size": 10,
              "solidity": 0.2
             }
            },
            "type": "bar"
           }
          ],
          "barpolar": [
           {
            "marker": {
             "line": {
              "color": "#E5ECF6",
              "width": 0.5
             },
             "pattern": {
              "fillmode": "overlay",
              "size": 10,
              "solidity": 0.2
             }
            },
            "type": "barpolar"
           }
          ],
          "carpet": [
           {
            "aaxis": {
             "endlinecolor": "#2a3f5f",
             "gridcolor": "white",
             "linecolor": "white",
             "minorgridcolor": "white",
             "startlinecolor": "#2a3f5f"
            },
            "baxis": {
             "endlinecolor": "#2a3f5f",
             "gridcolor": "white",
             "linecolor": "white",
             "minorgridcolor": "white",
             "startlinecolor": "#2a3f5f"
            },
            "type": "carpet"
           }
          ],
          "choropleth": [
           {
            "colorbar": {
             "outlinewidth": 0,
             "ticks": ""
            },
            "type": "choropleth"
           }
          ],
          "contour": [
           {
            "colorbar": {
             "outlinewidth": 0,
             "ticks": ""
            },
            "colorscale": [
             [
              0,
              "#0d0887"
             ],
             [
              0.1111111111111111,
              "#46039f"
             ],
             [
              0.2222222222222222,
              "#7201a8"
             ],
             [
              0.3333333333333333,
              "#9c179e"
             ],
             [
              0.4444444444444444,
              "#bd3786"
             ],
             [
              0.5555555555555556,
              "#d8576b"
             ],
             [
              0.6666666666666666,
              "#ed7953"
             ],
             [
              0.7777777777777778,
              "#fb9f3a"
             ],
             [
              0.8888888888888888,
              "#fdca26"
             ],
             [
              1,
              "#f0f921"
             ]
            ],
            "type": "contour"
           }
          ],
          "contourcarpet": [
           {
            "colorbar": {
             "outlinewidth": 0,
             "ticks": ""
            },
            "type": "contourcarpet"
           }
          ],
          "heatmap": [
           {
            "colorbar": {
             "outlinewidth": 0,
             "ticks": ""
            },
            "colorscale": [
             [
              0,
              "#0d0887"
             ],
             [
              0.1111111111111111,
              "#46039f"
             ],
             [
              0.2222222222222222,
              "#7201a8"
             ],
             [
              0.3333333333333333,
              "#9c179e"
             ],
             [
              0.4444444444444444,
              "#bd3786"
             ],
             [
              0.5555555555555556,
              "#d8576b"
             ],
             [
              0.6666666666666666,
              "#ed7953"
             ],
             [
              0.7777777777777778,
              "#fb9f3a"
             ],
             [
              0.8888888888888888,
              "#fdca26"
             ],
             [
              1,
              "#f0f921"
             ]
            ],
            "type": "heatmap"
           }
          ],
          "heatmapgl": [
           {
            "colorbar": {
             "outlinewidth": 0,
             "ticks": ""
            },
            "colorscale": [
             [
              0,
              "#0d0887"
             ],
             [
              0.1111111111111111,
              "#46039f"
             ],
             [
              0.2222222222222222,
              "#7201a8"
             ],
             [
              0.3333333333333333,
              "#9c179e"
             ],
             [
              0.4444444444444444,
              "#bd3786"
             ],
             [
              0.5555555555555556,
              "#d8576b"
             ],
             [
              0.6666666666666666,
              "#ed7953"
             ],
             [
              0.7777777777777778,
              "#fb9f3a"
             ],
             [
              0.8888888888888888,
              "#fdca26"
             ],
             [
              1,
              "#f0f921"
             ]
            ],
            "type": "heatmapgl"
           }
          ],
          "histogram": [
           {
            "marker": {
             "pattern": {
              "fillmode": "overlay",
              "size": 10,
              "solidity": 0.2
             }
            },
            "type": "histogram"
           }
          ],
          "histogram2d": [
           {
            "colorbar": {
             "outlinewidth": 0,
             "ticks": ""
            },
            "colorscale": [
             [
              0,
              "#0d0887"
             ],
             [
              0.1111111111111111,
              "#46039f"
             ],
             [
              0.2222222222222222,
              "#7201a8"
             ],
             [
              0.3333333333333333,
              "#9c179e"
             ],
             [
              0.4444444444444444,
              "#bd3786"
             ],
             [
              0.5555555555555556,
              "#d8576b"
             ],
             [
              0.6666666666666666,
              "#ed7953"
             ],
             [
              0.7777777777777778,
              "#fb9f3a"
             ],
             [
              0.8888888888888888,
              "#fdca26"
             ],
             [
              1,
              "#f0f921"
             ]
            ],
            "type": "histogram2d"
           }
          ],
          "histogram2dcontour": [
           {
            "colorbar": {
             "outlinewidth": 0,
             "ticks": ""
            },
            "colorscale": [
             [
              0,
              "#0d0887"
             ],
             [
              0.1111111111111111,
              "#46039f"
             ],
             [
              0.2222222222222222,
              "#7201a8"
             ],
             [
              0.3333333333333333,
              "#9c179e"
             ],
             [
              0.4444444444444444,
              "#bd3786"
             ],
             [
              0.5555555555555556,
              "#d8576b"
             ],
             [
              0.6666666666666666,
              "#ed7953"
             ],
             [
              0.7777777777777778,
              "#fb9f3a"
             ],
             [
              0.8888888888888888,
              "#fdca26"
             ],
             [
              1,
              "#f0f921"
             ]
            ],
            "type": "histogram2dcontour"
           }
          ],
          "mesh3d": [
           {
            "colorbar": {
             "outlinewidth": 0,
             "ticks": ""
            },
            "type": "mesh3d"
           }
          ],
          "parcoords": [
           {
            "line": {
             "colorbar": {
              "outlinewidth": 0,
              "ticks": ""
             }
            },
            "type": "parcoords"
           }
          ],
          "pie": [
           {
            "automargin": true,
            "type": "pie"
           }
          ],
          "scatter": [
           {
            "fillpattern": {
             "fillmode": "overlay",
             "size": 10,
             "solidity": 0.2
            },
            "type": "scatter"
           }
          ],
          "scatter3d": [
           {
            "line": {
             "colorbar": {
              "outlinewidth": 0,
              "ticks": ""
             }
            },
            "marker": {
             "colorbar": {
              "outlinewidth": 0,
              "ticks": ""
             }
            },
            "type": "scatter3d"
           }
          ],
          "scattercarpet": [
           {
            "marker": {
             "colorbar": {
              "outlinewidth": 0,
              "ticks": ""
             }
            },
            "type": "scattercarpet"
           }
          ],
          "scattergeo": [
           {
            "marker": {
             "colorbar": {
              "outlinewidth": 0,
              "ticks": ""
             }
            },
            "type": "scattergeo"
           }
          ],
          "scattergl": [
           {
            "marker": {
             "colorbar": {
              "outlinewidth": 0,
              "ticks": ""
             }
            },
            "type": "scattergl"
           }
          ],
          "scattermapbox": [
           {
            "marker": {
             "colorbar": {
              "outlinewidth": 0,
              "ticks": ""
             }
            },
            "type": "scattermapbox"
           }
          ],
          "scatterpolar": [
           {
            "marker": {
             "colorbar": {
              "outlinewidth": 0,
              "ticks": ""
             }
            },
            "type": "scatterpolar"
           }
          ],
          "scatterpolargl": [
           {
            "marker": {
             "colorbar": {
              "outlinewidth": 0,
              "ticks": ""
             }
            },
            "type": "scatterpolargl"
           }
          ],
          "scatterternary": [
           {
            "marker": {
             "colorbar": {
              "outlinewidth": 0,
              "ticks": ""
             }
            },
            "type": "scatterternary"
           }
          ],
          "surface": [
           {
            "colorbar": {
             "outlinewidth": 0,
             "ticks": ""
            },
            "colorscale": [
             [
              0,
              "#0d0887"
             ],
             [
              0.1111111111111111,
              "#46039f"
             ],
             [
              0.2222222222222222,
              "#7201a8"
             ],
             [
              0.3333333333333333,
              "#9c179e"
             ],
             [
              0.4444444444444444,
              "#bd3786"
             ],
             [
              0.5555555555555556,
              "#d8576b"
             ],
             [
              0.6666666666666666,
              "#ed7953"
             ],
             [
              0.7777777777777778,
              "#fb9f3a"
             ],
             [
              0.8888888888888888,
              "#fdca26"
             ],
             [
              1,
              "#f0f921"
             ]
            ],
            "type": "surface"
           }
          ],
          "table": [
           {
            "cells": {
             "fill": {
              "color": "#EBF0F8"
             },
             "line": {
              "color": "white"
             }
            },
            "header": {
             "fill": {
              "color": "#C8D4E3"
             },
             "line": {
              "color": "white"
             }
            },
            "type": "table"
           }
          ]
         },
         "layout": {
          "annotationdefaults": {
           "arrowcolor": "#2a3f5f",
           "arrowhead": 0,
           "arrowwidth": 1
          },
          "autotypenumbers": "strict",
          "coloraxis": {
           "colorbar": {
            "outlinewidth": 0,
            "ticks": ""
           }
          },
          "colorscale": {
           "diverging": [
            [
             0,
             "#8e0152"
            ],
            [
             0.1,
             "#c51b7d"
            ],
            [
             0.2,
             "#de77ae"
            ],
            [
             0.3,
             "#f1b6da"
            ],
            [
             0.4,
             "#fde0ef"
            ],
            [
             0.5,
             "#f7f7f7"
            ],
            [
             0.6,
             "#e6f5d0"
            ],
            [
             0.7,
             "#b8e186"
            ],
            [
             0.8,
             "#7fbc41"
            ],
            [
             0.9,
             "#4d9221"
            ],
            [
             1,
             "#276419"
            ]
           ],
           "sequential": [
            [
             0,
             "#0d0887"
            ],
            [
             0.1111111111111111,
             "#46039f"
            ],
            [
             0.2222222222222222,
             "#7201a8"
            ],
            [
             0.3333333333333333,
             "#9c179e"
            ],
            [
             0.4444444444444444,
             "#bd3786"
            ],
            [
             0.5555555555555556,
             "#d8576b"
            ],
            [
             0.6666666666666666,
             "#ed7953"
            ],
            [
             0.7777777777777778,
             "#fb9f3a"
            ],
            [
             0.8888888888888888,
             "#fdca26"
            ],
            [
             1,
             "#f0f921"
            ]
           ],
           "sequentialminus": [
            [
             0,
             "#0d0887"
            ],
            [
             0.1111111111111111,
             "#46039f"
            ],
            [
             0.2222222222222222,
             "#7201a8"
            ],
            [
             0.3333333333333333,
             "#9c179e"
            ],
            [
             0.4444444444444444,
             "#bd3786"
            ],
            [
             0.5555555555555556,
             "#d8576b"
            ],
            [
             0.6666666666666666,
             "#ed7953"
            ],
            [
             0.7777777777777778,
             "#fb9f3a"
            ],
            [
             0.8888888888888888,
             "#fdca26"
            ],
            [
             1,
             "#f0f921"
            ]
           ]
          },
          "colorway": [
           "#636efa",
           "#EF553B",
           "#00cc96",
           "#ab63fa",
           "#FFA15A",
           "#19d3f3",
           "#FF6692",
           "#B6E880",
           "#FF97FF",
           "#FECB52"
          ],
          "font": {
           "color": "#2a3f5f"
          },
          "geo": {
           "bgcolor": "white",
           "lakecolor": "white",
           "landcolor": "#E5ECF6",
           "showlakes": true,
           "showland": true,
           "subunitcolor": "white"
          },
          "hoverlabel": {
           "align": "left"
          },
          "hovermode": "closest",
          "mapbox": {
           "style": "light"
          },
          "paper_bgcolor": "white",
          "plot_bgcolor": "#E5ECF6",
          "polar": {
           "angularaxis": {
            "gridcolor": "white",
            "linecolor": "white",
            "ticks": ""
           },
           "bgcolor": "#E5ECF6",
           "radialaxis": {
            "gridcolor": "white",
            "linecolor": "white",
            "ticks": ""
           }
          },
          "scene": {
           "xaxis": {
            "backgroundcolor": "#E5ECF6",
            "gridcolor": "white",
            "gridwidth": 2,
            "linecolor": "white",
            "showbackground": true,
            "ticks": "",
            "zerolinecolor": "white"
           },
           "yaxis": {
            "backgroundcolor": "#E5ECF6",
            "gridcolor": "white",
            "gridwidth": 2,
            "linecolor": "white",
            "showbackground": true,
            "ticks": "",
            "zerolinecolor": "white"
           },
           "zaxis": {
            "backgroundcolor": "#E5ECF6",
            "gridcolor": "white",
            "gridwidth": 2,
            "linecolor": "white",
            "showbackground": true,
            "ticks": "",
            "zerolinecolor": "white"
           }
          },
          "shapedefaults": {
           "line": {
            "color": "#2a3f5f"
           }
          },
          "ternary": {
           "aaxis": {
            "gridcolor": "white",
            "linecolor": "white",
            "ticks": ""
           },
           "baxis": {
            "gridcolor": "white",
            "linecolor": "white",
            "ticks": ""
           },
           "bgcolor": "#E5ECF6",
           "caxis": {
            "gridcolor": "white",
            "linecolor": "white",
            "ticks": ""
           }
          },
          "title": {
           "x": 0.05
          },
          "xaxis": {
           "automargin": true,
           "gridcolor": "white",
           "linecolor": "white",
           "ticks": "",
           "title": {
            "standoff": 15
           },
           "zerolinecolor": "white",
           "zerolinewidth": 2
          },
          "yaxis": {
           "automargin": true,
           "gridcolor": "white",
           "linecolor": "white",
           "ticks": "",
           "title": {
            "standoff": 15
           },
           "zerolinecolor": "white",
           "zerolinewidth": 2
          }
         }
        },
        "title": {
         "text": "GPS Coordinates Visualization"
        }
       }
      }
     },
     "metadata": {},
     "output_type": "display_data"
    }
   ],
   "source": [
    "# Total number of points\n",
    "n_points = len(coordinates)\n",
    "\n",
    "target_colors = ['yellow']#['green', 'red','yellow'] #Adjust the colors included to achieve the desired plot\n",
    "\n",
    "# Colors for demonstration, actual implementation would follow your data specifics\n",
    "base_colors = ['green', 'red', 'yellow']\n",
    "light_colors = [adjust_color_lightness(color, 1.5) for color in base_colors]\n",
    "dark_colors = [adjust_color_lightness(color, 0.6) for color in base_colors]\n",
    "\n",
    "# Colors for each point, default is green\n",
    "np.random.seed(42)  # For reproducibility\n",
    "base_color_indices = np.zeros(n_points).astype(int)\n",
    "warning_indices = np.random.choice(n_points, size=int(0.1 * n_points), replace=False)\n",
    "\n",
    "red_indices = warning_indices[:3]\n",
    "yellow_indices = warning_indices[3:]\n",
    "base_color_indices[red_indices] = 1\n",
    "base_color_indices[yellow_indices] = 2\n",
    "\n",
    "point_colors = [base_colors[bci] for bci in base_color_indices]\n",
    "target_indices = [pc in target_colors for pc in point_colors]\n",
    "\n",
    "# Calculate the boundaries\n",
    "longitudes, latitudes = zip(*coordinates)\n",
    "min_lat, max_lat = min(latitudes), max(latitudes)\n",
    "min_lon, max_lon = min(longitudes), max(longitudes)\n",
    "\n",
    "# Expand the bounds by 10%\n",
    "lat_range = max_lat - min_lat\n",
    "lon_range = max_lon - min_lon\n",
    "min_lat -= lat_range * 0.1\n",
    "max_lat += lat_range * 0.1\n",
    "min_lon -= lon_range * 0.1\n",
    "max_lon += lon_range * 0.1\n",
    "\n",
    "# Prepare data for Plotly\n",
    "data = [go.Scattergeo(\n",
    "    lon=list(compress(longitudes,target_indices)),  # Longitude\n",
    "    lat=list(compress(latitudes, target_indices)),  # Latitude\n",
    "    mode='markers',\n",
    "    marker=dict(\n",
    "        size=7,\n",
    "        color=[light_colors[base_colors.index(color)] for color in list(compress(point_colors, target_indices))],  # Light fill color\n",
    "        line=dict(\n",
    "            width=1,\n",
    "            color=[dark_colors[base_colors.index(color)] for color in list(compress(point_colors, target_indices))]  # Dark outline color\n",
    "        )\n",
    "    )\n",
    ")]\n",
    "\n",
    "# Create layout\n",
    "layout = go.Layout(\n",
    "    title='GPS Coordinates Visualization',\n",
    "    geo=dict(\n",
    "        showland=True,\n",
    "        landcolor=\"rgb(217, 217, 217)\",\n",
    "        subunitcolor=\"rgb(255, 255, 255)\",\n",
    "        countrycolor=\"rgb(255, 255, 255)\",\n",
    "        showlakes=True,\n",
    "        lakecolor=\"rgb(255, 255, 255)\",\n",
    "        showsubunits=True,\n",
    "        showcountries=True,\n",
    "        resolution=50,\n",
    "        projection=dict(\n",
    "            type=\"mercator\"\n",
    "        ),\n",
    "        lonaxis=dict(\n",
    "            showgrid=True,\n",
    "            gridwidth=0.5,\n",
    "            range=[min_lon, max_lon],\n",
    "            dtick=5\n",
    "        ),\n",
    "        lataxis=dict(\n",
    "            showgrid=True,\n",
    "            gridwidth=0.5,\n",
    "            range=[min_lat, max_lat],\n",
    "            dtick=5\n",
    "        )\n",
    "    )\n",
    ")\n",
    "\n",
    "# Create the figure\n",
    "fig = go.Figure(data=data, layout=layout)\n",
    "\n",
    "# Display the figure\n",
    "fig.show()"
   ]
  },
  {
   "cell_type": "code",
   "execution_count": 10,
   "metadata": {},
   "outputs": [
    {
     "name": "stdout",
     "output_type": "stream",
     "text": [
      "{\n",
      "    \"lat\": [\n",
      "        33.912216,\n",
      "        33.908039,\n",
      "        33.909058,\n",
      "        33.91325,\n",
      "        33.913853,\n",
      "        33.913197,\n",
      "        33.917141,\n",
      "        33.906448\n",
      "    ],\n",
      "    \"long\": [\n",
      "        -116.736122,\n",
      "        -116.732567,\n",
      "        -116.736015,\n",
      "        -116.710396,\n",
      "        -116.706383,\n",
      "        -116.714386,\n",
      "        -116.72934,\n",
      "        -116.732513\n",
      "    ],\n",
      "    \"x_series\": \"long\",\n",
      "    \"y_series\": \"lat\",\n",
      "    \"labels\": {\n",
      "        \"x\": \"Longitude\",\n",
      "        \"y\": \"Latitude\",\n",
      "        \"title\": \"Turbine Health Map\",\n",
      "        \"xaxis_range\": [\n",
      "            -116.73958959999999,\n",
      "            -116.6989864\n",
      "        ],\n",
      "        \"yaxis_range\": [\n",
      "            33.9029617,\n",
      "            33.9187093\n",
      "        ]\n",
      "    },\n",
      "    \"map_features\": {\n",
      "        \"land_color\": \"rgb(217, 217, 217)\",\n",
      "        \"lake_color\": \"rgb(255, 255, 255)\",\n",
      "        \"resolution\": 50,\n",
      "        \"projection_type\": \"mercator\"\n",
      "    },\n",
      "    \"points\": {\n",
      "        \"colors\": [\n",
      "            \"#ffff80\",\n",
      "            \"#ffff80\",\n",
      "            \"#ffff80\",\n",
      "            \"#ffff80\",\n",
      "            \"#ffff80\",\n",
      "            \"#ffff80\",\n",
      "            \"#ffff80\",\n",
      "            \"#ffff80\"\n",
      "        ],\n",
      "        \"size\": 7,\n",
      "        \"outline_color\": [\n",
      "            \"#999900\",\n",
      "            \"#999900\",\n",
      "            \"#999900\",\n",
      "            \"#999900\",\n",
      "            \"#999900\",\n",
      "            \"#999900\",\n",
      "            \"#999900\",\n",
      "            \"#999900\"\n",
      "        ],\n",
      "        \"outline_width\": 1\n",
      "    }\n",
      "}\n"
     ]
    }
   ],
   "source": [
    "file_name = 'Slide02_TurbineCoordinates_yellow.json'\n",
    "\n",
    "# Prepare the JSON data structure\n",
    "plot_json = {\n",
    "    \"lat\": list(compress(latitudes, target_indices)),\n",
    "    \"long\": list(compress(longitudes, target_indices)),\n",
    "    \"x_series\": \"long\",  # Indicative of what 'x' refers to in a geographical context\n",
    "    \"y_series\": \"lat\",   # Indicative of what 'y' refers to in a geographical context\n",
    "    \"labels\": {\n",
    "        \"x\": \"Longitude\",\n",
    "        \"y\": \"Latitude\",\n",
    "        \"title\": \"Turbine Health Map\",\n",
    "        \"xaxis_range\": [min_lon, max_lon],\n",
    "        \"yaxis_range\": [min_lat, max_lat]\n",
    "    },\n",
    "    \"map_features\": {\n",
    "        \"land_color\": \"rgb(217, 217, 217)\",\n",
    "        \"lake_color\": \"rgb(255, 255, 255)\",\n",
    "        \"resolution\": 50,\n",
    "        \"projection_type\": \"mercator\"\n",
    "    },\n",
    "    \"points\": {\n",
    "        \"colors\": [light_colors[base_colors.index(color)] for color in list(compress(point_colors, target_indices))],\n",
    "        \"size\": 7,\n",
    "        \"outline_color\": [dark_colors[base_colors.index(color)] for color in list(compress(point_colors, target_indices))],\n",
    "        \"outline_width\": 1\n",
    "    }\n",
    "}\n",
    "\n",
    "# Serialize JSON data to a string\n",
    "json_str = json.dumps(plot_json, indent=4)\n",
    "print(json_str)\n",
    "\n",
    "# Optionally, write to a file\n",
    "with open(os.path.join(output_dir, file_name), 'w') as f:\n",
    "    json.dump(plot_json, f, indent=4)"
   ]
  },
  {
   "cell_type": "markdown",
   "metadata": {},
   "source": [
    "## Slide 2 Quarter Summary"
   ]
  },
  {
   "cell_type": "code",
   "execution_count": 11,
   "metadata": {},
   "outputs": [
    {
     "data": {
      "application/vnd.plotly.v1+json": {
       "config": {
        "plotlyServerURL": "https://plot.ly"
       },
       "data": [
        {
         "base": 0,
         "marker": {
          "color": "green"
         },
         "name": "Profit/loss",
         "orientation": "h",
         "type": "bar",
         "x": [
          0.37851162325372983
         ],
         "y": [
          "Profit/loss"
         ]
        },
        {
         "base": 0,
         "marker": {
          "color": "green"
         },
         "name": "Unexpected failures",
         "orientation": "h",
         "type": "bar",
         "x": [
          -0.7369655941662062
         ],
         "y": [
          "Unexpected failures"
         ]
        },
        {
         "base": 0,
         "marker": {
          "color": "red"
         },
         "name": "Up time",
         "orientation": "h",
         "type": "bar",
         "x": [
          -0.3219280948873623
         ],
         "y": [
          "Up time"
         ]
        }
       ],
       "layout": {
        "plot_bgcolor": "white",
        "template": {
         "data": {
          "bar": [
           {
            "error_x": {
             "color": "#2a3f5f"
            },
            "error_y": {
             "color": "#2a3f5f"
            },
            "marker": {
             "line": {
              "color": "#E5ECF6",
              "width": 0.5
             },
             "pattern": {
              "fillmode": "overlay",
              "size": 10,
              "solidity": 0.2
             }
            },
            "type": "bar"
           }
          ],
          "barpolar": [
           {
            "marker": {
             "line": {
              "color": "#E5ECF6",
              "width": 0.5
             },
             "pattern": {
              "fillmode": "overlay",
              "size": 10,
              "solidity": 0.2
             }
            },
            "type": "barpolar"
           }
          ],
          "carpet": [
           {
            "aaxis": {
             "endlinecolor": "#2a3f5f",
             "gridcolor": "white",
             "linecolor": "white",
             "minorgridcolor": "white",
             "startlinecolor": "#2a3f5f"
            },
            "baxis": {
             "endlinecolor": "#2a3f5f",
             "gridcolor": "white",
             "linecolor": "white",
             "minorgridcolor": "white",
             "startlinecolor": "#2a3f5f"
            },
            "type": "carpet"
           }
          ],
          "choropleth": [
           {
            "colorbar": {
             "outlinewidth": 0,
             "ticks": ""
            },
            "type": "choropleth"
           }
          ],
          "contour": [
           {
            "colorbar": {
             "outlinewidth": 0,
             "ticks": ""
            },
            "colorscale": [
             [
              0,
              "#0d0887"
             ],
             [
              0.1111111111111111,
              "#46039f"
             ],
             [
              0.2222222222222222,
              "#7201a8"
             ],
             [
              0.3333333333333333,
              "#9c179e"
             ],
             [
              0.4444444444444444,
              "#bd3786"
             ],
             [
              0.5555555555555556,
              "#d8576b"
             ],
             [
              0.6666666666666666,
              "#ed7953"
             ],
             [
              0.7777777777777778,
              "#fb9f3a"
             ],
             [
              0.8888888888888888,
              "#fdca26"
             ],
             [
              1,
              "#f0f921"
             ]
            ],
            "type": "contour"
           }
          ],
          "contourcarpet": [
           {
            "colorbar": {
             "outlinewidth": 0,
             "ticks": ""
            },
            "type": "contourcarpet"
           }
          ],
          "heatmap": [
           {
            "colorbar": {
             "outlinewidth": 0,
             "ticks": ""
            },
            "colorscale": [
             [
              0,
              "#0d0887"
             ],
             [
              0.1111111111111111,
              "#46039f"
             ],
             [
              0.2222222222222222,
              "#7201a8"
             ],
             [
              0.3333333333333333,
              "#9c179e"
             ],
             [
              0.4444444444444444,
              "#bd3786"
             ],
             [
              0.5555555555555556,
              "#d8576b"
             ],
             [
              0.6666666666666666,
              "#ed7953"
             ],
             [
              0.7777777777777778,
              "#fb9f3a"
             ],
             [
              0.8888888888888888,
              "#fdca26"
             ],
             [
              1,
              "#f0f921"
             ]
            ],
            "type": "heatmap"
           }
          ],
          "heatmapgl": [
           {
            "colorbar": {
             "outlinewidth": 0,
             "ticks": ""
            },
            "colorscale": [
             [
              0,
              "#0d0887"
             ],
             [
              0.1111111111111111,
              "#46039f"
             ],
             [
              0.2222222222222222,
              "#7201a8"
             ],
             [
              0.3333333333333333,
              "#9c179e"
             ],
             [
              0.4444444444444444,
              "#bd3786"
             ],
             [
              0.5555555555555556,
              "#d8576b"
             ],
             [
              0.6666666666666666,
              "#ed7953"
             ],
             [
              0.7777777777777778,
              "#fb9f3a"
             ],
             [
              0.8888888888888888,
              "#fdca26"
             ],
             [
              1,
              "#f0f921"
             ]
            ],
            "type": "heatmapgl"
           }
          ],
          "histogram": [
           {
            "marker": {
             "pattern": {
              "fillmode": "overlay",
              "size": 10,
              "solidity": 0.2
             }
            },
            "type": "histogram"
           }
          ],
          "histogram2d": [
           {
            "colorbar": {
             "outlinewidth": 0,
             "ticks": ""
            },
            "colorscale": [
             [
              0,
              "#0d0887"
             ],
             [
              0.1111111111111111,
              "#46039f"
             ],
             [
              0.2222222222222222,
              "#7201a8"
             ],
             [
              0.3333333333333333,
              "#9c179e"
             ],
             [
              0.4444444444444444,
              "#bd3786"
             ],
             [
              0.5555555555555556,
              "#d8576b"
             ],
             [
              0.6666666666666666,
              "#ed7953"
             ],
             [
              0.7777777777777778,
              "#fb9f3a"
             ],
             [
              0.8888888888888888,
              "#fdca26"
             ],
             [
              1,
              "#f0f921"
             ]
            ],
            "type": "histogram2d"
           }
          ],
          "histogram2dcontour": [
           {
            "colorbar": {
             "outlinewidth": 0,
             "ticks": ""
            },
            "colorscale": [
             [
              0,
              "#0d0887"
             ],
             [
              0.1111111111111111,
              "#46039f"
             ],
             [
              0.2222222222222222,
              "#7201a8"
             ],
             [
              0.3333333333333333,
              "#9c179e"
             ],
             [
              0.4444444444444444,
              "#bd3786"
             ],
             [
              0.5555555555555556,
              "#d8576b"
             ],
             [
              0.6666666666666666,
              "#ed7953"
             ],
             [
              0.7777777777777778,
              "#fb9f3a"
             ],
             [
              0.8888888888888888,
              "#fdca26"
             ],
             [
              1,
              "#f0f921"
             ]
            ],
            "type": "histogram2dcontour"
           }
          ],
          "mesh3d": [
           {
            "colorbar": {
             "outlinewidth": 0,
             "ticks": ""
            },
            "type": "mesh3d"
           }
          ],
          "parcoords": [
           {
            "line": {
             "colorbar": {
              "outlinewidth": 0,
              "ticks": ""
             }
            },
            "type": "parcoords"
           }
          ],
          "pie": [
           {
            "automargin": true,
            "type": "pie"
           }
          ],
          "scatter": [
           {
            "fillpattern": {
             "fillmode": "overlay",
             "size": 10,
             "solidity": 0.2
            },
            "type": "scatter"
           }
          ],
          "scatter3d": [
           {
            "line": {
             "colorbar": {
              "outlinewidth": 0,
              "ticks": ""
             }
            },
            "marker": {
             "colorbar": {
              "outlinewidth": 0,
              "ticks": ""
             }
            },
            "type": "scatter3d"
           }
          ],
          "scattercarpet": [
           {
            "marker": {
             "colorbar": {
              "outlinewidth": 0,
              "ticks": ""
             }
            },
            "type": "scattercarpet"
           }
          ],
          "scattergeo": [
           {
            "marker": {
             "colorbar": {
              "outlinewidth": 0,
              "ticks": ""
             }
            },
            "type": "scattergeo"
           }
          ],
          "scattergl": [
           {
            "marker": {
             "colorbar": {
              "outlinewidth": 0,
              "ticks": ""
             }
            },
            "type": "scattergl"
           }
          ],
          "scattermapbox": [
           {
            "marker": {
             "colorbar": {
              "outlinewidth": 0,
              "ticks": ""
             }
            },
            "type": "scattermapbox"
           }
          ],
          "scatterpolar": [
           {
            "marker": {
             "colorbar": {
              "outlinewidth": 0,
              "ticks": ""
             }
            },
            "type": "scatterpolar"
           }
          ],
          "scatterpolargl": [
           {
            "marker": {
             "colorbar": {
              "outlinewidth": 0,
              "ticks": ""
             }
            },
            "type": "scatterpolargl"
           }
          ],
          "scatterternary": [
           {
            "marker": {
             "colorbar": {
              "outlinewidth": 0,
              "ticks": ""
             }
            },
            "type": "scatterternary"
           }
          ],
          "surface": [
           {
            "colorbar": {
             "outlinewidth": 0,
             "ticks": ""
            },
            "colorscale": [
             [
              0,
              "#0d0887"
             ],
             [
              0.1111111111111111,
              "#46039f"
             ],
             [
              0.2222222222222222,
              "#7201a8"
             ],
             [
              0.3333333333333333,
              "#9c179e"
             ],
             [
              0.4444444444444444,
              "#bd3786"
             ],
             [
              0.5555555555555556,
              "#d8576b"
             ],
             [
              0.6666666666666666,
              "#ed7953"
             ],
             [
              0.7777777777777778,
              "#fb9f3a"
             ],
             [
              0.8888888888888888,
              "#fdca26"
             ],
             [
              1,
              "#f0f921"
             ]
            ],
            "type": "surface"
           }
          ],
          "table": [
           {
            "cells": {
             "fill": {
              "color": "#EBF0F8"
             },
             "line": {
              "color": "white"
             }
            },
            "header": {
             "fill": {
              "color": "#C8D4E3"
             },
             "line": {
              "color": "white"
             }
            },
            "type": "table"
           }
          ]
         },
         "layout": {
          "annotationdefaults": {
           "arrowcolor": "#2a3f5f",
           "arrowhead": 0,
           "arrowwidth": 1
          },
          "autotypenumbers": "strict",
          "coloraxis": {
           "colorbar": {
            "outlinewidth": 0,
            "ticks": ""
           }
          },
          "colorscale": {
           "diverging": [
            [
             0,
             "#8e0152"
            ],
            [
             0.1,
             "#c51b7d"
            ],
            [
             0.2,
             "#de77ae"
            ],
            [
             0.3,
             "#f1b6da"
            ],
            [
             0.4,
             "#fde0ef"
            ],
            [
             0.5,
             "#f7f7f7"
            ],
            [
             0.6,
             "#e6f5d0"
            ],
            [
             0.7,
             "#b8e186"
            ],
            [
             0.8,
             "#7fbc41"
            ],
            [
             0.9,
             "#4d9221"
            ],
            [
             1,
             "#276419"
            ]
           ],
           "sequential": [
            [
             0,
             "#0d0887"
            ],
            [
             0.1111111111111111,
             "#46039f"
            ],
            [
             0.2222222222222222,
             "#7201a8"
            ],
            [
             0.3333333333333333,
             "#9c179e"
            ],
            [
             0.4444444444444444,
             "#bd3786"
            ],
            [
             0.5555555555555556,
             "#d8576b"
            ],
            [
             0.6666666666666666,
             "#ed7953"
            ],
            [
             0.7777777777777778,
             "#fb9f3a"
            ],
            [
             0.8888888888888888,
             "#fdca26"
            ],
            [
             1,
             "#f0f921"
            ]
           ],
           "sequentialminus": [
            [
             0,
             "#0d0887"
            ],
            [
             0.1111111111111111,
             "#46039f"
            ],
            [
             0.2222222222222222,
             "#7201a8"
            ],
            [
             0.3333333333333333,
             "#9c179e"
            ],
            [
             0.4444444444444444,
             "#bd3786"
            ],
            [
             0.5555555555555556,
             "#d8576b"
            ],
            [
             0.6666666666666666,
             "#ed7953"
            ],
            [
             0.7777777777777778,
             "#fb9f3a"
            ],
            [
             0.8888888888888888,
             "#fdca26"
            ],
            [
             1,
             "#f0f921"
            ]
           ]
          },
          "colorway": [
           "#636efa",
           "#EF553B",
           "#00cc96",
           "#ab63fa",
           "#FFA15A",
           "#19d3f3",
           "#FF6692",
           "#B6E880",
           "#FF97FF",
           "#FECB52"
          ],
          "font": {
           "color": "#2a3f5f"
          },
          "geo": {
           "bgcolor": "white",
           "lakecolor": "white",
           "landcolor": "#E5ECF6",
           "showlakes": true,
           "showland": true,
           "subunitcolor": "white"
          },
          "hoverlabel": {
           "align": "left"
          },
          "hovermode": "closest",
          "mapbox": {
           "style": "light"
          },
          "paper_bgcolor": "white",
          "plot_bgcolor": "#E5ECF6",
          "polar": {
           "angularaxis": {
            "gridcolor": "white",
            "linecolor": "white",
            "ticks": ""
           },
           "bgcolor": "#E5ECF6",
           "radialaxis": {
            "gridcolor": "white",
            "linecolor": "white",
            "ticks": ""
           }
          },
          "scene": {
           "xaxis": {
            "backgroundcolor": "#E5ECF6",
            "gridcolor": "white",
            "gridwidth": 2,
            "linecolor": "white",
            "showbackground": true,
            "ticks": "",
            "zerolinecolor": "white"
           },
           "yaxis": {
            "backgroundcolor": "#E5ECF6",
            "gridcolor": "white",
            "gridwidth": 2,
            "linecolor": "white",
            "showbackground": true,
            "ticks": "",
            "zerolinecolor": "white"
           },
           "zaxis": {
            "backgroundcolor": "#E5ECF6",
            "gridcolor": "white",
            "gridwidth": 2,
            "linecolor": "white",
            "showbackground": true,
            "ticks": "",
            "zerolinecolor": "white"
           }
          },
          "shapedefaults": {
           "line": {
            "color": "#2a3f5f"
           }
          },
          "ternary": {
           "aaxis": {
            "gridcolor": "white",
            "linecolor": "white",
            "ticks": ""
           },
           "baxis": {
            "gridcolor": "white",
            "linecolor": "white",
            "ticks": ""
           },
           "bgcolor": "#E5ECF6",
           "caxis": {
            "gridcolor": "white",
            "linecolor": "white",
            "ticks": ""
           }
          },
          "title": {
           "x": 0.05
          },
          "xaxis": {
           "automargin": true,
           "gridcolor": "white",
           "linecolor": "white",
           "ticks": "",
           "title": {
            "standoff": 15
           },
           "zerolinecolor": "white",
           "zerolinewidth": 2
          },
          "yaxis": {
           "automargin": true,
           "gridcolor": "white",
           "linecolor": "white",
           "ticks": "",
           "title": {
            "standoff": 15
           },
           "zerolinecolor": "white",
           "zerolinewidth": 2
          }
         }
        },
        "title": {
         "text": "Quarterly Summary of Changes"
        },
        "xaxis": {
         "gridcolor": "gray",
         "linecolor": "black",
         "range": [
          -1,
          1
         ],
         "showgrid": true,
         "showline": true,
         "ticktext": [
          "Half",
          "No Change",
          "Double"
         ],
         "tickvals": [
          -1,
          0,
          1
         ],
         "title": {
          "text": "Change Scale (Log Scale)"
         }
        },
        "yaxis": {
         "showline": true,
         "title": {
          "text": "Categories"
         }
        }
       }
      }
     },
     "metadata": {},
     "output_type": "display_data"
    }
   ],
   "source": [
    "# Data setup\n",
    "categories = [\"Up time\", \"Unexpected failures\", \"Profit/loss\"][::-1]  # Reverse the list\n",
    "values = [0.8, 0.6, 1.3][::-1]  # Reverse the list to match the categories\n",
    "is_good_increase = [True, False, True][::-1]  # Reverse to match\n",
    "\n",
    "# Apply logarithm base 2 transformation\n",
    "log_values = np.log2(values)\n",
    "\n",
    "# Determine color based on value and whether increase is good\n",
    "colors = ['green' if (v > 0 and good) or (v < 0 and not good) else 'red'\n",
    "          for v, good in zip(log_values, is_good_increase)]\n",
    "\n",
    "# Create the figure\n",
    "fig = go.Figure()\n",
    "\n",
    "# Add the bar for each category\n",
    "for category, value, color in zip(categories, log_values, colors):\n",
    "    # Base is the log2 of 1, which is 0\n",
    "    base = 0\n",
    "    width = value - base  # Calculate width from log2(1) = 0\n",
    "    fig.add_trace(go.Bar(\n",
    "        x=[width],  # width of the bar from the base\n",
    "        y=[category],\n",
    "        orientation='h',\n",
    "        marker_color=color,\n",
    "        base=base,  # starting point of the bar (log2(1) = 0)\n",
    "        name=category\n",
    "    ))\n",
    "\n",
    "# Update layout to set x-axis and add customization\n",
    "fig.update_layout(\n",
    "    xaxis=dict(\n",
    "        tickvals=np.log2([0.5, 1, 2]),\n",
    "        ticktext=['Half', 'No Change', 'Double'],\n",
    "        range=[np.log2(0.5), np.log2(2)],  # Set range from log2(0.5) to log2(2)\n",
    "        showline=True, \n",
    "        showgrid=True, \n",
    "        gridcolor='gray', \n",
    "        linecolor='black'\n",
    "    ),\n",
    "    title=\"Quarterly Summary of Changes\",\n",
    "    xaxis_title=\"Change Scale (Log Scale)\",\n",
    "    yaxis_title=\"Categories\",\n",
    "    plot_bgcolor='white',\n",
    "    # xaxis=dict(),\n",
    "    yaxis=dict(showline=True)\n",
    ")\n",
    "\n",
    "# Show the plot\n",
    "fig.show()"
   ]
  },
  {
   "cell_type": "code",
   "execution_count": 12,
   "metadata": {},
   "outputs": [
    {
     "name": "stdout",
     "output_type": "stream",
     "text": [
      "{\n",
      "    \"x\": [\n",
      "        0.37851162325372983,\n",
      "        -0.7369655941662062,\n",
      "        -0.3219280948873623\n",
      "    ],\n",
      "    \"y\": [\n",
      "        \"Profit/loss\",\n",
      "        \"Unexpected failures\",\n",
      "        \"Up time\"\n",
      "    ],\n",
      "    \"x_series\": [\n",
      "        \"x\"\n",
      "    ],\n",
      "    \"y_series\": [\n",
      "        \"y\"\n",
      "    ],\n",
      "    \"labels\": {\n",
      "        \"x\": \"Change Scale (Log Scale)\",\n",
      "        \"y\": \"Categories\"\n",
      "    },\n",
      "    \"series_colors\": [\n",
      "        \"green\",\n",
      "        \"green\",\n",
      "        \"red\"\n",
      "    ],\n",
      "    \"xaxis\": {\n",
      "        \"tickvals\": [\n",
      "            -1.0,\n",
      "            0.0,\n",
      "            1.0\n",
      "        ],\n",
      "        \"ticktext\": [\n",
      "            \"Half\",\n",
      "            \"No Change\",\n",
      "            \"Double\"\n",
      "        ],\n",
      "        \"range\": [\n",
      "            -1.0,\n",
      "            1.0\n",
      "        ]\n",
      "    }\n",
      "}\n"
     ]
    }
   ],
   "source": [
    "file_name = 'Slide02_QuarterlySummary.json'\n",
    "\n",
    "# # Data setup\n",
    "# categories = [\"Up time\", \"Unexpected failures\", \"Profit/loss\"][::-1]  # Reverse the list\n",
    "# values = [0.8, 0.6, 1.3][::-1]  # Reverse the list to match the categories\n",
    "# is_good_increase = [True, False, True][::-1]  # Reverse to match\n",
    "\n",
    "# Apply logarithm base 2 transformation\n",
    "log_values = np.log2(values)\n",
    "\n",
    "# Determine color based on value and whether increase is good\n",
    "colors = ['green' if (v > 0 and good) or (v < 0 and not good) else 'red'\n",
    "          for v, good in zip(log_values, is_good_increase)]\n",
    "\n",
    "# Prepare JSON data structure\n",
    "json_data = {\n",
    "    \"x\": log_values.tolist(),\n",
    "    \"y\": categories,\n",
    "    \"x_series\": [\"x\"],\n",
    "    \"y_series\": [\"y\"],\n",
    "    \"labels\": {\n",
    "        \"x\": \"Change Scale (Log Scale)\",\n",
    "        \"y\": \"Categories\"\n",
    "    },\n",
    "    \"series_colors\": colors,\n",
    "    \"xaxis\": {\n",
    "        \"tickvals\": np.log2([0.5, 1, 2]).tolist(),\n",
    "        \"ticktext\": ['Half', 'No Change', 'Double'],\n",
    "        \"range\": [np.log2(0.5), np.log2(2)]\n",
    "    },\n",
    "}\n",
    "\n",
    "# Serialize JSON data to a string\n",
    "json_str = json.dumps(json_data, indent=4)\n",
    "print(json_str)\n",
    "\n",
    "# Optionally, write to a file\n",
    "with open(os.path.join(output_dir, file_name), 'w') as f:\n",
    "    json.dump(json_data, f, indent=4)"
   ]
  },
  {
   "cell_type": "markdown",
   "metadata": {},
   "source": [
    "## Slide 3 Mean Time to Failure by Turbine Model"
   ]
  },
  {
   "cell_type": "code",
   "execution_count": 13,
   "metadata": {},
   "outputs": [
    {
     "data": {
      "application/vnd.plotly.v1+json": {
       "config": {
        "plotlyServerURL": "https://plot.ly"
       },
       "data": [
        {
         "name": "V47-0.66",
         "orientation": "h",
         "type": "bar",
         "x": [
          0.8
         ],
         "y": [
          "V47-0.66"
         ]
        },
        {
         "name": "GE1.5-82.5",
         "orientation": "h",
         "type": "bar",
         "x": [
          2.3
         ],
         "y": [
          "GE1.5-82.5"
         ]
        },
        {
         "name": "Z50",
         "orientation": "h",
         "type": "bar",
         "x": [
          2.4
         ],
         "y": [
          "Z50"
         ]
        },
        {
         "name": "V117-4.3",
         "orientation": "h",
         "type": "bar",
         "x": [
          4.8
         ],
         "y": [
          "V117-4.3"
         ]
        }
       ],
       "layout": {
        "plot_bgcolor": "white",
        "template": {
         "data": {
          "bar": [
           {
            "error_x": {
             "color": "#2a3f5f"
            },
            "error_y": {
             "color": "#2a3f5f"
            },
            "marker": {
             "line": {
              "color": "#E5ECF6",
              "width": 0.5
             },
             "pattern": {
              "fillmode": "overlay",
              "size": 10,
              "solidity": 0.2
             }
            },
            "type": "bar"
           }
          ],
          "barpolar": [
           {
            "marker": {
             "line": {
              "color": "#E5ECF6",
              "width": 0.5
             },
             "pattern": {
              "fillmode": "overlay",
              "size": 10,
              "solidity": 0.2
             }
            },
            "type": "barpolar"
           }
          ],
          "carpet": [
           {
            "aaxis": {
             "endlinecolor": "#2a3f5f",
             "gridcolor": "white",
             "linecolor": "white",
             "minorgridcolor": "white",
             "startlinecolor": "#2a3f5f"
            },
            "baxis": {
             "endlinecolor": "#2a3f5f",
             "gridcolor": "white",
             "linecolor": "white",
             "minorgridcolor": "white",
             "startlinecolor": "#2a3f5f"
            },
            "type": "carpet"
           }
          ],
          "choropleth": [
           {
            "colorbar": {
             "outlinewidth": 0,
             "ticks": ""
            },
            "type": "choropleth"
           }
          ],
          "contour": [
           {
            "colorbar": {
             "outlinewidth": 0,
             "ticks": ""
            },
            "colorscale": [
             [
              0,
              "#0d0887"
             ],
             [
              0.1111111111111111,
              "#46039f"
             ],
             [
              0.2222222222222222,
              "#7201a8"
             ],
             [
              0.3333333333333333,
              "#9c179e"
             ],
             [
              0.4444444444444444,
              "#bd3786"
             ],
             [
              0.5555555555555556,
              "#d8576b"
             ],
             [
              0.6666666666666666,
              "#ed7953"
             ],
             [
              0.7777777777777778,
              "#fb9f3a"
             ],
             [
              0.8888888888888888,
              "#fdca26"
             ],
             [
              1,
              "#f0f921"
             ]
            ],
            "type": "contour"
           }
          ],
          "contourcarpet": [
           {
            "colorbar": {
             "outlinewidth": 0,
             "ticks": ""
            },
            "type": "contourcarpet"
           }
          ],
          "heatmap": [
           {
            "colorbar": {
             "outlinewidth": 0,
             "ticks": ""
            },
            "colorscale": [
             [
              0,
              "#0d0887"
             ],
             [
              0.1111111111111111,
              "#46039f"
             ],
             [
              0.2222222222222222,
              "#7201a8"
             ],
             [
              0.3333333333333333,
              "#9c179e"
             ],
             [
              0.4444444444444444,
              "#bd3786"
             ],
             [
              0.5555555555555556,
              "#d8576b"
             ],
             [
              0.6666666666666666,
              "#ed7953"
             ],
             [
              0.7777777777777778,
              "#fb9f3a"
             ],
             [
              0.8888888888888888,
              "#fdca26"
             ],
             [
              1,
              "#f0f921"
             ]
            ],
            "type": "heatmap"
           }
          ],
          "heatmapgl": [
           {
            "colorbar": {
             "outlinewidth": 0,
             "ticks": ""
            },
            "colorscale": [
             [
              0,
              "#0d0887"
             ],
             [
              0.1111111111111111,
              "#46039f"
             ],
             [
              0.2222222222222222,
              "#7201a8"
             ],
             [
              0.3333333333333333,
              "#9c179e"
             ],
             [
              0.4444444444444444,
              "#bd3786"
             ],
             [
              0.5555555555555556,
              "#d8576b"
             ],
             [
              0.6666666666666666,
              "#ed7953"
             ],
             [
              0.7777777777777778,
              "#fb9f3a"
             ],
             [
              0.8888888888888888,
              "#fdca26"
             ],
             [
              1,
              "#f0f921"
             ]
            ],
            "type": "heatmapgl"
           }
          ],
          "histogram": [
           {
            "marker": {
             "pattern": {
              "fillmode": "overlay",
              "size": 10,
              "solidity": 0.2
             }
            },
            "type": "histogram"
           }
          ],
          "histogram2d": [
           {
            "colorbar": {
             "outlinewidth": 0,
             "ticks": ""
            },
            "colorscale": [
             [
              0,
              "#0d0887"
             ],
             [
              0.1111111111111111,
              "#46039f"
             ],
             [
              0.2222222222222222,
              "#7201a8"
             ],
             [
              0.3333333333333333,
              "#9c179e"
             ],
             [
              0.4444444444444444,
              "#bd3786"
             ],
             [
              0.5555555555555556,
              "#d8576b"
             ],
             [
              0.6666666666666666,
              "#ed7953"
             ],
             [
              0.7777777777777778,
              "#fb9f3a"
             ],
             [
              0.8888888888888888,
              "#fdca26"
             ],
             [
              1,
              "#f0f921"
             ]
            ],
            "type": "histogram2d"
           }
          ],
          "histogram2dcontour": [
           {
            "colorbar": {
             "outlinewidth": 0,
             "ticks": ""
            },
            "colorscale": [
             [
              0,
              "#0d0887"
             ],
             [
              0.1111111111111111,
              "#46039f"
             ],
             [
              0.2222222222222222,
              "#7201a8"
             ],
             [
              0.3333333333333333,
              "#9c179e"
             ],
             [
              0.4444444444444444,
              "#bd3786"
             ],
             [
              0.5555555555555556,
              "#d8576b"
             ],
             [
              0.6666666666666666,
              "#ed7953"
             ],
             [
              0.7777777777777778,
              "#fb9f3a"
             ],
             [
              0.8888888888888888,
              "#fdca26"
             ],
             [
              1,
              "#f0f921"
             ]
            ],
            "type": "histogram2dcontour"
           }
          ],
          "mesh3d": [
           {
            "colorbar": {
             "outlinewidth": 0,
             "ticks": ""
            },
            "type": "mesh3d"
           }
          ],
          "parcoords": [
           {
            "line": {
             "colorbar": {
              "outlinewidth": 0,
              "ticks": ""
             }
            },
            "type": "parcoords"
           }
          ],
          "pie": [
           {
            "automargin": true,
            "type": "pie"
           }
          ],
          "scatter": [
           {
            "fillpattern": {
             "fillmode": "overlay",
             "size": 10,
             "solidity": 0.2
            },
            "type": "scatter"
           }
          ],
          "scatter3d": [
           {
            "line": {
             "colorbar": {
              "outlinewidth": 0,
              "ticks": ""
             }
            },
            "marker": {
             "colorbar": {
              "outlinewidth": 0,
              "ticks": ""
             }
            },
            "type": "scatter3d"
           }
          ],
          "scattercarpet": [
           {
            "marker": {
             "colorbar": {
              "outlinewidth": 0,
              "ticks": ""
             }
            },
            "type": "scattercarpet"
           }
          ],
          "scattergeo": [
           {
            "marker": {
             "colorbar": {
              "outlinewidth": 0,
              "ticks": ""
             }
            },
            "type": "scattergeo"
           }
          ],
          "scattergl": [
           {
            "marker": {
             "colorbar": {
              "outlinewidth": 0,
              "ticks": ""
             }
            },
            "type": "scattergl"
           }
          ],
          "scattermapbox": [
           {
            "marker": {
             "colorbar": {
              "outlinewidth": 0,
              "ticks": ""
             }
            },
            "type": "scattermapbox"
           }
          ],
          "scatterpolar": [
           {
            "marker": {
             "colorbar": {
              "outlinewidth": 0,
              "ticks": ""
             }
            },
            "type": "scatterpolar"
           }
          ],
          "scatterpolargl": [
           {
            "marker": {
             "colorbar": {
              "outlinewidth": 0,
              "ticks": ""
             }
            },
            "type": "scatterpolargl"
           }
          ],
          "scatterternary": [
           {
            "marker": {
             "colorbar": {
              "outlinewidth": 0,
              "ticks": ""
             }
            },
            "type": "scatterternary"
           }
          ],
          "surface": [
           {
            "colorbar": {
             "outlinewidth": 0,
             "ticks": ""
            },
            "colorscale": [
             [
              0,
              "#0d0887"
             ],
             [
              0.1111111111111111,
              "#46039f"
             ],
             [
              0.2222222222222222,
              "#7201a8"
             ],
             [
              0.3333333333333333,
              "#9c179e"
             ],
             [
              0.4444444444444444,
              "#bd3786"
             ],
             [
              0.5555555555555556,
              "#d8576b"
             ],
             [
              0.6666666666666666,
              "#ed7953"
             ],
             [
              0.7777777777777778,
              "#fb9f3a"
             ],
             [
              0.8888888888888888,
              "#fdca26"
             ],
             [
              1,
              "#f0f921"
             ]
            ],
            "type": "surface"
           }
          ],
          "table": [
           {
            "cells": {
             "fill": {
              "color": "#EBF0F8"
             },
             "line": {
              "color": "white"
             }
            },
            "header": {
             "fill": {
              "color": "#C8D4E3"
             },
             "line": {
              "color": "white"
             }
            },
            "type": "table"
           }
          ]
         },
         "layout": {
          "annotationdefaults": {
           "arrowcolor": "#2a3f5f",
           "arrowhead": 0,
           "arrowwidth": 1
          },
          "autotypenumbers": "strict",
          "coloraxis": {
           "colorbar": {
            "outlinewidth": 0,
            "ticks": ""
           }
          },
          "colorscale": {
           "diverging": [
            [
             0,
             "#8e0152"
            ],
            [
             0.1,
             "#c51b7d"
            ],
            [
             0.2,
             "#de77ae"
            ],
            [
             0.3,
             "#f1b6da"
            ],
            [
             0.4,
             "#fde0ef"
            ],
            [
             0.5,
             "#f7f7f7"
            ],
            [
             0.6,
             "#e6f5d0"
            ],
            [
             0.7,
             "#b8e186"
            ],
            [
             0.8,
             "#7fbc41"
            ],
            [
             0.9,
             "#4d9221"
            ],
            [
             1,
             "#276419"
            ]
           ],
           "sequential": [
            [
             0,
             "#0d0887"
            ],
            [
             0.1111111111111111,
             "#46039f"
            ],
            [
             0.2222222222222222,
             "#7201a8"
            ],
            [
             0.3333333333333333,
             "#9c179e"
            ],
            [
             0.4444444444444444,
             "#bd3786"
            ],
            [
             0.5555555555555556,
             "#d8576b"
            ],
            [
             0.6666666666666666,
             "#ed7953"
            ],
            [
             0.7777777777777778,
             "#fb9f3a"
            ],
            [
             0.8888888888888888,
             "#fdca26"
            ],
            [
             1,
             "#f0f921"
            ]
           ],
           "sequentialminus": [
            [
             0,
             "#0d0887"
            ],
            [
             0.1111111111111111,
             "#46039f"
            ],
            [
             0.2222222222222222,
             "#7201a8"
            ],
            [
             0.3333333333333333,
             "#9c179e"
            ],
            [
             0.4444444444444444,
             "#bd3786"
            ],
            [
             0.5555555555555556,
             "#d8576b"
            ],
            [
             0.6666666666666666,
             "#ed7953"
            ],
            [
             0.7777777777777778,
             "#fb9f3a"
            ],
            [
             0.8888888888888888,
             "#fdca26"
            ],
            [
             1,
             "#f0f921"
            ]
           ]
          },
          "colorway": [
           "#636efa",
           "#EF553B",
           "#00cc96",
           "#ab63fa",
           "#FFA15A",
           "#19d3f3",
           "#FF6692",
           "#B6E880",
           "#FF97FF",
           "#FECB52"
          ],
          "font": {
           "color": "#2a3f5f"
          },
          "geo": {
           "bgcolor": "white",
           "lakecolor": "white",
           "landcolor": "#E5ECF6",
           "showlakes": true,
           "showland": true,
           "subunitcolor": "white"
          },
          "hoverlabel": {
           "align": "left"
          },
          "hovermode": "closest",
          "mapbox": {
           "style": "light"
          },
          "paper_bgcolor": "white",
          "plot_bgcolor": "#E5ECF6",
          "polar": {
           "angularaxis": {
            "gridcolor": "white",
            "linecolor": "white",
            "ticks": ""
           },
           "bgcolor": "#E5ECF6",
           "radialaxis": {
            "gridcolor": "white",
            "linecolor": "white",
            "ticks": ""
           }
          },
          "scene": {
           "xaxis": {
            "backgroundcolor": "#E5ECF6",
            "gridcolor": "white",
            "gridwidth": 2,
            "linecolor": "white",
            "showbackground": true,
            "ticks": "",
            "zerolinecolor": "white"
           },
           "yaxis": {
            "backgroundcolor": "#E5ECF6",
            "gridcolor": "white",
            "gridwidth": 2,
            "linecolor": "white",
            "showbackground": true,
            "ticks": "",
            "zerolinecolor": "white"
           },
           "zaxis": {
            "backgroundcolor": "#E5ECF6",
            "gridcolor": "white",
            "gridwidth": 2,
            "linecolor": "white",
            "showbackground": true,
            "ticks": "",
            "zerolinecolor": "white"
           }
          },
          "shapedefaults": {
           "line": {
            "color": "#2a3f5f"
           }
          },
          "ternary": {
           "aaxis": {
            "gridcolor": "white",
            "linecolor": "white",
            "ticks": ""
           },
           "baxis": {
            "gridcolor": "white",
            "linecolor": "white",
            "ticks": ""
           },
           "bgcolor": "#E5ECF6",
           "caxis": {
            "gridcolor": "white",
            "linecolor": "white",
            "ticks": ""
           }
          },
          "title": {
           "x": 0.05
          },
          "xaxis": {
           "automargin": true,
           "gridcolor": "white",
           "linecolor": "white",
           "ticks": "",
           "title": {
            "standoff": 15
           },
           "zerolinecolor": "white",
           "zerolinewidth": 2
          },
          "yaxis": {
           "automargin": true,
           "gridcolor": "white",
           "linecolor": "white",
           "ticks": "",
           "title": {
            "standoff": 15
           },
           "zerolinecolor": "white",
           "zerolinewidth": 2
          }
         }
        },
        "title": {
         "text": "Mean Time Until Failure by Machine Model"
        },
        "xaxis": {
         "gridcolor": "gray",
         "linecolor": "black",
         "range": [
          0,
          5
         ],
         "showgrid": true,
         "showline": true,
         "title": {
          "text": "Mean Time Until Failure (years)"
         }
        },
        "yaxis": {
         "autorange": "reversed",
         "showline": true,
         "title": {
          "text": "Machine Model"
         }
        }
       }
      }
     },
     "metadata": {},
     "output_type": "display_data"
    }
   ],
   "source": [
    "# Data setup\n",
    "models = ['V47-0.66', 'GE1.5-82.5', 'Z50', 'V117-4.3']  # Machine models\n",
    "durations = [0.8, 2.3, 2.4, 4.8]  # Corresponding durations\n",
    "\n",
    "# Create the figure\n",
    "fig = go.Figure()\n",
    "\n",
    "# Add the bar for each model\n",
    "for model, duration in zip(models, durations):\n",
    "    fig.add_trace(go.Bar(\n",
    "        x=[duration],  # Duration value\n",
    "        y=[model],  # Model name\n",
    "        orientation='h',  # Horizontal bars\n",
    "        name=model  # Legend entry\n",
    "    ))\n",
    "\n",
    "# Update layout to set x-axis and add customization\n",
    "fig.update_layout(\n",
    "    xaxis={\n",
    "        'range': [0, 5],  # Set range from 0 to 5\n",
    "        'title': \"Mean Time Until Failure (years)\",  # X-axis label\n",
    "        'showline': True,  # Show the line at the axis\n",
    "        'showgrid': True,  # Show gridlines\n",
    "        'gridcolor': 'gray',  # Gridline color\n",
    "        'linecolor': 'black'  # Line color at the axis\n",
    "    },\n",
    "    title=\"Mean Time Until Failure by Machine Model\",\n",
    "    yaxis_title=\"Machine Model\",\n",
    "    plot_bgcolor='white',\n",
    "    yaxis={\n",
    "        'showline': True,  # Show the line at the axis\n",
    "        'autorange': \"reversed\"  # Reverse the y-axis to get the first model at the top\n",
    "    }\n",
    ")\n",
    "\n",
    "# Show the plot\n",
    "fig.show()"
   ]
  },
  {
   "cell_type": "code",
   "execution_count": 14,
   "metadata": {},
   "outputs": [
    {
     "name": "stdout",
     "output_type": "stream",
     "text": [
      "{\n",
      "    \"x\": [\n",
      "        0.8,\n",
      "        2.3,\n",
      "        2.4,\n",
      "        4.8\n",
      "    ],\n",
      "    \"y\": [\n",
      "        \"V47-0.66\",\n",
      "        \"GE1.5-82.5\",\n",
      "        \"Z50\",\n",
      "        \"V117-4.3\"\n",
      "    ],\n",
      "    \"x_series\": [\n",
      "        \"x\"\n",
      "    ],\n",
      "    \"y_series\": [\n",
      "        \"y\"\n",
      "    ],\n",
      "    \"labels\": {\n",
      "        \"x\": \"Mean Time Until Failure (years)\",\n",
      "        \"y\": \"Turbine Model\"\n",
      "    }\n",
      "}\n"
     ]
    }
   ],
   "source": [
    "file_name = 'Slide03_MeanTimeToFailureByModel.json'\n",
    "\n",
    "# # Data setup\n",
    "# models = ['V47-0.66', 'GE1.5-82.5', 'Z50', 'V117-4.3']  # Machine models\n",
    "# durations = [0.8, 2.3, 2.4, 4.8]  # Corresponding durations\n",
    "\n",
    "# Prepare JSON data structure\n",
    "json_data = {\n",
    "    \"x\": durations,\n",
    "    \"y\": models,\n",
    "    \"x_series\": [\"x\"],\n",
    "    \"y_series\": [\"y\"],\n",
    "    \"labels\": {\n",
    "        \"x\": \"Mean Time Until Failure (years)\",\n",
    "        \"y\": \"Turbine Model\"\n",
    "    },\n",
    "}\n",
    "\n",
    "# Serialize JSON data to a string\n",
    "json_str = json.dumps(json_data, indent=4)\n",
    "print(json_str)\n",
    "\n",
    "\n",
    "# Optionally, write to a file\n",
    "with open(os.path.join(output_dir, file_name), 'w') as f:\n",
    "    json.dump(json_data, f, indent=4)"
   ]
  },
  {
   "cell_type": "markdown",
   "metadata": {},
   "source": [
    "## Slide 3 Top 3 Root Cause of Failure"
   ]
  },
  {
   "cell_type": "code",
   "execution_count": 15,
   "metadata": {},
   "outputs": [
    {
     "data": {
      "application/vnd.plotly.v1+json": {
       "config": {
        "plotlyServerURL": "https://plot.ly"
       },
       "data": [
        {
         "hoverinfo": "name+y",
         "marker": {
          "color": "#636EFA"
         },
         "name": "Misc.",
         "orientation": "v",
         "type": "bar",
         "x": [
          1
         ],
         "y": [
          0.02
         ]
        },
        {
         "hoverinfo": "name+y",
         "marker": {
          "color": "#EF553B"
         },
         "name": "Gearbox",
         "orientation": "v",
         "type": "bar",
         "x": [
          1
         ],
         "y": [
          0.18
         ]
        },
        {
         "hoverinfo": "name+y",
         "marker": {
          "color": "#00CC96"
         },
         "name": "Bearing",
         "orientation": "v",
         "type": "bar",
         "x": [
          1
         ],
         "y": [
          0.21
         ]
        },
        {
         "hoverinfo": "name+y",
         "marker": {
          "color": "#AB63FA"
         },
         "name": "Blade",
         "orientation": "v",
         "type": "bar",
         "x": [
          1
         ],
         "y": [
          0.59
         ]
        }
       ],
       "layout": {
        "barmode": "stack",
        "showlegend": true,
        "template": {
         "data": {
          "bar": [
           {
            "error_x": {
             "color": "#2a3f5f"
            },
            "error_y": {
             "color": "#2a3f5f"
            },
            "marker": {
             "line": {
              "color": "#E5ECF6",
              "width": 0.5
             },
             "pattern": {
              "fillmode": "overlay",
              "size": 10,
              "solidity": 0.2
             }
            },
            "type": "bar"
           }
          ],
          "barpolar": [
           {
            "marker": {
             "line": {
              "color": "#E5ECF6",
              "width": 0.5
             },
             "pattern": {
              "fillmode": "overlay",
              "size": 10,
              "solidity": 0.2
             }
            },
            "type": "barpolar"
           }
          ],
          "carpet": [
           {
            "aaxis": {
             "endlinecolor": "#2a3f5f",
             "gridcolor": "white",
             "linecolor": "white",
             "minorgridcolor": "white",
             "startlinecolor": "#2a3f5f"
            },
            "baxis": {
             "endlinecolor": "#2a3f5f",
             "gridcolor": "white",
             "linecolor": "white",
             "minorgridcolor": "white",
             "startlinecolor": "#2a3f5f"
            },
            "type": "carpet"
           }
          ],
          "choropleth": [
           {
            "colorbar": {
             "outlinewidth": 0,
             "ticks": ""
            },
            "type": "choropleth"
           }
          ],
          "contour": [
           {
            "colorbar": {
             "outlinewidth": 0,
             "ticks": ""
            },
            "colorscale": [
             [
              0,
              "#0d0887"
             ],
             [
              0.1111111111111111,
              "#46039f"
             ],
             [
              0.2222222222222222,
              "#7201a8"
             ],
             [
              0.3333333333333333,
              "#9c179e"
             ],
             [
              0.4444444444444444,
              "#bd3786"
             ],
             [
              0.5555555555555556,
              "#d8576b"
             ],
             [
              0.6666666666666666,
              "#ed7953"
             ],
             [
              0.7777777777777778,
              "#fb9f3a"
             ],
             [
              0.8888888888888888,
              "#fdca26"
             ],
             [
              1,
              "#f0f921"
             ]
            ],
            "type": "contour"
           }
          ],
          "contourcarpet": [
           {
            "colorbar": {
             "outlinewidth": 0,
             "ticks": ""
            },
            "type": "contourcarpet"
           }
          ],
          "heatmap": [
           {
            "colorbar": {
             "outlinewidth": 0,
             "ticks": ""
            },
            "colorscale": [
             [
              0,
              "#0d0887"
             ],
             [
              0.1111111111111111,
              "#46039f"
             ],
             [
              0.2222222222222222,
              "#7201a8"
             ],
             [
              0.3333333333333333,
              "#9c179e"
             ],
             [
              0.4444444444444444,
              "#bd3786"
             ],
             [
              0.5555555555555556,
              "#d8576b"
             ],
             [
              0.6666666666666666,
              "#ed7953"
             ],
             [
              0.7777777777777778,
              "#fb9f3a"
             ],
             [
              0.8888888888888888,
              "#fdca26"
             ],
             [
              1,
              "#f0f921"
             ]
            ],
            "type": "heatmap"
           }
          ],
          "heatmapgl": [
           {
            "colorbar": {
             "outlinewidth": 0,
             "ticks": ""
            },
            "colorscale": [
             [
              0,
              "#0d0887"
             ],
             [
              0.1111111111111111,
              "#46039f"
             ],
             [
              0.2222222222222222,
              "#7201a8"
             ],
             [
              0.3333333333333333,
              "#9c179e"
             ],
             [
              0.4444444444444444,
              "#bd3786"
             ],
             [
              0.5555555555555556,
              "#d8576b"
             ],
             [
              0.6666666666666666,
              "#ed7953"
             ],
             [
              0.7777777777777778,
              "#fb9f3a"
             ],
             [
              0.8888888888888888,
              "#fdca26"
             ],
             [
              1,
              "#f0f921"
             ]
            ],
            "type": "heatmapgl"
           }
          ],
          "histogram": [
           {
            "marker": {
             "pattern": {
              "fillmode": "overlay",
              "size": 10,
              "solidity": 0.2
             }
            },
            "type": "histogram"
           }
          ],
          "histogram2d": [
           {
            "colorbar": {
             "outlinewidth": 0,
             "ticks": ""
            },
            "colorscale": [
             [
              0,
              "#0d0887"
             ],
             [
              0.1111111111111111,
              "#46039f"
             ],
             [
              0.2222222222222222,
              "#7201a8"
             ],
             [
              0.3333333333333333,
              "#9c179e"
             ],
             [
              0.4444444444444444,
              "#bd3786"
             ],
             [
              0.5555555555555556,
              "#d8576b"
             ],
             [
              0.6666666666666666,
              "#ed7953"
             ],
             [
              0.7777777777777778,
              "#fb9f3a"
             ],
             [
              0.8888888888888888,
              "#fdca26"
             ],
             [
              1,
              "#f0f921"
             ]
            ],
            "type": "histogram2d"
           }
          ],
          "histogram2dcontour": [
           {
            "colorbar": {
             "outlinewidth": 0,
             "ticks": ""
            },
            "colorscale": [
             [
              0,
              "#0d0887"
             ],
             [
              0.1111111111111111,
              "#46039f"
             ],
             [
              0.2222222222222222,
              "#7201a8"
             ],
             [
              0.3333333333333333,
              "#9c179e"
             ],
             [
              0.4444444444444444,
              "#bd3786"
             ],
             [
              0.5555555555555556,
              "#d8576b"
             ],
             [
              0.6666666666666666,
              "#ed7953"
             ],
             [
              0.7777777777777778,
              "#fb9f3a"
             ],
             [
              0.8888888888888888,
              "#fdca26"
             ],
             [
              1,
              "#f0f921"
             ]
            ],
            "type": "histogram2dcontour"
           }
          ],
          "mesh3d": [
           {
            "colorbar": {
             "outlinewidth": 0,
             "ticks": ""
            },
            "type": "mesh3d"
           }
          ],
          "parcoords": [
           {
            "line": {
             "colorbar": {
              "outlinewidth": 0,
              "ticks": ""
             }
            },
            "type": "parcoords"
           }
          ],
          "pie": [
           {
            "automargin": true,
            "type": "pie"
           }
          ],
          "scatter": [
           {
            "fillpattern": {
             "fillmode": "overlay",
             "size": 10,
             "solidity": 0.2
            },
            "type": "scatter"
           }
          ],
          "scatter3d": [
           {
            "line": {
             "colorbar": {
              "outlinewidth": 0,
              "ticks": ""
             }
            },
            "marker": {
             "colorbar": {
              "outlinewidth": 0,
              "ticks": ""
             }
            },
            "type": "scatter3d"
           }
          ],
          "scattercarpet": [
           {
            "marker": {
             "colorbar": {
              "outlinewidth": 0,
              "ticks": ""
             }
            },
            "type": "scattercarpet"
           }
          ],
          "scattergeo": [
           {
            "marker": {
             "colorbar": {
              "outlinewidth": 0,
              "ticks": ""
             }
            },
            "type": "scattergeo"
           }
          ],
          "scattergl": [
           {
            "marker": {
             "colorbar": {
              "outlinewidth": 0,
              "ticks": ""
             }
            },
            "type": "scattergl"
           }
          ],
          "scattermapbox": [
           {
            "marker": {
             "colorbar": {
              "outlinewidth": 0,
              "ticks": ""
             }
            },
            "type": "scattermapbox"
           }
          ],
          "scatterpolar": [
           {
            "marker": {
             "colorbar": {
              "outlinewidth": 0,
              "ticks": ""
             }
            },
            "type": "scatterpolar"
           }
          ],
          "scatterpolargl": [
           {
            "marker": {
             "colorbar": {
              "outlinewidth": 0,
              "ticks": ""
             }
            },
            "type": "scatterpolargl"
           }
          ],
          "scatterternary": [
           {
            "marker": {
             "colorbar": {
              "outlinewidth": 0,
              "ticks": ""
             }
            },
            "type": "scatterternary"
           }
          ],
          "surface": [
           {
            "colorbar": {
             "outlinewidth": 0,
             "ticks": ""
            },
            "colorscale": [
             [
              0,
              "#0d0887"
             ],
             [
              0.1111111111111111,
              "#46039f"
             ],
             [
              0.2222222222222222,
              "#7201a8"
             ],
             [
              0.3333333333333333,
              "#9c179e"
             ],
             [
              0.4444444444444444,
              "#bd3786"
             ],
             [
              0.5555555555555556,
              "#d8576b"
             ],
             [
              0.6666666666666666,
              "#ed7953"
             ],
             [
              0.7777777777777778,
              "#fb9f3a"
             ],
             [
              0.8888888888888888,
              "#fdca26"
             ],
             [
              1,
              "#f0f921"
             ]
            ],
            "type": "surface"
           }
          ],
          "table": [
           {
            "cells": {
             "fill": {
              "color": "#EBF0F8"
             },
             "line": {
              "color": "white"
             }
            },
            "header": {
             "fill": {
              "color": "#C8D4E3"
             },
             "line": {
              "color": "white"
             }
            },
            "type": "table"
           }
          ]
         },
         "layout": {
          "annotationdefaults": {
           "arrowcolor": "#2a3f5f",
           "arrowhead": 0,
           "arrowwidth": 1
          },
          "autotypenumbers": "strict",
          "coloraxis": {
           "colorbar": {
            "outlinewidth": 0,
            "ticks": ""
           }
          },
          "colorscale": {
           "diverging": [
            [
             0,
             "#8e0152"
            ],
            [
             0.1,
             "#c51b7d"
            ],
            [
             0.2,
             "#de77ae"
            ],
            [
             0.3,
             "#f1b6da"
            ],
            [
             0.4,
             "#fde0ef"
            ],
            [
             0.5,
             "#f7f7f7"
            ],
            [
             0.6,
             "#e6f5d0"
            ],
            [
             0.7,
             "#b8e186"
            ],
            [
             0.8,
             "#7fbc41"
            ],
            [
             0.9,
             "#4d9221"
            ],
            [
             1,
             "#276419"
            ]
           ],
           "sequential": [
            [
             0,
             "#0d0887"
            ],
            [
             0.1111111111111111,
             "#46039f"
            ],
            [
             0.2222222222222222,
             "#7201a8"
            ],
            [
             0.3333333333333333,
             "#9c179e"
            ],
            [
             0.4444444444444444,
             "#bd3786"
            ],
            [
             0.5555555555555556,
             "#d8576b"
            ],
            [
             0.6666666666666666,
             "#ed7953"
            ],
            [
             0.7777777777777778,
             "#fb9f3a"
            ],
            [
             0.8888888888888888,
             "#fdca26"
            ],
            [
             1,
             "#f0f921"
            ]
           ],
           "sequentialminus": [
            [
             0,
             "#0d0887"
            ],
            [
             0.1111111111111111,
             "#46039f"
            ],
            [
             0.2222222222222222,
             "#7201a8"
            ],
            [
             0.3333333333333333,
             "#9c179e"
            ],
            [
             0.4444444444444444,
             "#bd3786"
            ],
            [
             0.5555555555555556,
             "#d8576b"
            ],
            [
             0.6666666666666666,
             "#ed7953"
            ],
            [
             0.7777777777777778,
             "#fb9f3a"
            ],
            [
             0.8888888888888888,
             "#fdca26"
            ],
            [
             1,
             "#f0f921"
            ]
           ]
          },
          "colorway": [
           "#636efa",
           "#EF553B",
           "#00cc96",
           "#ab63fa",
           "#FFA15A",
           "#19d3f3",
           "#FF6692",
           "#B6E880",
           "#FF97FF",
           "#FECB52"
          ],
          "font": {
           "color": "#2a3f5f"
          },
          "geo": {
           "bgcolor": "white",
           "lakecolor": "white",
           "landcolor": "#E5ECF6",
           "showlakes": true,
           "showland": true,
           "subunitcolor": "white"
          },
          "hoverlabel": {
           "align": "left"
          },
          "hovermode": "closest",
          "mapbox": {
           "style": "light"
          },
          "paper_bgcolor": "white",
          "plot_bgcolor": "#E5ECF6",
          "polar": {
           "angularaxis": {
            "gridcolor": "white",
            "linecolor": "white",
            "ticks": ""
           },
           "bgcolor": "#E5ECF6",
           "radialaxis": {
            "gridcolor": "white",
            "linecolor": "white",
            "ticks": ""
           }
          },
          "scene": {
           "xaxis": {
            "backgroundcolor": "#E5ECF6",
            "gridcolor": "white",
            "gridwidth": 2,
            "linecolor": "white",
            "showbackground": true,
            "ticks": "",
            "zerolinecolor": "white"
           },
           "yaxis": {
            "backgroundcolor": "#E5ECF6",
            "gridcolor": "white",
            "gridwidth": 2,
            "linecolor": "white",
            "showbackground": true,
            "ticks": "",
            "zerolinecolor": "white"
           },
           "zaxis": {
            "backgroundcolor": "#E5ECF6",
            "gridcolor": "white",
            "gridwidth": 2,
            "linecolor": "white",
            "showbackground": true,
            "ticks": "",
            "zerolinecolor": "white"
           }
          },
          "shapedefaults": {
           "line": {
            "color": "#2a3f5f"
           }
          },
          "ternary": {
           "aaxis": {
            "gridcolor": "white",
            "linecolor": "white",
            "ticks": ""
           },
           "baxis": {
            "gridcolor": "white",
            "linecolor": "white",
            "ticks": ""
           },
           "bgcolor": "#E5ECF6",
           "caxis": {
            "gridcolor": "white",
            "linecolor": "white",
            "ticks": ""
           }
          },
          "title": {
           "x": 0.05
          },
          "xaxis": {
           "automargin": true,
           "gridcolor": "white",
           "linecolor": "white",
           "ticks": "",
           "title": {
            "standoff": 15
           },
           "zerolinecolor": "white",
           "zerolinewidth": 2
          },
          "yaxis": {
           "automargin": true,
           "gridcolor": "white",
           "linecolor": "white",
           "ticks": "",
           "title": {
            "standoff": 15
           },
           "zerolinecolor": "white",
           "zerolinewidth": 2
          }
         }
        },
        "title": {
         "text": "Top 3 Root Causes of Failure"
        },
        "xaxis": {
         "showticklabels": false,
         "ticktext": [
          "Total Failures"
         ],
         "tickvals": [
          1
         ],
         "title": {
          "text": ""
         }
        },
        "yaxis": {
         "tickformat": ".1%",
         "title": {
          "text": "Percentage"
         }
        }
       }
      }
     },
     "metadata": {},
     "output_type": "display_data"
    }
   ],
   "source": [
    "# Data setup\n",
    "categories = [\"Blade\", \"Bearing\", \"Gearbox\", \"Misc.\"]\n",
    "values = [0.59, 0.21, 0.18, 0.02]\n",
    "\n",
    "# Pair categories with their values and sort by values in descending order\n",
    "paired_data = sorted(zip(categories, values), key=lambda x: x[1], reverse=False)\n",
    "\n",
    "# Unzip the paired data back into categories and values for plotting\n",
    "sorted_categories, sorted_values = zip(*paired_data)\n",
    "\n",
    "# Prepare DataFrame\n",
    "df = pd.DataFrame({\n",
    "    'Category': sorted_categories,\n",
    "    'Value': sorted_values,\n",
    "    'Dummy': np.zeros(len(sorted_values))  # Dummy column for consistent x-axis positioning\n",
    "})\n",
    "\n",
    "# Define colors for each category manually\n",
    "colors = ['#636EFA', '#EF553B', '#00CC96', '#AB63FA']  # Example colors\n",
    "\n",
    "# Create the figure\n",
    "fig = go.Figure()\n",
    "\n",
    "\n",
    "# Add a single vertical bar with segments for each category\n",
    "for i, (category, value) in enumerate(zip(df['Category'], df['Value'])):\n",
    "    fig.add_trace(go.Bar(\n",
    "        x=[1],  # Single dummy value for all segments\n",
    "        y=[value],\n",
    "        name=category,\n",
    "        orientation='v',\n",
    "        hoverinfo='name+y',\n",
    "        marker=dict(color=colors[i])  # Use manually defined colors\n",
    "    ))\n",
    "\n",
    "# Update layout for the plot\n",
    "fig.update_layout(\n",
    "    barmode='stack',  # Stack the bars vertically\n",
    "    title=\"Top 3 Root Causes of Failure\",\n",
    "    xaxis=dict(\n",
    "        title=\"\",  # No need for x-axis title\n",
    "        tickvals=[1],  # Single tick\n",
    "        ticktext=[\"Total Failures\"],  # Label for the single tick\n",
    "        showticklabels=False  # Hide the tick label for clean visual\n",
    "    ),\n",
    "    yaxis=dict(\n",
    "        title=\"Percentage\",\n",
    "        tickformat=\".1%\",  # Format y-axis ticks as percentages\n",
    "    ),\n",
    "    showlegend=True,  # Show legend to identify categories\n",
    ")\n",
    "\n",
    "# Show the plot\n",
    "fig.show()"
   ]
  },
  {
   "cell_type": "code",
   "execution_count": 16,
   "metadata": {},
   "outputs": [
    {
     "name": "stdout",
     "output_type": "stream",
     "text": [
      "{\n",
      "    \"x\": [\n",
      "        1\n",
      "    ],\n",
      "    \"y\": [\n",
      "        0.02,\n",
      "        0.18,\n",
      "        0.21,\n",
      "        0.59\n",
      "    ],\n",
      "    \"x_series\": [\n",
      "        \"x\"\n",
      "    ],\n",
      "    \"y_series\": [\n",
      "        \"y\"\n",
      "    ],\n",
      "    \"labels\": {\n",
      "        \"x\": \"\",\n",
      "        \"y\": \"Percentage\"\n",
      "    },\n",
      "    \"categories\": [\n",
      "        \"Misc.\",\n",
      "        \"Gearbox\",\n",
      "        \"Bearing\",\n",
      "        \"Blade\"\n",
      "    ],\n",
      "    \"colors\": [\n",
      "        \"#636EFA\",\n",
      "        \"#EF553B\",\n",
      "        \"#00CC96\",\n",
      "        \"#AB63FA\"\n",
      "    ],\n",
      "    \"barmode\": \"stack\",\n",
      "    \"title\": \"Top 3 Root Causes of Failure\",\n",
      "    \"yaxis_tickformat\": \".1%\",\n",
      "    \"showlegend\": true\n",
      "}\n"
     ]
    }
   ],
   "source": [
    "file_name = 'Slide03_Top3Failures.json'\n",
    "\n",
    "# # Data setup and sorting as previously defined\n",
    "# categories = [\"Blade\", \"Bearing\", \"Gearbox\", \"Misc.\"]\n",
    "# values = [0.59, 0.21, 0.18, 0.07]\n",
    "# paired_data = sorted(zip(categories, values), key=lambda x: x[1], reverse=True)\n",
    "# sorted_categories, sorted_values = zip(*paired_data)\n",
    "\n",
    "# Define colors for each category manually\n",
    "colors = ['#636EFA', '#EF553B', '#00CC96', '#AB63FA']  # Example colors\n",
    "\n",
    "# Prepare JSON data structure\n",
    "json_data = {\n",
    "    \"x\": [1],  # Single dummy value for x-axis for all segments\n",
    "    \"y\": list(sorted_values),\n",
    "    \"x_series\": [\"x\"],\n",
    "    \"y_series\": [\"y\"],\n",
    "    \"labels\": {\n",
    "        \"x\": \"\",  # No need for x-axis title\n",
    "        \"y\": \"Percentage\"\n",
    "    },\n",
    "    \"categories\": list(sorted_categories),\n",
    "    \"colors\": colors,\n",
    "    \"barmode\": \"stack\",\n",
    "    \"title\": \"Top 3 Root Causes of Failure\",\n",
    "    \"yaxis_tickformat\": \".1%\",\n",
    "    \"showlegend\": True\n",
    "}\n",
    "\n",
    "# Serialize JSON data to a string\n",
    "json_str = json.dumps(json_data, indent=4)\n",
    "print(json_str)\n",
    "\n",
    "# Optionally, write to a file\n",
    "with open(os.path.join(output_dir, file_name), 'w') as f:\n",
    "    json.dump(json_data, f, indent=4)"
   ]
  },
  {
   "cell_type": "markdown",
   "metadata": {},
   "source": [
    "## Slides 6 & 8 Predicted Bearing Fault"
   ]
  },
  {
   "cell_type": "code",
   "execution_count": 17,
   "metadata": {},
   "outputs": [],
   "source": [
    "file_path = '../Data/Slide6-8.pkl'\n",
    "\n",
    "with open(file_path,'rb') as f:\n",
    "    df_cumsum = pkl.load(f)"
   ]
  },
  {
   "cell_type": "code",
   "execution_count": 18,
   "metadata": {},
   "outputs": [],
   "source": [
    "# Find the maximum value for setting up y-axis ticks\n",
    "max_value = df_cumsum.max().max()\n",
    "next_hundred = (max_value // 100 + 1) * 100\n",
    "threshold = 100#next_hundred / 2"
   ]
  },
  {
   "cell_type": "code",
   "execution_count": 19,
   "metadata": {},
   "outputs": [
    {
     "data": {
      "application/vnd.plotly.v1+json": {
       "config": {
        "plotlyServerURL": "https://plot.ly"
       },
       "data": [
        {
         "mode": "lines",
         "name": "Bearing1",
         "type": "scatter",
         "x": [
          "2019-04-17T00:00:00",
          "2019-04-21T10:11:55.347868",
          "2019-04-25T20:23:50.695737",
          "2019-04-30T06:35:46.043606",
          "2019-05-04T16:47:41.391475",
          "2019-05-09T02:59:36.739344",
          "2019-05-13T13:11:32.087212",
          "2019-05-17T23:23:27.435081",
          "2019-05-22T09:35:22.782950",
          "2019-05-26T19:47:18.130819",
          "2019-05-31T05:59:13.478688",
          "2019-06-04T16:11:08.826557",
          "2019-06-09T02:23:04.174425",
          "2019-06-13T12:34:59.522294",
          "2019-06-17T22:46:54.870163",
          "2019-06-22T08:58:50.218032",
          "2019-06-26T19:10:45.565901",
          "2019-07-01T05:22:40.913770",
          "2019-07-05T15:34:36.261638",
          "2019-07-10T01:46:31.609507",
          "2019-07-14T11:58:26.957376",
          "2019-07-18T22:10:22.305245",
          "2019-07-23T08:22:17.653114",
          "2019-07-27T18:34:13.000982",
          "2019-08-01T04:46:08.348851",
          "2019-08-05T14:58:03.696720",
          "2019-08-10T01:09:59.044589",
          "2019-08-14T11:21:54.392458",
          "2019-08-18T21:33:49.740327",
          "2019-08-23T07:45:45.088195",
          "2019-08-27T17:57:40.436064",
          "2019-09-01T04:09:35.783933",
          "2019-09-05T14:21:31.131802",
          "2019-09-10T00:33:26.479671",
          "2019-09-14T10:45:21.827540",
          "2019-09-18T20:57:17.175408",
          "2019-09-23T07:09:12.523277",
          "2019-09-27T17:21:07.871146",
          "2019-10-02T03:33:03.219015",
          "2019-10-06T13:44:58.566884",
          "2019-10-10T23:56:53.914753",
          "2019-10-15T10:08:49.262621",
          "2019-10-19T20:20:44.610490",
          "2019-10-24T06:32:39.958359",
          "2019-10-28T16:44:35.306228",
          "2019-11-02T02:56:30.654097",
          "2019-11-06T13:08:26.001965",
          "2019-11-10T23:20:21.349834",
          "2019-11-15T09:32:16.697703",
          "2019-11-19T19:44:12.045572",
          "2019-11-24T05:56:07.393441",
          "2019-11-28T16:08:02.741310",
          "2019-12-03T02:19:58.089178",
          "2019-12-07T12:31:53.437047",
          "2019-12-11T22:43:48.784916",
          "2019-12-16T08:55:44.132785",
          "2019-12-20T19:07:39.480654",
          "2019-12-25T05:19:34.828523",
          "2019-12-29T15:31:30.176391",
          "2020-01-03T01:43:25.524260",
          "2020-01-07T11:55:20.872129",
          "2020-01-11T22:07:16.219998",
          "2020-01-16T08:19:11.567867",
          "2020-01-20T18:31:06.915735",
          "2020-01-25T04:43:02.263604",
          "2020-01-29T14:54:57.611473",
          "2020-02-03T01:06:52.959342",
          "2020-02-07T11:18:48.307211",
          "2020-02-11T21:30:43.655080",
          "2020-02-16T07:42:39.002948",
          "2020-02-20T17:54:34.350817",
          "2020-02-25T04:06:29.698686",
          "2020-02-29T14:18:25.046555",
          "2020-03-05T00:30:20.394424",
          "2020-03-09T10:42:15.742293",
          "2020-03-13T20:54:11.090161",
          "2020-03-18T07:06:06.438030",
          "2020-03-22T17:18:01.785899",
          "2020-03-27T03:29:57.133768",
          "2020-03-31T13:41:52.481637",
          "2020-04-04T23:53:47.829506",
          "2020-04-09T10:05:43.177374",
          "2020-04-13T20:17:38.525243",
          "2020-04-18T06:29:33.873112",
          "2020-04-22T16:41:29.220981",
          "2020-04-27T02:53:24.568850",
          "2020-05-01T13:05:19.916718",
          "2020-05-05T23:17:15.264587",
          "2020-05-10T09:29:10.612456",
          "2020-05-14T19:41:05.960325",
          "2020-05-19T05:53:01.308194",
          "2020-05-23T16:04:56.656063",
          "2020-05-28T02:16:52.003931",
          "2020-06-01T12:28:47.351800",
          "2020-06-05T22:40:42.699669",
          "2020-06-10T08:52:38.047538",
          "2020-06-14T19:04:33.395407",
          "2020-06-19T05:16:28.743276",
          "2020-06-23T15:28:24.091144",
          "2020-06-28T01:40:19.439013",
          "2020-07-02T11:52:14.786882",
          "2020-07-06T22:04:10.134751",
          "2020-07-11T08:16:05.482620",
          "2020-07-15T18:28:00.830489",
          "2020-07-20T04:39:56.178357",
          "2020-07-24T14:51:51.526226",
          "2020-07-29T01:03:46.874095",
          "2020-08-02T11:15:42.221964",
          "2020-08-06T21:27:37.569833",
          "2020-08-11T07:39:32.917701",
          "2020-08-15T17:51:28.265570",
          "2020-08-20T04:03:23.613439",
          "2020-08-24T14:15:18.961308",
          "2020-08-29T00:27:14.309177",
          "2020-09-02T10:39:09.657046",
          "2020-09-06T20:51:05.004914",
          "2020-09-11T07:03:00.352783",
          "2020-09-15T17:14:55.700652",
          "2020-09-20T03:26:51.048521",
          "2020-09-24T13:38:46.396390",
          "2020-09-28T23:50:41.744259",
          "2020-10-03T10:02:37.092127",
          "2020-10-07T20:14:32.439996",
          "2020-10-12T06:26:27.787865",
          "2020-10-16T16:38:23.135734",
          "2020-10-21T02:50:18.483603",
          "2020-10-25T13:02:13.831471",
          "2020-10-29T23:14:09.179340",
          "2020-11-03T09:26:04.527209",
          "2020-11-07T19:37:59.875078",
          "2020-11-12T05:49:55.222947",
          "2020-11-16T16:01:50.570816",
          "2020-11-21T02:13:45.918684",
          "2020-11-25T12:25:41.266553",
          "2020-11-29T22:37:36.614422",
          "2020-12-04T08:49:31.962291",
          "2020-12-08T19:01:27.310160",
          "2020-12-13T05:13:22.658029",
          "2020-12-17T15:25:18.005897",
          "2020-12-22T01:37:13.353766",
          "2020-12-26T11:49:08.701635",
          "2020-12-30T22:01:04.049504",
          "2021-01-04T08:12:59.397373",
          "2021-01-08T18:24:54.745242",
          "2021-01-13T04:36:50.093110",
          "2021-01-17T14:48:45.440979",
          "2021-01-22T01:00:40.788848",
          "2021-01-26T11:12:36.136717",
          "2021-01-30T21:24:31.484586",
          "2021-02-04T07:36:26.832454",
          "2021-02-08T17:48:22.180323",
          "2021-02-13T04:00:17.528192",
          "2021-02-17T14:12:12.876061",
          "2021-02-22T00:24:08.223930",
          "2021-02-26T10:36:03.571799",
          "2021-03-02T20:47:58.919667",
          "2021-03-07T06:59:54.267536",
          "2021-03-11T17:11:49.615405",
          "2021-03-16T03:23:44.963274",
          "2021-03-20T13:35:40.311143",
          "2021-03-24T23:47:35.659012",
          "2021-03-29T09:59:31.006880",
          "2021-04-02T20:11:26.354749",
          "2021-04-07T06:23:21.702618",
          "2021-04-11T16:35:17.050487",
          "2021-04-16T02:47:12.398356",
          "2021-04-20T12:59:07.746225",
          "2021-04-24T23:11:03.094093",
          "2021-04-29T09:22:58.441962",
          "2021-05-03T19:34:53.789831",
          "2021-05-08T05:46:49.137700",
          "2021-05-12T15:58:44.485569",
          "2021-05-17T02:10:39.833437",
          "2021-05-21T12:22:35.181306",
          "2021-05-25T22:34:30.529175",
          "2021-05-30T08:46:25.877044",
          "2021-06-03T18:58:21.224913",
          "2021-06-08T05:10:16.572782",
          "2021-06-12T15:22:11.920650",
          "2021-06-17T01:34:07.268519",
          "2021-06-21T11:46:02.616388",
          "2021-06-25T21:57:57.964257",
          "2021-06-30T08:09:53.312126",
          "2021-07-04T18:21:48.659995",
          "2021-07-09T04:33:44.007863",
          "2021-07-13T14:45:39.355732",
          "2021-07-18T00:57:34.703601",
          "2021-07-22T11:09:30.051470",
          "2021-07-26T21:21:25.399339",
          "2021-07-31T07:33:20.747207",
          "2021-08-04T17:45:16.095076",
          "2021-08-09T03:57:11.442945",
          "2021-08-13T14:09:06.790814",
          "2021-08-18T00:21:02.138683",
          "2021-08-22T10:32:57.486552",
          "2021-08-26T20:44:52.834420",
          "2021-08-31T06:56:48.182289",
          "2021-09-04T17:08:43.530158",
          "2021-09-09T03:20:38.878027",
          "2021-09-13T13:32:34.225896",
          "2021-09-17T23:44:29.573765",
          "2021-09-22T09:56:24.921633",
          "2021-09-26T20:08:20.269502",
          "2021-10-01T06:20:15.617371",
          "2021-10-05T16:32:10.965240",
          "2021-10-10T02:44:06.313109",
          "2021-10-14T12:56:01.660978",
          "2021-10-18T23:07:57.008846",
          "2021-10-23T09:19:52.356715",
          "2021-10-27T19:31:47.704584",
          "2021-11-01T05:43:43.052453",
          "2021-11-05T15:55:38.400322",
          "2021-11-10T02:07:33.748190",
          "2021-11-14T12:19:29.096059",
          "2021-11-18T22:31:24.443928",
          "2021-11-23T08:43:19.791797",
          "2021-11-27T18:55:15.139666",
          "2021-12-02T05:07:10.487535",
          "2021-12-06T15:19:05.835403",
          "2021-12-11T01:31:01.183272",
          "2021-12-15T11:42:56.531141",
          "2021-12-19T21:54:51.879010",
          "2021-12-24T08:06:47.226879",
          "2021-12-28T18:18:42.574748",
          "2022-01-02T04:30:37.922616",
          "2022-01-06T14:42:33.270485",
          "2022-01-11T00:54:28.618354",
          "2022-01-15T11:06:23.966223",
          "2022-01-19T21:18:19.314092",
          "2022-01-24T07:30:14.661961",
          "2022-01-28T17:42:10.009829",
          "2022-02-02T03:54:05.357698",
          "2022-02-06T14:06:00.705567",
          "2022-02-11T00:17:56.053436",
          "2022-02-15T10:29:51.401305",
          "2022-02-19T20:41:46.749173",
          "2022-02-24T06:53:42.097042",
          "2022-02-28T17:05:37.444911",
          "2022-03-05T03:17:32.792780",
          "2022-03-09T13:29:28.140649",
          "2022-03-13T23:41:23.488518",
          "2022-03-18T09:53:18.836386",
          "2022-03-22T20:05:14.184255",
          "2022-03-27T06:17:09.532124",
          "2022-03-31T16:29:04.879993",
          "2022-04-05T02:41:00.227862",
          "2022-04-09T12:52:55.575731",
          "2022-04-13T23:04:50.923599",
          "2022-04-18T09:16:46.271468",
          "2022-04-22T19:28:41.619337",
          "2022-04-27T05:40:36.967206",
          "2022-05-01T15:52:32.315075",
          "2022-05-06T02:04:27.662943",
          "2022-05-10T12:16:23.010812",
          "2022-05-14T22:28:18.358681",
          "2022-05-19T08:40:13.706550",
          "2022-05-23T18:52:09.054419",
          "2022-05-28T05:04:04.402288",
          "2022-06-01T15:15:59.750156",
          "2022-06-06T01:27:55.098025",
          "2022-06-10T11:39:50.445894",
          "2022-06-14T21:51:45.793763",
          "2022-06-19T08:03:41.141632",
          "2022-06-23T18:15:36.489501",
          "2022-06-28T04:27:31.837369",
          "2022-07-02T14:39:27.185238",
          "2022-07-07T00:51:22.533107",
          "2022-07-11T11:03:17.880976",
          "2022-07-15T21:15:13.228845",
          "2022-07-20T07:27:08.576714",
          "2022-07-24T17:39:03.924582",
          "2022-07-29T03:50:59.272451",
          "2022-08-02T14:02:54.620320",
          "2022-08-07T00:14:49.968189",
          "2022-08-11T10:26:45.316058",
          "2022-08-15T20:38:40.663926",
          "2022-08-20T06:50:36.011795",
          "2022-08-24T17:02:31.359664",
          "2022-08-29T03:14:26.707533",
          "2022-09-02T13:26:22.055402",
          "2022-09-06T23:38:17.403271",
          "2022-09-11T09:50:12.751139",
          "2022-09-15T20:02:08.099008",
          "2022-09-20T06:14:03.446877",
          "2022-09-24T16:25:58.794746",
          "2022-09-29T02:37:54.142615",
          "2022-10-03T12:49:49.490484",
          "2022-10-07T23:01:44.838352",
          "2022-10-12T09:13:40.186221",
          "2022-10-16T19:25:35.534090",
          "2022-10-21T05:37:30.881959",
          "2022-10-25T15:49:26.229828",
          "2022-10-30T02:01:21.577696",
          "2022-11-03T12:13:16.925565",
          "2022-11-07T22:25:12.273434",
          "2022-11-12T08:37:07.621303",
          "2022-11-16T18:49:02.969172",
          "2022-11-21T05:00:58.317041",
          "2022-11-25T15:12:53.664909",
          "2022-11-30T01:24:49.012778",
          "2022-12-04T11:36:44.360647",
          "2022-12-08T21:48:39.708516",
          "2022-12-13T08:00:35.056385",
          "2022-12-17T18:12:30.404254",
          "2022-12-22T04:24:25.752122",
          "2022-12-26T14:36:21.099991",
          "2022-12-31T00:48:16.447860",
          "2023-01-04T11:00:11.795729",
          "2023-01-08T21:12:07.143598",
          "2023-01-13T07:24:02.491467",
          "2023-01-17T17:35:57.839335",
          "2023-01-22T03:47:53.187204",
          "2023-01-26T13:59:48.535073",
          "2023-01-31T00:11:43.882942",
          "2023-02-04T10:23:39.230811",
          "2023-02-08T20:35:34.578679",
          "2023-02-13T06:47:29.926548",
          "2023-02-17T16:59:25.274417",
          "2023-02-22T03:11:20.622286",
          "2023-02-26T13:23:15.970155",
          "2023-03-02T23:35:11.318024",
          "2023-03-07T09:47:06.665892",
          "2023-03-11T19:59:02.013761",
          "2023-03-16T06:10:57.361630",
          "2023-03-20T16:22:52.709499",
          "2023-03-25T02:34:48.057368",
          "2023-03-29T12:46:43.405237",
          "2023-04-02T22:58:38.753105",
          "2023-04-07T09:10:34.100974",
          "2023-04-11T19:22:29.448843",
          "2023-04-16T05:34:24.796712",
          "2023-04-20T15:46:20.144581",
          "2023-04-25T01:58:15.492450",
          "2023-04-29T12:10:10.840318",
          "2023-05-03T22:22:06.188187",
          "2023-05-08T08:34:01.536056",
          "2023-05-12T18:45:56.883925",
          "2023-05-17T04:57:52.231794",
          "2023-05-21T15:09:47.579662",
          "2023-05-26T01:21:42.927531",
          "2023-05-30T11:33:38.275400",
          "2023-06-03T21:45:33.623269",
          "2023-06-08T07:57:28.971138",
          "2023-06-12T18:09:24.319007",
          "2023-06-17T04:21:19.666875",
          "2023-06-21T14:33:15.014744",
          "2023-06-26T00:45:10.362613",
          "2023-06-30T10:57:05.710482",
          "2023-07-04T21:09:01.058351",
          "2023-07-09T07:20:56.406220",
          "2023-07-13T17:32:51.754088",
          "2023-07-18T03:44:47.101957",
          "2023-07-22T13:56:42.449826",
          "2023-07-27T00:08:37.797695",
          "2023-07-31T10:20:33.145564",
          "2023-08-04T20:32:28.493432",
          "2023-08-09T06:44:23.841301",
          "2023-08-13T16:56:19.189170",
          "2023-08-18T03:08:14.537039",
          "2023-08-22T13:20:09.884908",
          "2023-08-26T23:32:05.232777",
          "2023-08-31T09:44:00.580645",
          "2023-09-04T19:55:55.928514",
          "2023-09-09T06:07:51.276383",
          "2023-09-13T16:19:46.624252",
          "2023-09-18T02:31:41.972121",
          "2023-09-22T12:43:37.319990",
          "2023-09-26T22:55:32.667858",
          "2023-10-01T09:07:28.015727",
          "2023-10-05T19:19:23.363596",
          "2023-10-10T05:31:18.711465",
          "2023-10-14T15:43:14.059334",
          "2023-10-19T01:55:09.407203",
          "2023-10-23T12:07:04.755071",
          "2023-10-27T22:19:00.102940",
          "2023-11-01T08:30:55.450809",
          "2023-11-05T18:42:50.798678",
          "2023-11-10T04:54:46.146547",
          "2023-11-14T15:06:41.494415",
          "2023-11-19T01:18:36.842284",
          "2023-11-23T11:30:32.190153",
          "2023-11-27T21:42:27.538022",
          "2023-12-02T07:54:22.885891",
          "2023-12-06T18:06:18.233760",
          "2023-12-11T04:18:13.581628",
          "2023-12-15T14:30:08.929497",
          "2023-12-20T00:42:04.277366",
          "2023-12-24T10:53:59.625235",
          "2023-12-28T21:05:54.973104",
          "2024-01-02T07:17:50.320973",
          "2024-01-06T17:29:45.668841",
          "2024-01-11T03:41:41.016710",
          "2024-01-15T13:53:36.364579",
          "2024-01-20T00:05:31.712448",
          "2024-01-24T10:17:27.060317",
          "2024-01-28T20:29:22.408186",
          "2024-02-02T06:41:17.756054",
          "2024-02-06T16:53:13.103923",
          "2024-02-11T03:05:08.451792",
          "2024-02-15T13:17:03.799661",
          "2024-02-19T23:28:59.147530",
          "2024-02-24T09:40:54.495398",
          "2024-02-28T19:52:49.843267",
          "2024-03-04T06:04:45.191136",
          "2024-03-08T16:16:40.539005",
          "2024-03-13T02:28:35.886874",
          "2024-03-17T12:40:31.234743",
          "2024-03-21T22:52:26.582611",
          "2024-03-26T09:04:21.930480",
          "2024-03-30T19:16:17.278349",
          "2024-04-04T05:28:12.626218",
          "2024-04-08T15:40:07.974087",
          "2024-04-13T01:52:03.321956"
         ],
         "y": [
          0,
          1,
          1,
          1,
          1,
          1,
          1,
          1,
          1,
          1,
          1,
          1,
          1,
          1,
          1,
          1,
          2,
          2,
          2,
          2,
          2,
          2,
          2,
          2,
          2,
          3,
          3,
          3,
          3,
          3,
          3,
          3,
          3,
          3,
          3,
          3,
          3,
          3,
          3,
          3,
          3,
          3,
          3,
          3,
          3,
          3,
          3,
          3,
          3,
          3,
          3,
          3,
          3,
          3,
          3,
          3,
          3,
          3,
          3,
          3,
          3,
          3,
          3,
          3,
          3,
          3,
          3,
          3,
          3,
          3,
          3,
          3,
          4,
          4,
          4,
          4,
          4,
          4,
          4,
          4,
          4,
          4,
          4,
          4,
          4,
          4,
          4,
          4,
          4,
          4,
          4,
          4,
          4,
          4,
          4,
          4,
          4,
          4,
          4,
          4,
          4,
          4,
          4,
          4,
          4,
          4,
          4,
          4,
          4,
          4,
          4,
          4,
          4,
          4,
          4,
          4,
          4,
          4,
          4,
          4,
          4,
          4,
          4,
          4,
          4,
          4,
          4,
          4,
          4,
          4,
          4,
          4,
          4,
          4,
          4,
          4,
          4,
          4,
          4,
          4,
          4,
          4,
          4,
          4,
          4,
          4,
          4,
          4,
          4,
          4,
          4,
          4,
          4,
          4,
          4,
          4,
          4,
          4,
          4,
          5,
          5,
          5,
          5,
          5,
          5,
          5,
          5,
          5,
          5,
          5,
          5,
          5,
          5,
          5,
          5,
          5,
          5,
          5,
          5,
          5,
          5,
          5,
          5,
          5,
          5,
          5,
          5,
          5,
          5,
          5,
          5,
          5,
          5,
          5,
          5,
          5,
          5,
          5,
          5,
          5,
          5,
          5,
          5,
          5,
          5,
          5,
          5,
          5,
          5,
          5,
          5,
          5,
          5,
          5,
          5,
          5,
          5,
          5,
          5,
          5,
          5,
          5,
          5,
          5,
          5,
          5,
          5,
          5,
          5,
          5,
          5,
          5,
          5,
          7,
          7,
          8,
          8,
          8,
          8,
          8,
          8,
          9,
          10,
          11,
          11,
          11,
          11,
          12,
          12,
          13,
          13,
          14,
          14,
          15,
          15,
          16,
          16,
          16,
          16,
          17,
          18,
          18,
          18,
          19,
          19,
          20,
          20,
          21,
          21,
          22,
          22,
          25,
          27,
          36,
          38,
          40,
          43,
          48,
          52,
          53,
          54,
          54,
          57,
          59,
          60,
          61,
          63,
          64,
          64,
          66,
          66,
          67,
          68,
          68,
          72,
          84,
          107,
          117,
          128,
          146,
          153,
          162,
          168,
          173,
          178,
          189,
          193,
          203,
          209,
          214,
          222,
          225,
          230,
          235,
          238,
          238,
          239,
          241,
          242,
          243,
          243,
          243,
          243,
          243,
          243,
          244,
          244,
          245,
          247,
          247,
          247,
          247,
          247,
          247,
          248,
          248,
          248,
          248,
          248,
          248,
          250,
          251,
          251,
          251,
          251,
          251,
          255,
          257,
          263,
          268,
          271,
          278,
          289,
          296,
          301,
          304,
          310,
          314,
          319,
          327,
          333,
          340,
          344,
          348,
          351,
          357,
          360,
          366,
          370,
          376,
          379,
          382,
          387,
          390,
          392,
          394,
          402,
          405,
          405,
          406,
          415,
          424,
          431,
          440,
          448,
          455,
          467,
          479,
          490,
          500,
          508,
          515,
          517,
          524,
          532,
          541,
          545,
          551,
          560,
          565,
          572,
          574,
          577,
          580,
          581,
          583,
          589,
          591,
          591,
          592,
          592,
          593,
          594
         ]
        },
        {
         "marker": {
          "color": "red",
          "size": 10,
          "symbol": "circle"
         },
         "mode": "markers",
         "type": "scatter",
         "x": [
          "2022-11-16T18:49:02.969172304"
         ],
         "y": [
          107
         ]
        },
        {
         "mode": "lines",
         "name": "Bearing2",
         "type": "scatter",
         "x": [
          "2019-04-17T00:00:00",
          "2019-04-21T10:11:55.347868",
          "2019-04-25T20:23:50.695737",
          "2019-04-30T06:35:46.043606",
          "2019-05-04T16:47:41.391475",
          "2019-05-09T02:59:36.739344",
          "2019-05-13T13:11:32.087212",
          "2019-05-17T23:23:27.435081",
          "2019-05-22T09:35:22.782950",
          "2019-05-26T19:47:18.130819",
          "2019-05-31T05:59:13.478688",
          "2019-06-04T16:11:08.826557",
          "2019-06-09T02:23:04.174425",
          "2019-06-13T12:34:59.522294",
          "2019-06-17T22:46:54.870163",
          "2019-06-22T08:58:50.218032",
          "2019-06-26T19:10:45.565901",
          "2019-07-01T05:22:40.913770",
          "2019-07-05T15:34:36.261638",
          "2019-07-10T01:46:31.609507",
          "2019-07-14T11:58:26.957376",
          "2019-07-18T22:10:22.305245",
          "2019-07-23T08:22:17.653114",
          "2019-07-27T18:34:13.000982",
          "2019-08-01T04:46:08.348851",
          "2019-08-05T14:58:03.696720",
          "2019-08-10T01:09:59.044589",
          "2019-08-14T11:21:54.392458",
          "2019-08-18T21:33:49.740327",
          "2019-08-23T07:45:45.088195",
          "2019-08-27T17:57:40.436064",
          "2019-09-01T04:09:35.783933",
          "2019-09-05T14:21:31.131802",
          "2019-09-10T00:33:26.479671",
          "2019-09-14T10:45:21.827540",
          "2019-09-18T20:57:17.175408",
          "2019-09-23T07:09:12.523277",
          "2019-09-27T17:21:07.871146",
          "2019-10-02T03:33:03.219015",
          "2019-10-06T13:44:58.566884",
          "2019-10-10T23:56:53.914753",
          "2019-10-15T10:08:49.262621",
          "2019-10-19T20:20:44.610490",
          "2019-10-24T06:32:39.958359",
          "2019-10-28T16:44:35.306228",
          "2019-11-02T02:56:30.654097",
          "2019-11-06T13:08:26.001965",
          "2019-11-10T23:20:21.349834",
          "2019-11-15T09:32:16.697703",
          "2019-11-19T19:44:12.045572",
          "2019-11-24T05:56:07.393441",
          "2019-11-28T16:08:02.741310",
          "2019-12-03T02:19:58.089178",
          "2019-12-07T12:31:53.437047",
          "2019-12-11T22:43:48.784916",
          "2019-12-16T08:55:44.132785",
          "2019-12-20T19:07:39.480654",
          "2019-12-25T05:19:34.828523",
          "2019-12-29T15:31:30.176391",
          "2020-01-03T01:43:25.524260",
          "2020-01-07T11:55:20.872129",
          "2020-01-11T22:07:16.219998",
          "2020-01-16T08:19:11.567867",
          "2020-01-20T18:31:06.915735",
          "2020-01-25T04:43:02.263604",
          "2020-01-29T14:54:57.611473",
          "2020-02-03T01:06:52.959342",
          "2020-02-07T11:18:48.307211",
          "2020-02-11T21:30:43.655080",
          "2020-02-16T07:42:39.002948",
          "2020-02-20T17:54:34.350817",
          "2020-02-25T04:06:29.698686",
          "2020-02-29T14:18:25.046555",
          "2020-03-05T00:30:20.394424",
          "2020-03-09T10:42:15.742293",
          "2020-03-13T20:54:11.090161",
          "2020-03-18T07:06:06.438030",
          "2020-03-22T17:18:01.785899",
          "2020-03-27T03:29:57.133768",
          "2020-03-31T13:41:52.481637",
          "2020-04-04T23:53:47.829506",
          "2020-04-09T10:05:43.177374",
          "2020-04-13T20:17:38.525243",
          "2020-04-18T06:29:33.873112",
          "2020-04-22T16:41:29.220981",
          "2020-04-27T02:53:24.568850",
          "2020-05-01T13:05:19.916718",
          "2020-05-05T23:17:15.264587",
          "2020-05-10T09:29:10.612456",
          "2020-05-14T19:41:05.960325",
          "2020-05-19T05:53:01.308194",
          "2020-05-23T16:04:56.656063",
          "2020-05-28T02:16:52.003931",
          "2020-06-01T12:28:47.351800",
          "2020-06-05T22:40:42.699669",
          "2020-06-10T08:52:38.047538",
          "2020-06-14T19:04:33.395407",
          "2020-06-19T05:16:28.743276",
          "2020-06-23T15:28:24.091144",
          "2020-06-28T01:40:19.439013",
          "2020-07-02T11:52:14.786882",
          "2020-07-06T22:04:10.134751",
          "2020-07-11T08:16:05.482620",
          "2020-07-15T18:28:00.830489",
          "2020-07-20T04:39:56.178357",
          "2020-07-24T14:51:51.526226",
          "2020-07-29T01:03:46.874095",
          "2020-08-02T11:15:42.221964",
          "2020-08-06T21:27:37.569833",
          "2020-08-11T07:39:32.917701",
          "2020-08-15T17:51:28.265570",
          "2020-08-20T04:03:23.613439",
          "2020-08-24T14:15:18.961308",
          "2020-08-29T00:27:14.309177",
          "2020-09-02T10:39:09.657046",
          "2020-09-06T20:51:05.004914",
          "2020-09-11T07:03:00.352783",
          "2020-09-15T17:14:55.700652",
          "2020-09-20T03:26:51.048521",
          "2020-09-24T13:38:46.396390",
          "2020-09-28T23:50:41.744259",
          "2020-10-03T10:02:37.092127",
          "2020-10-07T20:14:32.439996",
          "2020-10-12T06:26:27.787865",
          "2020-10-16T16:38:23.135734",
          "2020-10-21T02:50:18.483603",
          "2020-10-25T13:02:13.831471",
          "2020-10-29T23:14:09.179340",
          "2020-11-03T09:26:04.527209",
          "2020-11-07T19:37:59.875078",
          "2020-11-12T05:49:55.222947",
          "2020-11-16T16:01:50.570816",
          "2020-11-21T02:13:45.918684",
          "2020-11-25T12:25:41.266553",
          "2020-11-29T22:37:36.614422",
          "2020-12-04T08:49:31.962291",
          "2020-12-08T19:01:27.310160",
          "2020-12-13T05:13:22.658029",
          "2020-12-17T15:25:18.005897",
          "2020-12-22T01:37:13.353766",
          "2020-12-26T11:49:08.701635",
          "2020-12-30T22:01:04.049504",
          "2021-01-04T08:12:59.397373",
          "2021-01-08T18:24:54.745242",
          "2021-01-13T04:36:50.093110",
          "2021-01-17T14:48:45.440979",
          "2021-01-22T01:00:40.788848",
          "2021-01-26T11:12:36.136717",
          "2021-01-30T21:24:31.484586",
          "2021-02-04T07:36:26.832454",
          "2021-02-08T17:48:22.180323",
          "2021-02-13T04:00:17.528192",
          "2021-02-17T14:12:12.876061",
          "2021-02-22T00:24:08.223930",
          "2021-02-26T10:36:03.571799",
          "2021-03-02T20:47:58.919667",
          "2021-03-07T06:59:54.267536",
          "2021-03-11T17:11:49.615405",
          "2021-03-16T03:23:44.963274",
          "2021-03-20T13:35:40.311143",
          "2021-03-24T23:47:35.659012",
          "2021-03-29T09:59:31.006880",
          "2021-04-02T20:11:26.354749",
          "2021-04-07T06:23:21.702618",
          "2021-04-11T16:35:17.050487",
          "2021-04-16T02:47:12.398356",
          "2021-04-20T12:59:07.746225",
          "2021-04-24T23:11:03.094093",
          "2021-04-29T09:22:58.441962",
          "2021-05-03T19:34:53.789831",
          "2021-05-08T05:46:49.137700",
          "2021-05-12T15:58:44.485569",
          "2021-05-17T02:10:39.833437",
          "2021-05-21T12:22:35.181306",
          "2021-05-25T22:34:30.529175",
          "2021-05-30T08:46:25.877044",
          "2021-06-03T18:58:21.224913",
          "2021-06-08T05:10:16.572782",
          "2021-06-12T15:22:11.920650",
          "2021-06-17T01:34:07.268519",
          "2021-06-21T11:46:02.616388",
          "2021-06-25T21:57:57.964257",
          "2021-06-30T08:09:53.312126",
          "2021-07-04T18:21:48.659995",
          "2021-07-09T04:33:44.007863",
          "2021-07-13T14:45:39.355732",
          "2021-07-18T00:57:34.703601",
          "2021-07-22T11:09:30.051470",
          "2021-07-26T21:21:25.399339",
          "2021-07-31T07:33:20.747207",
          "2021-08-04T17:45:16.095076",
          "2021-08-09T03:57:11.442945",
          "2021-08-13T14:09:06.790814",
          "2021-08-18T00:21:02.138683",
          "2021-08-22T10:32:57.486552",
          "2021-08-26T20:44:52.834420",
          "2021-08-31T06:56:48.182289",
          "2021-09-04T17:08:43.530158",
          "2021-09-09T03:20:38.878027",
          "2021-09-13T13:32:34.225896",
          "2021-09-17T23:44:29.573765",
          "2021-09-22T09:56:24.921633",
          "2021-09-26T20:08:20.269502",
          "2021-10-01T06:20:15.617371",
          "2021-10-05T16:32:10.965240",
          "2021-10-10T02:44:06.313109",
          "2021-10-14T12:56:01.660978",
          "2021-10-18T23:07:57.008846",
          "2021-10-23T09:19:52.356715",
          "2021-10-27T19:31:47.704584",
          "2021-11-01T05:43:43.052453",
          "2021-11-05T15:55:38.400322",
          "2021-11-10T02:07:33.748190",
          "2021-11-14T12:19:29.096059",
          "2021-11-18T22:31:24.443928",
          "2021-11-23T08:43:19.791797",
          "2021-11-27T18:55:15.139666",
          "2021-12-02T05:07:10.487535",
          "2021-12-06T15:19:05.835403",
          "2021-12-11T01:31:01.183272",
          "2021-12-15T11:42:56.531141",
          "2021-12-19T21:54:51.879010",
          "2021-12-24T08:06:47.226879",
          "2021-12-28T18:18:42.574748",
          "2022-01-02T04:30:37.922616",
          "2022-01-06T14:42:33.270485",
          "2022-01-11T00:54:28.618354",
          "2022-01-15T11:06:23.966223",
          "2022-01-19T21:18:19.314092",
          "2022-01-24T07:30:14.661961",
          "2022-01-28T17:42:10.009829",
          "2022-02-02T03:54:05.357698",
          "2022-02-06T14:06:00.705567",
          "2022-02-11T00:17:56.053436",
          "2022-02-15T10:29:51.401305",
          "2022-02-19T20:41:46.749173",
          "2022-02-24T06:53:42.097042",
          "2022-02-28T17:05:37.444911",
          "2022-03-05T03:17:32.792780",
          "2022-03-09T13:29:28.140649",
          "2022-03-13T23:41:23.488518",
          "2022-03-18T09:53:18.836386",
          "2022-03-22T20:05:14.184255",
          "2022-03-27T06:17:09.532124",
          "2022-03-31T16:29:04.879993",
          "2022-04-05T02:41:00.227862",
          "2022-04-09T12:52:55.575731",
          "2022-04-13T23:04:50.923599",
          "2022-04-18T09:16:46.271468",
          "2022-04-22T19:28:41.619337",
          "2022-04-27T05:40:36.967206",
          "2022-05-01T15:52:32.315075",
          "2022-05-06T02:04:27.662943",
          "2022-05-10T12:16:23.010812",
          "2022-05-14T22:28:18.358681",
          "2022-05-19T08:40:13.706550",
          "2022-05-23T18:52:09.054419",
          "2022-05-28T05:04:04.402288",
          "2022-06-01T15:15:59.750156",
          "2022-06-06T01:27:55.098025",
          "2022-06-10T11:39:50.445894",
          "2022-06-14T21:51:45.793763",
          "2022-06-19T08:03:41.141632",
          "2022-06-23T18:15:36.489501",
          "2022-06-28T04:27:31.837369",
          "2022-07-02T14:39:27.185238",
          "2022-07-07T00:51:22.533107",
          "2022-07-11T11:03:17.880976",
          "2022-07-15T21:15:13.228845",
          "2022-07-20T07:27:08.576714",
          "2022-07-24T17:39:03.924582",
          "2022-07-29T03:50:59.272451",
          "2022-08-02T14:02:54.620320",
          "2022-08-07T00:14:49.968189",
          "2022-08-11T10:26:45.316058",
          "2022-08-15T20:38:40.663926",
          "2022-08-20T06:50:36.011795",
          "2022-08-24T17:02:31.359664",
          "2022-08-29T03:14:26.707533",
          "2022-09-02T13:26:22.055402",
          "2022-09-06T23:38:17.403271",
          "2022-09-11T09:50:12.751139",
          "2022-09-15T20:02:08.099008",
          "2022-09-20T06:14:03.446877",
          "2022-09-24T16:25:58.794746",
          "2022-09-29T02:37:54.142615",
          "2022-10-03T12:49:49.490484",
          "2022-10-07T23:01:44.838352",
          "2022-10-12T09:13:40.186221",
          "2022-10-16T19:25:35.534090",
          "2022-10-21T05:37:30.881959",
          "2022-10-25T15:49:26.229828",
          "2022-10-30T02:01:21.577696",
          "2022-11-03T12:13:16.925565",
          "2022-11-07T22:25:12.273434",
          "2022-11-12T08:37:07.621303",
          "2022-11-16T18:49:02.969172",
          "2022-11-21T05:00:58.317041",
          "2022-11-25T15:12:53.664909",
          "2022-11-30T01:24:49.012778",
          "2022-12-04T11:36:44.360647",
          "2022-12-08T21:48:39.708516",
          "2022-12-13T08:00:35.056385",
          "2022-12-17T18:12:30.404254",
          "2022-12-22T04:24:25.752122",
          "2022-12-26T14:36:21.099991",
          "2022-12-31T00:48:16.447860",
          "2023-01-04T11:00:11.795729",
          "2023-01-08T21:12:07.143598",
          "2023-01-13T07:24:02.491467",
          "2023-01-17T17:35:57.839335",
          "2023-01-22T03:47:53.187204",
          "2023-01-26T13:59:48.535073",
          "2023-01-31T00:11:43.882942",
          "2023-02-04T10:23:39.230811",
          "2023-02-08T20:35:34.578679",
          "2023-02-13T06:47:29.926548",
          "2023-02-17T16:59:25.274417",
          "2023-02-22T03:11:20.622286",
          "2023-02-26T13:23:15.970155",
          "2023-03-02T23:35:11.318024",
          "2023-03-07T09:47:06.665892",
          "2023-03-11T19:59:02.013761",
          "2023-03-16T06:10:57.361630",
          "2023-03-20T16:22:52.709499",
          "2023-03-25T02:34:48.057368",
          "2023-03-29T12:46:43.405237",
          "2023-04-02T22:58:38.753105",
          "2023-04-07T09:10:34.100974",
          "2023-04-11T19:22:29.448843",
          "2023-04-16T05:34:24.796712",
          "2023-04-20T15:46:20.144581",
          "2023-04-25T01:58:15.492450",
          "2023-04-29T12:10:10.840318",
          "2023-05-03T22:22:06.188187",
          "2023-05-08T08:34:01.536056",
          "2023-05-12T18:45:56.883925",
          "2023-05-17T04:57:52.231794",
          "2023-05-21T15:09:47.579662",
          "2023-05-26T01:21:42.927531",
          "2023-05-30T11:33:38.275400",
          "2023-06-03T21:45:33.623269",
          "2023-06-08T07:57:28.971138",
          "2023-06-12T18:09:24.319007",
          "2023-06-17T04:21:19.666875",
          "2023-06-21T14:33:15.014744",
          "2023-06-26T00:45:10.362613",
          "2023-06-30T10:57:05.710482",
          "2023-07-04T21:09:01.058351",
          "2023-07-09T07:20:56.406220",
          "2023-07-13T17:32:51.754088",
          "2023-07-18T03:44:47.101957",
          "2023-07-22T13:56:42.449826",
          "2023-07-27T00:08:37.797695",
          "2023-07-31T10:20:33.145564",
          "2023-08-04T20:32:28.493432",
          "2023-08-09T06:44:23.841301",
          "2023-08-13T16:56:19.189170",
          "2023-08-18T03:08:14.537039",
          "2023-08-22T13:20:09.884908",
          "2023-08-26T23:32:05.232777",
          "2023-08-31T09:44:00.580645",
          "2023-09-04T19:55:55.928514",
          "2023-09-09T06:07:51.276383",
          "2023-09-13T16:19:46.624252",
          "2023-09-18T02:31:41.972121",
          "2023-09-22T12:43:37.319990",
          "2023-09-26T22:55:32.667858",
          "2023-10-01T09:07:28.015727",
          "2023-10-05T19:19:23.363596",
          "2023-10-10T05:31:18.711465",
          "2023-10-14T15:43:14.059334",
          "2023-10-19T01:55:09.407203",
          "2023-10-23T12:07:04.755071",
          "2023-10-27T22:19:00.102940",
          "2023-11-01T08:30:55.450809",
          "2023-11-05T18:42:50.798678",
          "2023-11-10T04:54:46.146547",
          "2023-11-14T15:06:41.494415",
          "2023-11-19T01:18:36.842284",
          "2023-11-23T11:30:32.190153",
          "2023-11-27T21:42:27.538022",
          "2023-12-02T07:54:22.885891",
          "2023-12-06T18:06:18.233760",
          "2023-12-11T04:18:13.581628",
          "2023-12-15T14:30:08.929497",
          "2023-12-20T00:42:04.277366",
          "2023-12-24T10:53:59.625235",
          "2023-12-28T21:05:54.973104",
          "2024-01-02T07:17:50.320973",
          "2024-01-06T17:29:45.668841",
          "2024-01-11T03:41:41.016710",
          "2024-01-15T13:53:36.364579",
          "2024-01-20T00:05:31.712448",
          "2024-01-24T10:17:27.060317",
          "2024-01-28T20:29:22.408186",
          "2024-02-02T06:41:17.756054",
          "2024-02-06T16:53:13.103923",
          "2024-02-11T03:05:08.451792",
          "2024-02-15T13:17:03.799661",
          "2024-02-19T23:28:59.147530",
          "2024-02-24T09:40:54.495398",
          "2024-02-28T19:52:49.843267",
          "2024-03-04T06:04:45.191136",
          "2024-03-08T16:16:40.539005",
          "2024-03-13T02:28:35.886874",
          "2024-03-17T12:40:31.234743",
          "2024-03-21T22:52:26.582611",
          "2024-03-26T09:04:21.930480",
          "2024-03-30T19:16:17.278349",
          "2024-04-04T05:28:12.626218",
          "2024-04-08T15:40:07.974087",
          "2024-04-13T01:52:03.321956"
         ],
         "y": [
          0,
          1,
          1,
          2,
          2,
          2,
          2,
          2,
          2,
          2,
          2,
          2,
          2,
          2,
          2,
          2,
          2,
          2,
          2,
          2,
          2,
          2,
          2,
          2,
          2,
          2,
          2,
          2,
          2,
          2,
          2,
          2,
          2,
          2,
          2,
          2,
          2,
          2,
          2,
          2,
          2,
          2,
          2,
          2,
          2,
          2,
          2,
          2,
          2,
          2,
          2,
          2,
          2,
          2,
          2,
          2,
          2,
          2,
          2,
          2,
          2,
          2,
          2,
          2,
          2,
          2,
          2,
          2,
          2,
          2,
          2,
          2,
          2,
          2,
          3,
          3,
          3,
          3,
          3,
          3,
          3,
          3,
          3,
          3,
          3,
          3,
          3,
          3,
          3,
          3,
          3,
          3,
          3,
          3,
          3,
          3,
          3,
          3,
          3,
          3,
          3,
          3,
          3,
          3,
          3,
          3,
          3,
          3,
          3,
          3,
          3,
          3,
          3,
          3,
          3,
          3,
          3,
          3,
          3,
          3,
          3,
          3,
          3,
          3,
          3,
          3,
          3,
          3,
          3,
          3,
          3,
          3,
          3,
          3,
          3,
          3,
          3,
          3,
          3,
          3,
          3,
          3,
          3,
          3,
          3,
          3,
          3,
          3,
          3,
          3,
          3,
          3,
          3,
          3,
          3,
          3,
          3,
          3,
          3,
          3,
          3,
          3,
          3,
          3,
          3,
          3,
          3,
          3,
          3,
          3,
          3,
          3,
          3,
          3,
          3,
          3,
          3,
          3,
          3,
          3,
          3,
          3,
          3,
          3,
          3,
          3,
          3,
          3,
          3,
          3,
          3,
          3,
          3,
          3,
          3,
          3,
          3,
          3,
          3,
          3,
          3,
          3,
          3,
          3,
          3,
          3,
          3,
          3,
          3,
          3,
          3,
          3,
          3,
          3,
          3,
          3,
          3,
          3,
          3,
          3,
          3,
          3,
          3,
          3,
          3,
          3,
          3,
          3,
          3,
          3,
          3,
          3,
          3,
          3,
          3,
          3,
          3,
          3,
          3,
          3,
          3,
          3,
          3,
          3,
          3,
          3,
          3,
          3,
          3,
          3,
          3,
          3,
          3,
          3,
          3,
          3,
          3,
          3,
          3,
          3,
          3,
          3,
          3,
          3,
          3,
          3,
          3,
          3,
          3,
          3,
          3,
          3,
          3,
          3,
          3,
          3,
          3,
          3,
          3,
          3,
          3,
          3,
          3,
          3,
          3,
          3,
          3,
          3,
          3,
          3,
          3,
          3,
          3,
          3,
          3,
          3,
          3,
          3,
          3,
          3,
          3,
          3,
          3,
          3,
          3,
          3,
          3,
          3,
          3,
          3,
          3,
          3,
          3,
          3,
          3,
          3,
          3,
          3,
          3,
          3,
          3,
          3,
          3,
          3,
          3,
          4,
          4,
          4,
          4,
          4,
          4,
          4,
          4,
          4,
          4,
          4,
          4,
          4,
          4,
          4,
          4,
          4,
          4,
          4,
          4,
          4,
          4,
          4,
          4,
          4,
          4,
          4,
          4,
          5,
          5,
          5,
          5,
          5,
          5,
          5,
          5,
          5,
          5,
          5,
          5,
          6,
          6,
          6,
          7,
          7,
          8,
          8,
          9,
          9,
          10,
          10,
          14,
          15,
          16,
          19,
          21,
          21,
          21,
          21,
          21,
          25,
          27,
          31,
          32,
          35,
          38,
          39,
          39,
          40,
          42,
          42,
          43,
          47,
          50,
          50,
          57,
          57,
          57,
          59,
          65,
          68,
          73,
          73,
          76,
          84,
          87,
          91,
          97
         ]
        },
        {
         "mode": "lines",
         "name": "Bearing3",
         "type": "scatter",
         "x": [
          "2019-04-17T00:00:00",
          "2019-04-21T10:11:55.347868",
          "2019-04-25T20:23:50.695737",
          "2019-04-30T06:35:46.043606",
          "2019-05-04T16:47:41.391475",
          "2019-05-09T02:59:36.739344",
          "2019-05-13T13:11:32.087212",
          "2019-05-17T23:23:27.435081",
          "2019-05-22T09:35:22.782950",
          "2019-05-26T19:47:18.130819",
          "2019-05-31T05:59:13.478688",
          "2019-06-04T16:11:08.826557",
          "2019-06-09T02:23:04.174425",
          "2019-06-13T12:34:59.522294",
          "2019-06-17T22:46:54.870163",
          "2019-06-22T08:58:50.218032",
          "2019-06-26T19:10:45.565901",
          "2019-07-01T05:22:40.913770",
          "2019-07-05T15:34:36.261638",
          "2019-07-10T01:46:31.609507",
          "2019-07-14T11:58:26.957376",
          "2019-07-18T22:10:22.305245",
          "2019-07-23T08:22:17.653114",
          "2019-07-27T18:34:13.000982",
          "2019-08-01T04:46:08.348851",
          "2019-08-05T14:58:03.696720",
          "2019-08-10T01:09:59.044589",
          "2019-08-14T11:21:54.392458",
          "2019-08-18T21:33:49.740327",
          "2019-08-23T07:45:45.088195",
          "2019-08-27T17:57:40.436064",
          "2019-09-01T04:09:35.783933",
          "2019-09-05T14:21:31.131802",
          "2019-09-10T00:33:26.479671",
          "2019-09-14T10:45:21.827540",
          "2019-09-18T20:57:17.175408",
          "2019-09-23T07:09:12.523277",
          "2019-09-27T17:21:07.871146",
          "2019-10-02T03:33:03.219015",
          "2019-10-06T13:44:58.566884",
          "2019-10-10T23:56:53.914753",
          "2019-10-15T10:08:49.262621",
          "2019-10-19T20:20:44.610490",
          "2019-10-24T06:32:39.958359",
          "2019-10-28T16:44:35.306228",
          "2019-11-02T02:56:30.654097",
          "2019-11-06T13:08:26.001965",
          "2019-11-10T23:20:21.349834",
          "2019-11-15T09:32:16.697703",
          "2019-11-19T19:44:12.045572",
          "2019-11-24T05:56:07.393441",
          "2019-11-28T16:08:02.741310",
          "2019-12-03T02:19:58.089178",
          "2019-12-07T12:31:53.437047",
          "2019-12-11T22:43:48.784916",
          "2019-12-16T08:55:44.132785",
          "2019-12-20T19:07:39.480654",
          "2019-12-25T05:19:34.828523",
          "2019-12-29T15:31:30.176391",
          "2020-01-03T01:43:25.524260",
          "2020-01-07T11:55:20.872129",
          "2020-01-11T22:07:16.219998",
          "2020-01-16T08:19:11.567867",
          "2020-01-20T18:31:06.915735",
          "2020-01-25T04:43:02.263604",
          "2020-01-29T14:54:57.611473",
          "2020-02-03T01:06:52.959342",
          "2020-02-07T11:18:48.307211",
          "2020-02-11T21:30:43.655080",
          "2020-02-16T07:42:39.002948",
          "2020-02-20T17:54:34.350817",
          "2020-02-25T04:06:29.698686",
          "2020-02-29T14:18:25.046555",
          "2020-03-05T00:30:20.394424",
          "2020-03-09T10:42:15.742293",
          "2020-03-13T20:54:11.090161",
          "2020-03-18T07:06:06.438030",
          "2020-03-22T17:18:01.785899",
          "2020-03-27T03:29:57.133768",
          "2020-03-31T13:41:52.481637",
          "2020-04-04T23:53:47.829506",
          "2020-04-09T10:05:43.177374",
          "2020-04-13T20:17:38.525243",
          "2020-04-18T06:29:33.873112",
          "2020-04-22T16:41:29.220981",
          "2020-04-27T02:53:24.568850",
          "2020-05-01T13:05:19.916718",
          "2020-05-05T23:17:15.264587",
          "2020-05-10T09:29:10.612456",
          "2020-05-14T19:41:05.960325",
          "2020-05-19T05:53:01.308194",
          "2020-05-23T16:04:56.656063",
          "2020-05-28T02:16:52.003931",
          "2020-06-01T12:28:47.351800",
          "2020-06-05T22:40:42.699669",
          "2020-06-10T08:52:38.047538",
          "2020-06-14T19:04:33.395407",
          "2020-06-19T05:16:28.743276",
          "2020-06-23T15:28:24.091144",
          "2020-06-28T01:40:19.439013",
          "2020-07-02T11:52:14.786882",
          "2020-07-06T22:04:10.134751",
          "2020-07-11T08:16:05.482620",
          "2020-07-15T18:28:00.830489",
          "2020-07-20T04:39:56.178357",
          "2020-07-24T14:51:51.526226",
          "2020-07-29T01:03:46.874095",
          "2020-08-02T11:15:42.221964",
          "2020-08-06T21:27:37.569833",
          "2020-08-11T07:39:32.917701",
          "2020-08-15T17:51:28.265570",
          "2020-08-20T04:03:23.613439",
          "2020-08-24T14:15:18.961308",
          "2020-08-29T00:27:14.309177",
          "2020-09-02T10:39:09.657046",
          "2020-09-06T20:51:05.004914",
          "2020-09-11T07:03:00.352783",
          "2020-09-15T17:14:55.700652",
          "2020-09-20T03:26:51.048521",
          "2020-09-24T13:38:46.396390",
          "2020-09-28T23:50:41.744259",
          "2020-10-03T10:02:37.092127",
          "2020-10-07T20:14:32.439996",
          "2020-10-12T06:26:27.787865",
          "2020-10-16T16:38:23.135734",
          "2020-10-21T02:50:18.483603",
          "2020-10-25T13:02:13.831471",
          "2020-10-29T23:14:09.179340",
          "2020-11-03T09:26:04.527209",
          "2020-11-07T19:37:59.875078",
          "2020-11-12T05:49:55.222947",
          "2020-11-16T16:01:50.570816",
          "2020-11-21T02:13:45.918684",
          "2020-11-25T12:25:41.266553",
          "2020-11-29T22:37:36.614422",
          "2020-12-04T08:49:31.962291",
          "2020-12-08T19:01:27.310160",
          "2020-12-13T05:13:22.658029",
          "2020-12-17T15:25:18.005897",
          "2020-12-22T01:37:13.353766",
          "2020-12-26T11:49:08.701635",
          "2020-12-30T22:01:04.049504",
          "2021-01-04T08:12:59.397373",
          "2021-01-08T18:24:54.745242",
          "2021-01-13T04:36:50.093110",
          "2021-01-17T14:48:45.440979",
          "2021-01-22T01:00:40.788848",
          "2021-01-26T11:12:36.136717",
          "2021-01-30T21:24:31.484586",
          "2021-02-04T07:36:26.832454",
          "2021-02-08T17:48:22.180323",
          "2021-02-13T04:00:17.528192",
          "2021-02-17T14:12:12.876061",
          "2021-02-22T00:24:08.223930",
          "2021-02-26T10:36:03.571799",
          "2021-03-02T20:47:58.919667",
          "2021-03-07T06:59:54.267536",
          "2021-03-11T17:11:49.615405",
          "2021-03-16T03:23:44.963274",
          "2021-03-20T13:35:40.311143",
          "2021-03-24T23:47:35.659012",
          "2021-03-29T09:59:31.006880",
          "2021-04-02T20:11:26.354749",
          "2021-04-07T06:23:21.702618",
          "2021-04-11T16:35:17.050487",
          "2021-04-16T02:47:12.398356",
          "2021-04-20T12:59:07.746225",
          "2021-04-24T23:11:03.094093",
          "2021-04-29T09:22:58.441962",
          "2021-05-03T19:34:53.789831",
          "2021-05-08T05:46:49.137700",
          "2021-05-12T15:58:44.485569",
          "2021-05-17T02:10:39.833437",
          "2021-05-21T12:22:35.181306",
          "2021-05-25T22:34:30.529175",
          "2021-05-30T08:46:25.877044",
          "2021-06-03T18:58:21.224913",
          "2021-06-08T05:10:16.572782",
          "2021-06-12T15:22:11.920650",
          "2021-06-17T01:34:07.268519",
          "2021-06-21T11:46:02.616388",
          "2021-06-25T21:57:57.964257",
          "2021-06-30T08:09:53.312126",
          "2021-07-04T18:21:48.659995",
          "2021-07-09T04:33:44.007863",
          "2021-07-13T14:45:39.355732",
          "2021-07-18T00:57:34.703601",
          "2021-07-22T11:09:30.051470",
          "2021-07-26T21:21:25.399339",
          "2021-07-31T07:33:20.747207",
          "2021-08-04T17:45:16.095076",
          "2021-08-09T03:57:11.442945",
          "2021-08-13T14:09:06.790814",
          "2021-08-18T00:21:02.138683",
          "2021-08-22T10:32:57.486552",
          "2021-08-26T20:44:52.834420",
          "2021-08-31T06:56:48.182289",
          "2021-09-04T17:08:43.530158",
          "2021-09-09T03:20:38.878027",
          "2021-09-13T13:32:34.225896",
          "2021-09-17T23:44:29.573765",
          "2021-09-22T09:56:24.921633",
          "2021-09-26T20:08:20.269502",
          "2021-10-01T06:20:15.617371",
          "2021-10-05T16:32:10.965240",
          "2021-10-10T02:44:06.313109",
          "2021-10-14T12:56:01.660978",
          "2021-10-18T23:07:57.008846",
          "2021-10-23T09:19:52.356715",
          "2021-10-27T19:31:47.704584",
          "2021-11-01T05:43:43.052453",
          "2021-11-05T15:55:38.400322",
          "2021-11-10T02:07:33.748190",
          "2021-11-14T12:19:29.096059",
          "2021-11-18T22:31:24.443928",
          "2021-11-23T08:43:19.791797",
          "2021-11-27T18:55:15.139666",
          "2021-12-02T05:07:10.487535",
          "2021-12-06T15:19:05.835403",
          "2021-12-11T01:31:01.183272",
          "2021-12-15T11:42:56.531141",
          "2021-12-19T21:54:51.879010",
          "2021-12-24T08:06:47.226879",
          "2021-12-28T18:18:42.574748",
          "2022-01-02T04:30:37.922616",
          "2022-01-06T14:42:33.270485",
          "2022-01-11T00:54:28.618354",
          "2022-01-15T11:06:23.966223",
          "2022-01-19T21:18:19.314092",
          "2022-01-24T07:30:14.661961",
          "2022-01-28T17:42:10.009829",
          "2022-02-02T03:54:05.357698",
          "2022-02-06T14:06:00.705567",
          "2022-02-11T00:17:56.053436",
          "2022-02-15T10:29:51.401305",
          "2022-02-19T20:41:46.749173",
          "2022-02-24T06:53:42.097042",
          "2022-02-28T17:05:37.444911",
          "2022-03-05T03:17:32.792780",
          "2022-03-09T13:29:28.140649",
          "2022-03-13T23:41:23.488518",
          "2022-03-18T09:53:18.836386",
          "2022-03-22T20:05:14.184255",
          "2022-03-27T06:17:09.532124",
          "2022-03-31T16:29:04.879993",
          "2022-04-05T02:41:00.227862",
          "2022-04-09T12:52:55.575731",
          "2022-04-13T23:04:50.923599",
          "2022-04-18T09:16:46.271468",
          "2022-04-22T19:28:41.619337",
          "2022-04-27T05:40:36.967206",
          "2022-05-01T15:52:32.315075",
          "2022-05-06T02:04:27.662943",
          "2022-05-10T12:16:23.010812",
          "2022-05-14T22:28:18.358681",
          "2022-05-19T08:40:13.706550",
          "2022-05-23T18:52:09.054419",
          "2022-05-28T05:04:04.402288",
          "2022-06-01T15:15:59.750156",
          "2022-06-06T01:27:55.098025",
          "2022-06-10T11:39:50.445894",
          "2022-06-14T21:51:45.793763",
          "2022-06-19T08:03:41.141632",
          "2022-06-23T18:15:36.489501",
          "2022-06-28T04:27:31.837369",
          "2022-07-02T14:39:27.185238",
          "2022-07-07T00:51:22.533107",
          "2022-07-11T11:03:17.880976",
          "2022-07-15T21:15:13.228845",
          "2022-07-20T07:27:08.576714",
          "2022-07-24T17:39:03.924582",
          "2022-07-29T03:50:59.272451",
          "2022-08-02T14:02:54.620320",
          "2022-08-07T00:14:49.968189",
          "2022-08-11T10:26:45.316058",
          "2022-08-15T20:38:40.663926",
          "2022-08-20T06:50:36.011795",
          "2022-08-24T17:02:31.359664",
          "2022-08-29T03:14:26.707533",
          "2022-09-02T13:26:22.055402",
          "2022-09-06T23:38:17.403271",
          "2022-09-11T09:50:12.751139",
          "2022-09-15T20:02:08.099008",
          "2022-09-20T06:14:03.446877",
          "2022-09-24T16:25:58.794746",
          "2022-09-29T02:37:54.142615",
          "2022-10-03T12:49:49.490484",
          "2022-10-07T23:01:44.838352",
          "2022-10-12T09:13:40.186221",
          "2022-10-16T19:25:35.534090",
          "2022-10-21T05:37:30.881959",
          "2022-10-25T15:49:26.229828",
          "2022-10-30T02:01:21.577696",
          "2022-11-03T12:13:16.925565",
          "2022-11-07T22:25:12.273434",
          "2022-11-12T08:37:07.621303",
          "2022-11-16T18:49:02.969172",
          "2022-11-21T05:00:58.317041",
          "2022-11-25T15:12:53.664909",
          "2022-11-30T01:24:49.012778",
          "2022-12-04T11:36:44.360647",
          "2022-12-08T21:48:39.708516",
          "2022-12-13T08:00:35.056385",
          "2022-12-17T18:12:30.404254",
          "2022-12-22T04:24:25.752122",
          "2022-12-26T14:36:21.099991",
          "2022-12-31T00:48:16.447860",
          "2023-01-04T11:00:11.795729",
          "2023-01-08T21:12:07.143598",
          "2023-01-13T07:24:02.491467",
          "2023-01-17T17:35:57.839335",
          "2023-01-22T03:47:53.187204",
          "2023-01-26T13:59:48.535073",
          "2023-01-31T00:11:43.882942",
          "2023-02-04T10:23:39.230811",
          "2023-02-08T20:35:34.578679",
          "2023-02-13T06:47:29.926548",
          "2023-02-17T16:59:25.274417",
          "2023-02-22T03:11:20.622286",
          "2023-02-26T13:23:15.970155",
          "2023-03-02T23:35:11.318024",
          "2023-03-07T09:47:06.665892",
          "2023-03-11T19:59:02.013761",
          "2023-03-16T06:10:57.361630",
          "2023-03-20T16:22:52.709499",
          "2023-03-25T02:34:48.057368",
          "2023-03-29T12:46:43.405237",
          "2023-04-02T22:58:38.753105",
          "2023-04-07T09:10:34.100974",
          "2023-04-11T19:22:29.448843",
          "2023-04-16T05:34:24.796712",
          "2023-04-20T15:46:20.144581",
          "2023-04-25T01:58:15.492450",
          "2023-04-29T12:10:10.840318",
          "2023-05-03T22:22:06.188187",
          "2023-05-08T08:34:01.536056",
          "2023-05-12T18:45:56.883925",
          "2023-05-17T04:57:52.231794",
          "2023-05-21T15:09:47.579662",
          "2023-05-26T01:21:42.927531",
          "2023-05-30T11:33:38.275400",
          "2023-06-03T21:45:33.623269",
          "2023-06-08T07:57:28.971138",
          "2023-06-12T18:09:24.319007",
          "2023-06-17T04:21:19.666875",
          "2023-06-21T14:33:15.014744",
          "2023-06-26T00:45:10.362613",
          "2023-06-30T10:57:05.710482",
          "2023-07-04T21:09:01.058351",
          "2023-07-09T07:20:56.406220",
          "2023-07-13T17:32:51.754088",
          "2023-07-18T03:44:47.101957",
          "2023-07-22T13:56:42.449826",
          "2023-07-27T00:08:37.797695",
          "2023-07-31T10:20:33.145564",
          "2023-08-04T20:32:28.493432",
          "2023-08-09T06:44:23.841301",
          "2023-08-13T16:56:19.189170",
          "2023-08-18T03:08:14.537039",
          "2023-08-22T13:20:09.884908",
          "2023-08-26T23:32:05.232777",
          "2023-08-31T09:44:00.580645",
          "2023-09-04T19:55:55.928514",
          "2023-09-09T06:07:51.276383",
          "2023-09-13T16:19:46.624252",
          "2023-09-18T02:31:41.972121",
          "2023-09-22T12:43:37.319990",
          "2023-09-26T22:55:32.667858",
          "2023-10-01T09:07:28.015727",
          "2023-10-05T19:19:23.363596",
          "2023-10-10T05:31:18.711465",
          "2023-10-14T15:43:14.059334",
          "2023-10-19T01:55:09.407203",
          "2023-10-23T12:07:04.755071",
          "2023-10-27T22:19:00.102940",
          "2023-11-01T08:30:55.450809",
          "2023-11-05T18:42:50.798678",
          "2023-11-10T04:54:46.146547",
          "2023-11-14T15:06:41.494415",
          "2023-11-19T01:18:36.842284",
          "2023-11-23T11:30:32.190153",
          "2023-11-27T21:42:27.538022",
          "2023-12-02T07:54:22.885891",
          "2023-12-06T18:06:18.233760",
          "2023-12-11T04:18:13.581628",
          "2023-12-15T14:30:08.929497",
          "2023-12-20T00:42:04.277366",
          "2023-12-24T10:53:59.625235",
          "2023-12-28T21:05:54.973104",
          "2024-01-02T07:17:50.320973",
          "2024-01-06T17:29:45.668841",
          "2024-01-11T03:41:41.016710",
          "2024-01-15T13:53:36.364579",
          "2024-01-20T00:05:31.712448",
          "2024-01-24T10:17:27.060317",
          "2024-01-28T20:29:22.408186",
          "2024-02-02T06:41:17.756054",
          "2024-02-06T16:53:13.103923",
          "2024-02-11T03:05:08.451792",
          "2024-02-15T13:17:03.799661",
          "2024-02-19T23:28:59.147530",
          "2024-02-24T09:40:54.495398",
          "2024-02-28T19:52:49.843267",
          "2024-03-04T06:04:45.191136",
          "2024-03-08T16:16:40.539005",
          "2024-03-13T02:28:35.886874",
          "2024-03-17T12:40:31.234743",
          "2024-03-21T22:52:26.582611",
          "2024-03-26T09:04:21.930480",
          "2024-03-30T19:16:17.278349",
          "2024-04-04T05:28:12.626218",
          "2024-04-08T15:40:07.974087",
          "2024-04-13T01:52:03.321956"
         ],
         "y": [
          0,
          0,
          0,
          0,
          0,
          0,
          0,
          0,
          0,
          0,
          0,
          0,
          0,
          0,
          0,
          0,
          0,
          0,
          0,
          0,
          0,
          0,
          0,
          0,
          0,
          0,
          0,
          0,
          0,
          0,
          0,
          0,
          0,
          0,
          0,
          0,
          0,
          0,
          0,
          0,
          0,
          0,
          0,
          0,
          0,
          0,
          0,
          0,
          0,
          0,
          0,
          0,
          0,
          0,
          0,
          0,
          0,
          0,
          0,
          0,
          0,
          0,
          0,
          0,
          0,
          0,
          0,
          0,
          0,
          0,
          0,
          0,
          0,
          0,
          0,
          0,
          0,
          0,
          0,
          0,
          0,
          0,
          0,
          0,
          0,
          0,
          0,
          0,
          0,
          0,
          0,
          0,
          0,
          0,
          0,
          0,
          0,
          0,
          0,
          0,
          0,
          0,
          0,
          0,
          0,
          0,
          0,
          0,
          0,
          0,
          0,
          0,
          0,
          0,
          0,
          0,
          0,
          0,
          0,
          0,
          0,
          0,
          0,
          0,
          0,
          0,
          0,
          0,
          0,
          0,
          0,
          0,
          0,
          0,
          0,
          0,
          0,
          0,
          0,
          0,
          0,
          0,
          0,
          0,
          0,
          0,
          0,
          0,
          0,
          0,
          0,
          0,
          0,
          0,
          0,
          0,
          0,
          0,
          0,
          0,
          0,
          0,
          0,
          0,
          0,
          0,
          0,
          0,
          0,
          0,
          0,
          0,
          0,
          0,
          0,
          0,
          0,
          0,
          0,
          0,
          0,
          0,
          0,
          0,
          0,
          0,
          0,
          0,
          0,
          0,
          0,
          0,
          0,
          0,
          0,
          0,
          0,
          0,
          0,
          0,
          0,
          0,
          0,
          0,
          0,
          0,
          0,
          0,
          0,
          0,
          0,
          0,
          0,
          0,
          0,
          0,
          0,
          0,
          0,
          0,
          0,
          0,
          0,
          0,
          0,
          0,
          0,
          0,
          0,
          0,
          0,
          0,
          0,
          0,
          0,
          0,
          0,
          0,
          0,
          0,
          0,
          0,
          0,
          0,
          0,
          0,
          0,
          0,
          0,
          0,
          0,
          0,
          0,
          0,
          0,
          0,
          0,
          0,
          0,
          0,
          0,
          0,
          0,
          0,
          0,
          0,
          0,
          0,
          0,
          0,
          0,
          0,
          0,
          0,
          0,
          0,
          0,
          0,
          0,
          0,
          0,
          0,
          0,
          0,
          0,
          0,
          0,
          0,
          0,
          0,
          0,
          0,
          0,
          0,
          0,
          0,
          0,
          0,
          0,
          0,
          0,
          0,
          0,
          0,
          0,
          0,
          0,
          0,
          0,
          0,
          0,
          0,
          0,
          0,
          0,
          0,
          0,
          0,
          0,
          0,
          0,
          0,
          0,
          0,
          0,
          0,
          0,
          0,
          0,
          0,
          0,
          0,
          0,
          0,
          0,
          0,
          0,
          0,
          0,
          0,
          0,
          0,
          0,
          0,
          0,
          0,
          0,
          0,
          0,
          0,
          0,
          0,
          0,
          0,
          0,
          0,
          0,
          0,
          0,
          0,
          0,
          0,
          0,
          0,
          0,
          0,
          0,
          0,
          1,
          1,
          1,
          1,
          1,
          1,
          2,
          2,
          3,
          4,
          4,
          5,
          8,
          9,
          11,
          11,
          14,
          19,
          23,
          23,
          27,
          30,
          38,
          43,
          44,
          46,
          49,
          56,
          59,
          59,
          62,
          64,
          67,
          67,
          67,
          67,
          74,
          74,
          76,
          76,
          78,
          78,
          78,
          78,
          80
         ]
        },
        {
         "mode": "lines",
         "name": "Bearing4",
         "type": "scatter",
         "x": [
          "2019-04-17T00:00:00",
          "2019-04-21T10:11:55.347868",
          "2019-04-25T20:23:50.695737",
          "2019-04-30T06:35:46.043606",
          "2019-05-04T16:47:41.391475",
          "2019-05-09T02:59:36.739344",
          "2019-05-13T13:11:32.087212",
          "2019-05-17T23:23:27.435081",
          "2019-05-22T09:35:22.782950",
          "2019-05-26T19:47:18.130819",
          "2019-05-31T05:59:13.478688",
          "2019-06-04T16:11:08.826557",
          "2019-06-09T02:23:04.174425",
          "2019-06-13T12:34:59.522294",
          "2019-06-17T22:46:54.870163",
          "2019-06-22T08:58:50.218032",
          "2019-06-26T19:10:45.565901",
          "2019-07-01T05:22:40.913770",
          "2019-07-05T15:34:36.261638",
          "2019-07-10T01:46:31.609507",
          "2019-07-14T11:58:26.957376",
          "2019-07-18T22:10:22.305245",
          "2019-07-23T08:22:17.653114",
          "2019-07-27T18:34:13.000982",
          "2019-08-01T04:46:08.348851",
          "2019-08-05T14:58:03.696720",
          "2019-08-10T01:09:59.044589",
          "2019-08-14T11:21:54.392458",
          "2019-08-18T21:33:49.740327",
          "2019-08-23T07:45:45.088195",
          "2019-08-27T17:57:40.436064",
          "2019-09-01T04:09:35.783933",
          "2019-09-05T14:21:31.131802",
          "2019-09-10T00:33:26.479671",
          "2019-09-14T10:45:21.827540",
          "2019-09-18T20:57:17.175408",
          "2019-09-23T07:09:12.523277",
          "2019-09-27T17:21:07.871146",
          "2019-10-02T03:33:03.219015",
          "2019-10-06T13:44:58.566884",
          "2019-10-10T23:56:53.914753",
          "2019-10-15T10:08:49.262621",
          "2019-10-19T20:20:44.610490",
          "2019-10-24T06:32:39.958359",
          "2019-10-28T16:44:35.306228",
          "2019-11-02T02:56:30.654097",
          "2019-11-06T13:08:26.001965",
          "2019-11-10T23:20:21.349834",
          "2019-11-15T09:32:16.697703",
          "2019-11-19T19:44:12.045572",
          "2019-11-24T05:56:07.393441",
          "2019-11-28T16:08:02.741310",
          "2019-12-03T02:19:58.089178",
          "2019-12-07T12:31:53.437047",
          "2019-12-11T22:43:48.784916",
          "2019-12-16T08:55:44.132785",
          "2019-12-20T19:07:39.480654",
          "2019-12-25T05:19:34.828523",
          "2019-12-29T15:31:30.176391",
          "2020-01-03T01:43:25.524260",
          "2020-01-07T11:55:20.872129",
          "2020-01-11T22:07:16.219998",
          "2020-01-16T08:19:11.567867",
          "2020-01-20T18:31:06.915735",
          "2020-01-25T04:43:02.263604",
          "2020-01-29T14:54:57.611473",
          "2020-02-03T01:06:52.959342",
          "2020-02-07T11:18:48.307211",
          "2020-02-11T21:30:43.655080",
          "2020-02-16T07:42:39.002948",
          "2020-02-20T17:54:34.350817",
          "2020-02-25T04:06:29.698686",
          "2020-02-29T14:18:25.046555",
          "2020-03-05T00:30:20.394424",
          "2020-03-09T10:42:15.742293",
          "2020-03-13T20:54:11.090161",
          "2020-03-18T07:06:06.438030",
          "2020-03-22T17:18:01.785899",
          "2020-03-27T03:29:57.133768",
          "2020-03-31T13:41:52.481637",
          "2020-04-04T23:53:47.829506",
          "2020-04-09T10:05:43.177374",
          "2020-04-13T20:17:38.525243",
          "2020-04-18T06:29:33.873112",
          "2020-04-22T16:41:29.220981",
          "2020-04-27T02:53:24.568850",
          "2020-05-01T13:05:19.916718",
          "2020-05-05T23:17:15.264587",
          "2020-05-10T09:29:10.612456",
          "2020-05-14T19:41:05.960325",
          "2020-05-19T05:53:01.308194",
          "2020-05-23T16:04:56.656063",
          "2020-05-28T02:16:52.003931",
          "2020-06-01T12:28:47.351800",
          "2020-06-05T22:40:42.699669",
          "2020-06-10T08:52:38.047538",
          "2020-06-14T19:04:33.395407",
          "2020-06-19T05:16:28.743276",
          "2020-06-23T15:28:24.091144",
          "2020-06-28T01:40:19.439013",
          "2020-07-02T11:52:14.786882",
          "2020-07-06T22:04:10.134751",
          "2020-07-11T08:16:05.482620",
          "2020-07-15T18:28:00.830489",
          "2020-07-20T04:39:56.178357",
          "2020-07-24T14:51:51.526226",
          "2020-07-29T01:03:46.874095",
          "2020-08-02T11:15:42.221964",
          "2020-08-06T21:27:37.569833",
          "2020-08-11T07:39:32.917701",
          "2020-08-15T17:51:28.265570",
          "2020-08-20T04:03:23.613439",
          "2020-08-24T14:15:18.961308",
          "2020-08-29T00:27:14.309177",
          "2020-09-02T10:39:09.657046",
          "2020-09-06T20:51:05.004914",
          "2020-09-11T07:03:00.352783",
          "2020-09-15T17:14:55.700652",
          "2020-09-20T03:26:51.048521",
          "2020-09-24T13:38:46.396390",
          "2020-09-28T23:50:41.744259",
          "2020-10-03T10:02:37.092127",
          "2020-10-07T20:14:32.439996",
          "2020-10-12T06:26:27.787865",
          "2020-10-16T16:38:23.135734",
          "2020-10-21T02:50:18.483603",
          "2020-10-25T13:02:13.831471",
          "2020-10-29T23:14:09.179340",
          "2020-11-03T09:26:04.527209",
          "2020-11-07T19:37:59.875078",
          "2020-11-12T05:49:55.222947",
          "2020-11-16T16:01:50.570816",
          "2020-11-21T02:13:45.918684",
          "2020-11-25T12:25:41.266553",
          "2020-11-29T22:37:36.614422",
          "2020-12-04T08:49:31.962291",
          "2020-12-08T19:01:27.310160",
          "2020-12-13T05:13:22.658029",
          "2020-12-17T15:25:18.005897",
          "2020-12-22T01:37:13.353766",
          "2020-12-26T11:49:08.701635",
          "2020-12-30T22:01:04.049504",
          "2021-01-04T08:12:59.397373",
          "2021-01-08T18:24:54.745242",
          "2021-01-13T04:36:50.093110",
          "2021-01-17T14:48:45.440979",
          "2021-01-22T01:00:40.788848",
          "2021-01-26T11:12:36.136717",
          "2021-01-30T21:24:31.484586",
          "2021-02-04T07:36:26.832454",
          "2021-02-08T17:48:22.180323",
          "2021-02-13T04:00:17.528192",
          "2021-02-17T14:12:12.876061",
          "2021-02-22T00:24:08.223930",
          "2021-02-26T10:36:03.571799",
          "2021-03-02T20:47:58.919667",
          "2021-03-07T06:59:54.267536",
          "2021-03-11T17:11:49.615405",
          "2021-03-16T03:23:44.963274",
          "2021-03-20T13:35:40.311143",
          "2021-03-24T23:47:35.659012",
          "2021-03-29T09:59:31.006880",
          "2021-04-02T20:11:26.354749",
          "2021-04-07T06:23:21.702618",
          "2021-04-11T16:35:17.050487",
          "2021-04-16T02:47:12.398356",
          "2021-04-20T12:59:07.746225",
          "2021-04-24T23:11:03.094093",
          "2021-04-29T09:22:58.441962",
          "2021-05-03T19:34:53.789831",
          "2021-05-08T05:46:49.137700",
          "2021-05-12T15:58:44.485569",
          "2021-05-17T02:10:39.833437",
          "2021-05-21T12:22:35.181306",
          "2021-05-25T22:34:30.529175",
          "2021-05-30T08:46:25.877044",
          "2021-06-03T18:58:21.224913",
          "2021-06-08T05:10:16.572782",
          "2021-06-12T15:22:11.920650",
          "2021-06-17T01:34:07.268519",
          "2021-06-21T11:46:02.616388",
          "2021-06-25T21:57:57.964257",
          "2021-06-30T08:09:53.312126",
          "2021-07-04T18:21:48.659995",
          "2021-07-09T04:33:44.007863",
          "2021-07-13T14:45:39.355732",
          "2021-07-18T00:57:34.703601",
          "2021-07-22T11:09:30.051470",
          "2021-07-26T21:21:25.399339",
          "2021-07-31T07:33:20.747207",
          "2021-08-04T17:45:16.095076",
          "2021-08-09T03:57:11.442945",
          "2021-08-13T14:09:06.790814",
          "2021-08-18T00:21:02.138683",
          "2021-08-22T10:32:57.486552",
          "2021-08-26T20:44:52.834420",
          "2021-08-31T06:56:48.182289",
          "2021-09-04T17:08:43.530158",
          "2021-09-09T03:20:38.878027",
          "2021-09-13T13:32:34.225896",
          "2021-09-17T23:44:29.573765",
          "2021-09-22T09:56:24.921633",
          "2021-09-26T20:08:20.269502",
          "2021-10-01T06:20:15.617371",
          "2021-10-05T16:32:10.965240",
          "2021-10-10T02:44:06.313109",
          "2021-10-14T12:56:01.660978",
          "2021-10-18T23:07:57.008846",
          "2021-10-23T09:19:52.356715",
          "2021-10-27T19:31:47.704584",
          "2021-11-01T05:43:43.052453",
          "2021-11-05T15:55:38.400322",
          "2021-11-10T02:07:33.748190",
          "2021-11-14T12:19:29.096059",
          "2021-11-18T22:31:24.443928",
          "2021-11-23T08:43:19.791797",
          "2021-11-27T18:55:15.139666",
          "2021-12-02T05:07:10.487535",
          "2021-12-06T15:19:05.835403",
          "2021-12-11T01:31:01.183272",
          "2021-12-15T11:42:56.531141",
          "2021-12-19T21:54:51.879010",
          "2021-12-24T08:06:47.226879",
          "2021-12-28T18:18:42.574748",
          "2022-01-02T04:30:37.922616",
          "2022-01-06T14:42:33.270485",
          "2022-01-11T00:54:28.618354",
          "2022-01-15T11:06:23.966223",
          "2022-01-19T21:18:19.314092",
          "2022-01-24T07:30:14.661961",
          "2022-01-28T17:42:10.009829",
          "2022-02-02T03:54:05.357698",
          "2022-02-06T14:06:00.705567",
          "2022-02-11T00:17:56.053436",
          "2022-02-15T10:29:51.401305",
          "2022-02-19T20:41:46.749173",
          "2022-02-24T06:53:42.097042",
          "2022-02-28T17:05:37.444911",
          "2022-03-05T03:17:32.792780",
          "2022-03-09T13:29:28.140649",
          "2022-03-13T23:41:23.488518",
          "2022-03-18T09:53:18.836386",
          "2022-03-22T20:05:14.184255",
          "2022-03-27T06:17:09.532124",
          "2022-03-31T16:29:04.879993",
          "2022-04-05T02:41:00.227862",
          "2022-04-09T12:52:55.575731",
          "2022-04-13T23:04:50.923599",
          "2022-04-18T09:16:46.271468",
          "2022-04-22T19:28:41.619337",
          "2022-04-27T05:40:36.967206",
          "2022-05-01T15:52:32.315075",
          "2022-05-06T02:04:27.662943",
          "2022-05-10T12:16:23.010812",
          "2022-05-14T22:28:18.358681",
          "2022-05-19T08:40:13.706550",
          "2022-05-23T18:52:09.054419",
          "2022-05-28T05:04:04.402288",
          "2022-06-01T15:15:59.750156",
          "2022-06-06T01:27:55.098025",
          "2022-06-10T11:39:50.445894",
          "2022-06-14T21:51:45.793763",
          "2022-06-19T08:03:41.141632",
          "2022-06-23T18:15:36.489501",
          "2022-06-28T04:27:31.837369",
          "2022-07-02T14:39:27.185238",
          "2022-07-07T00:51:22.533107",
          "2022-07-11T11:03:17.880976",
          "2022-07-15T21:15:13.228845",
          "2022-07-20T07:27:08.576714",
          "2022-07-24T17:39:03.924582",
          "2022-07-29T03:50:59.272451",
          "2022-08-02T14:02:54.620320",
          "2022-08-07T00:14:49.968189",
          "2022-08-11T10:26:45.316058",
          "2022-08-15T20:38:40.663926",
          "2022-08-20T06:50:36.011795",
          "2022-08-24T17:02:31.359664",
          "2022-08-29T03:14:26.707533",
          "2022-09-02T13:26:22.055402",
          "2022-09-06T23:38:17.403271",
          "2022-09-11T09:50:12.751139",
          "2022-09-15T20:02:08.099008",
          "2022-09-20T06:14:03.446877",
          "2022-09-24T16:25:58.794746",
          "2022-09-29T02:37:54.142615",
          "2022-10-03T12:49:49.490484",
          "2022-10-07T23:01:44.838352",
          "2022-10-12T09:13:40.186221",
          "2022-10-16T19:25:35.534090",
          "2022-10-21T05:37:30.881959",
          "2022-10-25T15:49:26.229828",
          "2022-10-30T02:01:21.577696",
          "2022-11-03T12:13:16.925565",
          "2022-11-07T22:25:12.273434",
          "2022-11-12T08:37:07.621303",
          "2022-11-16T18:49:02.969172",
          "2022-11-21T05:00:58.317041",
          "2022-11-25T15:12:53.664909",
          "2022-11-30T01:24:49.012778",
          "2022-12-04T11:36:44.360647",
          "2022-12-08T21:48:39.708516",
          "2022-12-13T08:00:35.056385",
          "2022-12-17T18:12:30.404254",
          "2022-12-22T04:24:25.752122",
          "2022-12-26T14:36:21.099991",
          "2022-12-31T00:48:16.447860",
          "2023-01-04T11:00:11.795729",
          "2023-01-08T21:12:07.143598",
          "2023-01-13T07:24:02.491467",
          "2023-01-17T17:35:57.839335",
          "2023-01-22T03:47:53.187204",
          "2023-01-26T13:59:48.535073",
          "2023-01-31T00:11:43.882942",
          "2023-02-04T10:23:39.230811",
          "2023-02-08T20:35:34.578679",
          "2023-02-13T06:47:29.926548",
          "2023-02-17T16:59:25.274417",
          "2023-02-22T03:11:20.622286",
          "2023-02-26T13:23:15.970155",
          "2023-03-02T23:35:11.318024",
          "2023-03-07T09:47:06.665892",
          "2023-03-11T19:59:02.013761",
          "2023-03-16T06:10:57.361630",
          "2023-03-20T16:22:52.709499",
          "2023-03-25T02:34:48.057368",
          "2023-03-29T12:46:43.405237",
          "2023-04-02T22:58:38.753105",
          "2023-04-07T09:10:34.100974",
          "2023-04-11T19:22:29.448843",
          "2023-04-16T05:34:24.796712",
          "2023-04-20T15:46:20.144581",
          "2023-04-25T01:58:15.492450",
          "2023-04-29T12:10:10.840318",
          "2023-05-03T22:22:06.188187",
          "2023-05-08T08:34:01.536056",
          "2023-05-12T18:45:56.883925",
          "2023-05-17T04:57:52.231794",
          "2023-05-21T15:09:47.579662",
          "2023-05-26T01:21:42.927531",
          "2023-05-30T11:33:38.275400",
          "2023-06-03T21:45:33.623269",
          "2023-06-08T07:57:28.971138",
          "2023-06-12T18:09:24.319007",
          "2023-06-17T04:21:19.666875",
          "2023-06-21T14:33:15.014744",
          "2023-06-26T00:45:10.362613",
          "2023-06-30T10:57:05.710482",
          "2023-07-04T21:09:01.058351",
          "2023-07-09T07:20:56.406220",
          "2023-07-13T17:32:51.754088",
          "2023-07-18T03:44:47.101957",
          "2023-07-22T13:56:42.449826",
          "2023-07-27T00:08:37.797695",
          "2023-07-31T10:20:33.145564",
          "2023-08-04T20:32:28.493432",
          "2023-08-09T06:44:23.841301",
          "2023-08-13T16:56:19.189170",
          "2023-08-18T03:08:14.537039",
          "2023-08-22T13:20:09.884908",
          "2023-08-26T23:32:05.232777",
          "2023-08-31T09:44:00.580645",
          "2023-09-04T19:55:55.928514",
          "2023-09-09T06:07:51.276383",
          "2023-09-13T16:19:46.624252",
          "2023-09-18T02:31:41.972121",
          "2023-09-22T12:43:37.319990",
          "2023-09-26T22:55:32.667858",
          "2023-10-01T09:07:28.015727",
          "2023-10-05T19:19:23.363596",
          "2023-10-10T05:31:18.711465",
          "2023-10-14T15:43:14.059334",
          "2023-10-19T01:55:09.407203",
          "2023-10-23T12:07:04.755071",
          "2023-10-27T22:19:00.102940",
          "2023-11-01T08:30:55.450809",
          "2023-11-05T18:42:50.798678",
          "2023-11-10T04:54:46.146547",
          "2023-11-14T15:06:41.494415",
          "2023-11-19T01:18:36.842284",
          "2023-11-23T11:30:32.190153",
          "2023-11-27T21:42:27.538022",
          "2023-12-02T07:54:22.885891",
          "2023-12-06T18:06:18.233760",
          "2023-12-11T04:18:13.581628",
          "2023-12-15T14:30:08.929497",
          "2023-12-20T00:42:04.277366",
          "2023-12-24T10:53:59.625235",
          "2023-12-28T21:05:54.973104",
          "2024-01-02T07:17:50.320973",
          "2024-01-06T17:29:45.668841",
          "2024-01-11T03:41:41.016710",
          "2024-01-15T13:53:36.364579",
          "2024-01-20T00:05:31.712448",
          "2024-01-24T10:17:27.060317",
          "2024-01-28T20:29:22.408186",
          "2024-02-02T06:41:17.756054",
          "2024-02-06T16:53:13.103923",
          "2024-02-11T03:05:08.451792",
          "2024-02-15T13:17:03.799661",
          "2024-02-19T23:28:59.147530",
          "2024-02-24T09:40:54.495398",
          "2024-02-28T19:52:49.843267",
          "2024-03-04T06:04:45.191136",
          "2024-03-08T16:16:40.539005",
          "2024-03-13T02:28:35.886874",
          "2024-03-17T12:40:31.234743",
          "2024-03-21T22:52:26.582611",
          "2024-03-26T09:04:21.930480",
          "2024-03-30T19:16:17.278349",
          "2024-04-04T05:28:12.626218",
          "2024-04-08T15:40:07.974087",
          "2024-04-13T01:52:03.321956"
         ],
         "y": [
          0,
          0,
          0,
          0,
          0,
          0,
          0,
          0,
          0,
          0,
          0,
          0,
          0,
          0,
          0,
          0,
          0,
          0,
          0,
          0,
          0,
          0,
          0,
          0,
          0,
          0,
          0,
          0,
          0,
          0,
          0,
          0,
          0,
          0,
          0,
          0,
          0,
          0,
          0,
          0,
          0,
          0,
          0,
          0,
          0,
          0,
          0,
          0,
          0,
          0,
          0,
          0,
          0,
          0,
          0,
          0,
          0,
          0,
          0,
          0,
          0,
          0,
          0,
          0,
          0,
          0,
          0,
          0,
          0,
          0,
          0,
          0,
          0,
          0,
          0,
          0,
          0,
          0,
          0,
          0,
          0,
          0,
          0,
          0,
          0,
          0,
          0,
          0,
          0,
          0,
          0,
          0,
          0,
          0,
          0,
          0,
          0,
          0,
          0,
          0,
          0,
          0,
          0,
          0,
          0,
          0,
          0,
          0,
          0,
          0,
          0,
          0,
          0,
          0,
          0,
          0,
          0,
          0,
          0,
          0,
          0,
          0,
          0,
          0,
          0,
          0,
          0,
          0,
          0,
          0,
          0,
          0,
          0,
          0,
          0,
          0,
          0,
          0,
          0,
          0,
          0,
          0,
          0,
          0,
          0,
          0,
          0,
          0,
          0,
          0,
          0,
          0,
          0,
          0,
          0,
          0,
          0,
          0,
          0,
          0,
          0,
          0,
          0,
          0,
          0,
          0,
          0,
          0,
          0,
          0,
          0,
          0,
          0,
          0,
          0,
          0,
          0,
          0,
          0,
          0,
          0,
          0,
          0,
          0,
          0,
          0,
          0,
          0,
          0,
          0,
          0,
          0,
          0,
          0,
          0,
          0,
          0,
          0,
          0,
          0,
          0,
          0,
          0,
          0,
          0,
          0,
          0,
          0,
          0,
          0,
          0,
          0,
          0,
          0,
          0,
          0,
          0,
          0,
          0,
          0,
          0,
          0,
          0,
          0,
          0,
          0,
          0,
          0,
          0,
          0,
          0,
          0,
          0,
          0,
          0,
          0,
          0,
          0,
          0,
          0,
          0,
          0,
          0,
          0,
          0,
          0,
          0,
          0,
          0,
          0,
          0,
          0,
          0,
          0,
          0,
          0,
          0,
          0,
          0,
          0,
          0,
          0,
          0,
          0,
          0,
          0,
          0,
          0,
          0,
          0,
          0,
          0,
          0,
          0,
          0,
          0,
          0,
          0,
          0,
          0,
          0,
          0,
          0,
          0,
          0,
          0,
          0,
          0,
          0,
          0,
          0,
          0,
          0,
          0,
          0,
          0,
          0,
          0,
          0,
          0,
          0,
          0,
          0,
          0,
          0,
          0,
          0,
          0,
          0,
          0,
          0,
          0,
          0,
          0,
          0,
          0,
          0,
          0,
          0,
          0,
          0,
          0,
          0,
          0,
          0,
          0,
          0,
          0,
          0,
          0,
          0,
          0,
          0,
          0,
          0,
          0,
          0,
          0,
          0,
          0,
          0,
          0,
          0,
          0,
          0,
          0,
          0,
          0,
          0,
          0,
          0,
          0,
          0,
          0,
          0,
          0,
          0,
          0,
          0,
          0,
          0,
          0,
          0,
          0,
          0,
          0,
          0,
          0,
          0,
          0,
          0,
          0,
          0,
          0,
          0,
          0,
          0,
          0,
          0,
          0,
          0,
          0,
          0,
          0,
          0,
          0,
          0,
          0,
          0,
          0,
          0,
          0,
          0,
          0,
          0,
          0,
          0,
          0,
          0,
          0,
          0,
          0,
          0,
          0,
          0,
          0,
          0,
          0,
          0,
          0,
          0,
          0,
          0
         ]
        }
       ],
       "layout": {
        "shapes": [
         {
          "line": {
           "color": "red",
           "dash": "dash",
           "width": 2
          },
          "type": "line",
          "x0": "2019-04-17T00:00:00",
          "x1": "2024-04-13T01:52:03.321956032",
          "y0": 100,
          "y1": 100
         },
         {
          "fillcolor": "red",
          "line": {
           "width": 0
          },
          "opacity": 0.2,
          "type": "rect",
          "x0": "2019-04-17T00:00:00",
          "x1": "2024-04-13T01:52:03.321956032",
          "xref": "x",
          "y0": 0.16666666666666666,
          "y1": 1,
          "yref": "y domain"
         }
        ],
        "template": {
         "data": {
          "bar": [
           {
            "error_x": {
             "color": "#2a3f5f"
            },
            "error_y": {
             "color": "#2a3f5f"
            },
            "marker": {
             "line": {
              "color": "#E5ECF6",
              "width": 0.5
             },
             "pattern": {
              "fillmode": "overlay",
              "size": 10,
              "solidity": 0.2
             }
            },
            "type": "bar"
           }
          ],
          "barpolar": [
           {
            "marker": {
             "line": {
              "color": "#E5ECF6",
              "width": 0.5
             },
             "pattern": {
              "fillmode": "overlay",
              "size": 10,
              "solidity": 0.2
             }
            },
            "type": "barpolar"
           }
          ],
          "carpet": [
           {
            "aaxis": {
             "endlinecolor": "#2a3f5f",
             "gridcolor": "white",
             "linecolor": "white",
             "minorgridcolor": "white",
             "startlinecolor": "#2a3f5f"
            },
            "baxis": {
             "endlinecolor": "#2a3f5f",
             "gridcolor": "white",
             "linecolor": "white",
             "minorgridcolor": "white",
             "startlinecolor": "#2a3f5f"
            },
            "type": "carpet"
           }
          ],
          "choropleth": [
           {
            "colorbar": {
             "outlinewidth": 0,
             "ticks": ""
            },
            "type": "choropleth"
           }
          ],
          "contour": [
           {
            "colorbar": {
             "outlinewidth": 0,
             "ticks": ""
            },
            "colorscale": [
             [
              0,
              "#0d0887"
             ],
             [
              0.1111111111111111,
              "#46039f"
             ],
             [
              0.2222222222222222,
              "#7201a8"
             ],
             [
              0.3333333333333333,
              "#9c179e"
             ],
             [
              0.4444444444444444,
              "#bd3786"
             ],
             [
              0.5555555555555556,
              "#d8576b"
             ],
             [
              0.6666666666666666,
              "#ed7953"
             ],
             [
              0.7777777777777778,
              "#fb9f3a"
             ],
             [
              0.8888888888888888,
              "#fdca26"
             ],
             [
              1,
              "#f0f921"
             ]
            ],
            "type": "contour"
           }
          ],
          "contourcarpet": [
           {
            "colorbar": {
             "outlinewidth": 0,
             "ticks": ""
            },
            "type": "contourcarpet"
           }
          ],
          "heatmap": [
           {
            "colorbar": {
             "outlinewidth": 0,
             "ticks": ""
            },
            "colorscale": [
             [
              0,
              "#0d0887"
             ],
             [
              0.1111111111111111,
              "#46039f"
             ],
             [
              0.2222222222222222,
              "#7201a8"
             ],
             [
              0.3333333333333333,
              "#9c179e"
             ],
             [
              0.4444444444444444,
              "#bd3786"
             ],
             [
              0.5555555555555556,
              "#d8576b"
             ],
             [
              0.6666666666666666,
              "#ed7953"
             ],
             [
              0.7777777777777778,
              "#fb9f3a"
             ],
             [
              0.8888888888888888,
              "#fdca26"
             ],
             [
              1,
              "#f0f921"
             ]
            ],
            "type": "heatmap"
           }
          ],
          "heatmapgl": [
           {
            "colorbar": {
             "outlinewidth": 0,
             "ticks": ""
            },
            "colorscale": [
             [
              0,
              "#0d0887"
             ],
             [
              0.1111111111111111,
              "#46039f"
             ],
             [
              0.2222222222222222,
              "#7201a8"
             ],
             [
              0.3333333333333333,
              "#9c179e"
             ],
             [
              0.4444444444444444,
              "#bd3786"
             ],
             [
              0.5555555555555556,
              "#d8576b"
             ],
             [
              0.6666666666666666,
              "#ed7953"
             ],
             [
              0.7777777777777778,
              "#fb9f3a"
             ],
             [
              0.8888888888888888,
              "#fdca26"
             ],
             [
              1,
              "#f0f921"
             ]
            ],
            "type": "heatmapgl"
           }
          ],
          "histogram": [
           {
            "marker": {
             "pattern": {
              "fillmode": "overlay",
              "size": 10,
              "solidity": 0.2
             }
            },
            "type": "histogram"
           }
          ],
          "histogram2d": [
           {
            "colorbar": {
             "outlinewidth": 0,
             "ticks": ""
            },
            "colorscale": [
             [
              0,
              "#0d0887"
             ],
             [
              0.1111111111111111,
              "#46039f"
             ],
             [
              0.2222222222222222,
              "#7201a8"
             ],
             [
              0.3333333333333333,
              "#9c179e"
             ],
             [
              0.4444444444444444,
              "#bd3786"
             ],
             [
              0.5555555555555556,
              "#d8576b"
             ],
             [
              0.6666666666666666,
              "#ed7953"
             ],
             [
              0.7777777777777778,
              "#fb9f3a"
             ],
             [
              0.8888888888888888,
              "#fdca26"
             ],
             [
              1,
              "#f0f921"
             ]
            ],
            "type": "histogram2d"
           }
          ],
          "histogram2dcontour": [
           {
            "colorbar": {
             "outlinewidth": 0,
             "ticks": ""
            },
            "colorscale": [
             [
              0,
              "#0d0887"
             ],
             [
              0.1111111111111111,
              "#46039f"
             ],
             [
              0.2222222222222222,
              "#7201a8"
             ],
             [
              0.3333333333333333,
              "#9c179e"
             ],
             [
              0.4444444444444444,
              "#bd3786"
             ],
             [
              0.5555555555555556,
              "#d8576b"
             ],
             [
              0.6666666666666666,
              "#ed7953"
             ],
             [
              0.7777777777777778,
              "#fb9f3a"
             ],
             [
              0.8888888888888888,
              "#fdca26"
             ],
             [
              1,
              "#f0f921"
             ]
            ],
            "type": "histogram2dcontour"
           }
          ],
          "mesh3d": [
           {
            "colorbar": {
             "outlinewidth": 0,
             "ticks": ""
            },
            "type": "mesh3d"
           }
          ],
          "parcoords": [
           {
            "line": {
             "colorbar": {
              "outlinewidth": 0,
              "ticks": ""
             }
            },
            "type": "parcoords"
           }
          ],
          "pie": [
           {
            "automargin": true,
            "type": "pie"
           }
          ],
          "scatter": [
           {
            "fillpattern": {
             "fillmode": "overlay",
             "size": 10,
             "solidity": 0.2
            },
            "type": "scatter"
           }
          ],
          "scatter3d": [
           {
            "line": {
             "colorbar": {
              "outlinewidth": 0,
              "ticks": ""
             }
            },
            "marker": {
             "colorbar": {
              "outlinewidth": 0,
              "ticks": ""
             }
            },
            "type": "scatter3d"
           }
          ],
          "scattercarpet": [
           {
            "marker": {
             "colorbar": {
              "outlinewidth": 0,
              "ticks": ""
             }
            },
            "type": "scattercarpet"
           }
          ],
          "scattergeo": [
           {
            "marker": {
             "colorbar": {
              "outlinewidth": 0,
              "ticks": ""
             }
            },
            "type": "scattergeo"
           }
          ],
          "scattergl": [
           {
            "marker": {
             "colorbar": {
              "outlinewidth": 0,
              "ticks": ""
             }
            },
            "type": "scattergl"
           }
          ],
          "scattermapbox": [
           {
            "marker": {
             "colorbar": {
              "outlinewidth": 0,
              "ticks": ""
             }
            },
            "type": "scattermapbox"
           }
          ],
          "scatterpolar": [
           {
            "marker": {
             "colorbar": {
              "outlinewidth": 0,
              "ticks": ""
             }
            },
            "type": "scatterpolar"
           }
          ],
          "scatterpolargl": [
           {
            "marker": {
             "colorbar": {
              "outlinewidth": 0,
              "ticks": ""
             }
            },
            "type": "scatterpolargl"
           }
          ],
          "scatterternary": [
           {
            "marker": {
             "colorbar": {
              "outlinewidth": 0,
              "ticks": ""
             }
            },
            "type": "scatterternary"
           }
          ],
          "surface": [
           {
            "colorbar": {
             "outlinewidth": 0,
             "ticks": ""
            },
            "colorscale": [
             [
              0,
              "#0d0887"
             ],
             [
              0.1111111111111111,
              "#46039f"
             ],
             [
              0.2222222222222222,
              "#7201a8"
             ],
             [
              0.3333333333333333,
              "#9c179e"
             ],
             [
              0.4444444444444444,
              "#bd3786"
             ],
             [
              0.5555555555555556,
              "#d8576b"
             ],
             [
              0.6666666666666666,
              "#ed7953"
             ],
             [
              0.7777777777777778,
              "#fb9f3a"
             ],
             [
              0.8888888888888888,
              "#fdca26"
             ],
             [
              1,
              "#f0f921"
             ]
            ],
            "type": "surface"
           }
          ],
          "table": [
           {
            "cells": {
             "fill": {
              "color": "#EBF0F8"
             },
             "line": {
              "color": "white"
             }
            },
            "header": {
             "fill": {
              "color": "#C8D4E3"
             },
             "line": {
              "color": "white"
             }
            },
            "type": "table"
           }
          ]
         },
         "layout": {
          "annotationdefaults": {
           "arrowcolor": "#2a3f5f",
           "arrowhead": 0,
           "arrowwidth": 1
          },
          "autotypenumbers": "strict",
          "coloraxis": {
           "colorbar": {
            "outlinewidth": 0,
            "ticks": ""
           }
          },
          "colorscale": {
           "diverging": [
            [
             0,
             "#8e0152"
            ],
            [
             0.1,
             "#c51b7d"
            ],
            [
             0.2,
             "#de77ae"
            ],
            [
             0.3,
             "#f1b6da"
            ],
            [
             0.4,
             "#fde0ef"
            ],
            [
             0.5,
             "#f7f7f7"
            ],
            [
             0.6,
             "#e6f5d0"
            ],
            [
             0.7,
             "#b8e186"
            ],
            [
             0.8,
             "#7fbc41"
            ],
            [
             0.9,
             "#4d9221"
            ],
            [
             1,
             "#276419"
            ]
           ],
           "sequential": [
            [
             0,
             "#0d0887"
            ],
            [
             0.1111111111111111,
             "#46039f"
            ],
            [
             0.2222222222222222,
             "#7201a8"
            ],
            [
             0.3333333333333333,
             "#9c179e"
            ],
            [
             0.4444444444444444,
             "#bd3786"
            ],
            [
             0.5555555555555556,
             "#d8576b"
            ],
            [
             0.6666666666666666,
             "#ed7953"
            ],
            [
             0.7777777777777778,
             "#fb9f3a"
            ],
            [
             0.8888888888888888,
             "#fdca26"
            ],
            [
             1,
             "#f0f921"
            ]
           ],
           "sequentialminus": [
            [
             0,
             "#0d0887"
            ],
            [
             0.1111111111111111,
             "#46039f"
            ],
            [
             0.2222222222222222,
             "#7201a8"
            ],
            [
             0.3333333333333333,
             "#9c179e"
            ],
            [
             0.4444444444444444,
             "#bd3786"
            ],
            [
             0.5555555555555556,
             "#d8576b"
            ],
            [
             0.6666666666666666,
             "#ed7953"
            ],
            [
             0.7777777777777778,
             "#fb9f3a"
            ],
            [
             0.8888888888888888,
             "#fdca26"
            ],
            [
             1,
             "#f0f921"
            ]
           ]
          },
          "colorway": [
           "#636efa",
           "#EF553B",
           "#00cc96",
           "#ab63fa",
           "#FFA15A",
           "#19d3f3",
           "#FF6692",
           "#B6E880",
           "#FF97FF",
           "#FECB52"
          ],
          "font": {
           "color": "#2a3f5f"
          },
          "geo": {
           "bgcolor": "white",
           "lakecolor": "white",
           "landcolor": "#E5ECF6",
           "showlakes": true,
           "showland": true,
           "subunitcolor": "white"
          },
          "hoverlabel": {
           "align": "left"
          },
          "hovermode": "closest",
          "mapbox": {
           "style": "light"
          },
          "paper_bgcolor": "white",
          "plot_bgcolor": "#E5ECF6",
          "polar": {
           "angularaxis": {
            "gridcolor": "white",
            "linecolor": "white",
            "ticks": ""
           },
           "bgcolor": "#E5ECF6",
           "radialaxis": {
            "gridcolor": "white",
            "linecolor": "white",
            "ticks": ""
           }
          },
          "scene": {
           "xaxis": {
            "backgroundcolor": "#E5ECF6",
            "gridcolor": "white",
            "gridwidth": 2,
            "linecolor": "white",
            "showbackground": true,
            "ticks": "",
            "zerolinecolor": "white"
           },
           "yaxis": {
            "backgroundcolor": "#E5ECF6",
            "gridcolor": "white",
            "gridwidth": 2,
            "linecolor": "white",
            "showbackground": true,
            "ticks": "",
            "zerolinecolor": "white"
           },
           "zaxis": {
            "backgroundcolor": "#E5ECF6",
            "gridcolor": "white",
            "gridwidth": 2,
            "linecolor": "white",
            "showbackground": true,
            "ticks": "",
            "zerolinecolor": "white"
           }
          },
          "shapedefaults": {
           "line": {
            "color": "#2a3f5f"
           }
          },
          "ternary": {
           "aaxis": {
            "gridcolor": "white",
            "linecolor": "white",
            "ticks": ""
           },
           "baxis": {
            "gridcolor": "white",
            "linecolor": "white",
            "ticks": ""
           },
           "bgcolor": "#E5ECF6",
           "caxis": {
            "gridcolor": "white",
            "linecolor": "white",
            "ticks": ""
           }
          },
          "title": {
           "x": 0.05
          },
          "xaxis": {
           "automargin": true,
           "gridcolor": "white",
           "linecolor": "white",
           "ticks": "",
           "title": {
            "standoff": 15
           },
           "zerolinecolor": "white",
           "zerolinewidth": 2
          },
          "yaxis": {
           "automargin": true,
           "gridcolor": "white",
           "linecolor": "white",
           "ticks": "",
           "title": {
            "standoff": 15
           },
           "zerolinecolor": "white",
           "zerolinewidth": 2
          }
         }
        },
        "title": {
         "text": "Time Series Data with Threshold"
        },
        "xaxis": {
         "title": {
          "text": "Date"
         }
        },
        "yaxis": {
         "range": [
          0,
          600
         ],
         "tickvals": [
          0,
          100,
          600
         ],
         "title": {
          "text": "Value"
         }
        }
       }
      }
     },
     "metadata": {},
     "output_type": "display_data"
    }
   ],
   "source": [
    "fig = go.Figure()\n",
    "\n",
    "# Plot each time series\n",
    "for series in df_cumsum.columns:\n",
    "    fig.add_trace(go.Scatter(x=df_cumsum.index, y=df_cumsum[series], mode='lines', name=series))\n",
    "    # Find first index where series exceeds threshold\n",
    "    exceed = df_cumsum[df_cumsum[series] >= threshold]\n",
    "    if not exceed.empty:\n",
    "        first_exceed = exceed.index[0]\n",
    "        fig.add_trace(go.Scatter(x=[first_exceed], y=[df_cumsum.loc[first_exceed, series]], mode='markers', marker_symbol='circle', marker_color='red', marker_size=10))\n",
    "\n",
    "# Add threshold line and shaded area\n",
    "fig.add_shape(type=\"line\",\n",
    "              x0=df_cumsum.index[0], x1=df_cumsum.index[-1],\n",
    "              y0=threshold, y1=threshold,\n",
    "              line=dict(dash=\"dash\", color=\"red\", width=2))\n",
    "fig.add_vrect(x0=df_cumsum.index[0], x1=df_cumsum.index[-1],\n",
    "              fillcolor=\"red\", opacity=0.2,\n",
    "              line_width=0,\n",
    "              y0=threshold/next_hundred, y1=1)  # Use next_hundred directly\n",
    "\n",
    "# Update layout for y-axis ticks\n",
    "fig.update_layout(\n",
    "    title=\"Time Series Data with Threshold\",\n",
    "    xaxis_title=\"Date\",\n",
    "    yaxis_title=\"Value\",\n",
    "    yaxis=dict(tickvals=[0, threshold, next_hundred], range=[0, next_hundred])\n",
    ")\n",
    "\n",
    "# Show the plot\n",
    "fig.show()"
   ]
  },
  {
   "cell_type": "code",
   "execution_count": 20,
   "metadata": {},
   "outputs": [],
   "source": [
    "from datetime import datetime"
   ]
  },
  {
   "cell_type": "code",
   "execution_count": 21,
   "metadata": {},
   "outputs": [
    {
     "name": "stdout",
     "output_type": "stream",
     "text": [
      "{\n",
      "    \"x\": [\n",
      "        \"2019-04-17T00:00:00\",\n",
      "        \"2019-04-21T10:11:55.347868825\",\n",
      "        \"2019-04-25T20:23:50.695737650\",\n",
      "        \"2019-04-30T06:35:46.043606476\",\n",
      "        \"2019-05-04T16:47:41.391475301\",\n",
      "        \"2019-05-09T02:59:36.739344126\",\n",
      "        \"2019-05-13T13:11:32.087212952\",\n",
      "        \"2019-05-17T23:23:27.435081777\",\n",
      "        \"2019-05-22T09:35:22.782950602\",\n",
      "        \"2019-05-26T19:47:18.130819428\",\n",
      "        \"2019-05-31T05:59:13.478688253\",\n",
      "        \"2019-06-04T16:11:08.826557078\",\n",
      "        \"2019-06-09T02:23:04.174425904\",\n",
      "        \"2019-06-13T12:34:59.522294729\",\n",
      "        \"2019-06-17T22:46:54.870163555\",\n",
      "        \"2019-06-22T08:58:50.218032380\",\n",
      "        \"2019-06-26T19:10:45.565901205\",\n",
      "        \"2019-07-01T05:22:40.913770031\",\n",
      "        \"2019-07-05T15:34:36.261638856\",\n",
      "        \"2019-07-10T01:46:31.609507681\",\n",
      "        \"2019-07-14T11:58:26.957376507\",\n",
      "        \"2019-07-18T22:10:22.305245332\",\n",
      "        \"2019-07-23T08:22:17.653114157\",\n",
      "        \"2019-07-27T18:34:13.000982983\",\n",
      "        \"2019-08-01T04:46:08.348851808\",\n",
      "        \"2019-08-05T14:58:03.696720634\",\n",
      "        \"2019-08-10T01:09:59.044589458\",\n",
      "        \"2019-08-14T11:21:54.392458284\",\n",
      "        \"2019-08-18T21:33:49.740327110\",\n",
      "        \"2019-08-23T07:45:45.088195934\",\n",
      "        \"2019-08-27T17:57:40.436064760\",\n",
      "        \"2019-09-01T04:09:35.783933586\",\n",
      "        \"2019-09-05T14:21:31.131802410\",\n",
      "        \"2019-09-10T00:33:26.479671236\",\n",
      "        \"2019-09-14T10:45:21.827540062\",\n",
      "        \"2019-09-18T20:57:17.175408886\",\n",
      "        \"2019-09-23T07:09:12.523277712\",\n",
      "        \"2019-09-27T17:21:07.871146538\",\n",
      "        \"2019-10-02T03:33:03.219015362\",\n",
      "        \"2019-10-06T13:44:58.566884188\",\n",
      "        \"2019-10-10T23:56:53.914753014\",\n",
      "        \"2019-10-15T10:08:49.262621838\",\n",
      "        \"2019-10-19T20:20:44.610490664\",\n",
      "        \"2019-10-24T06:32:39.958359490\",\n",
      "        \"2019-10-28T16:44:35.306228314\",\n",
      "        \"2019-11-02T02:56:30.654097140\",\n",
      "        \"2019-11-06T13:08:26.001965966\",\n",
      "        \"2019-11-10T23:20:21.349834790\",\n",
      "        \"2019-11-15T09:32:16.697703616\",\n",
      "        \"2019-11-19T19:44:12.045572440\",\n",
      "        \"2019-11-24T05:56:07.393441268\",\n",
      "        \"2019-11-28T16:08:02.741310092\",\n",
      "        \"2019-12-03T02:19:58.089178916\",\n",
      "        \"2019-12-07T12:31:53.437047744\",\n",
      "        \"2019-12-11T22:43:48.784916568\",\n",
      "        \"2019-12-16T08:55:44.132785392\",\n",
      "        \"2019-12-20T19:07:39.480654220\",\n",
      "        \"2019-12-25T05:19:34.828523044\",\n",
      "        \"2019-12-29T15:31:30.176391868\",\n",
      "        \"2020-01-03T01:43:25.524260696\",\n",
      "        \"2020-01-07T11:55:20.872129520\",\n",
      "        \"2020-01-11T22:07:16.219998344\",\n",
      "        \"2020-01-16T08:19:11.567867172\",\n",
      "        \"2020-01-20T18:31:06.915735996\",\n",
      "        \"2020-01-25T04:43:02.263604820\",\n",
      "        \"2020-01-29T14:54:57.611473648\",\n",
      "        \"2020-02-03T01:06:52.959342472\",\n",
      "        \"2020-02-07T11:18:48.307211296\",\n",
      "        \"2020-02-11T21:30:43.655080124\",\n",
      "        \"2020-02-16T07:42:39.002948948\",\n",
      "        \"2020-02-20T17:54:34.350817772\",\n",
      "        \"2020-02-25T04:06:29.698686600\",\n",
      "        \"2020-02-29T14:18:25.046555424\",\n",
      "        \"2020-03-05T00:30:20.394424248\",\n",
      "        \"2020-03-09T10:42:15.742293076\",\n",
      "        \"2020-03-13T20:54:11.090161900\",\n",
      "        \"2020-03-18T07:06:06.438030724\",\n",
      "        \"2020-03-22T17:18:01.785899552\",\n",
      "        \"2020-03-27T03:29:57.133768376\",\n",
      "        \"2020-03-31T13:41:52.481637200\",\n",
      "        \"2020-04-04T23:53:47.829506028\",\n",
      "        \"2020-04-09T10:05:43.177374852\",\n",
      "        \"2020-04-13T20:17:38.525243676\",\n",
      "        \"2020-04-18T06:29:33.873112504\",\n",
      "        \"2020-04-22T16:41:29.220981328\",\n",
      "        \"2020-04-27T02:53:24.568850152\",\n",
      "        \"2020-05-01T13:05:19.916718980\",\n",
      "        \"2020-05-05T23:17:15.264587804\",\n",
      "        \"2020-05-10T09:29:10.612456628\",\n",
      "        \"2020-05-14T19:41:05.960325456\",\n",
      "        \"2020-05-19T05:53:01.308194280\",\n",
      "        \"2020-05-23T16:04:56.656063104\",\n",
      "        \"2020-05-28T02:16:52.003931932\",\n",
      "        \"2020-06-01T12:28:47.351800756\",\n",
      "        \"2020-06-05T22:40:42.699669580\",\n",
      "        \"2020-06-10T08:52:38.047538408\",\n",
      "        \"2020-06-14T19:04:33.395407232\",\n",
      "        \"2020-06-19T05:16:28.743276056\",\n",
      "        \"2020-06-23T15:28:24.091144880\",\n",
      "        \"2020-06-28T01:40:19.439013712\",\n",
      "        \"2020-07-02T11:52:14.786882536\",\n",
      "        \"2020-07-06T22:04:10.134751360\",\n",
      "        \"2020-07-11T08:16:05.482620184\",\n",
      "        \"2020-07-15T18:28:00.830489008\",\n",
      "        \"2020-07-20T04:39:56.178357832\",\n",
      "        \"2020-07-24T14:51:51.526226664\",\n",
      "        \"2020-07-29T01:03:46.874095488\",\n",
      "        \"2020-08-02T11:15:42.221964312\",\n",
      "        \"2020-08-06T21:27:37.569833136\",\n",
      "        \"2020-08-11T07:39:32.917701960\",\n",
      "        \"2020-08-15T17:51:28.265570784\",\n",
      "        \"2020-08-20T04:03:23.613439616\",\n",
      "        \"2020-08-24T14:15:18.961308440\",\n",
      "        \"2020-08-29T00:27:14.309177264\",\n",
      "        \"2020-09-02T10:39:09.657046088\",\n",
      "        \"2020-09-06T20:51:05.004914912\",\n",
      "        \"2020-09-11T07:03:00.352783736\",\n",
      "        \"2020-09-15T17:14:55.700652568\",\n",
      "        \"2020-09-20T03:26:51.048521392\",\n",
      "        \"2020-09-24T13:38:46.396390216\",\n",
      "        \"2020-09-28T23:50:41.744259040\",\n",
      "        \"2020-10-03T10:02:37.092127864\",\n",
      "        \"2020-10-07T20:14:32.439996688\",\n",
      "        \"2020-10-12T06:26:27.787865520\",\n",
      "        \"2020-10-16T16:38:23.135734344\",\n",
      "        \"2020-10-21T02:50:18.483603168\",\n",
      "        \"2020-10-25T13:02:13.831471992\",\n",
      "        \"2020-10-29T23:14:09.179340816\",\n",
      "        \"2020-11-03T09:26:04.527209640\",\n",
      "        \"2020-11-07T19:37:59.875078472\",\n",
      "        \"2020-11-12T05:49:55.222947296\",\n",
      "        \"2020-11-16T16:01:50.570816120\",\n",
      "        \"2020-11-21T02:13:45.918684944\",\n",
      "        \"2020-11-25T12:25:41.266553768\",\n",
      "        \"2020-11-29T22:37:36.614422592\",\n",
      "        \"2020-12-04T08:49:31.962291424\",\n",
      "        \"2020-12-08T19:01:27.310160248\",\n",
      "        \"2020-12-13T05:13:22.658029072\",\n",
      "        \"2020-12-17T15:25:18.005897896\",\n",
      "        \"2020-12-22T01:37:13.353766720\",\n",
      "        \"2020-12-26T11:49:08.701635544\",\n",
      "        \"2020-12-30T22:01:04.049504376\",\n",
      "        \"2021-01-04T08:12:59.397373200\",\n",
      "        \"2021-01-08T18:24:54.745242024\",\n",
      "        \"2021-01-13T04:36:50.093110848\",\n",
      "        \"2021-01-17T14:48:45.440979672\",\n",
      "        \"2021-01-22T01:00:40.788848496\",\n",
      "        \"2021-01-26T11:12:36.136717328\",\n",
      "        \"2021-01-30T21:24:31.484586152\",\n",
      "        \"2021-02-04T07:36:26.832454976\",\n",
      "        \"2021-02-08T17:48:22.180323800\",\n",
      "        \"2021-02-13T04:00:17.528192624\",\n",
      "        \"2021-02-17T14:12:12.876061448\",\n",
      "        \"2021-02-22T00:24:08.223930280\",\n",
      "        \"2021-02-26T10:36:03.571799104\",\n",
      "        \"2021-03-02T20:47:58.919667928\",\n",
      "        \"2021-03-07T06:59:54.267536752\",\n",
      "        \"2021-03-11T17:11:49.615405576\",\n",
      "        \"2021-03-16T03:23:44.963274400\",\n",
      "        \"2021-03-20T13:35:40.311143232\",\n",
      "        \"2021-03-24T23:47:35.659012056\",\n",
      "        \"2021-03-29T09:59:31.006880880\",\n",
      "        \"2021-04-02T20:11:26.354749704\",\n",
      "        \"2021-04-07T06:23:21.702618528\",\n",
      "        \"2021-04-11T16:35:17.050487352\",\n",
      "        \"2021-04-16T02:47:12.398356184\",\n",
      "        \"2021-04-20T12:59:07.746225008\",\n",
      "        \"2021-04-24T23:11:03.094093832\",\n",
      "        \"2021-04-29T09:22:58.441962656\",\n",
      "        \"2021-05-03T19:34:53.789831480\",\n",
      "        \"2021-05-08T05:46:49.137700304\",\n",
      "        \"2021-05-12T15:58:44.485569136\",\n",
      "        \"2021-05-17T02:10:39.833437960\",\n",
      "        \"2021-05-21T12:22:35.181306784\",\n",
      "        \"2021-05-25T22:34:30.529175608\",\n",
      "        \"2021-05-30T08:46:25.877044432\",\n",
      "        \"2021-06-03T18:58:21.224913256\",\n",
      "        \"2021-06-08T05:10:16.572782088\",\n",
      "        \"2021-06-12T15:22:11.920650912\",\n",
      "        \"2021-06-17T01:34:07.268519736\",\n",
      "        \"2021-06-21T11:46:02.616388560\",\n",
      "        \"2021-06-25T21:57:57.964257384\",\n",
      "        \"2021-06-30T08:09:53.312126208\",\n",
      "        \"2021-07-04T18:21:48.659995040\",\n",
      "        \"2021-07-09T04:33:44.007863864\",\n",
      "        \"2021-07-13T14:45:39.355732688\",\n",
      "        \"2021-07-18T00:57:34.703601512\",\n",
      "        \"2021-07-22T11:09:30.051470336\",\n",
      "        \"2021-07-26T21:21:25.399339160\",\n",
      "        \"2021-07-31T07:33:20.747207984\",\n",
      "        \"2021-08-04T17:45:16.095076816\",\n",
      "        \"2021-08-09T03:57:11.442945632\",\n",
      "        \"2021-08-13T14:09:06.790814464\",\n",
      "        \"2021-08-18T00:21:02.138683296\",\n",
      "        \"2021-08-22T10:32:57.486552112\",\n",
      "        \"2021-08-26T20:44:52.834420944\",\n",
      "        \"2021-08-31T06:56:48.182289760\",\n",
      "        \"2021-09-04T17:08:43.530158592\",\n",
      "        \"2021-09-09T03:20:38.878027424\",\n",
      "        \"2021-09-13T13:32:34.225896240\",\n",
      "        \"2021-09-17T23:44:29.573765072\",\n",
      "        \"2021-09-22T09:56:24.921633888\",\n",
      "        \"2021-09-26T20:08:20.269502720\",\n",
      "        \"2021-10-01T06:20:15.617371552\",\n",
      "        \"2021-10-05T16:32:10.965240368\",\n",
      "        \"2021-10-10T02:44:06.313109200\",\n",
      "        \"2021-10-14T12:56:01.660978016\",\n",
      "        \"2021-10-18T23:07:57.008846848\",\n",
      "        \"2021-10-23T09:19:52.356715664\",\n",
      "        \"2021-10-27T19:31:47.704584496\",\n",
      "        \"2021-11-01T05:43:43.052453328\",\n",
      "        \"2021-11-05T15:55:38.400322144\",\n",
      "        \"2021-11-10T02:07:33.748190976\",\n",
      "        \"2021-11-14T12:19:29.096059792\",\n",
      "        \"2021-11-18T22:31:24.443928624\",\n",
      "        \"2021-11-23T08:43:19.791797456\",\n",
      "        \"2021-11-27T18:55:15.139666272\",\n",
      "        \"2021-12-02T05:07:10.487535104\",\n",
      "        \"2021-12-06T15:19:05.835403920\",\n",
      "        \"2021-12-11T01:31:01.183272752\",\n",
      "        \"2021-12-15T11:42:56.531141568\",\n",
      "        \"2021-12-19T21:54:51.879010400\",\n",
      "        \"2021-12-24T08:06:47.226879232\",\n",
      "        \"2021-12-28T18:18:42.574748048\",\n",
      "        \"2022-01-02T04:30:37.922616880\",\n",
      "        \"2022-01-06T14:42:33.270485696\",\n",
      "        \"2022-01-11T00:54:28.618354528\",\n",
      "        \"2022-01-15T11:06:23.966223360\",\n",
      "        \"2022-01-19T21:18:19.314092176\",\n",
      "        \"2022-01-24T07:30:14.661961008\",\n",
      "        \"2022-01-28T17:42:10.009829824\",\n",
      "        \"2022-02-02T03:54:05.357698656\",\n",
      "        \"2022-02-06T14:06:00.705567472\",\n",
      "        \"2022-02-11T00:17:56.053436304\",\n",
      "        \"2022-02-15T10:29:51.401305136\",\n",
      "        \"2022-02-19T20:41:46.749173952\",\n",
      "        \"2022-02-24T06:53:42.097042784\",\n",
      "        \"2022-02-28T17:05:37.444911600\",\n",
      "        \"2022-03-05T03:17:32.792780432\",\n",
      "        \"2022-03-09T13:29:28.140649264\",\n",
      "        \"2022-03-13T23:41:23.488518080\",\n",
      "        \"2022-03-18T09:53:18.836386912\",\n",
      "        \"2022-03-22T20:05:14.184255728\",\n",
      "        \"2022-03-27T06:17:09.532124560\",\n",
      "        \"2022-03-31T16:29:04.879993376\",\n",
      "        \"2022-04-05T02:41:00.227862208\",\n",
      "        \"2022-04-09T12:52:55.575731040\",\n",
      "        \"2022-04-13T23:04:50.923599856\",\n",
      "        \"2022-04-18T09:16:46.271468688\",\n",
      "        \"2022-04-22T19:28:41.619337504\",\n",
      "        \"2022-04-27T05:40:36.967206336\",\n",
      "        \"2022-05-01T15:52:32.315075168\",\n",
      "        \"2022-05-06T02:04:27.662943984\",\n",
      "        \"2022-05-10T12:16:23.010812816\",\n",
      "        \"2022-05-14T22:28:18.358681632\",\n",
      "        \"2022-05-19T08:40:13.706550464\",\n",
      "        \"2022-05-23T18:52:09.054419280\",\n",
      "        \"2022-05-28T05:04:04.402288112\",\n",
      "        \"2022-06-01T15:15:59.750156944\",\n",
      "        \"2022-06-06T01:27:55.098025760\",\n",
      "        \"2022-06-10T11:39:50.445894592\",\n",
      "        \"2022-06-14T21:51:45.793763408\",\n",
      "        \"2022-06-19T08:03:41.141632240\",\n",
      "        \"2022-06-23T18:15:36.489501072\",\n",
      "        \"2022-06-28T04:27:31.837369888\",\n",
      "        \"2022-07-02T14:39:27.185238720\",\n",
      "        \"2022-07-07T00:51:22.533107536\",\n",
      "        \"2022-07-11T11:03:17.880976368\",\n",
      "        \"2022-07-15T21:15:13.228845184\",\n",
      "        \"2022-07-20T07:27:08.576714016\",\n",
      "        \"2022-07-24T17:39:03.924582848\",\n",
      "        \"2022-07-29T03:50:59.272451664\",\n",
      "        \"2022-08-02T14:02:54.620320496\",\n",
      "        \"2022-08-07T00:14:49.968189312\",\n",
      "        \"2022-08-11T10:26:45.316058144\",\n",
      "        \"2022-08-15T20:38:40.663926976\",\n",
      "        \"2022-08-20T06:50:36.011795792\",\n",
      "        \"2022-08-24T17:02:31.359664624\",\n",
      "        \"2022-08-29T03:14:26.707533440\",\n",
      "        \"2022-09-02T13:26:22.055402272\",\n",
      "        \"2022-09-06T23:38:17.403271088\",\n",
      "        \"2022-09-11T09:50:12.751139920\",\n",
      "        \"2022-09-15T20:02:08.099008752\",\n",
      "        \"2022-09-20T06:14:03.446877568\",\n",
      "        \"2022-09-24T16:25:58.794746400\",\n",
      "        \"2022-09-29T02:37:54.142615216\",\n",
      "        \"2022-10-03T12:49:49.490484048\",\n",
      "        \"2022-10-07T23:01:44.838352880\",\n",
      "        \"2022-10-12T09:13:40.186221696\",\n",
      "        \"2022-10-16T19:25:35.534090528\",\n",
      "        \"2022-10-21T05:37:30.881959344\",\n",
      "        \"2022-10-25T15:49:26.229828176\",\n",
      "        \"2022-10-30T02:01:21.577696992\",\n",
      "        \"2022-11-03T12:13:16.925565824\",\n",
      "        \"2022-11-07T22:25:12.273434656\",\n",
      "        \"2022-11-12T08:37:07.621303472\",\n",
      "        \"2022-11-16T18:49:02.969172304\",\n",
      "        \"2022-11-21T05:00:58.317041120\",\n",
      "        \"2022-11-25T15:12:53.664909952\",\n",
      "        \"2022-11-30T01:24:49.012778784\",\n",
      "        \"2022-12-04T11:36:44.360647600\",\n",
      "        \"2022-12-08T21:48:39.708516432\",\n",
      "        \"2022-12-13T08:00:35.056385248\",\n",
      "        \"2022-12-17T18:12:30.404254080\",\n",
      "        \"2022-12-22T04:24:25.752122896\",\n",
      "        \"2022-12-26T14:36:21.099991728\",\n",
      "        \"2022-12-31T00:48:16.447860560\",\n",
      "        \"2023-01-04T11:00:11.795729376\",\n",
      "        \"2023-01-08T21:12:07.143598208\",\n",
      "        \"2023-01-13T07:24:02.491467024\",\n",
      "        \"2023-01-17T17:35:57.839335856\",\n",
      "        \"2023-01-22T03:47:53.187204688\",\n",
      "        \"2023-01-26T13:59:48.535073504\",\n",
      "        \"2023-01-31T00:11:43.882942336\",\n",
      "        \"2023-02-04T10:23:39.230811152\",\n",
      "        \"2023-02-08T20:35:34.578679984\",\n",
      "        \"2023-02-13T06:47:29.926548800\",\n",
      "        \"2023-02-17T16:59:25.274417632\",\n",
      "        \"2023-02-22T03:11:20.622286464\",\n",
      "        \"2023-02-26T13:23:15.970155280\",\n",
      "        \"2023-03-02T23:35:11.318024112\",\n",
      "        \"2023-03-07T09:47:06.665892928\",\n",
      "        \"2023-03-11T19:59:02.013761760\",\n",
      "        \"2023-03-16T06:10:57.361630592\",\n",
      "        \"2023-03-20T16:22:52.709499408\",\n",
      "        \"2023-03-25T02:34:48.057368240\",\n",
      "        \"2023-03-29T12:46:43.405237056\",\n",
      "        \"2023-04-02T22:58:38.753105888\",\n",
      "        \"2023-04-07T09:10:34.100974704\",\n",
      "        \"2023-04-11T19:22:29.448843536\",\n",
      "        \"2023-04-16T05:34:24.796712368\",\n",
      "        \"2023-04-20T15:46:20.144581184\",\n",
      "        \"2023-04-25T01:58:15.492450016\",\n",
      "        \"2023-04-29T12:10:10.840318832\",\n",
      "        \"2023-05-03T22:22:06.188187664\",\n",
      "        \"2023-05-08T08:34:01.536056496\",\n",
      "        \"2023-05-12T18:45:56.883925312\",\n",
      "        \"2023-05-17T04:57:52.231794144\",\n",
      "        \"2023-05-21T15:09:47.579662960\",\n",
      "        \"2023-05-26T01:21:42.927531792\",\n",
      "        \"2023-05-30T11:33:38.275400608\",\n",
      "        \"2023-06-03T21:45:33.623269440\",\n",
      "        \"2023-06-08T07:57:28.971138272\",\n",
      "        \"2023-06-12T18:09:24.319007088\",\n",
      "        \"2023-06-17T04:21:19.666875920\",\n",
      "        \"2023-06-21T14:33:15.014744736\",\n",
      "        \"2023-06-26T00:45:10.362613568\",\n",
      "        \"2023-06-30T10:57:05.710482400\",\n",
      "        \"2023-07-04T21:09:01.058351216\",\n",
      "        \"2023-07-09T07:20:56.406220048\",\n",
      "        \"2023-07-13T17:32:51.754088864\",\n",
      "        \"2023-07-18T03:44:47.101957696\",\n",
      "        \"2023-07-22T13:56:42.449826512\",\n",
      "        \"2023-07-27T00:08:37.797695344\",\n",
      "        \"2023-07-31T10:20:33.145564176\",\n",
      "        \"2023-08-04T20:32:28.493432992\",\n",
      "        \"2023-08-09T06:44:23.841301824\",\n",
      "        \"2023-08-13T16:56:19.189170640\",\n",
      "        \"2023-08-18T03:08:14.537039472\",\n",
      "        \"2023-08-22T13:20:09.884908304\",\n",
      "        \"2023-08-26T23:32:05.232777120\",\n",
      "        \"2023-08-31T09:44:00.580645952\",\n",
      "        \"2023-09-04T19:55:55.928514768\",\n",
      "        \"2023-09-09T06:07:51.276383600\",\n",
      "        \"2023-09-13T16:19:46.624252416\",\n",
      "        \"2023-09-18T02:31:41.972121248\",\n",
      "        \"2023-09-22T12:43:37.319990080\",\n",
      "        \"2023-09-26T22:55:32.667858896\",\n",
      "        \"2023-10-01T09:07:28.015727728\",\n",
      "        \"2023-10-05T19:19:23.363596544\",\n",
      "        \"2023-10-10T05:31:18.711465376\",\n",
      "        \"2023-10-14T15:43:14.059334208\",\n",
      "        \"2023-10-19T01:55:09.407203024\",\n",
      "        \"2023-10-23T12:07:04.755071856\",\n",
      "        \"2023-10-27T22:19:00.102940672\",\n",
      "        \"2023-11-01T08:30:55.450809504\",\n",
      "        \"2023-11-05T18:42:50.798678320\",\n",
      "        \"2023-11-10T04:54:46.146547168\",\n",
      "        \"2023-11-14T15:06:41.494415968\",\n",
      "        \"2023-11-19T01:18:36.842284800\",\n",
      "        \"2023-11-23T11:30:32.190153632\",\n",
      "        \"2023-11-27T21:42:27.538022464\",\n",
      "        \"2023-12-02T07:54:22.885891264\",\n",
      "        \"2023-12-06T18:06:18.233760096\",\n",
      "        \"2023-12-11T04:18:13.581628928\",\n",
      "        \"2023-12-15T14:30:08.929497760\",\n",
      "        \"2023-12-20T00:42:04.277366592\",\n",
      "        \"2023-12-24T10:53:59.625235392\",\n",
      "        \"2023-12-28T21:05:54.973104224\",\n",
      "        \"2024-01-02T07:17:50.320973056\",\n",
      "        \"2024-01-06T17:29:45.668841888\",\n",
      "        \"2024-01-11T03:41:41.016710720\",\n",
      "        \"2024-01-15T13:53:36.364579520\",\n",
      "        \"2024-01-20T00:05:31.712448352\",\n",
      "        \"2024-01-24T10:17:27.060317184\",\n",
      "        \"2024-01-28T20:29:22.408186016\",\n",
      "        \"2024-02-02T06:41:17.756054848\",\n",
      "        \"2024-02-06T16:53:13.103923648\",\n",
      "        \"2024-02-11T03:05:08.451792480\",\n",
      "        \"2024-02-15T13:17:03.799661312\",\n",
      "        \"2024-02-19T23:28:59.147530144\",\n",
      "        \"2024-02-24T09:40:54.495398976\",\n",
      "        \"2024-02-28T19:52:49.843267776\",\n",
      "        \"2024-03-04T06:04:45.191136608\",\n",
      "        \"2024-03-08T16:16:40.539005440\",\n",
      "        \"2024-03-13T02:28:35.886874272\",\n",
      "        \"2024-03-17T12:40:31.234743104\",\n",
      "        \"2024-03-21T22:52:26.582611904\",\n",
      "        \"2024-03-26T09:04:21.930480736\",\n",
      "        \"2024-03-30T19:16:17.278349568\",\n",
      "        \"2024-04-04T05:28:12.626218400\",\n",
      "        \"2024-04-08T15:40:07.974087200\",\n",
      "        \"2024-04-13T01:52:03.321956032\"\n",
      "    ],\n",
      "    \"y\": {\n",
      "        \"Bearing1\": [\n",
      "            0.0,\n",
      "            1.0,\n",
      "            1.0,\n",
      "            1.0,\n",
      "            1.0,\n",
      "            1.0,\n",
      "            1.0,\n",
      "            1.0,\n",
      "            1.0,\n",
      "            1.0,\n",
      "            1.0,\n",
      "            1.0,\n",
      "            1.0,\n",
      "            1.0,\n",
      "            1.0,\n",
      "            1.0,\n",
      "            2.0,\n",
      "            2.0,\n",
      "            2.0,\n",
      "            2.0,\n",
      "            2.0,\n",
      "            2.0,\n",
      "            2.0,\n",
      "            2.0,\n",
      "            2.0,\n",
      "            3.0,\n",
      "            3.0,\n",
      "            3.0,\n",
      "            3.0,\n",
      "            3.0,\n",
      "            3.0,\n",
      "            3.0,\n",
      "            3.0,\n",
      "            3.0,\n",
      "            3.0,\n",
      "            3.0,\n",
      "            3.0,\n",
      "            3.0,\n",
      "            3.0,\n",
      "            3.0,\n",
      "            3.0,\n",
      "            3.0,\n",
      "            3.0,\n",
      "            3.0,\n",
      "            3.0,\n",
      "            3.0,\n",
      "            3.0,\n",
      "            3.0,\n",
      "            3.0,\n",
      "            3.0,\n",
      "            3.0,\n",
      "            3.0,\n",
      "            3.0,\n",
      "            3.0,\n",
      "            3.0,\n",
      "            3.0,\n",
      "            3.0,\n",
      "            3.0,\n",
      "            3.0,\n",
      "            3.0,\n",
      "            3.0,\n",
      "            3.0,\n",
      "            3.0,\n",
      "            3.0,\n",
      "            3.0,\n",
      "            3.0,\n",
      "            3.0,\n",
      "            3.0,\n",
      "            3.0,\n",
      "            3.0,\n",
      "            3.0,\n",
      "            3.0,\n",
      "            4.0,\n",
      "            4.0,\n",
      "            4.0,\n",
      "            4.0,\n",
      "            4.0,\n",
      "            4.0,\n",
      "            4.0,\n",
      "            4.0,\n",
      "            4.0,\n",
      "            4.0,\n",
      "            4.0,\n",
      "            4.0,\n",
      "            4.0,\n",
      "            4.0,\n",
      "            4.0,\n",
      "            4.0,\n",
      "            4.0,\n",
      "            4.0,\n",
      "            4.0,\n",
      "            4.0,\n",
      "            4.0,\n",
      "            4.0,\n",
      "            4.0,\n",
      "            4.0,\n",
      "            4.0,\n",
      "            4.0,\n",
      "            4.0,\n",
      "            4.0,\n",
      "            4.0,\n",
      "            4.0,\n",
      "            4.0,\n",
      "            4.0,\n",
      "            4.0,\n",
      "            4.0,\n",
      "            4.0,\n",
      "            4.0,\n",
      "            4.0,\n",
      "            4.0,\n",
      "            4.0,\n",
      "            4.0,\n",
      "            4.0,\n",
      "            4.0,\n",
      "            4.0,\n",
      "            4.0,\n",
      "            4.0,\n",
      "            4.0,\n",
      "            4.0,\n",
      "            4.0,\n",
      "            4.0,\n",
      "            4.0,\n",
      "            4.0,\n",
      "            4.0,\n",
      "            4.0,\n",
      "            4.0,\n",
      "            4.0,\n",
      "            4.0,\n",
      "            4.0,\n",
      "            4.0,\n",
      "            4.0,\n",
      "            4.0,\n",
      "            4.0,\n",
      "            4.0,\n",
      "            4.0,\n",
      "            4.0,\n",
      "            4.0,\n",
      "            4.0,\n",
      "            4.0,\n",
      "            4.0,\n",
      "            4.0,\n",
      "            4.0,\n",
      "            4.0,\n",
      "            4.0,\n",
      "            4.0,\n",
      "            4.0,\n",
      "            4.0,\n",
      "            4.0,\n",
      "            4.0,\n",
      "            4.0,\n",
      "            4.0,\n",
      "            4.0,\n",
      "            4.0,\n",
      "            4.0,\n",
      "            4.0,\n",
      "            4.0,\n",
      "            4.0,\n",
      "            4.0,\n",
      "            4.0,\n",
      "            5.0,\n",
      "            5.0,\n",
      "            5.0,\n",
      "            5.0,\n",
      "            5.0,\n",
      "            5.0,\n",
      "            5.0,\n",
      "            5.0,\n",
      "            5.0,\n",
      "            5.0,\n",
      "            5.0,\n",
      "            5.0,\n",
      "            5.0,\n",
      "            5.0,\n",
      "            5.0,\n",
      "            5.0,\n",
      "            5.0,\n",
      "            5.0,\n",
      "            5.0,\n",
      "            5.0,\n",
      "            5.0,\n",
      "            5.0,\n",
      "            5.0,\n",
      "            5.0,\n",
      "            5.0,\n",
      "            5.0,\n",
      "            5.0,\n",
      "            5.0,\n",
      "            5.0,\n",
      "            5.0,\n",
      "            5.0,\n",
      "            5.0,\n",
      "            5.0,\n",
      "            5.0,\n",
      "            5.0,\n",
      "            5.0,\n",
      "            5.0,\n",
      "            5.0,\n",
      "            5.0,\n",
      "            5.0,\n",
      "            5.0,\n",
      "            5.0,\n",
      "            5.0,\n",
      "            5.0,\n",
      "            5.0,\n",
      "            5.0,\n",
      "            5.0,\n",
      "            5.0,\n",
      "            5.0,\n",
      "            5.0,\n",
      "            5.0,\n",
      "            5.0,\n",
      "            5.0,\n",
      "            5.0,\n",
      "            5.0,\n",
      "            5.0,\n",
      "            5.0,\n",
      "            5.0,\n",
      "            5.0,\n",
      "            5.0,\n",
      "            5.0,\n",
      "            5.0,\n",
      "            5.0,\n",
      "            5.0,\n",
      "            5.0,\n",
      "            5.0,\n",
      "            5.0,\n",
      "            5.0,\n",
      "            5.0,\n",
      "            5.0,\n",
      "            5.0,\n",
      "            5.0,\n",
      "            5.0,\n",
      "            5.0,\n",
      "            7.0,\n",
      "            7.0,\n",
      "            8.0,\n",
      "            8.0,\n",
      "            8.0,\n",
      "            8.0,\n",
      "            8.0,\n",
      "            8.0,\n",
      "            9.0,\n",
      "            10.0,\n",
      "            11.0,\n",
      "            11.0,\n",
      "            11.0,\n",
      "            11.0,\n",
      "            12.0,\n",
      "            12.0,\n",
      "            13.0,\n",
      "            13.0,\n",
      "            14.0,\n",
      "            14.0,\n",
      "            15.0,\n",
      "            15.0,\n",
      "            16.0,\n",
      "            16.0,\n",
      "            16.0,\n",
      "            16.0,\n",
      "            17.0,\n",
      "            18.0,\n",
      "            18.0,\n",
      "            18.0,\n",
      "            19.0,\n",
      "            19.0,\n",
      "            20.0,\n",
      "            20.0,\n",
      "            21.0,\n",
      "            21.0,\n",
      "            22.0,\n",
      "            22.0,\n",
      "            25.0,\n",
      "            27.0,\n",
      "            36.0,\n",
      "            38.0,\n",
      "            40.0,\n",
      "            43.0,\n",
      "            48.0,\n",
      "            52.0,\n",
      "            53.0,\n",
      "            54.0,\n",
      "            54.0,\n",
      "            57.0,\n",
      "            59.0,\n",
      "            60.0,\n",
      "            61.0,\n",
      "            63.0,\n",
      "            64.0,\n",
      "            64.0,\n",
      "            66.0,\n",
      "            66.0,\n",
      "            67.0,\n",
      "            68.0,\n",
      "            68.0,\n",
      "            72.0,\n",
      "            84.0,\n",
      "            107.0,\n",
      "            117.0,\n",
      "            128.0,\n",
      "            146.0,\n",
      "            153.0,\n",
      "            162.0,\n",
      "            168.0,\n",
      "            173.0,\n",
      "            178.0,\n",
      "            189.0,\n",
      "            193.0,\n",
      "            203.0,\n",
      "            209.0,\n",
      "            214.0,\n",
      "            222.0,\n",
      "            225.0,\n",
      "            230.0,\n",
      "            235.0,\n",
      "            238.0,\n",
      "            238.0,\n",
      "            239.0,\n",
      "            241.0,\n",
      "            242.0,\n",
      "            243.0,\n",
      "            243.0,\n",
      "            243.0,\n",
      "            243.0,\n",
      "            243.0,\n",
      "            243.0,\n",
      "            244.0,\n",
      "            244.0,\n",
      "            245.0,\n",
      "            247.0,\n",
      "            247.0,\n",
      "            247.0,\n",
      "            247.0,\n",
      "            247.0,\n",
      "            247.0,\n",
      "            248.0,\n",
      "            248.0,\n",
      "            248.0,\n",
      "            248.0,\n",
      "            248.0,\n",
      "            248.0,\n",
      "            250.0,\n",
      "            251.0,\n",
      "            251.0,\n",
      "            251.0,\n",
      "            251.0,\n",
      "            251.0,\n",
      "            255.0,\n",
      "            257.0,\n",
      "            263.0,\n",
      "            268.0,\n",
      "            271.0,\n",
      "            278.0,\n",
      "            289.0,\n",
      "            296.0,\n",
      "            301.0,\n",
      "            304.0,\n",
      "            310.0,\n",
      "            314.0,\n",
      "            319.0,\n",
      "            327.0,\n",
      "            333.0,\n",
      "            340.0,\n",
      "            344.0,\n",
      "            348.0,\n",
      "            351.0,\n",
      "            357.0,\n",
      "            360.0,\n",
      "            366.0,\n",
      "            370.0,\n",
      "            376.0,\n",
      "            379.0,\n",
      "            382.0,\n",
      "            387.0,\n",
      "            390.0,\n",
      "            392.0,\n",
      "            394.0,\n",
      "            402.0,\n",
      "            405.0,\n",
      "            405.0,\n",
      "            406.0,\n",
      "            415.0,\n",
      "            424.0,\n",
      "            431.0,\n",
      "            440.0,\n",
      "            448.0,\n",
      "            455.0,\n",
      "            467.0,\n",
      "            479.0,\n",
      "            490.0,\n",
      "            500.0,\n",
      "            508.0,\n",
      "            515.0,\n",
      "            517.0,\n",
      "            524.0,\n",
      "            532.0,\n",
      "            541.0,\n",
      "            545.0,\n",
      "            551.0,\n",
      "            560.0,\n",
      "            565.0,\n",
      "            572.0,\n",
      "            574.0,\n",
      "            577.0,\n",
      "            580.0,\n",
      "            581.0,\n",
      "            583.0,\n",
      "            589.0,\n",
      "            591.0,\n",
      "            591.0,\n",
      "            592.0,\n",
      "            592.0,\n",
      "            593.0,\n",
      "            594.0\n",
      "        ],\n",
      "        \"Bearing2\": [\n",
      "            0.0,\n",
      "            1.0,\n",
      "            1.0,\n",
      "            2.0,\n",
      "            2.0,\n",
      "            2.0,\n",
      "            2.0,\n",
      "            2.0,\n",
      "            2.0,\n",
      "            2.0,\n",
      "            2.0,\n",
      "            2.0,\n",
      "            2.0,\n",
      "            2.0,\n",
      "            2.0,\n",
      "            2.0,\n",
      "            2.0,\n",
      "            2.0,\n",
      "            2.0,\n",
      "            2.0,\n",
      "            2.0,\n",
      "            2.0,\n",
      "            2.0,\n",
      "            2.0,\n",
      "            2.0,\n",
      "            2.0,\n",
      "            2.0,\n",
      "            2.0,\n",
      "            2.0,\n",
      "            2.0,\n",
      "            2.0,\n",
      "            2.0,\n",
      "            2.0,\n",
      "            2.0,\n",
      "            2.0,\n",
      "            2.0,\n",
      "            2.0,\n",
      "            2.0,\n",
      "            2.0,\n",
      "            2.0,\n",
      "            2.0,\n",
      "            2.0,\n",
      "            2.0,\n",
      "            2.0,\n",
      "            2.0,\n",
      "            2.0,\n",
      "            2.0,\n",
      "            2.0,\n",
      "            2.0,\n",
      "            2.0,\n",
      "            2.0,\n",
      "            2.0,\n",
      "            2.0,\n",
      "            2.0,\n",
      "            2.0,\n",
      "            2.0,\n",
      "            2.0,\n",
      "            2.0,\n",
      "            2.0,\n",
      "            2.0,\n",
      "            2.0,\n",
      "            2.0,\n",
      "            2.0,\n",
      "            2.0,\n",
      "            2.0,\n",
      "            2.0,\n",
      "            2.0,\n",
      "            2.0,\n",
      "            2.0,\n",
      "            2.0,\n",
      "            2.0,\n",
      "            2.0,\n",
      "            2.0,\n",
      "            2.0,\n",
      "            3.0,\n",
      "            3.0,\n",
      "            3.0,\n",
      "            3.0,\n",
      "            3.0,\n",
      "            3.0,\n",
      "            3.0,\n",
      "            3.0,\n",
      "            3.0,\n",
      "            3.0,\n",
      "            3.0,\n",
      "            3.0,\n",
      "            3.0,\n",
      "            3.0,\n",
      "            3.0,\n",
      "            3.0,\n",
      "            3.0,\n",
      "            3.0,\n",
      "            3.0,\n",
      "            3.0,\n",
      "            3.0,\n",
      "            3.0,\n",
      "            3.0,\n",
      "            3.0,\n",
      "            3.0,\n",
      "            3.0,\n",
      "            3.0,\n",
      "            3.0,\n",
      "            3.0,\n",
      "            3.0,\n",
      "            3.0,\n",
      "            3.0,\n",
      "            3.0,\n",
      "            3.0,\n",
      "            3.0,\n",
      "            3.0,\n",
      "            3.0,\n",
      "            3.0,\n",
      "            3.0,\n",
      "            3.0,\n",
      "            3.0,\n",
      "            3.0,\n",
      "            3.0,\n",
      "            3.0,\n",
      "            3.0,\n",
      "            3.0,\n",
      "            3.0,\n",
      "            3.0,\n",
      "            3.0,\n",
      "            3.0,\n",
      "            3.0,\n",
      "            3.0,\n",
      "            3.0,\n",
      "            3.0,\n",
      "            3.0,\n",
      "            3.0,\n",
      "            3.0,\n",
      "            3.0,\n",
      "            3.0,\n",
      "            3.0,\n",
      "            3.0,\n",
      "            3.0,\n",
      "            3.0,\n",
      "            3.0,\n",
      "            3.0,\n",
      "            3.0,\n",
      "            3.0,\n",
      "            3.0,\n",
      "            3.0,\n",
      "            3.0,\n",
      "            3.0,\n",
      "            3.0,\n",
      "            3.0,\n",
      "            3.0,\n",
      "            3.0,\n",
      "            3.0,\n",
      "            3.0,\n",
      "            3.0,\n",
      "            3.0,\n",
      "            3.0,\n",
      "            3.0,\n",
      "            3.0,\n",
      "            3.0,\n",
      "            3.0,\n",
      "            3.0,\n",
      "            3.0,\n",
      "            3.0,\n",
      "            3.0,\n",
      "            3.0,\n",
      "            3.0,\n",
      "            3.0,\n",
      "            3.0,\n",
      "            3.0,\n",
      "            3.0,\n",
      "            3.0,\n",
      "            3.0,\n",
      "            3.0,\n",
      "            3.0,\n",
      "            3.0,\n",
      "            3.0,\n",
      "            3.0,\n",
      "            3.0,\n",
      "            3.0,\n",
      "            3.0,\n",
      "            3.0,\n",
      "            3.0,\n",
      "            3.0,\n",
      "            3.0,\n",
      "            3.0,\n",
      "            3.0,\n",
      "            3.0,\n",
      "            3.0,\n",
      "            3.0,\n",
      "            3.0,\n",
      "            3.0,\n",
      "            3.0,\n",
      "            3.0,\n",
      "            3.0,\n",
      "            3.0,\n",
      "            3.0,\n",
      "            3.0,\n",
      "            3.0,\n",
      "            3.0,\n",
      "            3.0,\n",
      "            3.0,\n",
      "            3.0,\n",
      "            3.0,\n",
      "            3.0,\n",
      "            3.0,\n",
      "            3.0,\n",
      "            3.0,\n",
      "            3.0,\n",
      "            3.0,\n",
      "            3.0,\n",
      "            3.0,\n",
      "            3.0,\n",
      "            3.0,\n",
      "            3.0,\n",
      "            3.0,\n",
      "            3.0,\n",
      "            3.0,\n",
      "            3.0,\n",
      "            3.0,\n",
      "            3.0,\n",
      "            3.0,\n",
      "            3.0,\n",
      "            3.0,\n",
      "            3.0,\n",
      "            3.0,\n",
      "            3.0,\n",
      "            3.0,\n",
      "            3.0,\n",
      "            3.0,\n",
      "            3.0,\n",
      "            3.0,\n",
      "            3.0,\n",
      "            3.0,\n",
      "            3.0,\n",
      "            3.0,\n",
      "            3.0,\n",
      "            3.0,\n",
      "            3.0,\n",
      "            3.0,\n",
      "            3.0,\n",
      "            3.0,\n",
      "            3.0,\n",
      "            3.0,\n",
      "            3.0,\n",
      "            3.0,\n",
      "            3.0,\n",
      "            3.0,\n",
      "            3.0,\n",
      "            3.0,\n",
      "            3.0,\n",
      "            3.0,\n",
      "            3.0,\n",
      "            3.0,\n",
      "            3.0,\n",
      "            3.0,\n",
      "            3.0,\n",
      "            3.0,\n",
      "            3.0,\n",
      "            3.0,\n",
      "            3.0,\n",
      "            3.0,\n",
      "            3.0,\n",
      "            3.0,\n",
      "            3.0,\n",
      "            3.0,\n",
      "            3.0,\n",
      "            3.0,\n",
      "            3.0,\n",
      "            3.0,\n",
      "            3.0,\n",
      "            3.0,\n",
      "            3.0,\n",
      "            3.0,\n",
      "            3.0,\n",
      "            3.0,\n",
      "            3.0,\n",
      "            3.0,\n",
      "            3.0,\n",
      "            3.0,\n",
      "            3.0,\n",
      "            3.0,\n",
      "            3.0,\n",
      "            3.0,\n",
      "            3.0,\n",
      "            3.0,\n",
      "            3.0,\n",
      "            3.0,\n",
      "            3.0,\n",
      "            3.0,\n",
      "            3.0,\n",
      "            3.0,\n",
      "            3.0,\n",
      "            3.0,\n",
      "            3.0,\n",
      "            3.0,\n",
      "            3.0,\n",
      "            3.0,\n",
      "            3.0,\n",
      "            3.0,\n",
      "            3.0,\n",
      "            3.0,\n",
      "            3.0,\n",
      "            3.0,\n",
      "            3.0,\n",
      "            3.0,\n",
      "            3.0,\n",
      "            3.0,\n",
      "            3.0,\n",
      "            3.0,\n",
      "            3.0,\n",
      "            3.0,\n",
      "            3.0,\n",
      "            3.0,\n",
      "            3.0,\n",
      "            3.0,\n",
      "            3.0,\n",
      "            3.0,\n",
      "            3.0,\n",
      "            3.0,\n",
      "            3.0,\n",
      "            3.0,\n",
      "            3.0,\n",
      "            3.0,\n",
      "            3.0,\n",
      "            3.0,\n",
      "            3.0,\n",
      "            3.0,\n",
      "            4.0,\n",
      "            4.0,\n",
      "            4.0,\n",
      "            4.0,\n",
      "            4.0,\n",
      "            4.0,\n",
      "            4.0,\n",
      "            4.0,\n",
      "            4.0,\n",
      "            4.0,\n",
      "            4.0,\n",
      "            4.0,\n",
      "            4.0,\n",
      "            4.0,\n",
      "            4.0,\n",
      "            4.0,\n",
      "            4.0,\n",
      "            4.0,\n",
      "            4.0,\n",
      "            4.0,\n",
      "            4.0,\n",
      "            4.0,\n",
      "            4.0,\n",
      "            4.0,\n",
      "            4.0,\n",
      "            4.0,\n",
      "            4.0,\n",
      "            4.0,\n",
      "            5.0,\n",
      "            5.0,\n",
      "            5.0,\n",
      "            5.0,\n",
      "            5.0,\n",
      "            5.0,\n",
      "            5.0,\n",
      "            5.0,\n",
      "            5.0,\n",
      "            5.0,\n",
      "            5.0,\n",
      "            5.0,\n",
      "            6.0,\n",
      "            6.0,\n",
      "            6.0,\n",
      "            7.0,\n",
      "            7.0,\n",
      "            8.0,\n",
      "            8.0,\n",
      "            9.0,\n",
      "            9.0,\n",
      "            10.0,\n",
      "            10.0,\n",
      "            14.0,\n",
      "            15.0,\n",
      "            16.0,\n",
      "            19.0,\n",
      "            21.0,\n",
      "            21.0,\n",
      "            21.0,\n",
      "            21.0,\n",
      "            21.0,\n",
      "            25.0,\n",
      "            27.0,\n",
      "            31.0,\n",
      "            32.0,\n",
      "            35.0,\n",
      "            38.0,\n",
      "            39.0,\n",
      "            39.0,\n",
      "            40.0,\n",
      "            42.0,\n",
      "            42.0,\n",
      "            43.0,\n",
      "            47.0,\n",
      "            50.0,\n",
      "            50.0,\n",
      "            57.0,\n",
      "            57.0,\n",
      "            57.0,\n",
      "            59.0,\n",
      "            65.0,\n",
      "            68.0,\n",
      "            73.0,\n",
      "            73.0,\n",
      "            76.0,\n",
      "            84.0,\n",
      "            87.0,\n",
      "            91.0,\n",
      "            97.0\n",
      "        ],\n",
      "        \"Bearing3\": [\n",
      "            0.0,\n",
      "            0.0,\n",
      "            0.0,\n",
      "            0.0,\n",
      "            0.0,\n",
      "            0.0,\n",
      "            0.0,\n",
      "            0.0,\n",
      "            0.0,\n",
      "            0.0,\n",
      "            0.0,\n",
      "            0.0,\n",
      "            0.0,\n",
      "            0.0,\n",
      "            0.0,\n",
      "            0.0,\n",
      "            0.0,\n",
      "            0.0,\n",
      "            0.0,\n",
      "            0.0,\n",
      "            0.0,\n",
      "            0.0,\n",
      "            0.0,\n",
      "            0.0,\n",
      "            0.0,\n",
      "            0.0,\n",
      "            0.0,\n",
      "            0.0,\n",
      "            0.0,\n",
      "            0.0,\n",
      "            0.0,\n",
      "            0.0,\n",
      "            0.0,\n",
      "            0.0,\n",
      "            0.0,\n",
      "            0.0,\n",
      "            0.0,\n",
      "            0.0,\n",
      "            0.0,\n",
      "            0.0,\n",
      "            0.0,\n",
      "            0.0,\n",
      "            0.0,\n",
      "            0.0,\n",
      "            0.0,\n",
      "            0.0,\n",
      "            0.0,\n",
      "            0.0,\n",
      "            0.0,\n",
      "            0.0,\n",
      "            0.0,\n",
      "            0.0,\n",
      "            0.0,\n",
      "            0.0,\n",
      "            0.0,\n",
      "            0.0,\n",
      "            0.0,\n",
      "            0.0,\n",
      "            0.0,\n",
      "            0.0,\n",
      "            0.0,\n",
      "            0.0,\n",
      "            0.0,\n",
      "            0.0,\n",
      "            0.0,\n",
      "            0.0,\n",
      "            0.0,\n",
      "            0.0,\n",
      "            0.0,\n",
      "            0.0,\n",
      "            0.0,\n",
      "            0.0,\n",
      "            0.0,\n",
      "            0.0,\n",
      "            0.0,\n",
      "            0.0,\n",
      "            0.0,\n",
      "            0.0,\n",
      "            0.0,\n",
      "            0.0,\n",
      "            0.0,\n",
      "            0.0,\n",
      "            0.0,\n",
      "            0.0,\n",
      "            0.0,\n",
      "            0.0,\n",
      "            0.0,\n",
      "            0.0,\n",
      "            0.0,\n",
      "            0.0,\n",
      "            0.0,\n",
      "            0.0,\n",
      "            0.0,\n",
      "            0.0,\n",
      "            0.0,\n",
      "            0.0,\n",
      "            0.0,\n",
      "            0.0,\n",
      "            0.0,\n",
      "            0.0,\n",
      "            0.0,\n",
      "            0.0,\n",
      "            0.0,\n",
      "            0.0,\n",
      "            0.0,\n",
      "            0.0,\n",
      "            0.0,\n",
      "            0.0,\n",
      "            0.0,\n",
      "            0.0,\n",
      "            0.0,\n",
      "            0.0,\n",
      "            0.0,\n",
      "            0.0,\n",
      "            0.0,\n",
      "            0.0,\n",
      "            0.0,\n",
      "            0.0,\n",
      "            0.0,\n",
      "            0.0,\n",
      "            0.0,\n",
      "            0.0,\n",
      "            0.0,\n",
      "            0.0,\n",
      "            0.0,\n",
      "            0.0,\n",
      "            0.0,\n",
      "            0.0,\n",
      "            0.0,\n",
      "            0.0,\n",
      "            0.0,\n",
      "            0.0,\n",
      "            0.0,\n",
      "            0.0,\n",
      "            0.0,\n",
      "            0.0,\n",
      "            0.0,\n",
      "            0.0,\n",
      "            0.0,\n",
      "            0.0,\n",
      "            0.0,\n",
      "            0.0,\n",
      "            0.0,\n",
      "            0.0,\n",
      "            0.0,\n",
      "            0.0,\n",
      "            0.0,\n",
      "            0.0,\n",
      "            0.0,\n",
      "            0.0,\n",
      "            0.0,\n",
      "            0.0,\n",
      "            0.0,\n",
      "            0.0,\n",
      "            0.0,\n",
      "            0.0,\n",
      "            0.0,\n",
      "            0.0,\n",
      "            0.0,\n",
      "            0.0,\n",
      "            0.0,\n",
      "            0.0,\n",
      "            0.0,\n",
      "            0.0,\n",
      "            0.0,\n",
      "            0.0,\n",
      "            0.0,\n",
      "            0.0,\n",
      "            0.0,\n",
      "            0.0,\n",
      "            0.0,\n",
      "            0.0,\n",
      "            0.0,\n",
      "            0.0,\n",
      "            0.0,\n",
      "            0.0,\n",
      "            0.0,\n",
      "            0.0,\n",
      "            0.0,\n",
      "            0.0,\n",
      "            0.0,\n",
      "            0.0,\n",
      "            0.0,\n",
      "            0.0,\n",
      "            0.0,\n",
      "            0.0,\n",
      "            0.0,\n",
      "            0.0,\n",
      "            0.0,\n",
      "            0.0,\n",
      "            0.0,\n",
      "            0.0,\n",
      "            0.0,\n",
      "            0.0,\n",
      "            0.0,\n",
      "            0.0,\n",
      "            0.0,\n",
      "            0.0,\n",
      "            0.0,\n",
      "            0.0,\n",
      "            0.0,\n",
      "            0.0,\n",
      "            0.0,\n",
      "            0.0,\n",
      "            0.0,\n",
      "            0.0,\n",
      "            0.0,\n",
      "            0.0,\n",
      "            0.0,\n",
      "            0.0,\n",
      "            0.0,\n",
      "            0.0,\n",
      "            0.0,\n",
      "            0.0,\n",
      "            0.0,\n",
      "            0.0,\n",
      "            0.0,\n",
      "            0.0,\n",
      "            0.0,\n",
      "            0.0,\n",
      "            0.0,\n",
      "            0.0,\n",
      "            0.0,\n",
      "            0.0,\n",
      "            0.0,\n",
      "            0.0,\n",
      "            0.0,\n",
      "            0.0,\n",
      "            0.0,\n",
      "            0.0,\n",
      "            0.0,\n",
      "            0.0,\n",
      "            0.0,\n",
      "            0.0,\n",
      "            0.0,\n",
      "            0.0,\n",
      "            0.0,\n",
      "            0.0,\n",
      "            0.0,\n",
      "            0.0,\n",
      "            0.0,\n",
      "            0.0,\n",
      "            0.0,\n",
      "            0.0,\n",
      "            0.0,\n",
      "            0.0,\n",
      "            0.0,\n",
      "            0.0,\n",
      "            0.0,\n",
      "            0.0,\n",
      "            0.0,\n",
      "            0.0,\n",
      "            0.0,\n",
      "            0.0,\n",
      "            0.0,\n",
      "            0.0,\n",
      "            0.0,\n",
      "            0.0,\n",
      "            0.0,\n",
      "            0.0,\n",
      "            0.0,\n",
      "            0.0,\n",
      "            0.0,\n",
      "            0.0,\n",
      "            0.0,\n",
      "            0.0,\n",
      "            0.0,\n",
      "            0.0,\n",
      "            0.0,\n",
      "            0.0,\n",
      "            0.0,\n",
      "            0.0,\n",
      "            0.0,\n",
      "            0.0,\n",
      "            0.0,\n",
      "            0.0,\n",
      "            0.0,\n",
      "            0.0,\n",
      "            0.0,\n",
      "            0.0,\n",
      "            0.0,\n",
      "            0.0,\n",
      "            0.0,\n",
      "            0.0,\n",
      "            0.0,\n",
      "            0.0,\n",
      "            0.0,\n",
      "            0.0,\n",
      "            0.0,\n",
      "            0.0,\n",
      "            0.0,\n",
      "            0.0,\n",
      "            0.0,\n",
      "            0.0,\n",
      "            0.0,\n",
      "            0.0,\n",
      "            0.0,\n",
      "            0.0,\n",
      "            0.0,\n",
      "            0.0,\n",
      "            0.0,\n",
      "            0.0,\n",
      "            0.0,\n",
      "            0.0,\n",
      "            0.0,\n",
      "            0.0,\n",
      "            0.0,\n",
      "            0.0,\n",
      "            0.0,\n",
      "            0.0,\n",
      "            0.0,\n",
      "            0.0,\n",
      "            0.0,\n",
      "            0.0,\n",
      "            0.0,\n",
      "            0.0,\n",
      "            0.0,\n",
      "            0.0,\n",
      "            0.0,\n",
      "            0.0,\n",
      "            0.0,\n",
      "            0.0,\n",
      "            0.0,\n",
      "            0.0,\n",
      "            0.0,\n",
      "            0.0,\n",
      "            0.0,\n",
      "            0.0,\n",
      "            0.0,\n",
      "            0.0,\n",
      "            0.0,\n",
      "            0.0,\n",
      "            0.0,\n",
      "            0.0,\n",
      "            0.0,\n",
      "            0.0,\n",
      "            0.0,\n",
      "            0.0,\n",
      "            0.0,\n",
      "            0.0,\n",
      "            0.0,\n",
      "            0.0,\n",
      "            0.0,\n",
      "            0.0,\n",
      "            0.0,\n",
      "            0.0,\n",
      "            0.0,\n",
      "            0.0,\n",
      "            0.0,\n",
      "            0.0,\n",
      "            0.0,\n",
      "            0.0,\n",
      "            0.0,\n",
      "            0.0,\n",
      "            0.0,\n",
      "            0.0,\n",
      "            0.0,\n",
      "            0.0,\n",
      "            0.0,\n",
      "            0.0,\n",
      "            0.0,\n",
      "            0.0,\n",
      "            0.0,\n",
      "            0.0,\n",
      "            0.0,\n",
      "            0.0,\n",
      "            0.0,\n",
      "            0.0,\n",
      "            1.0,\n",
      "            1.0,\n",
      "            1.0,\n",
      "            1.0,\n",
      "            1.0,\n",
      "            1.0,\n",
      "            2.0,\n",
      "            2.0,\n",
      "            3.0,\n",
      "            4.0,\n",
      "            4.0,\n",
      "            5.0,\n",
      "            8.0,\n",
      "            9.0,\n",
      "            11.0,\n",
      "            11.0,\n",
      "            14.0,\n",
      "            19.0,\n",
      "            23.0,\n",
      "            23.0,\n",
      "            27.0,\n",
      "            30.0,\n",
      "            38.0,\n",
      "            43.0,\n",
      "            44.0,\n",
      "            46.0,\n",
      "            49.0,\n",
      "            56.0,\n",
      "            59.0,\n",
      "            59.0,\n",
      "            62.0,\n",
      "            64.0,\n",
      "            67.0,\n",
      "            67.0,\n",
      "            67.0,\n",
      "            67.0,\n",
      "            74.0,\n",
      "            74.0,\n",
      "            76.0,\n",
      "            76.0,\n",
      "            78.0,\n",
      "            78.0,\n",
      "            78.0,\n",
      "            78.0,\n",
      "            80.0\n",
      "        ],\n",
      "        \"Bearing4\": [\n",
      "            0.0,\n",
      "            0.0,\n",
      "            0.0,\n",
      "            0.0,\n",
      "            0.0,\n",
      "            0.0,\n",
      "            0.0,\n",
      "            0.0,\n",
      "            0.0,\n",
      "            0.0,\n",
      "            0.0,\n",
      "            0.0,\n",
      "            0.0,\n",
      "            0.0,\n",
      "            0.0,\n",
      "            0.0,\n",
      "            0.0,\n",
      "            0.0,\n",
      "            0.0,\n",
      "            0.0,\n",
      "            0.0,\n",
      "            0.0,\n",
      "            0.0,\n",
      "            0.0,\n",
      "            0.0,\n",
      "            0.0,\n",
      "            0.0,\n",
      "            0.0,\n",
      "            0.0,\n",
      "            0.0,\n",
      "            0.0,\n",
      "            0.0,\n",
      "            0.0,\n",
      "            0.0,\n",
      "            0.0,\n",
      "            0.0,\n",
      "            0.0,\n",
      "            0.0,\n",
      "            0.0,\n",
      "            0.0,\n",
      "            0.0,\n",
      "            0.0,\n",
      "            0.0,\n",
      "            0.0,\n",
      "            0.0,\n",
      "            0.0,\n",
      "            0.0,\n",
      "            0.0,\n",
      "            0.0,\n",
      "            0.0,\n",
      "            0.0,\n",
      "            0.0,\n",
      "            0.0,\n",
      "            0.0,\n",
      "            0.0,\n",
      "            0.0,\n",
      "            0.0,\n",
      "            0.0,\n",
      "            0.0,\n",
      "            0.0,\n",
      "            0.0,\n",
      "            0.0,\n",
      "            0.0,\n",
      "            0.0,\n",
      "            0.0,\n",
      "            0.0,\n",
      "            0.0,\n",
      "            0.0,\n",
      "            0.0,\n",
      "            0.0,\n",
      "            0.0,\n",
      "            0.0,\n",
      "            0.0,\n",
      "            0.0,\n",
      "            0.0,\n",
      "            0.0,\n",
      "            0.0,\n",
      "            0.0,\n",
      "            0.0,\n",
      "            0.0,\n",
      "            0.0,\n",
      "            0.0,\n",
      "            0.0,\n",
      "            0.0,\n",
      "            0.0,\n",
      "            0.0,\n",
      "            0.0,\n",
      "            0.0,\n",
      "            0.0,\n",
      "            0.0,\n",
      "            0.0,\n",
      "            0.0,\n",
      "            0.0,\n",
      "            0.0,\n",
      "            0.0,\n",
      "            0.0,\n",
      "            0.0,\n",
      "            0.0,\n",
      "            0.0,\n",
      "            0.0,\n",
      "            0.0,\n",
      "            0.0,\n",
      "            0.0,\n",
      "            0.0,\n",
      "            0.0,\n",
      "            0.0,\n",
      "            0.0,\n",
      "            0.0,\n",
      "            0.0,\n",
      "            0.0,\n",
      "            0.0,\n",
      "            0.0,\n",
      "            0.0,\n",
      "            0.0,\n",
      "            0.0,\n",
      "            0.0,\n",
      "            0.0,\n",
      "            0.0,\n",
      "            0.0,\n",
      "            0.0,\n",
      "            0.0,\n",
      "            0.0,\n",
      "            0.0,\n",
      "            0.0,\n",
      "            0.0,\n",
      "            0.0,\n",
      "            0.0,\n",
      "            0.0,\n",
      "            0.0,\n",
      "            0.0,\n",
      "            0.0,\n",
      "            0.0,\n",
      "            0.0,\n",
      "            0.0,\n",
      "            0.0,\n",
      "            0.0,\n",
      "            0.0,\n",
      "            0.0,\n",
      "            0.0,\n",
      "            0.0,\n",
      "            0.0,\n",
      "            0.0,\n",
      "            0.0,\n",
      "            0.0,\n",
      "            0.0,\n",
      "            0.0,\n",
      "            0.0,\n",
      "            0.0,\n",
      "            0.0,\n",
      "            0.0,\n",
      "            0.0,\n",
      "            0.0,\n",
      "            0.0,\n",
      "            0.0,\n",
      "            0.0,\n",
      "            0.0,\n",
      "            0.0,\n",
      "            0.0,\n",
      "            0.0,\n",
      "            0.0,\n",
      "            0.0,\n",
      "            0.0,\n",
      "            0.0,\n",
      "            0.0,\n",
      "            0.0,\n",
      "            0.0,\n",
      "            0.0,\n",
      "            0.0,\n",
      "            0.0,\n",
      "            0.0,\n",
      "            0.0,\n",
      "            0.0,\n",
      "            0.0,\n",
      "            0.0,\n",
      "            0.0,\n",
      "            0.0,\n",
      "            0.0,\n",
      "            0.0,\n",
      "            0.0,\n",
      "            0.0,\n",
      "            0.0,\n",
      "            0.0,\n",
      "            0.0,\n",
      "            0.0,\n",
      "            0.0,\n",
      "            0.0,\n",
      "            0.0,\n",
      "            0.0,\n",
      "            0.0,\n",
      "            0.0,\n",
      "            0.0,\n",
      "            0.0,\n",
      "            0.0,\n",
      "            0.0,\n",
      "            0.0,\n",
      "            0.0,\n",
      "            0.0,\n",
      "            0.0,\n",
      "            0.0,\n",
      "            0.0,\n",
      "            0.0,\n",
      "            0.0,\n",
      "            0.0,\n",
      "            0.0,\n",
      "            0.0,\n",
      "            0.0,\n",
      "            0.0,\n",
      "            0.0,\n",
      "            0.0,\n",
      "            0.0,\n",
      "            0.0,\n",
      "            0.0,\n",
      "            0.0,\n",
      "            0.0,\n",
      "            0.0,\n",
      "            0.0,\n",
      "            0.0,\n",
      "            0.0,\n",
      "            0.0,\n",
      "            0.0,\n",
      "            0.0,\n",
      "            0.0,\n",
      "            0.0,\n",
      "            0.0,\n",
      "            0.0,\n",
      "            0.0,\n",
      "            0.0,\n",
      "            0.0,\n",
      "            0.0,\n",
      "            0.0,\n",
      "            0.0,\n",
      "            0.0,\n",
      "            0.0,\n",
      "            0.0,\n",
      "            0.0,\n",
      "            0.0,\n",
      "            0.0,\n",
      "            0.0,\n",
      "            0.0,\n",
      "            0.0,\n",
      "            0.0,\n",
      "            0.0,\n",
      "            0.0,\n",
      "            0.0,\n",
      "            0.0,\n",
      "            0.0,\n",
      "            0.0,\n",
      "            0.0,\n",
      "            0.0,\n",
      "            0.0,\n",
      "            0.0,\n",
      "            0.0,\n",
      "            0.0,\n",
      "            0.0,\n",
      "            0.0,\n",
      "            0.0,\n",
      "            0.0,\n",
      "            0.0,\n",
      "            0.0,\n",
      "            0.0,\n",
      "            0.0,\n",
      "            0.0,\n",
      "            0.0,\n",
      "            0.0,\n",
      "            0.0,\n",
      "            0.0,\n",
      "            0.0,\n",
      "            0.0,\n",
      "            0.0,\n",
      "            0.0,\n",
      "            0.0,\n",
      "            0.0,\n",
      "            0.0,\n",
      "            0.0,\n",
      "            0.0,\n",
      "            0.0,\n",
      "            0.0,\n",
      "            0.0,\n",
      "            0.0,\n",
      "            0.0,\n",
      "            0.0,\n",
      "            0.0,\n",
      "            0.0,\n",
      "            0.0,\n",
      "            0.0,\n",
      "            0.0,\n",
      "            0.0,\n",
      "            0.0,\n",
      "            0.0,\n",
      "            0.0,\n",
      "            0.0,\n",
      "            0.0,\n",
      "            0.0,\n",
      "            0.0,\n",
      "            0.0,\n",
      "            0.0,\n",
      "            0.0,\n",
      "            0.0,\n",
      "            0.0,\n",
      "            0.0,\n",
      "            0.0,\n",
      "            0.0,\n",
      "            0.0,\n",
      "            0.0,\n",
      "            0.0,\n",
      "            0.0,\n",
      "            0.0,\n",
      "            0.0,\n",
      "            0.0,\n",
      "            0.0,\n",
      "            0.0,\n",
      "            0.0,\n",
      "            0.0,\n",
      "            0.0,\n",
      "            0.0,\n",
      "            0.0,\n",
      "            0.0,\n",
      "            0.0,\n",
      "            0.0,\n",
      "            0.0,\n",
      "            0.0,\n",
      "            0.0,\n",
      "            0.0,\n",
      "            0.0,\n",
      "            0.0,\n",
      "            0.0,\n",
      "            0.0,\n",
      "            0.0,\n",
      "            0.0,\n",
      "            0.0,\n",
      "            0.0,\n",
      "            0.0,\n",
      "            0.0,\n",
      "            0.0,\n",
      "            0.0,\n",
      "            0.0,\n",
      "            0.0,\n",
      "            0.0,\n",
      "            0.0,\n",
      "            0.0,\n",
      "            0.0,\n",
      "            0.0,\n",
      "            0.0,\n",
      "            0.0,\n",
      "            0.0,\n",
      "            0.0,\n",
      "            0.0,\n",
      "            0.0,\n",
      "            0.0,\n",
      "            0.0,\n",
      "            0.0,\n",
      "            0.0,\n",
      "            0.0,\n",
      "            0.0,\n",
      "            0.0,\n",
      "            0.0,\n",
      "            0.0,\n",
      "            0.0,\n",
      "            0.0,\n",
      "            0.0,\n",
      "            0.0,\n",
      "            0.0,\n",
      "            0.0,\n",
      "            0.0,\n",
      "            0.0,\n",
      "            0.0,\n",
      "            0.0,\n",
      "            0.0,\n",
      "            0.0,\n",
      "            0.0,\n",
      "            0.0,\n",
      "            0.0,\n",
      "            0.0,\n",
      "            0.0,\n",
      "            0.0,\n",
      "            0.0,\n",
      "            0.0,\n",
      "            0.0,\n",
      "            0.0,\n",
      "            0.0,\n",
      "            0.0,\n",
      "            0.0,\n",
      "            0.0,\n",
      "            0.0,\n",
      "            0.0,\n",
      "            0.0,\n",
      "            0.0,\n",
      "            0.0,\n",
      "            0.0,\n",
      "            0.0,\n",
      "            0.0,\n",
      "            0.0,\n",
      "            0.0,\n",
      "            0.0,\n",
      "            0.0,\n",
      "            0.0,\n",
      "            0.0,\n",
      "            0.0,\n",
      "            0.0,\n",
      "            0.0,\n",
      "            0.0,\n",
      "            0.0,\n",
      "            0.0,\n",
      "            0.0,\n",
      "            0.0,\n",
      "            0.0,\n",
      "            0.0,\n",
      "            0.0,\n",
      "            0.0,\n",
      "            0.0,\n",
      "            0.0,\n",
      "            0.0,\n",
      "            0.0\n",
      "        ]\n",
      "    },\n",
      "    \"x_series\": \"index\",\n",
      "    \"y_series\": [\n",
      "        \"Bearing1\",\n",
      "        \"Bearing2\",\n",
      "        \"Bearing3\",\n",
      "        \"Bearing4\"\n",
      "    ],\n",
      "    \"labels\": {\n",
      "        \"x\": \"Date\",\n",
      "        \"y\": \"Value\",\n",
      "        \"title\": \"Time Series Data with Threshold\",\n",
      "        \"yaxis_tickvals\": [\n",
      "            0,\n",
      "            100,\n",
      "            600.0\n",
      "        ],\n",
      "        \"yaxis_range\": [\n",
      "            0,\n",
      "            600.0\n",
      "        ]\n",
      "    },\n",
      "    \"threshold\": {\n",
      "        \"value\": 100,\n",
      "        \"color\": \"red\",\n",
      "        \"opacity\": 0.2,\n",
      "        \"line_style\": \"dash\",\n",
      "        \"line_width\": 2\n",
      "    },\n",
      "    \"markers\": {\n",
      "        \"threshold_exceedance\": {\n",
      "            \"color\": \"red\",\n",
      "            \"size\": 10,\n",
      "            \"symbol\": \"circle\",\n",
      "            \"series\": {\n",
      "                \"Bearing1\": \"2022-11-16T18:49:02.969172304\"\n",
      "            }\n",
      "        }\n",
      "    }\n",
      "}\n"
     ]
    }
   ],
   "source": [
    "file_name = 'Slide08_PredictedBearingFault_Novelets.json'\n",
    "# Serialize the DataFrame to a simpler format for JSON\n",
    "data_json = df_cumsum.reset_index().to_dict(orient='list')\n",
    "\n",
    "# Convert Timestamps in the index to string format (ISO format)\n",
    "data_json['index'] = [ts.isoformat() for ts in data_json['index']]\n",
    "\n",
    "# Similarly, convert any other Timestamps to strings for threshold exceedance markers\n",
    "markers = {\n",
    "    series: df_cumsum[df_cumsum[series] > threshold].index[0].isoformat() \n",
    "    for series in df_cumsum.columns if not df_cumsum[df_cumsum[series] > threshold].empty\n",
    "}\n",
    "\n",
    "# Prepare the main JSON data structure\n",
    "plot_json = {\n",
    "    \"x\": data_json['index'],  # x values: datetime index as strings\n",
    "    \"y\": {col: data_json[col] for col in df_cumsum.columns},  # y values: dictionary of time series data\n",
    "    \"x_series\": \"index\",\n",
    "    \"y_series\": list(df_cumsum.columns),\n",
    "    \"labels\": {\n",
    "        \"x\": \"Date\",\n",
    "        \"y\": \"Value\",\n",
    "        \"title\": \"Time Series Data with Threshold\",\n",
    "        \"yaxis_tickvals\": [0, threshold, next_hundred],\n",
    "        \"yaxis_range\": [0, next_hundred]\n",
    "    },\n",
    "    \"threshold\": {\n",
    "        \"value\": threshold,\n",
    "        \"color\": \"red\",\n",
    "        \"opacity\": 0.2,\n",
    "        \"line_style\": \"dash\",\n",
    "        \"line_width\": 2\n",
    "    },\n",
    "    \"markers\": {\n",
    "        \"threshold_exceedance\": {\n",
    "            \"color\": \"red\",\n",
    "            \"size\": 10,\n",
    "            \"symbol\": \"circle\",\n",
    "            \"series\": markers\n",
    "        }\n",
    "    }\n",
    "}\n",
    "\n",
    "# Serialize JSON data to a string\n",
    "json_str = json.dumps(plot_json, indent=4)\n",
    "print(json_str)\n",
    "\n",
    "# Optionally, write to a file\n",
    "with open(os.path.join(output_dir,file_name), 'w') as f:\n",
    "    json.dump(plot_json, f, indent=4)"
   ]
  },
  {
   "cell_type": "markdown",
   "metadata": {},
   "source": [
    "## Slide 4: Proportion of Failure Types by Model# Data setup"
   ]
  },
  {
   "cell_type": "code",
   "execution_count": 22,
   "metadata": {},
   "outputs": [
    {
     "data": {
      "application/vnd.plotly.v1+json": {
       "config": {
        "plotlyServerURL": "https://plot.ly"
       },
       "data": [
        {
         "hoverinfo": "name+y",
         "marker": {
          "color": "#636EFA"
         },
         "name": "Blade",
         "orientation": "v",
         "type": "bar",
         "x": [
          "V47-0.66"
         ],
         "y": [
          0.584450779731262
         ]
        },
        {
         "hoverinfo": "name+y",
         "marker": {
          "color": "#EF553B"
         },
         "name": "Bearing",
         "orientation": "v",
         "type": "bar",
         "x": [
          "V47-0.66"
         ],
         "y": [
          0.0561093196787199
         ]
        },
        {
         "hoverinfo": "name+y",
         "marker": {
          "color": "#00CC96"
         },
         "name": "Gearbox",
         "orientation": "v",
         "type": "bar",
         "x": [
          "V47-0.66"
         ],
         "y": [
          0.27163701477031343
         ]
        },
        {
         "hoverinfo": "name+y",
         "marker": {
          "color": "#AB63FA"
         },
         "name": "Misc.",
         "orientation": "v",
         "type": "bar",
         "x": [
          "V47-0.66"
         ],
         "y": [
          0.08780288581970459
         ]
        },
        {
         "hoverinfo": "name+y",
         "marker": {
          "color": "#636EFA"
         },
         "name": "Blade",
         "orientation": "v",
         "type": "bar",
         "x": [
          "GE1.5-82.5"
         ],
         "y": [
          0.4588881558246958
         ]
        },
        {
         "hoverinfo": "name+y",
         "marker": {
          "color": "#EF553B"
         },
         "name": "Bearing",
         "orientation": "v",
         "type": "bar",
         "x": [
          "GE1.5-82.5"
         ],
         "y": [
          0.33139032863729184
         ]
        },
        {
         "hoverinfo": "name+y",
         "marker": {
          "color": "#00CC96"
         },
         "name": "Gearbox",
         "orientation": "v",
         "type": "bar",
         "x": [
          "GE1.5-82.5"
         ],
         "y": [
          0.17592930330061426
         ]
        },
        {
         "hoverinfo": "name+y",
         "marker": {
          "color": "#AB63FA"
         },
         "name": "Misc.",
         "orientation": "v",
         "type": "bar",
         "x": [
          "GE1.5-82.5"
         ],
         "y": [
          0.03379221223739805
         ]
        },
        {
         "hoverinfo": "name+y",
         "marker": {
          "color": "#636EFA"
         },
         "name": "Blade",
         "orientation": "v",
         "type": "bar",
         "x": [
          "Z50"
         ],
         "y": [
          0.1552327531647736
         ]
        },
        {
         "hoverinfo": "name+y",
         "marker": {
          "color": "#EF553B"
         },
         "name": "Bearing",
         "orientation": "v",
         "type": "bar",
         "x": [
          "Z50"
         ],
         "y": [
          0.16232145313916987
         ]
        },
        {
         "hoverinfo": "name+y",
         "marker": {
          "color": "#00CC96"
         },
         "name": "Gearbox",
         "orientation": "v",
         "type": "bar",
         "x": [
          "Z50"
         ],
         "y": [
          0.3641968301111386
         ]
        },
        {
         "hoverinfo": "name+y",
         "marker": {
          "color": "#AB63FA"
         },
         "name": "Misc.",
         "orientation": "v",
         "type": "bar",
         "x": [
          "Z50"
         ],
         "y": [
          0.31824896358491794
         ]
        },
        {
         "hoverinfo": "name+y",
         "marker": {
          "color": "#636EFA"
         },
         "name": "Blade",
         "orientation": "v",
         "type": "bar",
         "x": [
          "V117-4.3"
         ],
         "y": [
          0.40470109873596516
         ]
        },
        {
         "hoverinfo": "name+y",
         "marker": {
          "color": "#EF553B"
         },
         "name": "Bearing",
         "orientation": "v",
         "type": "bar",
         "x": [
          "V117-4.3"
         ],
         "y": [
          0.21540030917231973
         ]
        },
        {
         "hoverinfo": "name+y",
         "marker": {
          "color": "#00CC96"
         },
         "name": "Gearbox",
         "orientation": "v",
         "type": "bar",
         "x": [
          "V117-4.3"
         ],
         "y": [
          0.05455278132410966
         ]
        },
        {
         "hoverinfo": "name+y",
         "marker": {
          "color": "#AB63FA"
         },
         "name": "Misc.",
         "orientation": "v",
         "type": "bar",
         "x": [
          "V117-4.3"
         ],
         "y": [
          0.32534581076760544
         ]
        }
       ],
       "layout": {
        "barmode": "stack",
        "showlegend": true,
        "template": {
         "data": {
          "bar": [
           {
            "error_x": {
             "color": "#2a3f5f"
            },
            "error_y": {
             "color": "#2a3f5f"
            },
            "marker": {
             "line": {
              "color": "#E5ECF6",
              "width": 0.5
             },
             "pattern": {
              "fillmode": "overlay",
              "size": 10,
              "solidity": 0.2
             }
            },
            "type": "bar"
           }
          ],
          "barpolar": [
           {
            "marker": {
             "line": {
              "color": "#E5ECF6",
              "width": 0.5
             },
             "pattern": {
              "fillmode": "overlay",
              "size": 10,
              "solidity": 0.2
             }
            },
            "type": "barpolar"
           }
          ],
          "carpet": [
           {
            "aaxis": {
             "endlinecolor": "#2a3f5f",
             "gridcolor": "white",
             "linecolor": "white",
             "minorgridcolor": "white",
             "startlinecolor": "#2a3f5f"
            },
            "baxis": {
             "endlinecolor": "#2a3f5f",
             "gridcolor": "white",
             "linecolor": "white",
             "minorgridcolor": "white",
             "startlinecolor": "#2a3f5f"
            },
            "type": "carpet"
           }
          ],
          "choropleth": [
           {
            "colorbar": {
             "outlinewidth": 0,
             "ticks": ""
            },
            "type": "choropleth"
           }
          ],
          "contour": [
           {
            "colorbar": {
             "outlinewidth": 0,
             "ticks": ""
            },
            "colorscale": [
             [
              0,
              "#0d0887"
             ],
             [
              0.1111111111111111,
              "#46039f"
             ],
             [
              0.2222222222222222,
              "#7201a8"
             ],
             [
              0.3333333333333333,
              "#9c179e"
             ],
             [
              0.4444444444444444,
              "#bd3786"
             ],
             [
              0.5555555555555556,
              "#d8576b"
             ],
             [
              0.6666666666666666,
              "#ed7953"
             ],
             [
              0.7777777777777778,
              "#fb9f3a"
             ],
             [
              0.8888888888888888,
              "#fdca26"
             ],
             [
              1,
              "#f0f921"
             ]
            ],
            "type": "contour"
           }
          ],
          "contourcarpet": [
           {
            "colorbar": {
             "outlinewidth": 0,
             "ticks": ""
            },
            "type": "contourcarpet"
           }
          ],
          "heatmap": [
           {
            "colorbar": {
             "outlinewidth": 0,
             "ticks": ""
            },
            "colorscale": [
             [
              0,
              "#0d0887"
             ],
             [
              0.1111111111111111,
              "#46039f"
             ],
             [
              0.2222222222222222,
              "#7201a8"
             ],
             [
              0.3333333333333333,
              "#9c179e"
             ],
             [
              0.4444444444444444,
              "#bd3786"
             ],
             [
              0.5555555555555556,
              "#d8576b"
             ],
             [
              0.6666666666666666,
              "#ed7953"
             ],
             [
              0.7777777777777778,
              "#fb9f3a"
             ],
             [
              0.8888888888888888,
              "#fdca26"
             ],
             [
              1,
              "#f0f921"
             ]
            ],
            "type": "heatmap"
           }
          ],
          "heatmapgl": [
           {
            "colorbar": {
             "outlinewidth": 0,
             "ticks": ""
            },
            "colorscale": [
             [
              0,
              "#0d0887"
             ],
             [
              0.1111111111111111,
              "#46039f"
             ],
             [
              0.2222222222222222,
              "#7201a8"
             ],
             [
              0.3333333333333333,
              "#9c179e"
             ],
             [
              0.4444444444444444,
              "#bd3786"
             ],
             [
              0.5555555555555556,
              "#d8576b"
             ],
             [
              0.6666666666666666,
              "#ed7953"
             ],
             [
              0.7777777777777778,
              "#fb9f3a"
             ],
             [
              0.8888888888888888,
              "#fdca26"
             ],
             [
              1,
              "#f0f921"
             ]
            ],
            "type": "heatmapgl"
           }
          ],
          "histogram": [
           {
            "marker": {
             "pattern": {
              "fillmode": "overlay",
              "size": 10,
              "solidity": 0.2
             }
            },
            "type": "histogram"
           }
          ],
          "histogram2d": [
           {
            "colorbar": {
             "outlinewidth": 0,
             "ticks": ""
            },
            "colorscale": [
             [
              0,
              "#0d0887"
             ],
             [
              0.1111111111111111,
              "#46039f"
             ],
             [
              0.2222222222222222,
              "#7201a8"
             ],
             [
              0.3333333333333333,
              "#9c179e"
             ],
             [
              0.4444444444444444,
              "#bd3786"
             ],
             [
              0.5555555555555556,
              "#d8576b"
             ],
             [
              0.6666666666666666,
              "#ed7953"
             ],
             [
              0.7777777777777778,
              "#fb9f3a"
             ],
             [
              0.8888888888888888,
              "#fdca26"
             ],
             [
              1,
              "#f0f921"
             ]
            ],
            "type": "histogram2d"
           }
          ],
          "histogram2dcontour": [
           {
            "colorbar": {
             "outlinewidth": 0,
             "ticks": ""
            },
            "colorscale": [
             [
              0,
              "#0d0887"
             ],
             [
              0.1111111111111111,
              "#46039f"
             ],
             [
              0.2222222222222222,
              "#7201a8"
             ],
             [
              0.3333333333333333,
              "#9c179e"
             ],
             [
              0.4444444444444444,
              "#bd3786"
             ],
             [
              0.5555555555555556,
              "#d8576b"
             ],
             [
              0.6666666666666666,
              "#ed7953"
             ],
             [
              0.7777777777777778,
              "#fb9f3a"
             ],
             [
              0.8888888888888888,
              "#fdca26"
             ],
             [
              1,
              "#f0f921"
             ]
            ],
            "type": "histogram2dcontour"
           }
          ],
          "mesh3d": [
           {
            "colorbar": {
             "outlinewidth": 0,
             "ticks": ""
            },
            "type": "mesh3d"
           }
          ],
          "parcoords": [
           {
            "line": {
             "colorbar": {
              "outlinewidth": 0,
              "ticks": ""
             }
            },
            "type": "parcoords"
           }
          ],
          "pie": [
           {
            "automargin": true,
            "type": "pie"
           }
          ],
          "scatter": [
           {
            "fillpattern": {
             "fillmode": "overlay",
             "size": 10,
             "solidity": 0.2
            },
            "type": "scatter"
           }
          ],
          "scatter3d": [
           {
            "line": {
             "colorbar": {
              "outlinewidth": 0,
              "ticks": ""
             }
            },
            "marker": {
             "colorbar": {
              "outlinewidth": 0,
              "ticks": ""
             }
            },
            "type": "scatter3d"
           }
          ],
          "scattercarpet": [
           {
            "marker": {
             "colorbar": {
              "outlinewidth": 0,
              "ticks": ""
             }
            },
            "type": "scattercarpet"
           }
          ],
          "scattergeo": [
           {
            "marker": {
             "colorbar": {
              "outlinewidth": 0,
              "ticks": ""
             }
            },
            "type": "scattergeo"
           }
          ],
          "scattergl": [
           {
            "marker": {
             "colorbar": {
              "outlinewidth": 0,
              "ticks": ""
             }
            },
            "type": "scattergl"
           }
          ],
          "scattermapbox": [
           {
            "marker": {
             "colorbar": {
              "outlinewidth": 0,
              "ticks": ""
             }
            },
            "type": "scattermapbox"
           }
          ],
          "scatterpolar": [
           {
            "marker": {
             "colorbar": {
              "outlinewidth": 0,
              "ticks": ""
             }
            },
            "type": "scatterpolar"
           }
          ],
          "scatterpolargl": [
           {
            "marker": {
             "colorbar": {
              "outlinewidth": 0,
              "ticks": ""
             }
            },
            "type": "scatterpolargl"
           }
          ],
          "scatterternary": [
           {
            "marker": {
             "colorbar": {
              "outlinewidth": 0,
              "ticks": ""
             }
            },
            "type": "scatterternary"
           }
          ],
          "surface": [
           {
            "colorbar": {
             "outlinewidth": 0,
             "ticks": ""
            },
            "colorscale": [
             [
              0,
              "#0d0887"
             ],
             [
              0.1111111111111111,
              "#46039f"
             ],
             [
              0.2222222222222222,
              "#7201a8"
             ],
             [
              0.3333333333333333,
              "#9c179e"
             ],
             [
              0.4444444444444444,
              "#bd3786"
             ],
             [
              0.5555555555555556,
              "#d8576b"
             ],
             [
              0.6666666666666666,
              "#ed7953"
             ],
             [
              0.7777777777777778,
              "#fb9f3a"
             ],
             [
              0.8888888888888888,
              "#fdca26"
             ],
             [
              1,
              "#f0f921"
             ]
            ],
            "type": "surface"
           }
          ],
          "table": [
           {
            "cells": {
             "fill": {
              "color": "#EBF0F8"
             },
             "line": {
              "color": "white"
             }
            },
            "header": {
             "fill": {
              "color": "#C8D4E3"
             },
             "line": {
              "color": "white"
             }
            },
            "type": "table"
           }
          ]
         },
         "layout": {
          "annotationdefaults": {
           "arrowcolor": "#2a3f5f",
           "arrowhead": 0,
           "arrowwidth": 1
          },
          "autotypenumbers": "strict",
          "coloraxis": {
           "colorbar": {
            "outlinewidth": 0,
            "ticks": ""
           }
          },
          "colorscale": {
           "diverging": [
            [
             0,
             "#8e0152"
            ],
            [
             0.1,
             "#c51b7d"
            ],
            [
             0.2,
             "#de77ae"
            ],
            [
             0.3,
             "#f1b6da"
            ],
            [
             0.4,
             "#fde0ef"
            ],
            [
             0.5,
             "#f7f7f7"
            ],
            [
             0.6,
             "#e6f5d0"
            ],
            [
             0.7,
             "#b8e186"
            ],
            [
             0.8,
             "#7fbc41"
            ],
            [
             0.9,
             "#4d9221"
            ],
            [
             1,
             "#276419"
            ]
           ],
           "sequential": [
            [
             0,
             "#0d0887"
            ],
            [
             0.1111111111111111,
             "#46039f"
            ],
            [
             0.2222222222222222,
             "#7201a8"
            ],
            [
             0.3333333333333333,
             "#9c179e"
            ],
            [
             0.4444444444444444,
             "#bd3786"
            ],
            [
             0.5555555555555556,
             "#d8576b"
            ],
            [
             0.6666666666666666,
             "#ed7953"
            ],
            [
             0.7777777777777778,
             "#fb9f3a"
            ],
            [
             0.8888888888888888,
             "#fdca26"
            ],
            [
             1,
             "#f0f921"
            ]
           ],
           "sequentialminus": [
            [
             0,
             "#0d0887"
            ],
            [
             0.1111111111111111,
             "#46039f"
            ],
            [
             0.2222222222222222,
             "#7201a8"
            ],
            [
             0.3333333333333333,
             "#9c179e"
            ],
            [
             0.4444444444444444,
             "#bd3786"
            ],
            [
             0.5555555555555556,
             "#d8576b"
            ],
            [
             0.6666666666666666,
             "#ed7953"
            ],
            [
             0.7777777777777778,
             "#fb9f3a"
            ],
            [
             0.8888888888888888,
             "#fdca26"
            ],
            [
             1,
             "#f0f921"
            ]
           ]
          },
          "colorway": [
           "#636efa",
           "#EF553B",
           "#00cc96",
           "#ab63fa",
           "#FFA15A",
           "#19d3f3",
           "#FF6692",
           "#B6E880",
           "#FF97FF",
           "#FECB52"
          ],
          "font": {
           "color": "#2a3f5f"
          },
          "geo": {
           "bgcolor": "white",
           "lakecolor": "white",
           "landcolor": "#E5ECF6",
           "showlakes": true,
           "showland": true,
           "subunitcolor": "white"
          },
          "hoverlabel": {
           "align": "left"
          },
          "hovermode": "closest",
          "mapbox": {
           "style": "light"
          },
          "paper_bgcolor": "white",
          "plot_bgcolor": "#E5ECF6",
          "polar": {
           "angularaxis": {
            "gridcolor": "white",
            "linecolor": "white",
            "ticks": ""
           },
           "bgcolor": "#E5ECF6",
           "radialaxis": {
            "gridcolor": "white",
            "linecolor": "white",
            "ticks": ""
           }
          },
          "scene": {
           "xaxis": {
            "backgroundcolor": "#E5ECF6",
            "gridcolor": "white",
            "gridwidth": 2,
            "linecolor": "white",
            "showbackground": true,
            "ticks": "",
            "zerolinecolor": "white"
           },
           "yaxis": {
            "backgroundcolor": "#E5ECF6",
            "gridcolor": "white",
            "gridwidth": 2,
            "linecolor": "white",
            "showbackground": true,
            "ticks": "",
            "zerolinecolor": "white"
           },
           "zaxis": {
            "backgroundcolor": "#E5ECF6",
            "gridcolor": "white",
            "gridwidth": 2,
            "linecolor": "white",
            "showbackground": true,
            "ticks": "",
            "zerolinecolor": "white"
           }
          },
          "shapedefaults": {
           "line": {
            "color": "#2a3f5f"
           }
          },
          "ternary": {
           "aaxis": {
            "gridcolor": "white",
            "linecolor": "white",
            "ticks": ""
           },
           "baxis": {
            "gridcolor": "white",
            "linecolor": "white",
            "ticks": ""
           },
           "bgcolor": "#E5ECF6",
           "caxis": {
            "gridcolor": "white",
            "linecolor": "white",
            "ticks": ""
           }
          },
          "title": {
           "x": 0.05
          },
          "xaxis": {
           "automargin": true,
           "gridcolor": "white",
           "linecolor": "white",
           "ticks": "",
           "title": {
            "standoff": 15
           },
           "zerolinecolor": "white",
           "zerolinewidth": 2
          },
          "yaxis": {
           "automargin": true,
           "gridcolor": "white",
           "linecolor": "white",
           "ticks": "",
           "title": {
            "standoff": 15
           },
           "zerolinecolor": "white",
           "zerolinewidth": 2
          }
         }
        },
        "title": {
         "text": "Top 3 Root Causes of Failure"
        },
        "xaxis": {
         "showticklabels": false,
         "ticktext": [
          "Total Failures"
         ],
         "tickvals": [
          "V47-0.66",
          "GE1.5-82.5",
          "Z50",
          "V117-4.3"
         ],
         "title": {
          "text": ""
         }
        },
        "yaxis": {
         "tickformat": ".1%",
         "title": {
          "text": "Percentage"
         }
        }
       }
      }
     },
     "metadata": {},
     "output_type": "display_data"
    }
   ],
   "source": [
    "# Data setup\n",
    "models = ['V47-0.66','GE1.5-82.5','Z50','V117-4.3']\n",
    "categories = [\"Blade\", \"Bearing\", \"Gearbox\", \"Misc.\"]\n",
    "base_values = [0.6, 0.2, 0.15, 0.05]\n",
    "temp_list = []\n",
    "for m in models:\n",
    "    for c in categories:\n",
    "        temp_list.append([m, c, np.random.uniform(0,1)])\n",
    "\n",
    "m_list, c_list, v_list = zip(*temp_list)\n",
    "temp_dict = {\n",
    "    'Model':m_list,\n",
    "    'Category':c_list,\n",
    "    'Value':v_list,\n",
    "}\n",
    "\n",
    "df = pd.DataFrame(temp_dict)\n",
    "# Group by 'Model' and normalize 'Value' to sum to 1 within each group\n",
    "df['Normalized Value'] = df.groupby('Model')['Value'].transform(lambda x: x / x.sum())\n",
    "\n",
    "# Define colors for each category manually\n",
    "colors = ['#636EFA', '#EF553B', '#00CC96', '#AB63FA']  # Example colors\n",
    "\n",
    "# Create the figure\n",
    "fig = go.Figure()\n",
    "\n",
    "\n",
    "# Add a single vertical bar with segments for each category\n",
    "for i, (model, category, value) in enumerate(zip(df['Model'], df['Category'], df['Normalized Value'])):\n",
    "    fig.add_trace(go.Bar(\n",
    "        x=[model],  # Single dummy value for all segments\n",
    "        y=[value],\n",
    "        name=category,\n",
    "        orientation='v',\n",
    "        hoverinfo='name+y',\n",
    "        marker=dict(color=colors[i%4])  # Use manually defined colors\n",
    "    ))\n",
    "\n",
    "# Update layout for the plot\n",
    "fig.update_layout(\n",
    "    barmode='stack',  # Stack the bars vertically\n",
    "    title=\"Top 3 Root Causes of Failure\",\n",
    "    xaxis=dict(\n",
    "        title=\"\",  # No need for x-axis title\n",
    "        tickvals=models,  # Single tick\n",
    "        ticktext=[\"Total Failures\"],  # Label for the single tick\n",
    "        showticklabels=False  # Hide the tick label for clean visual\n",
    "    ),\n",
    "    yaxis=dict(\n",
    "        title=\"Percentage\",\n",
    "        tickformat=\".1%\",  # Format y-axis ticks as percentages\n",
    "    ),\n",
    "    showlegend=True,  # Show legend to identify categories\n",
    ")\n",
    "\n",
    "# Show the plot\n",
    "fig.show()"
   ]
  },
  {
   "cell_type": "code",
   "execution_count": 23,
   "metadata": {},
   "outputs": [
    {
     "data": {
      "application/vnd.plotly.v1+json": {
       "config": {
        "plotlyServerURL": "https://plot.ly"
       },
       "data": [
        {
         "marker": {
          "color": "blue"
         },
         "name": "V47-0.66",
         "type": "bar",
         "x": [
          "Blade",
          "Bearing",
          "Gearbox",
          "Misc."
         ],
         "y": [
          0.038039252430844876,
          0.028063859878474814,
          0.03854835899772805,
          0.02468977981821954
         ]
        },
        {
         "marker": {
          "color": "orange"
         },
         "name": "GE1.5-82.5",
         "type": "bar",
         "x": [
          "Blade",
          "Bearing",
          "Gearbox",
          "Misc."
         ],
         "y": [
          0.026136641469099706,
          0.021377050917927482,
          0.0012709563372047595,
          0.005394571349665223
         ]
        },
        {
         "marker": {
          "color": "green"
         },
         "name": "Z50",
         "type": "bar",
         "x": [
          "Blade",
          "Bearing",
          "Gearbox",
          "Misc."
         ],
         "y": [
          0.0015714592843367127,
          0.03182052056318902,
          0.015717799053816334,
          0.02542853455823514
         ]
        },
        {
         "marker": {
          "color": "red"
         },
         "name": "V117-4.3",
         "type": "bar",
         "x": [
          "Blade",
          "Bearing",
          "Gearbox",
          "Misc."
         ],
         "y": [
          0.04537832369630465,
          0.012464611457443748,
          0.02051914615178149,
          0.037777556927152435
         ]
        }
       ],
       "layout": {
        "barmode": "group",
        "legend": {
         "title": {
          "text": "Model"
         }
        },
        "template": {
         "data": {
          "bar": [
           {
            "error_x": {
             "color": "#2a3f5f"
            },
            "error_y": {
             "color": "#2a3f5f"
            },
            "marker": {
             "line": {
              "color": "#E5ECF6",
              "width": 0.5
             },
             "pattern": {
              "fillmode": "overlay",
              "size": 10,
              "solidity": 0.2
             }
            },
            "type": "bar"
           }
          ],
          "barpolar": [
           {
            "marker": {
             "line": {
              "color": "#E5ECF6",
              "width": 0.5
             },
             "pattern": {
              "fillmode": "overlay",
              "size": 10,
              "solidity": 0.2
             }
            },
            "type": "barpolar"
           }
          ],
          "carpet": [
           {
            "aaxis": {
             "endlinecolor": "#2a3f5f",
             "gridcolor": "white",
             "linecolor": "white",
             "minorgridcolor": "white",
             "startlinecolor": "#2a3f5f"
            },
            "baxis": {
             "endlinecolor": "#2a3f5f",
             "gridcolor": "white",
             "linecolor": "white",
             "minorgridcolor": "white",
             "startlinecolor": "#2a3f5f"
            },
            "type": "carpet"
           }
          ],
          "choropleth": [
           {
            "colorbar": {
             "outlinewidth": 0,
             "ticks": ""
            },
            "type": "choropleth"
           }
          ],
          "contour": [
           {
            "colorbar": {
             "outlinewidth": 0,
             "ticks": ""
            },
            "colorscale": [
             [
              0,
              "#0d0887"
             ],
             [
              0.1111111111111111,
              "#46039f"
             ],
             [
              0.2222222222222222,
              "#7201a8"
             ],
             [
              0.3333333333333333,
              "#9c179e"
             ],
             [
              0.4444444444444444,
              "#bd3786"
             ],
             [
              0.5555555555555556,
              "#d8576b"
             ],
             [
              0.6666666666666666,
              "#ed7953"
             ],
             [
              0.7777777777777778,
              "#fb9f3a"
             ],
             [
              0.8888888888888888,
              "#fdca26"
             ],
             [
              1,
              "#f0f921"
             ]
            ],
            "type": "contour"
           }
          ],
          "contourcarpet": [
           {
            "colorbar": {
             "outlinewidth": 0,
             "ticks": ""
            },
            "type": "contourcarpet"
           }
          ],
          "heatmap": [
           {
            "colorbar": {
             "outlinewidth": 0,
             "ticks": ""
            },
            "colorscale": [
             [
              0,
              "#0d0887"
             ],
             [
              0.1111111111111111,
              "#46039f"
             ],
             [
              0.2222222222222222,
              "#7201a8"
             ],
             [
              0.3333333333333333,
              "#9c179e"
             ],
             [
              0.4444444444444444,
              "#bd3786"
             ],
             [
              0.5555555555555556,
              "#d8576b"
             ],
             [
              0.6666666666666666,
              "#ed7953"
             ],
             [
              0.7777777777777778,
              "#fb9f3a"
             ],
             [
              0.8888888888888888,
              "#fdca26"
             ],
             [
              1,
              "#f0f921"
             ]
            ],
            "type": "heatmap"
           }
          ],
          "heatmapgl": [
           {
            "colorbar": {
             "outlinewidth": 0,
             "ticks": ""
            },
            "colorscale": [
             [
              0,
              "#0d0887"
             ],
             [
              0.1111111111111111,
              "#46039f"
             ],
             [
              0.2222222222222222,
              "#7201a8"
             ],
             [
              0.3333333333333333,
              "#9c179e"
             ],
             [
              0.4444444444444444,
              "#bd3786"
             ],
             [
              0.5555555555555556,
              "#d8576b"
             ],
             [
              0.6666666666666666,
              "#ed7953"
             ],
             [
              0.7777777777777778,
              "#fb9f3a"
             ],
             [
              0.8888888888888888,
              "#fdca26"
             ],
             [
              1,
              "#f0f921"
             ]
            ],
            "type": "heatmapgl"
           }
          ],
          "histogram": [
           {
            "marker": {
             "pattern": {
              "fillmode": "overlay",
              "size": 10,
              "solidity": 0.2
             }
            },
            "type": "histogram"
           }
          ],
          "histogram2d": [
           {
            "colorbar": {
             "outlinewidth": 0,
             "ticks": ""
            },
            "colorscale": [
             [
              0,
              "#0d0887"
             ],
             [
              0.1111111111111111,
              "#46039f"
             ],
             [
              0.2222222222222222,
              "#7201a8"
             ],
             [
              0.3333333333333333,
              "#9c179e"
             ],
             [
              0.4444444444444444,
              "#bd3786"
             ],
             [
              0.5555555555555556,
              "#d8576b"
             ],
             [
              0.6666666666666666,
              "#ed7953"
             ],
             [
              0.7777777777777778,
              "#fb9f3a"
             ],
             [
              0.8888888888888888,
              "#fdca26"
             ],
             [
              1,
              "#f0f921"
             ]
            ],
            "type": "histogram2d"
           }
          ],
          "histogram2dcontour": [
           {
            "colorbar": {
             "outlinewidth": 0,
             "ticks": ""
            },
            "colorscale": [
             [
              0,
              "#0d0887"
             ],
             [
              0.1111111111111111,
              "#46039f"
             ],
             [
              0.2222222222222222,
              "#7201a8"
             ],
             [
              0.3333333333333333,
              "#9c179e"
             ],
             [
              0.4444444444444444,
              "#bd3786"
             ],
             [
              0.5555555555555556,
              "#d8576b"
             ],
             [
              0.6666666666666666,
              "#ed7953"
             ],
             [
              0.7777777777777778,
              "#fb9f3a"
             ],
             [
              0.8888888888888888,
              "#fdca26"
             ],
             [
              1,
              "#f0f921"
             ]
            ],
            "type": "histogram2dcontour"
           }
          ],
          "mesh3d": [
           {
            "colorbar": {
             "outlinewidth": 0,
             "ticks": ""
            },
            "type": "mesh3d"
           }
          ],
          "parcoords": [
           {
            "line": {
             "colorbar": {
              "outlinewidth": 0,
              "ticks": ""
             }
            },
            "type": "parcoords"
           }
          ],
          "pie": [
           {
            "automargin": true,
            "type": "pie"
           }
          ],
          "scatter": [
           {
            "fillpattern": {
             "fillmode": "overlay",
             "size": 10,
             "solidity": 0.2
            },
            "type": "scatter"
           }
          ],
          "scatter3d": [
           {
            "line": {
             "colorbar": {
              "outlinewidth": 0,
              "ticks": ""
             }
            },
            "marker": {
             "colorbar": {
              "outlinewidth": 0,
              "ticks": ""
             }
            },
            "type": "scatter3d"
           }
          ],
          "scattercarpet": [
           {
            "marker": {
             "colorbar": {
              "outlinewidth": 0,
              "ticks": ""
             }
            },
            "type": "scattercarpet"
           }
          ],
          "scattergeo": [
           {
            "marker": {
             "colorbar": {
              "outlinewidth": 0,
              "ticks": ""
             }
            },
            "type": "scattergeo"
           }
          ],
          "scattergl": [
           {
            "marker": {
             "colorbar": {
              "outlinewidth": 0,
              "ticks": ""
             }
            },
            "type": "scattergl"
           }
          ],
          "scattermapbox": [
           {
            "marker": {
             "colorbar": {
              "outlinewidth": 0,
              "ticks": ""
             }
            },
            "type": "scattermapbox"
           }
          ],
          "scatterpolar": [
           {
            "marker": {
             "colorbar": {
              "outlinewidth": 0,
              "ticks": ""
             }
            },
            "type": "scatterpolar"
           }
          ],
          "scatterpolargl": [
           {
            "marker": {
             "colorbar": {
              "outlinewidth": 0,
              "ticks": ""
             }
            },
            "type": "scatterpolargl"
           }
          ],
          "scatterternary": [
           {
            "marker": {
             "colorbar": {
              "outlinewidth": 0,
              "ticks": ""
             }
            },
            "type": "scatterternary"
           }
          ],
          "surface": [
           {
            "colorbar": {
             "outlinewidth": 0,
             "ticks": ""
            },
            "colorscale": [
             [
              0,
              "#0d0887"
             ],
             [
              0.1111111111111111,
              "#46039f"
             ],
             [
              0.2222222222222222,
              "#7201a8"
             ],
             [
              0.3333333333333333,
              "#9c179e"
             ],
             [
              0.4444444444444444,
              "#bd3786"
             ],
             [
              0.5555555555555556,
              "#d8576b"
             ],
             [
              0.6666666666666666,
              "#ed7953"
             ],
             [
              0.7777777777777778,
              "#fb9f3a"
             ],
             [
              0.8888888888888888,
              "#fdca26"
             ],
             [
              1,
              "#f0f921"
             ]
            ],
            "type": "surface"
           }
          ],
          "table": [
           {
            "cells": {
             "fill": {
              "color": "#EBF0F8"
             },
             "line": {
              "color": "white"
             }
            },
            "header": {
             "fill": {
              "color": "#C8D4E3"
             },
             "line": {
              "color": "white"
             }
            },
            "type": "table"
           }
          ]
         },
         "layout": {
          "annotationdefaults": {
           "arrowcolor": "#2a3f5f",
           "arrowhead": 0,
           "arrowwidth": 1
          },
          "autotypenumbers": "strict",
          "coloraxis": {
           "colorbar": {
            "outlinewidth": 0,
            "ticks": ""
           }
          },
          "colorscale": {
           "diverging": [
            [
             0,
             "#8e0152"
            ],
            [
             0.1,
             "#c51b7d"
            ],
            [
             0.2,
             "#de77ae"
            ],
            [
             0.3,
             "#f1b6da"
            ],
            [
             0.4,
             "#fde0ef"
            ],
            [
             0.5,
             "#f7f7f7"
            ],
            [
             0.6,
             "#e6f5d0"
            ],
            [
             0.7,
             "#b8e186"
            ],
            [
             0.8,
             "#7fbc41"
            ],
            [
             0.9,
             "#4d9221"
            ],
            [
             1,
             "#276419"
            ]
           ],
           "sequential": [
            [
             0,
             "#0d0887"
            ],
            [
             0.1111111111111111,
             "#46039f"
            ],
            [
             0.2222222222222222,
             "#7201a8"
            ],
            [
             0.3333333333333333,
             "#9c179e"
            ],
            [
             0.4444444444444444,
             "#bd3786"
            ],
            [
             0.5555555555555556,
             "#d8576b"
            ],
            [
             0.6666666666666666,
             "#ed7953"
            ],
            [
             0.7777777777777778,
             "#fb9f3a"
            ],
            [
             0.8888888888888888,
             "#fdca26"
            ],
            [
             1,
             "#f0f921"
            ]
           ],
           "sequentialminus": [
            [
             0,
             "#0d0887"
            ],
            [
             0.1111111111111111,
             "#46039f"
            ],
            [
             0.2222222222222222,
             "#7201a8"
            ],
            [
             0.3333333333333333,
             "#9c179e"
            ],
            [
             0.4444444444444444,
             "#bd3786"
            ],
            [
             0.5555555555555556,
             "#d8576b"
            ],
            [
             0.6666666666666666,
             "#ed7953"
            ],
            [
             0.7777777777777778,
             "#fb9f3a"
            ],
            [
             0.8888888888888888,
             "#fdca26"
            ],
            [
             1,
             "#f0f921"
            ]
           ]
          },
          "colorway": [
           "#636efa",
           "#EF553B",
           "#00cc96",
           "#ab63fa",
           "#FFA15A",
           "#19d3f3",
           "#FF6692",
           "#B6E880",
           "#FF97FF",
           "#FECB52"
          ],
          "font": {
           "color": "#2a3f5f"
          },
          "geo": {
           "bgcolor": "white",
           "lakecolor": "white",
           "landcolor": "#E5ECF6",
           "showlakes": true,
           "showland": true,
           "subunitcolor": "white"
          },
          "hoverlabel": {
           "align": "left"
          },
          "hovermode": "closest",
          "mapbox": {
           "style": "light"
          },
          "paper_bgcolor": "white",
          "plot_bgcolor": "#E5ECF6",
          "polar": {
           "angularaxis": {
            "gridcolor": "white",
            "linecolor": "white",
            "ticks": ""
           },
           "bgcolor": "#E5ECF6",
           "radialaxis": {
            "gridcolor": "white",
            "linecolor": "white",
            "ticks": ""
           }
          },
          "scene": {
           "xaxis": {
            "backgroundcolor": "#E5ECF6",
            "gridcolor": "white",
            "gridwidth": 2,
            "linecolor": "white",
            "showbackground": true,
            "ticks": "",
            "zerolinecolor": "white"
           },
           "yaxis": {
            "backgroundcolor": "#E5ECF6",
            "gridcolor": "white",
            "gridwidth": 2,
            "linecolor": "white",
            "showbackground": true,
            "ticks": "",
            "zerolinecolor": "white"
           },
           "zaxis": {
            "backgroundcolor": "#E5ECF6",
            "gridcolor": "white",
            "gridwidth": 2,
            "linecolor": "white",
            "showbackground": true,
            "ticks": "",
            "zerolinecolor": "white"
           }
          },
          "shapedefaults": {
           "line": {
            "color": "#2a3f5f"
           }
          },
          "ternary": {
           "aaxis": {
            "gridcolor": "white",
            "linecolor": "white",
            "ticks": ""
           },
           "baxis": {
            "gridcolor": "white",
            "linecolor": "white",
            "ticks": ""
           },
           "bgcolor": "#E5ECF6",
           "caxis": {
            "gridcolor": "white",
            "linecolor": "white",
            "ticks": ""
           }
          },
          "title": {
           "x": 0.05
          },
          "xaxis": {
           "automargin": true,
           "gridcolor": "white",
           "linecolor": "white",
           "ticks": "",
           "title": {
            "standoff": 15
           },
           "zerolinecolor": "white",
           "zerolinewidth": 2
          },
          "yaxis": {
           "automargin": true,
           "gridcolor": "white",
           "linecolor": "white",
           "ticks": "",
           "title": {
            "standoff": 15
           },
           "zerolinecolor": "white",
           "zerolinewidth": 2
          }
         }
        },
        "title": {
         "text": "Failures by Model"
        },
        "xaxis": {
         "title": {
          "text": "Failure Category"
         }
        },
        "yaxis": {
         "tickformat": ".0%",
         "title": {
          "text": "Percent Failure by Model"
         }
        }
       }
      }
     },
     "metadata": {},
     "output_type": "display_data"
    }
   ],
   "source": [
    "# Data setup\n",
    "models = ['V47-0.66','GE1.5-82.5','Z50','V117-4.3']\n",
    "categories = [\"Blade\", \"Bearing\", \"Gearbox\", \"Misc.\"]\n",
    "temp_list = []\n",
    "for m in models:\n",
    "    for c in categories:\n",
    "        temp_list.append([m, c, np.random.uniform(0,.05)])\n",
    "\n",
    "m_list, c_list, v_list = zip(*temp_list)\n",
    "temp_dict = {\n",
    "    'Model':m_list,\n",
    "    'Category':c_list,\n",
    "    'Value':v_list,\n",
    "}\n",
    "\n",
    "df = pd.DataFrame(temp_dict)\n",
    "\n",
    "# Create the figure object\n",
    "fig = go.Figure()\n",
    "\n",
    "# Find unique categories and models\n",
    "categories = df['Category'].unique()\n",
    "models = df['Model'].unique()\n",
    "\n",
    "# Colors for each model - assuming a limited number of models\n",
    "colors = ['blue', 'orange', 'green', 'red']\n",
    "\n",
    "# Plot each model's data within each category\n",
    "for i, model in enumerate(models):\n",
    "    # Filter the DataFrame for the current model\n",
    "    df_filtered = df[df['Model'] == model]\n",
    "\n",
    "    # Add a bar for each category within the model\n",
    "    fig.add_trace(go.Bar(\n",
    "        x=df_filtered['Category'],  # Categories as x-axis\n",
    "        y=df_filtered['Value'],  # Normalized values as height of the bars\n",
    "        name=model,  # Legend name\n",
    "        marker_color=colors[i % len(colors)]  # Color of the bars\n",
    "    ))\n",
    "\n",
    "# Update the layout of the figure\n",
    "fig.update_layout(\n",
    "    barmode='group',  # Group bars by x-axis category\n",
    "    title=\"Failures by Model\",\n",
    "    xaxis=dict(title=\"Failure Category\"),  # Rotate category names 90 degrees\n",
    "    yaxis=dict(title=\"Percent Failure by Model\", tickformat=\".0%\"),  # Show y-values as percentages\n",
    "    legend_title=\"Model\"\n",
    ")\n",
    "\n",
    "# Show the plot\n",
    "fig.show()"
   ]
  },
  {
   "cell_type": "code",
   "execution_count": 24,
   "metadata": {},
   "outputs": [
    {
     "name": "stdout",
     "output_type": "stream",
     "text": [
      "{\n",
      "    \"x_series\": \"Category\",\n",
      "    \"y_series\": \"Value\",\n",
      "    \"labels\": {\n",
      "        \"x\": \"Failure Category\",\n",
      "        \"y\": \"Percent Failure by Model\",\n",
      "        \"title\": \"Failures by Model\",\n",
      "        \"legend_title\": \"Model\"\n",
      "    },\n",
      "    \"data\": [\n",
      "        {\n",
      "            \"model\": \"V47-0.66\",\n",
      "            \"category_data\": [\n",
      "                {\n",
      "                    \"category\": \"Blade\",\n",
      "                    \"value\": 0.038039252430844876,\n",
      "                    \"color\": \"blue\"\n",
      "                },\n",
      "                {\n",
      "                    \"category\": \"Bearing\",\n",
      "                    \"value\": 0.028063859878474814,\n",
      "                    \"color\": \"blue\"\n",
      "                },\n",
      "                {\n",
      "                    \"category\": \"Gearbox\",\n",
      "                    \"value\": 0.03854835899772805,\n",
      "                    \"color\": \"blue\"\n",
      "                },\n",
      "                {\n",
      "                    \"category\": \"Misc.\",\n",
      "                    \"value\": 0.02468977981821954,\n",
      "                    \"color\": \"blue\"\n",
      "                }\n",
      "            ]\n",
      "        },\n",
      "        {\n",
      "            \"model\": \"GE1.5-82.5\",\n",
      "            \"category_data\": [\n",
      "                {\n",
      "                    \"category\": \"Blade\",\n",
      "                    \"value\": 0.026136641469099706,\n",
      "                    \"color\": \"orange\"\n",
      "                },\n",
      "                {\n",
      "                    \"category\": \"Bearing\",\n",
      "                    \"value\": 0.021377050917927482,\n",
      "                    \"color\": \"orange\"\n",
      "                },\n",
      "                {\n",
      "                    \"category\": \"Gearbox\",\n",
      "                    \"value\": 0.0012709563372047595,\n",
      "                    \"color\": \"orange\"\n",
      "                },\n",
      "                {\n",
      "                    \"category\": \"Misc.\",\n",
      "                    \"value\": 0.005394571349665223,\n",
      "                    \"color\": \"orange\"\n",
      "                }\n",
      "            ]\n",
      "        },\n",
      "        {\n",
      "            \"model\": \"Z50\",\n",
      "            \"category_data\": [\n",
      "                {\n",
      "                    \"category\": \"Blade\",\n",
      "                    \"value\": 0.0015714592843367127,\n",
      "                    \"color\": \"green\"\n",
      "                },\n",
      "                {\n",
      "                    \"category\": \"Bearing\",\n",
      "                    \"value\": 0.03182052056318902,\n",
      "                    \"color\": \"green\"\n",
      "                },\n",
      "                {\n",
      "                    \"category\": \"Gearbox\",\n",
      "                    \"value\": 0.015717799053816334,\n",
      "                    \"color\": \"green\"\n",
      "                },\n",
      "                {\n",
      "                    \"category\": \"Misc.\",\n",
      "                    \"value\": 0.02542853455823514,\n",
      "                    \"color\": \"green\"\n",
      "                }\n",
      "            ]\n",
      "        },\n",
      "        {\n",
      "            \"model\": \"V117-4.3\",\n",
      "            \"category_data\": [\n",
      "                {\n",
      "                    \"category\": \"Blade\",\n",
      "                    \"value\": 0.04537832369630465,\n",
      "                    \"color\": \"red\"\n",
      "                },\n",
      "                {\n",
      "                    \"category\": \"Bearing\",\n",
      "                    \"value\": 0.012464611457443748,\n",
      "                    \"color\": \"red\"\n",
      "                },\n",
      "                {\n",
      "                    \"category\": \"Gearbox\",\n",
      "                    \"value\": 0.02051914615178149,\n",
      "                    \"color\": \"red\"\n",
      "                },\n",
      "                {\n",
      "                    \"category\": \"Misc.\",\n",
      "                    \"value\": 0.037777556927152435,\n",
      "                    \"color\": \"red\"\n",
      "                }\n",
      "            ]\n",
      "        }\n",
      "    ],\n",
      "    \"layout\": {\n",
      "        \"barmode\": \"group\",\n",
      "        \"xaxis_tickformat\": \".0%\"\n",
      "    }\n",
      "}\n"
     ]
    }
   ],
   "source": [
    "file_name = 'Slide04_FailureTypeByModel.json'\n",
    "\n",
    "color_map = {model: colors[i % len(colors)] for i, model in enumerate(models)}\n",
    "\n",
    "# Prepare the JSON data structure\n",
    "plot_json = {\n",
    "    \"x_series\": \"Category\",  # Categories are mapped to the x-axis\n",
    "    \"y_series\": \"Value\",  # Values are mapped to the y-axis\n",
    "    \"labels\": {\n",
    "        \"x\": \"Failure Category\",\n",
    "        \"y\": \"Percent Failure by Model\",\n",
    "        \"title\": \"Failures by Model\",\n",
    "        \"legend_title\": \"Model\"\n",
    "    },\n",
    "    \"data\": [\n",
    "        {\n",
    "            \"model\": model,\n",
    "            \"category_data\": [\n",
    "                {\n",
    "                    \"category\": row['Category'],\n",
    "                    \"value\": row['Value'],\n",
    "                    \"color\": color_map[model]\n",
    "                }\n",
    "                for index, row in df[df['Model'] == model].iterrows()\n",
    "            ]\n",
    "        }\n",
    "        for model in models\n",
    "    ],\n",
    "    \"layout\": {\n",
    "        \"barmode\": \"group\",\n",
    "        \"xaxis_tickformat\": \".0%\",  # Assuming value transformation as needed elsewhere\n",
    "    }\n",
    "}\n",
    "\n",
    "# Serialize JSON data to a string\n",
    "json_str = json.dumps(plot_json, indent=4)\n",
    "print(json_str)\n",
    "\n",
    "# Optionally, write to a file\n",
    "with open(os.path.join(output_dir, file_name), 'w') as f:\n",
    "    json.dump(plot_json, f, indent=4)"
   ]
  },
  {
   "cell_type": "markdown",
   "metadata": {},
   "source": [
    "## Slide 5 & 7 Bearing Health: Failures"
   ]
  },
  {
   "cell_type": "code",
   "execution_count": 25,
   "metadata": {},
   "outputs": [
    {
     "data": {
      "application/vnd.plotly.v1+json": {
       "config": {
        "plotlyServerURL": "https://plot.ly"
       },
       "data": [
        {
         "marker": {
          "color": [
           "yellow",
           "yellow",
           "yellow",
           "green"
          ],
          "line": {
           "color": "black",
           "width": 1
          }
         },
         "name": "Turbine 11",
         "orientation": "v",
         "type": "bar",
         "x": [
          0,
          0,
          0,
          0
         ],
         "y": [
          1,
          1,
          1,
          1
         ]
        },
        {
         "marker": {
          "color": [
           "yellow",
           "green",
           "green",
           "yellow"
          ],
          "line": {
           "color": "black",
           "width": 1
          }
         },
         "name": "Turbine 50",
         "orientation": "v",
         "type": "bar",
         "x": [
          1,
          1,
          1,
          1
         ],
         "y": [
          1,
          1,
          1,
          1
         ]
        },
        {
         "marker": {
          "color": [
           "yellow",
           "green",
           "yellow",
           "green"
          ],
          "line": {
           "color": "black",
           "width": 1
          }
         },
         "name": "Turbine 20",
         "orientation": "v",
         "type": "bar",
         "x": [
          2,
          2,
          2,
          2
         ],
         "y": [
          1,
          1,
          1,
          1
         ]
        },
        {
         "marker": {
          "color": [
           "yellow",
           "yellow",
           "green",
           "green"
          ],
          "line": {
           "color": "black",
           "width": 1
          }
         },
         "name": "Turbine 29",
         "orientation": "v",
         "type": "bar",
         "x": [
          3,
          3,
          3,
          3
         ],
         "y": [
          1,
          1,
          1,
          1
         ]
        },
        {
         "marker": {
          "color": [
           "yellow",
           "yellow",
           "green",
           "green"
          ],
          "line": {
           "color": "black",
           "width": 1
          }
         },
         "name": "Turbine 34",
         "orientation": "v",
         "type": "bar",
         "x": [
          4,
          4,
          4,
          4
         ],
         "y": [
          1,
          1,
          1,
          1
         ]
        },
        {
         "marker": {
          "color": [
           "green",
           "green",
           "yellow",
           "yellow"
          ],
          "line": {
           "color": "black",
           "width": 1
          }
         },
         "name": "Turbine 23",
         "orientation": "v",
         "type": "bar",
         "x": [
          5,
          5,
          5,
          5
         ],
         "y": [
          1,
          1,
          1,
          1
         ]
        },
        {
         "marker": {
          "color": [
           "yellow",
           "yellow",
           "green",
           "green"
          ],
          "line": {
           "color": "black",
           "width": 1
          }
         },
         "name": "Turbine 10",
         "orientation": "v",
         "type": "bar",
         "x": [
          6,
          6,
          6,
          6
         ],
         "y": [
          1,
          1,
          1,
          1
         ]
        },
        {
         "marker": {
          "color": [
           "green",
           "green",
           "yellow",
           "yellow"
          ],
          "line": {
           "color": "black",
           "width": 1
          }
         },
         "name": "Turbine 9",
         "orientation": "v",
         "type": "bar",
         "x": [
          7,
          7,
          7,
          7
         ],
         "y": [
          1,
          1,
          1,
          1
         ]
        },
        {
         "marker": {
          "color": [
           "yellow",
           "yellow",
           "green",
           "green"
          ],
          "line": {
           "color": "black",
           "width": 1
          }
         },
         "name": "Turbine 24",
         "orientation": "v",
         "type": "bar",
         "x": [
          8,
          8,
          8,
          8
         ],
         "y": [
          1,
          1,
          1,
          1
         ]
        },
        {
         "marker": {
          "color": [
           "yellow",
           "green",
           "green",
           "yellow"
          ],
          "line": {
           "color": "black",
           "width": 1
          }
         },
         "name": "Turbine 6",
         "orientation": "v",
         "type": "bar",
         "x": [
          9,
          9,
          9,
          9
         ],
         "y": [
          1,
          1,
          1,
          1
         ]
        },
        {
         "marker": {
          "color": [
           "yellow",
           "green",
           "green",
           "yellow"
          ],
          "line": {
           "color": "black",
           "width": 1
          }
         },
         "name": "Turbine 41",
         "orientation": "v",
         "type": "bar",
         "x": [
          10,
          10,
          10,
          10
         ],
         "y": [
          1,
          1,
          1,
          1
         ]
        },
        {
         "marker": {
          "color": [
           "green",
           "green",
           "yellow",
           "green"
          ],
          "line": {
           "color": "black",
           "width": 1
          }
         },
         "name": "Turbine 42",
         "orientation": "v",
         "type": "bar",
         "x": [
          11,
          11,
          11,
          11
         ],
         "y": [
          1,
          1,
          1,
          1
         ]
        },
        {
         "marker": {
          "color": [
           "yellow",
           "green",
           "green",
           "green"
          ],
          "line": {
           "color": "black",
           "width": 1
          }
         },
         "name": "Turbine 43",
         "orientation": "v",
         "type": "bar",
         "x": [
          12,
          12,
          12,
          12
         ],
         "y": [
          1,
          1,
          1,
          1
         ]
        },
        {
         "marker": {
          "color": [
           "green",
           "green",
           "green",
           "yellow"
          ],
          "line": {
           "color": "black",
           "width": 1
          }
         },
         "name": "Turbine 39",
         "orientation": "v",
         "type": "bar",
         "x": [
          13,
          13,
          13,
          13
         ],
         "y": [
          1,
          1,
          1,
          1
         ]
        },
        {
         "marker": {
          "color": [
           "green",
           "green",
           "yellow",
           "green"
          ],
          "line": {
           "color": "black",
           "width": 1
          }
         },
         "name": "Turbine 38",
         "orientation": "v",
         "type": "bar",
         "x": [
          14,
          14,
          14,
          14
         ],
         "y": [
          1,
          1,
          1,
          1
         ]
        },
        {
         "marker": {
          "color": [
           "green",
           "yellow",
           "green",
           "green"
          ],
          "line": {
           "color": "black",
           "width": 1
          }
         },
         "name": "Turbine 37",
         "orientation": "v",
         "type": "bar",
         "x": [
          15,
          15,
          15,
          15
         ],
         "y": [
          1,
          1,
          1,
          1
         ]
        },
        {
         "marker": {
          "color": [
           "green",
           "yellow",
           "green",
           "green"
          ],
          "line": {
           "color": "black",
           "width": 1
          }
         },
         "name": "Turbine 36",
         "orientation": "v",
         "type": "bar",
         "x": [
          16,
          16,
          16,
          16
         ],
         "y": [
          1,
          1,
          1,
          1
         ]
        },
        {
         "marker": {
          "color": [
           "yellow",
           "green",
           "green",
           "green"
          ],
          "line": {
           "color": "black",
           "width": 1
          }
         },
         "name": "Turbine 44",
         "orientation": "v",
         "type": "bar",
         "x": [
          17,
          17,
          17,
          17
         ],
         "y": [
          1,
          1,
          1,
          1
         ]
        },
        {
         "marker": {
          "color": [
           "green",
           "green",
           "yellow",
           "green"
          ],
          "line": {
           "color": "black",
           "width": 1
          }
         },
         "name": "Turbine 32",
         "orientation": "v",
         "type": "bar",
         "x": [
          18,
          18,
          18,
          18
         ],
         "y": [
          1,
          1,
          1,
          1
         ]
        },
        {
         "marker": {
          "color": [
           "yellow",
           "green",
           "green",
           "green"
          ],
          "line": {
           "color": "black",
           "width": 1
          }
         },
         "name": "Turbine 46",
         "orientation": "v",
         "type": "bar",
         "x": [
          19,
          19,
          19,
          19
         ],
         "y": [
          1,
          1,
          1,
          1
         ]
        },
        {
         "marker": {
          "color": [
           "green",
           "yellow",
           "green",
           "green"
          ],
          "line": {
           "color": "black",
           "width": 1
          }
         },
         "name": "Turbine 47",
         "orientation": "v",
         "type": "bar",
         "x": [
          20,
          20,
          20,
          20
         ],
         "y": [
          1,
          1,
          1,
          1
         ]
        },
        {
         "marker": {
          "color": [
           "green",
           "green",
           "green",
           "yellow"
          ],
          "line": {
           "color": "black",
           "width": 1
          }
         },
         "name": "Turbine 28",
         "orientation": "v",
         "type": "bar",
         "x": [
          21,
          21,
          21,
          21
         ],
         "y": [
          1,
          1,
          1,
          1
         ]
        },
        {
         "marker": {
          "color": [
           "green",
           "green",
           "yellow",
           "green"
          ],
          "line": {
           "color": "black",
           "width": 1
          }
         },
         "name": "Turbine 27",
         "orientation": "v",
         "type": "bar",
         "x": [
          22,
          22,
          22,
          22
         ],
         "y": [
          1,
          1,
          1,
          1
         ]
        },
        {
         "marker": {
          "color": [
           "green",
           "yellow",
           "green",
           "green"
          ],
          "line": {
           "color": "black",
           "width": 1
          }
         },
         "name": "Turbine 40",
         "orientation": "v",
         "type": "bar",
         "x": [
          23,
          23,
          23,
          23
         ],
         "y": [
          1,
          1,
          1,
          1
         ]
        },
        {
         "marker": {
          "color": [
           "green",
           "yellow",
           "green",
           "green"
          ],
          "line": {
           "color": "black",
           "width": 1
          }
         },
         "name": "Turbine 1",
         "orientation": "v",
         "type": "bar",
         "x": [
          24,
          24,
          24,
          24
         ],
         "y": [
          1,
          1,
          1,
          1
         ]
        },
        {
         "marker": {
          "color": [
           "yellow",
           "green",
           "green",
           "green"
          ],
          "line": {
           "color": "black",
           "width": 1
          }
         },
         "name": "Turbine 25",
         "orientation": "v",
         "type": "bar",
         "x": [
          25,
          25,
          25,
          25
         ],
         "y": [
          1,
          1,
          1,
          1
         ]
        },
        {
         "marker": {
          "color": [
           "green",
           "yellow",
           "green",
           "green"
          ],
          "line": {
           "color": "black",
           "width": 1
          }
         },
         "name": "Turbine 22",
         "orientation": "v",
         "type": "bar",
         "x": [
          26,
          26,
          26,
          26
         ],
         "y": [
          1,
          1,
          1,
          1
         ]
        },
        {
         "marker": {
          "color": [
           "green",
           "green",
           "yellow",
           "green"
          ],
          "line": {
           "color": "black",
           "width": 1
          }
         },
         "name": "Turbine 21",
         "orientation": "v",
         "type": "bar",
         "x": [
          27,
          27,
          27,
          27
         ],
         "y": [
          1,
          1,
          1,
          1
         ]
        },
        {
         "marker": {
          "color": [
           "green",
           "yellow",
           "green",
           "green"
          ],
          "line": {
           "color": "black",
           "width": 1
          }
         },
         "name": "Turbine 2",
         "orientation": "v",
         "type": "bar",
         "x": [
          28,
          28,
          28,
          28
         ],
         "y": [
          1,
          1,
          1,
          1
         ]
        },
        {
         "marker": {
          "color": [
           "green",
           "yellow",
           "green",
           "green"
          ],
          "line": {
           "color": "black",
           "width": 1
          }
         },
         "name": "Turbine 3",
         "orientation": "v",
         "type": "bar",
         "x": [
          29,
          29,
          29,
          29
         ],
         "y": [
          1,
          1,
          1,
          1
         ]
        },
        {
         "marker": {
          "color": [
           "green",
           "yellow",
           "green",
           "green"
          ],
          "line": {
           "color": "black",
           "width": 1
          }
         },
         "name": "Turbine 18",
         "orientation": "v",
         "type": "bar",
         "x": [
          30,
          30,
          30,
          30
         ],
         "y": [
          1,
          1,
          1,
          1
         ]
        },
        {
         "marker": {
          "color": [
           "green",
           "green",
           "yellow",
           "green"
          ],
          "line": {
           "color": "black",
           "width": 1
          }
         },
         "name": "Turbine 4",
         "orientation": "v",
         "type": "bar",
         "x": [
          31,
          31,
          31,
          31
         ],
         "y": [
          1,
          1,
          1,
          1
         ]
        },
        {
         "marker": {
          "color": [
           "green",
           "green",
           "green",
           "yellow"
          ],
          "line": {
           "color": "black",
           "width": 1
          }
         },
         "name": "Turbine 5",
         "orientation": "v",
         "type": "bar",
         "x": [
          32,
          32,
          32,
          32
         ],
         "y": [
          1,
          1,
          1,
          1
         ]
        },
        {
         "marker": {
          "color": [
           "green",
           "green",
           "green",
           "yellow"
          ],
          "line": {
           "color": "black",
           "width": 1
          }
         },
         "name": "Turbine 7",
         "orientation": "v",
         "type": "bar",
         "x": [
          33,
          33,
          33,
          33
         ],
         "y": [
          1,
          1,
          1,
          1
         ]
        },
        {
         "marker": {
          "color": [
           "green",
           "yellow",
           "green",
           "green"
          ],
          "line": {
           "color": "black",
           "width": 1
          }
         },
         "name": "Turbine 8",
         "orientation": "v",
         "type": "bar",
         "x": [
          34,
          34,
          34,
          34
         ],
         "y": [
          1,
          1,
          1,
          1
         ]
        },
        {
         "marker": {
          "color": [
           "green",
           "green",
           "yellow",
           "green"
          ],
          "line": {
           "color": "black",
           "width": 1
          }
         },
         "name": "Turbine 12",
         "orientation": "v",
         "type": "bar",
         "x": [
          35,
          35,
          35,
          35
         ],
         "y": [
          1,
          1,
          1,
          1
         ]
        },
        {
         "marker": {
          "color": [
           "green",
           "green",
           "green",
           "green"
          ],
          "line": {
           "color": "black",
           "width": 1
          }
         },
         "name": "Turbine 48",
         "orientation": "v",
         "type": "bar",
         "x": [
          36,
          36,
          36,
          36
         ],
         "y": [
          1,
          1,
          1,
          1
         ]
        },
        {
         "marker": {
          "color": [
           "green",
           "green",
           "green",
           "green"
          ],
          "line": {
           "color": "black",
           "width": 1
          }
         },
         "name": "Turbine 45",
         "orientation": "v",
         "type": "bar",
         "x": [
          37,
          37,
          37,
          37
         ],
         "y": [
          1,
          1,
          1,
          1
         ]
        },
        {
         "marker": {
          "color": [
           "green",
           "green",
           "green",
           "green"
          ],
          "line": {
           "color": "black",
           "width": 1
          }
         },
         "name": "Turbine 26",
         "orientation": "v",
         "type": "bar",
         "x": [
          38,
          38,
          38,
          38
         ],
         "y": [
          1,
          1,
          1,
          1
         ]
        },
        {
         "marker": {
          "color": [
           "green",
           "green",
           "green",
           "green"
          ],
          "line": {
           "color": "black",
           "width": 1
          }
         },
         "name": "Turbine 49",
         "orientation": "v",
         "type": "bar",
         "x": [
          39,
          39,
          39,
          39
         ],
         "y": [
          1,
          1,
          1,
          1
         ]
        },
        {
         "marker": {
          "color": [
           "green",
           "green",
           "green",
           "green"
          ],
          "line": {
           "color": "black",
           "width": 1
          }
         },
         "name": "Turbine 15",
         "orientation": "v",
         "type": "bar",
         "x": [
          40,
          40,
          40,
          40
         ],
         "y": [
          1,
          1,
          1,
          1
         ]
        },
        {
         "marker": {
          "color": [
           "green",
           "green",
           "green",
           "green"
          ],
          "line": {
           "color": "black",
           "width": 1
          }
         },
         "name": "Turbine 16",
         "orientation": "v",
         "type": "bar",
         "x": [
          41,
          41,
          41,
          41
         ],
         "y": [
          1,
          1,
          1,
          1
         ]
        },
        {
         "marker": {
          "color": [
           "green",
           "green",
           "green",
           "green"
          ],
          "line": {
           "color": "black",
           "width": 1
          }
         },
         "name": "Turbine 35",
         "orientation": "v",
         "type": "bar",
         "x": [
          42,
          42,
          42,
          42
         ],
         "y": [
          1,
          1,
          1,
          1
         ]
        },
        {
         "marker": {
          "color": [
           "green",
           "green",
           "green",
           "green"
          ],
          "line": {
           "color": "black",
           "width": 1
          }
         },
         "name": "Turbine 17",
         "orientation": "v",
         "type": "bar",
         "x": [
          43,
          43,
          43,
          43
         ],
         "y": [
          1,
          1,
          1,
          1
         ]
        },
        {
         "marker": {
          "color": [
           "green",
           "green",
           "green",
           "green"
          ],
          "line": {
           "color": "black",
           "width": 1
          }
         },
         "name": "Turbine 33",
         "orientation": "v",
         "type": "bar",
         "x": [
          44,
          44,
          44,
          44
         ],
         "y": [
          1,
          1,
          1,
          1
         ]
        },
        {
         "marker": {
          "color": [
           "green",
           "green",
           "green",
           "green"
          ],
          "line": {
           "color": "black",
           "width": 1
          }
         },
         "name": "Turbine 31",
         "orientation": "v",
         "type": "bar",
         "x": [
          45,
          45,
          45,
          45
         ],
         "y": [
          1,
          1,
          1,
          1
         ]
        },
        {
         "marker": {
          "color": [
           "green",
           "green",
           "green",
           "green"
          ],
          "line": {
           "color": "black",
           "width": 1
          }
         },
         "name": "Turbine 30",
         "orientation": "v",
         "type": "bar",
         "x": [
          46,
          46,
          46,
          46
         ],
         "y": [
          1,
          1,
          1,
          1
         ]
        },
        {
         "marker": {
          "color": [
           "green",
           "green",
           "green",
           "green"
          ],
          "line": {
           "color": "black",
           "width": 1
          }
         },
         "name": "Turbine 19",
         "orientation": "v",
         "type": "bar",
         "x": [
          47,
          47,
          47,
          47
         ],
         "y": [
          1,
          1,
          1,
          1
         ]
        },
        {
         "marker": {
          "color": [
           "green",
           "green",
           "green",
           "green"
          ],
          "line": {
           "color": "black",
           "width": 1
          }
         },
         "name": "Turbine 13",
         "orientation": "v",
         "type": "bar",
         "x": [
          48,
          48,
          48,
          48
         ],
         "y": [
          1,
          1,
          1,
          1
         ]
        },
        {
         "marker": {
          "color": [
           "green",
           "green",
           "green",
           "green"
          ],
          "line": {
           "color": "black",
           "width": 1
          }
         },
         "name": "Turbine 14",
         "orientation": "v",
         "type": "bar",
         "x": [
          49,
          49,
          49,
          49
         ],
         "y": [
          1,
          1,
          1,
          1
         ]
        }
       ],
       "layout": {
        "bargap": 0,
        "barmode": "stack",
        "template": {
         "data": {
          "bar": [
           {
            "error_x": {
             "color": "#2a3f5f"
            },
            "error_y": {
             "color": "#2a3f5f"
            },
            "marker": {
             "line": {
              "color": "#E5ECF6",
              "width": 0.5
             },
             "pattern": {
              "fillmode": "overlay",
              "size": 10,
              "solidity": 0.2
             }
            },
            "type": "bar"
           }
          ],
          "barpolar": [
           {
            "marker": {
             "line": {
              "color": "#E5ECF6",
              "width": 0.5
             },
             "pattern": {
              "fillmode": "overlay",
              "size": 10,
              "solidity": 0.2
             }
            },
            "type": "barpolar"
           }
          ],
          "carpet": [
           {
            "aaxis": {
             "endlinecolor": "#2a3f5f",
             "gridcolor": "white",
             "linecolor": "white",
             "minorgridcolor": "white",
             "startlinecolor": "#2a3f5f"
            },
            "baxis": {
             "endlinecolor": "#2a3f5f",
             "gridcolor": "white",
             "linecolor": "white",
             "minorgridcolor": "white",
             "startlinecolor": "#2a3f5f"
            },
            "type": "carpet"
           }
          ],
          "choropleth": [
           {
            "colorbar": {
             "outlinewidth": 0,
             "ticks": ""
            },
            "type": "choropleth"
           }
          ],
          "contour": [
           {
            "colorbar": {
             "outlinewidth": 0,
             "ticks": ""
            },
            "colorscale": [
             [
              0,
              "#0d0887"
             ],
             [
              0.1111111111111111,
              "#46039f"
             ],
             [
              0.2222222222222222,
              "#7201a8"
             ],
             [
              0.3333333333333333,
              "#9c179e"
             ],
             [
              0.4444444444444444,
              "#bd3786"
             ],
             [
              0.5555555555555556,
              "#d8576b"
             ],
             [
              0.6666666666666666,
              "#ed7953"
             ],
             [
              0.7777777777777778,
              "#fb9f3a"
             ],
             [
              0.8888888888888888,
              "#fdca26"
             ],
             [
              1,
              "#f0f921"
             ]
            ],
            "type": "contour"
           }
          ],
          "contourcarpet": [
           {
            "colorbar": {
             "outlinewidth": 0,
             "ticks": ""
            },
            "type": "contourcarpet"
           }
          ],
          "heatmap": [
           {
            "colorbar": {
             "outlinewidth": 0,
             "ticks": ""
            },
            "colorscale": [
             [
              0,
              "#0d0887"
             ],
             [
              0.1111111111111111,
              "#46039f"
             ],
             [
              0.2222222222222222,
              "#7201a8"
             ],
             [
              0.3333333333333333,
              "#9c179e"
             ],
             [
              0.4444444444444444,
              "#bd3786"
             ],
             [
              0.5555555555555556,
              "#d8576b"
             ],
             [
              0.6666666666666666,
              "#ed7953"
             ],
             [
              0.7777777777777778,
              "#fb9f3a"
             ],
             [
              0.8888888888888888,
              "#fdca26"
             ],
             [
              1,
              "#f0f921"
             ]
            ],
            "type": "heatmap"
           }
          ],
          "heatmapgl": [
           {
            "colorbar": {
             "outlinewidth": 0,
             "ticks": ""
            },
            "colorscale": [
             [
              0,
              "#0d0887"
             ],
             [
              0.1111111111111111,
              "#46039f"
             ],
             [
              0.2222222222222222,
              "#7201a8"
             ],
             [
              0.3333333333333333,
              "#9c179e"
             ],
             [
              0.4444444444444444,
              "#bd3786"
             ],
             [
              0.5555555555555556,
              "#d8576b"
             ],
             [
              0.6666666666666666,
              "#ed7953"
             ],
             [
              0.7777777777777778,
              "#fb9f3a"
             ],
             [
              0.8888888888888888,
              "#fdca26"
             ],
             [
              1,
              "#f0f921"
             ]
            ],
            "type": "heatmapgl"
           }
          ],
          "histogram": [
           {
            "marker": {
             "pattern": {
              "fillmode": "overlay",
              "size": 10,
              "solidity": 0.2
             }
            },
            "type": "histogram"
           }
          ],
          "histogram2d": [
           {
            "colorbar": {
             "outlinewidth": 0,
             "ticks": ""
            },
            "colorscale": [
             [
              0,
              "#0d0887"
             ],
             [
              0.1111111111111111,
              "#46039f"
             ],
             [
              0.2222222222222222,
              "#7201a8"
             ],
             [
              0.3333333333333333,
              "#9c179e"
             ],
             [
              0.4444444444444444,
              "#bd3786"
             ],
             [
              0.5555555555555556,
              "#d8576b"
             ],
             [
              0.6666666666666666,
              "#ed7953"
             ],
             [
              0.7777777777777778,
              "#fb9f3a"
             ],
             [
              0.8888888888888888,
              "#fdca26"
             ],
             [
              1,
              "#f0f921"
             ]
            ],
            "type": "histogram2d"
           }
          ],
          "histogram2dcontour": [
           {
            "colorbar": {
             "outlinewidth": 0,
             "ticks": ""
            },
            "colorscale": [
             [
              0,
              "#0d0887"
             ],
             [
              0.1111111111111111,
              "#46039f"
             ],
             [
              0.2222222222222222,
              "#7201a8"
             ],
             [
              0.3333333333333333,
              "#9c179e"
             ],
             [
              0.4444444444444444,
              "#bd3786"
             ],
             [
              0.5555555555555556,
              "#d8576b"
             ],
             [
              0.6666666666666666,
              "#ed7953"
             ],
             [
              0.7777777777777778,
              "#fb9f3a"
             ],
             [
              0.8888888888888888,
              "#fdca26"
             ],
             [
              1,
              "#f0f921"
             ]
            ],
            "type": "histogram2dcontour"
           }
          ],
          "mesh3d": [
           {
            "colorbar": {
             "outlinewidth": 0,
             "ticks": ""
            },
            "type": "mesh3d"
           }
          ],
          "parcoords": [
           {
            "line": {
             "colorbar": {
              "outlinewidth": 0,
              "ticks": ""
             }
            },
            "type": "parcoords"
           }
          ],
          "pie": [
           {
            "automargin": true,
            "type": "pie"
           }
          ],
          "scatter": [
           {
            "fillpattern": {
             "fillmode": "overlay",
             "size": 10,
             "solidity": 0.2
            },
            "type": "scatter"
           }
          ],
          "scatter3d": [
           {
            "line": {
             "colorbar": {
              "outlinewidth": 0,
              "ticks": ""
             }
            },
            "marker": {
             "colorbar": {
              "outlinewidth": 0,
              "ticks": ""
             }
            },
            "type": "scatter3d"
           }
          ],
          "scattercarpet": [
           {
            "marker": {
             "colorbar": {
              "outlinewidth": 0,
              "ticks": ""
             }
            },
            "type": "scattercarpet"
           }
          ],
          "scattergeo": [
           {
            "marker": {
             "colorbar": {
              "outlinewidth": 0,
              "ticks": ""
             }
            },
            "type": "scattergeo"
           }
          ],
          "scattergl": [
           {
            "marker": {
             "colorbar": {
              "outlinewidth": 0,
              "ticks": ""
             }
            },
            "type": "scattergl"
           }
          ],
          "scattermapbox": [
           {
            "marker": {
             "colorbar": {
              "outlinewidth": 0,
              "ticks": ""
             }
            },
            "type": "scattermapbox"
           }
          ],
          "scatterpolar": [
           {
            "marker": {
             "colorbar": {
              "outlinewidth": 0,
              "ticks": ""
             }
            },
            "type": "scatterpolar"
           }
          ],
          "scatterpolargl": [
           {
            "marker": {
             "colorbar": {
              "outlinewidth": 0,
              "ticks": ""
             }
            },
            "type": "scatterpolargl"
           }
          ],
          "scatterternary": [
           {
            "marker": {
             "colorbar": {
              "outlinewidth": 0,
              "ticks": ""
             }
            },
            "type": "scatterternary"
           }
          ],
          "surface": [
           {
            "colorbar": {
             "outlinewidth": 0,
             "ticks": ""
            },
            "colorscale": [
             [
              0,
              "#0d0887"
             ],
             [
              0.1111111111111111,
              "#46039f"
             ],
             [
              0.2222222222222222,
              "#7201a8"
             ],
             [
              0.3333333333333333,
              "#9c179e"
             ],
             [
              0.4444444444444444,
              "#bd3786"
             ],
             [
              0.5555555555555556,
              "#d8576b"
             ],
             [
              0.6666666666666666,
              "#ed7953"
             ],
             [
              0.7777777777777778,
              "#fb9f3a"
             ],
             [
              0.8888888888888888,
              "#fdca26"
             ],
             [
              1,
              "#f0f921"
             ]
            ],
            "type": "surface"
           }
          ],
          "table": [
           {
            "cells": {
             "fill": {
              "color": "#EBF0F8"
             },
             "line": {
              "color": "white"
             }
            },
            "header": {
             "fill": {
              "color": "#C8D4E3"
             },
             "line": {
              "color": "white"
             }
            },
            "type": "table"
           }
          ]
         },
         "layout": {
          "annotationdefaults": {
           "arrowcolor": "#2a3f5f",
           "arrowhead": 0,
           "arrowwidth": 1
          },
          "autotypenumbers": "strict",
          "coloraxis": {
           "colorbar": {
            "outlinewidth": 0,
            "ticks": ""
           }
          },
          "colorscale": {
           "diverging": [
            [
             0,
             "#8e0152"
            ],
            [
             0.1,
             "#c51b7d"
            ],
            [
             0.2,
             "#de77ae"
            ],
            [
             0.3,
             "#f1b6da"
            ],
            [
             0.4,
             "#fde0ef"
            ],
            [
             0.5,
             "#f7f7f7"
            ],
            [
             0.6,
             "#e6f5d0"
            ],
            [
             0.7,
             "#b8e186"
            ],
            [
             0.8,
             "#7fbc41"
            ],
            [
             0.9,
             "#4d9221"
            ],
            [
             1,
             "#276419"
            ]
           ],
           "sequential": [
            [
             0,
             "#0d0887"
            ],
            [
             0.1111111111111111,
             "#46039f"
            ],
            [
             0.2222222222222222,
             "#7201a8"
            ],
            [
             0.3333333333333333,
             "#9c179e"
            ],
            [
             0.4444444444444444,
             "#bd3786"
            ],
            [
             0.5555555555555556,
             "#d8576b"
            ],
            [
             0.6666666666666666,
             "#ed7953"
            ],
            [
             0.7777777777777778,
             "#fb9f3a"
            ],
            [
             0.8888888888888888,
             "#fdca26"
            ],
            [
             1,
             "#f0f921"
            ]
           ],
           "sequentialminus": [
            [
             0,
             "#0d0887"
            ],
            [
             0.1111111111111111,
             "#46039f"
            ],
            [
             0.2222222222222222,
             "#7201a8"
            ],
            [
             0.3333333333333333,
             "#9c179e"
            ],
            [
             0.4444444444444444,
             "#bd3786"
            ],
            [
             0.5555555555555556,
             "#d8576b"
            ],
            [
             0.6666666666666666,
             "#ed7953"
            ],
            [
             0.7777777777777778,
             "#fb9f3a"
            ],
            [
             0.8888888888888888,
             "#fdca26"
            ],
            [
             1,
             "#f0f921"
            ]
           ]
          },
          "colorway": [
           "#636efa",
           "#EF553B",
           "#00cc96",
           "#ab63fa",
           "#FFA15A",
           "#19d3f3",
           "#FF6692",
           "#B6E880",
           "#FF97FF",
           "#FECB52"
          ],
          "font": {
           "color": "#2a3f5f"
          },
          "geo": {
           "bgcolor": "white",
           "lakecolor": "white",
           "landcolor": "#E5ECF6",
           "showlakes": true,
           "showland": true,
           "subunitcolor": "white"
          },
          "hoverlabel": {
           "align": "left"
          },
          "hovermode": "closest",
          "mapbox": {
           "style": "light"
          },
          "paper_bgcolor": "white",
          "plot_bgcolor": "#E5ECF6",
          "polar": {
           "angularaxis": {
            "gridcolor": "white",
            "linecolor": "white",
            "ticks": ""
           },
           "bgcolor": "#E5ECF6",
           "radialaxis": {
            "gridcolor": "white",
            "linecolor": "white",
            "ticks": ""
           }
          },
          "scene": {
           "xaxis": {
            "backgroundcolor": "#E5ECF6",
            "gridcolor": "white",
            "gridwidth": 2,
            "linecolor": "white",
            "showbackground": true,
            "ticks": "",
            "zerolinecolor": "white"
           },
           "yaxis": {
            "backgroundcolor": "#E5ECF6",
            "gridcolor": "white",
            "gridwidth": 2,
            "linecolor": "white",
            "showbackground": true,
            "ticks": "",
            "zerolinecolor": "white"
           },
           "zaxis": {
            "backgroundcolor": "#E5ECF6",
            "gridcolor": "white",
            "gridwidth": 2,
            "linecolor": "white",
            "showbackground": true,
            "ticks": "",
            "zerolinecolor": "white"
           }
          },
          "shapedefaults": {
           "line": {
            "color": "#2a3f5f"
           }
          },
          "ternary": {
           "aaxis": {
            "gridcolor": "white",
            "linecolor": "white",
            "ticks": ""
           },
           "baxis": {
            "gridcolor": "white",
            "linecolor": "white",
            "ticks": ""
           },
           "bgcolor": "#E5ECF6",
           "caxis": {
            "gridcolor": "white",
            "linecolor": "white",
            "ticks": ""
           }
          },
          "title": {
           "x": 0.05
          },
          "xaxis": {
           "automargin": true,
           "gridcolor": "white",
           "linecolor": "white",
           "ticks": "",
           "title": {
            "standoff": 15
           },
           "zerolinecolor": "white",
           "zerolinewidth": 2
          },
          "yaxis": {
           "automargin": true,
           "gridcolor": "white",
           "linecolor": "white",
           "ticks": "",
           "title": {
            "standoff": 15
           },
           "zerolinecolor": "white",
           "zerolinewidth": 2
          }
         }
        },
        "title": {
         "text": "Turbine Bearings Status"
        },
        "xaxis": {
         "tickmode": "array",
         "ticktext": [
          "Turbine 11",
          "Turbine 50",
          "Turbine 20",
          "Turbine 29",
          "Turbine 34",
          "Turbine 23",
          "Turbine 10",
          "Turbine 9",
          "Turbine 24",
          "Turbine 6",
          "Turbine 41",
          "Turbine 42",
          "Turbine 43",
          "Turbine 39",
          "Turbine 38",
          "Turbine 37",
          "Turbine 36",
          "Turbine 44",
          "Turbine 32",
          "Turbine 46",
          "Turbine 47",
          "Turbine 28",
          "Turbine 27",
          "Turbine 40",
          "Turbine 1",
          "Turbine 25",
          "Turbine 22",
          "Turbine 21",
          "Turbine 2",
          "Turbine 3",
          "Turbine 18",
          "Turbine 4",
          "Turbine 5",
          "Turbine 7",
          "Turbine 8",
          "Turbine 12",
          "Turbine 48",
          "Turbine 45",
          "Turbine 26",
          "Turbine 49",
          "Turbine 15",
          "Turbine 16",
          "Turbine 35",
          "Turbine 17",
          "Turbine 33",
          "Turbine 31",
          "Turbine 30",
          "Turbine 19",
          "Turbine 13",
          "Turbine 14"
         ],
         "tickvals": [
          0,
          1,
          2,
          3,
          4,
          5,
          6,
          7,
          8,
          9,
          10,
          11,
          12,
          13,
          14,
          15,
          16,
          17,
          18,
          19,
          20,
          21,
          22,
          23,
          24,
          25,
          26,
          27,
          28,
          29,
          30,
          31,
          32,
          33,
          34,
          35,
          36,
          37,
          38,
          39,
          40,
          41,
          42,
          43,
          44,
          45,
          46,
          47,
          48,
          49
         ],
         "title": {
          "text": "Turbines"
         }
        },
        "yaxis": {
         "range": [
          0,
          4
         ],
         "title": {
          "text": "Bearings"
         }
        }
       }
      }
     },
     "metadata": {},
     "output_type": "display_data"
    }
   ],
   "source": [
    "# Parameters\n",
    "plot_mode = 'pred' #Change this based on slide 5 or 7, 'pred' or 'fail'\n",
    "\n",
    "num_machines = 50  # Example number of machines\n",
    "num_bearings = 4   # Example number of bearings per machine\n",
    "\n",
    "parameter_dict = {\n",
    "    'fail': {\n",
    "        'seed':42,\n",
    "        'color':'red',\n",
    "        'json_file_name':'Slide05_BearingHealthFailures.json',\n",
    "        },\n",
    "    'pred': {\n",
    "        'seed':43,\n",
    "        'color':'yellow',\n",
    "        'json_file_name':'Slide07_BearingHealthPredictions.json',\n",
    "        },\n",
    "}\n",
    "\n",
    "# Generate the dataset\n",
    "np.random.seed(parameter_dict[plot_mode]['seed'])  # For reproducibility\n",
    "dataset = np.random.uniform(0, 0.6, [num_machines, num_bearings]) > 0.5\n",
    "dataset[:,1] = np.random.uniform(0, 0.8, [num_machines]) > 0.5\n",
    "\n",
    "# Create figure\n",
    "fig = go.Figure()\n",
    "\n",
    "# Sort machines by the number of True values\n",
    "sorted_indices = np.argsort(-dataset.sum(axis=1))  # Negative for descending sort\n",
    "\n",
    "for i, idx in enumerate(sorted_indices):\n",
    "    machine_data = dataset[idx]\n",
    "    # Add each machine as a separate trace (stacked bar)\n",
    "    fig.add_trace(go.Bar(\n",
    "        x=[i]*num_bearings,  # Position on the x-axis\n",
    "        y=[1]*num_bearings,  # Each bearing takes one unit space on y-axis\n",
    "        name=f\"Turbine {idx+1}\",\n",
    "        marker=dict(\n",
    "            color=[parameter_dict[plot_mode]['color'] if status else 'green' for status in machine_data],\n",
    "            line=dict(color='black', width=1)  # Black line to visually separate bearings\n",
    "        ),\n",
    "        orientation='v'  # Vertical bars\n",
    "    ))\n",
    "\n",
    "# Update layout\n",
    "fig.update_layout(\n",
    "    title=\"Turbine Bearings Status\",\n",
    "    xaxis=dict(title=\"Turbines\", tickmode='array', tickvals=list(range(num_machines)), ticktext=[f\"Turbine {i+1}\" for i in sorted_indices]),\n",
    "    yaxis=dict(title=\"Bearings\", range=[0, num_bearings]),\n",
    "    barmode='stack',  # Stack the bars\n",
    "    bargap=0  # No gap between bars\n",
    ")\n",
    "\n",
    "# Show the plot\n",
    "fig.show()"
   ]
  },
  {
   "cell_type": "code",
   "execution_count": 26,
   "metadata": {},
   "outputs": [
    {
     "name": "stdout",
     "output_type": "stream",
     "text": [
      "{\n",
      "    \"x_series\": \"Machine Index\",\n",
      "    \"y_series\": \"Bearing Count\",\n",
      "    \"labels\": {\n",
      "        \"title\": \"Machines and Bearings Status\",\n",
      "        \"x\": \"Machines\",\n",
      "        \"y\": \"Bearings\"\n",
      "    },\n",
      "    \"data\": [\n",
      "        {\n",
      "            \"machine_index\": 0,\n",
      "            \"bearings\": [\n",
      "                {\n",
      "                    \"bearing_index\": 0,\n",
      "                    \"status\": \"yellow\"\n",
      "                },\n",
      "                {\n",
      "                    \"bearing_index\": 1,\n",
      "                    \"status\": \"yellow\"\n",
      "                },\n",
      "                {\n",
      "                    \"bearing_index\": 2,\n",
      "                    \"status\": \"yellow\"\n",
      "                },\n",
      "                {\n",
      "                    \"bearing_index\": 3,\n",
      "                    \"status\": \"green\"\n",
      "                }\n",
      "            ]\n",
      "        },\n",
      "        {\n",
      "            \"machine_index\": 1,\n",
      "            \"bearings\": [\n",
      "                {\n",
      "                    \"bearing_index\": 0,\n",
      "                    \"status\": \"yellow\"\n",
      "                },\n",
      "                {\n",
      "                    \"bearing_index\": 1,\n",
      "                    \"status\": \"green\"\n",
      "                },\n",
      "                {\n",
      "                    \"bearing_index\": 2,\n",
      "                    \"status\": \"green\"\n",
      "                },\n",
      "                {\n",
      "                    \"bearing_index\": 3,\n",
      "                    \"status\": \"yellow\"\n",
      "                }\n",
      "            ]\n",
      "        },\n",
      "        {\n",
      "            \"machine_index\": 2,\n",
      "            \"bearings\": [\n",
      "                {\n",
      "                    \"bearing_index\": 0,\n",
      "                    \"status\": \"yellow\"\n",
      "                },\n",
      "                {\n",
      "                    \"bearing_index\": 1,\n",
      "                    \"status\": \"green\"\n",
      "                },\n",
      "                {\n",
      "                    \"bearing_index\": 2,\n",
      "                    \"status\": \"yellow\"\n",
      "                },\n",
      "                {\n",
      "                    \"bearing_index\": 3,\n",
      "                    \"status\": \"green\"\n",
      "                }\n",
      "            ]\n",
      "        },\n",
      "        {\n",
      "            \"machine_index\": 3,\n",
      "            \"bearings\": [\n",
      "                {\n",
      "                    \"bearing_index\": 0,\n",
      "                    \"status\": \"yellow\"\n",
      "                },\n",
      "                {\n",
      "                    \"bearing_index\": 1,\n",
      "                    \"status\": \"yellow\"\n",
      "                },\n",
      "                {\n",
      "                    \"bearing_index\": 2,\n",
      "                    \"status\": \"green\"\n",
      "                },\n",
      "                {\n",
      "                    \"bearing_index\": 3,\n",
      "                    \"status\": \"green\"\n",
      "                }\n",
      "            ]\n",
      "        },\n",
      "        {\n",
      "            \"machine_index\": 4,\n",
      "            \"bearings\": [\n",
      "                {\n",
      "                    \"bearing_index\": 0,\n",
      "                    \"status\": \"yellow\"\n",
      "                },\n",
      "                {\n",
      "                    \"bearing_index\": 1,\n",
      "                    \"status\": \"yellow\"\n",
      "                },\n",
      "                {\n",
      "                    \"bearing_index\": 2,\n",
      "                    \"status\": \"green\"\n",
      "                },\n",
      "                {\n",
      "                    \"bearing_index\": 3,\n",
      "                    \"status\": \"green\"\n",
      "                }\n",
      "            ]\n",
      "        },\n",
      "        {\n",
      "            \"machine_index\": 5,\n",
      "            \"bearings\": [\n",
      "                {\n",
      "                    \"bearing_index\": 0,\n",
      "                    \"status\": \"green\"\n",
      "                },\n",
      "                {\n",
      "                    \"bearing_index\": 1,\n",
      "                    \"status\": \"green\"\n",
      "                },\n",
      "                {\n",
      "                    \"bearing_index\": 2,\n",
      "                    \"status\": \"yellow\"\n",
      "                },\n",
      "                {\n",
      "                    \"bearing_index\": 3,\n",
      "                    \"status\": \"yellow\"\n",
      "                }\n",
      "            ]\n",
      "        },\n",
      "        {\n",
      "            \"machine_index\": 6,\n",
      "            \"bearings\": [\n",
      "                {\n",
      "                    \"bearing_index\": 0,\n",
      "                    \"status\": \"yellow\"\n",
      "                },\n",
      "                {\n",
      "                    \"bearing_index\": 1,\n",
      "                    \"status\": \"yellow\"\n",
      "                },\n",
      "                {\n",
      "                    \"bearing_index\": 2,\n",
      "                    \"status\": \"green\"\n",
      "                },\n",
      "                {\n",
      "                    \"bearing_index\": 3,\n",
      "                    \"status\": \"green\"\n",
      "                }\n",
      "            ]\n",
      "        },\n",
      "        {\n",
      "            \"machine_index\": 7,\n",
      "            \"bearings\": [\n",
      "                {\n",
      "                    \"bearing_index\": 0,\n",
      "                    \"status\": \"green\"\n",
      "                },\n",
      "                {\n",
      "                    \"bearing_index\": 1,\n",
      "                    \"status\": \"green\"\n",
      "                },\n",
      "                {\n",
      "                    \"bearing_index\": 2,\n",
      "                    \"status\": \"yellow\"\n",
      "                },\n",
      "                {\n",
      "                    \"bearing_index\": 3,\n",
      "                    \"status\": \"yellow\"\n",
      "                }\n",
      "            ]\n",
      "        },\n",
      "        {\n",
      "            \"machine_index\": 8,\n",
      "            \"bearings\": [\n",
      "                {\n",
      "                    \"bearing_index\": 0,\n",
      "                    \"status\": \"yellow\"\n",
      "                },\n",
      "                {\n",
      "                    \"bearing_index\": 1,\n",
      "                    \"status\": \"yellow\"\n",
      "                },\n",
      "                {\n",
      "                    \"bearing_index\": 2,\n",
      "                    \"status\": \"green\"\n",
      "                },\n",
      "                {\n",
      "                    \"bearing_index\": 3,\n",
      "                    \"status\": \"green\"\n",
      "                }\n",
      "            ]\n",
      "        },\n",
      "        {\n",
      "            \"machine_index\": 9,\n",
      "            \"bearings\": [\n",
      "                {\n",
      "                    \"bearing_index\": 0,\n",
      "                    \"status\": \"yellow\"\n",
      "                },\n",
      "                {\n",
      "                    \"bearing_index\": 1,\n",
      "                    \"status\": \"green\"\n",
      "                },\n",
      "                {\n",
      "                    \"bearing_index\": 2,\n",
      "                    \"status\": \"green\"\n",
      "                },\n",
      "                {\n",
      "                    \"bearing_index\": 3,\n",
      "                    \"status\": \"yellow\"\n",
      "                }\n",
      "            ]\n",
      "        },\n",
      "        {\n",
      "            \"machine_index\": 10,\n",
      "            \"bearings\": [\n",
      "                {\n",
      "                    \"bearing_index\": 0,\n",
      "                    \"status\": \"yellow\"\n",
      "                },\n",
      "                {\n",
      "                    \"bearing_index\": 1,\n",
      "                    \"status\": \"green\"\n",
      "                },\n",
      "                {\n",
      "                    \"bearing_index\": 2,\n",
      "                    \"status\": \"green\"\n",
      "                },\n",
      "                {\n",
      "                    \"bearing_index\": 3,\n",
      "                    \"status\": \"yellow\"\n",
      "                }\n",
      "            ]\n",
      "        },\n",
      "        {\n",
      "            \"machine_index\": 11,\n",
      "            \"bearings\": [\n",
      "                {\n",
      "                    \"bearing_index\": 0,\n",
      "                    \"status\": \"green\"\n",
      "                },\n",
      "                {\n",
      "                    \"bearing_index\": 1,\n",
      "                    \"status\": \"green\"\n",
      "                },\n",
      "                {\n",
      "                    \"bearing_index\": 2,\n",
      "                    \"status\": \"yellow\"\n",
      "                },\n",
      "                {\n",
      "                    \"bearing_index\": 3,\n",
      "                    \"status\": \"green\"\n",
      "                }\n",
      "            ]\n",
      "        },\n",
      "        {\n",
      "            \"machine_index\": 12,\n",
      "            \"bearings\": [\n",
      "                {\n",
      "                    \"bearing_index\": 0,\n",
      "                    \"status\": \"yellow\"\n",
      "                },\n",
      "                {\n",
      "                    \"bearing_index\": 1,\n",
      "                    \"status\": \"green\"\n",
      "                },\n",
      "                {\n",
      "                    \"bearing_index\": 2,\n",
      "                    \"status\": \"green\"\n",
      "                },\n",
      "                {\n",
      "                    \"bearing_index\": 3,\n",
      "                    \"status\": \"green\"\n",
      "                }\n",
      "            ]\n",
      "        },\n",
      "        {\n",
      "            \"machine_index\": 13,\n",
      "            \"bearings\": [\n",
      "                {\n",
      "                    \"bearing_index\": 0,\n",
      "                    \"status\": \"green\"\n",
      "                },\n",
      "                {\n",
      "                    \"bearing_index\": 1,\n",
      "                    \"status\": \"green\"\n",
      "                },\n",
      "                {\n",
      "                    \"bearing_index\": 2,\n",
      "                    \"status\": \"green\"\n",
      "                },\n",
      "                {\n",
      "                    \"bearing_index\": 3,\n",
      "                    \"status\": \"yellow\"\n",
      "                }\n",
      "            ]\n",
      "        },\n",
      "        {\n",
      "            \"machine_index\": 14,\n",
      "            \"bearings\": [\n",
      "                {\n",
      "                    \"bearing_index\": 0,\n",
      "                    \"status\": \"green\"\n",
      "                },\n",
      "                {\n",
      "                    \"bearing_index\": 1,\n",
      "                    \"status\": \"green\"\n",
      "                },\n",
      "                {\n",
      "                    \"bearing_index\": 2,\n",
      "                    \"status\": \"yellow\"\n",
      "                },\n",
      "                {\n",
      "                    \"bearing_index\": 3,\n",
      "                    \"status\": \"green\"\n",
      "                }\n",
      "            ]\n",
      "        },\n",
      "        {\n",
      "            \"machine_index\": 15,\n",
      "            \"bearings\": [\n",
      "                {\n",
      "                    \"bearing_index\": 0,\n",
      "                    \"status\": \"green\"\n",
      "                },\n",
      "                {\n",
      "                    \"bearing_index\": 1,\n",
      "                    \"status\": \"yellow\"\n",
      "                },\n",
      "                {\n",
      "                    \"bearing_index\": 2,\n",
      "                    \"status\": \"green\"\n",
      "                },\n",
      "                {\n",
      "                    \"bearing_index\": 3,\n",
      "                    \"status\": \"green\"\n",
      "                }\n",
      "            ]\n",
      "        },\n",
      "        {\n",
      "            \"machine_index\": 16,\n",
      "            \"bearings\": [\n",
      "                {\n",
      "                    \"bearing_index\": 0,\n",
      "                    \"status\": \"green\"\n",
      "                },\n",
      "                {\n",
      "                    \"bearing_index\": 1,\n",
      "                    \"status\": \"yellow\"\n",
      "                },\n",
      "                {\n",
      "                    \"bearing_index\": 2,\n",
      "                    \"status\": \"green\"\n",
      "                },\n",
      "                {\n",
      "                    \"bearing_index\": 3,\n",
      "                    \"status\": \"green\"\n",
      "                }\n",
      "            ]\n",
      "        },\n",
      "        {\n",
      "            \"machine_index\": 17,\n",
      "            \"bearings\": [\n",
      "                {\n",
      "                    \"bearing_index\": 0,\n",
      "                    \"status\": \"yellow\"\n",
      "                },\n",
      "                {\n",
      "                    \"bearing_index\": 1,\n",
      "                    \"status\": \"green\"\n",
      "                },\n",
      "                {\n",
      "                    \"bearing_index\": 2,\n",
      "                    \"status\": \"green\"\n",
      "                },\n",
      "                {\n",
      "                    \"bearing_index\": 3,\n",
      "                    \"status\": \"green\"\n",
      "                }\n",
      "            ]\n",
      "        },\n",
      "        {\n",
      "            \"machine_index\": 18,\n",
      "            \"bearings\": [\n",
      "                {\n",
      "                    \"bearing_index\": 0,\n",
      "                    \"status\": \"green\"\n",
      "                },\n",
      "                {\n",
      "                    \"bearing_index\": 1,\n",
      "                    \"status\": \"green\"\n",
      "                },\n",
      "                {\n",
      "                    \"bearing_index\": 2,\n",
      "                    \"status\": \"yellow\"\n",
      "                },\n",
      "                {\n",
      "                    \"bearing_index\": 3,\n",
      "                    \"status\": \"green\"\n",
      "                }\n",
      "            ]\n",
      "        },\n",
      "        {\n",
      "            \"machine_index\": 19,\n",
      "            \"bearings\": [\n",
      "                {\n",
      "                    \"bearing_index\": 0,\n",
      "                    \"status\": \"yellow\"\n",
      "                },\n",
      "                {\n",
      "                    \"bearing_index\": 1,\n",
      "                    \"status\": \"green\"\n",
      "                },\n",
      "                {\n",
      "                    \"bearing_index\": 2,\n",
      "                    \"status\": \"green\"\n",
      "                },\n",
      "                {\n",
      "                    \"bearing_index\": 3,\n",
      "                    \"status\": \"green\"\n",
      "                }\n",
      "            ]\n",
      "        },\n",
      "        {\n",
      "            \"machine_index\": 20,\n",
      "            \"bearings\": [\n",
      "                {\n",
      "                    \"bearing_index\": 0,\n",
      "                    \"status\": \"green\"\n",
      "                },\n",
      "                {\n",
      "                    \"bearing_index\": 1,\n",
      "                    \"status\": \"yellow\"\n",
      "                },\n",
      "                {\n",
      "                    \"bearing_index\": 2,\n",
      "                    \"status\": \"green\"\n",
      "                },\n",
      "                {\n",
      "                    \"bearing_index\": 3,\n",
      "                    \"status\": \"green\"\n",
      "                }\n",
      "            ]\n",
      "        },\n",
      "        {\n",
      "            \"machine_index\": 21,\n",
      "            \"bearings\": [\n",
      "                {\n",
      "                    \"bearing_index\": 0,\n",
      "                    \"status\": \"green\"\n",
      "                },\n",
      "                {\n",
      "                    \"bearing_index\": 1,\n",
      "                    \"status\": \"green\"\n",
      "                },\n",
      "                {\n",
      "                    \"bearing_index\": 2,\n",
      "                    \"status\": \"green\"\n",
      "                },\n",
      "                {\n",
      "                    \"bearing_index\": 3,\n",
      "                    \"status\": \"yellow\"\n",
      "                }\n",
      "            ]\n",
      "        },\n",
      "        {\n",
      "            \"machine_index\": 22,\n",
      "            \"bearings\": [\n",
      "                {\n",
      "                    \"bearing_index\": 0,\n",
      "                    \"status\": \"green\"\n",
      "                },\n",
      "                {\n",
      "                    \"bearing_index\": 1,\n",
      "                    \"status\": \"green\"\n",
      "                },\n",
      "                {\n",
      "                    \"bearing_index\": 2,\n",
      "                    \"status\": \"yellow\"\n",
      "                },\n",
      "                {\n",
      "                    \"bearing_index\": 3,\n",
      "                    \"status\": \"green\"\n",
      "                }\n",
      "            ]\n",
      "        },\n",
      "        {\n",
      "            \"machine_index\": 23,\n",
      "            \"bearings\": [\n",
      "                {\n",
      "                    \"bearing_index\": 0,\n",
      "                    \"status\": \"green\"\n",
      "                },\n",
      "                {\n",
      "                    \"bearing_index\": 1,\n",
      "                    \"status\": \"yellow\"\n",
      "                },\n",
      "                {\n",
      "                    \"bearing_index\": 2,\n",
      "                    \"status\": \"green\"\n",
      "                },\n",
      "                {\n",
      "                    \"bearing_index\": 3,\n",
      "                    \"status\": \"green\"\n",
      "                }\n",
      "            ]\n",
      "        },\n",
      "        {\n",
      "            \"machine_index\": 24,\n",
      "            \"bearings\": [\n",
      "                {\n",
      "                    \"bearing_index\": 0,\n",
      "                    \"status\": \"green\"\n",
      "                },\n",
      "                {\n",
      "                    \"bearing_index\": 1,\n",
      "                    \"status\": \"yellow\"\n",
      "                },\n",
      "                {\n",
      "                    \"bearing_index\": 2,\n",
      "                    \"status\": \"green\"\n",
      "                },\n",
      "                {\n",
      "                    \"bearing_index\": 3,\n",
      "                    \"status\": \"green\"\n",
      "                }\n",
      "            ]\n",
      "        },\n",
      "        {\n",
      "            \"machine_index\": 25,\n",
      "            \"bearings\": [\n",
      "                {\n",
      "                    \"bearing_index\": 0,\n",
      "                    \"status\": \"yellow\"\n",
      "                },\n",
      "                {\n",
      "                    \"bearing_index\": 1,\n",
      "                    \"status\": \"green\"\n",
      "                },\n",
      "                {\n",
      "                    \"bearing_index\": 2,\n",
      "                    \"status\": \"green\"\n",
      "                },\n",
      "                {\n",
      "                    \"bearing_index\": 3,\n",
      "                    \"status\": \"green\"\n",
      "                }\n",
      "            ]\n",
      "        },\n",
      "        {\n",
      "            \"machine_index\": 26,\n",
      "            \"bearings\": [\n",
      "                {\n",
      "                    \"bearing_index\": 0,\n",
      "                    \"status\": \"green\"\n",
      "                },\n",
      "                {\n",
      "                    \"bearing_index\": 1,\n",
      "                    \"status\": \"yellow\"\n",
      "                },\n",
      "                {\n",
      "                    \"bearing_index\": 2,\n",
      "                    \"status\": \"green\"\n",
      "                },\n",
      "                {\n",
      "                    \"bearing_index\": 3,\n",
      "                    \"status\": \"green\"\n",
      "                }\n",
      "            ]\n",
      "        },\n",
      "        {\n",
      "            \"machine_index\": 27,\n",
      "            \"bearings\": [\n",
      "                {\n",
      "                    \"bearing_index\": 0,\n",
      "                    \"status\": \"green\"\n",
      "                },\n",
      "                {\n",
      "                    \"bearing_index\": 1,\n",
      "                    \"status\": \"green\"\n",
      "                },\n",
      "                {\n",
      "                    \"bearing_index\": 2,\n",
      "                    \"status\": \"yellow\"\n",
      "                },\n",
      "                {\n",
      "                    \"bearing_index\": 3,\n",
      "                    \"status\": \"green\"\n",
      "                }\n",
      "            ]\n",
      "        },\n",
      "        {\n",
      "            \"machine_index\": 28,\n",
      "            \"bearings\": [\n",
      "                {\n",
      "                    \"bearing_index\": 0,\n",
      "                    \"status\": \"green\"\n",
      "                },\n",
      "                {\n",
      "                    \"bearing_index\": 1,\n",
      "                    \"status\": \"yellow\"\n",
      "                },\n",
      "                {\n",
      "                    \"bearing_index\": 2,\n",
      "                    \"status\": \"green\"\n",
      "                },\n",
      "                {\n",
      "                    \"bearing_index\": 3,\n",
      "                    \"status\": \"green\"\n",
      "                }\n",
      "            ]\n",
      "        },\n",
      "        {\n",
      "            \"machine_index\": 29,\n",
      "            \"bearings\": [\n",
      "                {\n",
      "                    \"bearing_index\": 0,\n",
      "                    \"status\": \"green\"\n",
      "                },\n",
      "                {\n",
      "                    \"bearing_index\": 1,\n",
      "                    \"status\": \"yellow\"\n",
      "                },\n",
      "                {\n",
      "                    \"bearing_index\": 2,\n",
      "                    \"status\": \"green\"\n",
      "                },\n",
      "                {\n",
      "                    \"bearing_index\": 3,\n",
      "                    \"status\": \"green\"\n",
      "                }\n",
      "            ]\n",
      "        },\n",
      "        {\n",
      "            \"machine_index\": 30,\n",
      "            \"bearings\": [\n",
      "                {\n",
      "                    \"bearing_index\": 0,\n",
      "                    \"status\": \"green\"\n",
      "                },\n",
      "                {\n",
      "                    \"bearing_index\": 1,\n",
      "                    \"status\": \"yellow\"\n",
      "                },\n",
      "                {\n",
      "                    \"bearing_index\": 2,\n",
      "                    \"status\": \"green\"\n",
      "                },\n",
      "                {\n",
      "                    \"bearing_index\": 3,\n",
      "                    \"status\": \"green\"\n",
      "                }\n",
      "            ]\n",
      "        },\n",
      "        {\n",
      "            \"machine_index\": 31,\n",
      "            \"bearings\": [\n",
      "                {\n",
      "                    \"bearing_index\": 0,\n",
      "                    \"status\": \"green\"\n",
      "                },\n",
      "                {\n",
      "                    \"bearing_index\": 1,\n",
      "                    \"status\": \"green\"\n",
      "                },\n",
      "                {\n",
      "                    \"bearing_index\": 2,\n",
      "                    \"status\": \"yellow\"\n",
      "                },\n",
      "                {\n",
      "                    \"bearing_index\": 3,\n",
      "                    \"status\": \"green\"\n",
      "                }\n",
      "            ]\n",
      "        },\n",
      "        {\n",
      "            \"machine_index\": 32,\n",
      "            \"bearings\": [\n",
      "                {\n",
      "                    \"bearing_index\": 0,\n",
      "                    \"status\": \"green\"\n",
      "                },\n",
      "                {\n",
      "                    \"bearing_index\": 1,\n",
      "                    \"status\": \"green\"\n",
      "                },\n",
      "                {\n",
      "                    \"bearing_index\": 2,\n",
      "                    \"status\": \"green\"\n",
      "                },\n",
      "                {\n",
      "                    \"bearing_index\": 3,\n",
      "                    \"status\": \"yellow\"\n",
      "                }\n",
      "            ]\n",
      "        },\n",
      "        {\n",
      "            \"machine_index\": 33,\n",
      "            \"bearings\": [\n",
      "                {\n",
      "                    \"bearing_index\": 0,\n",
      "                    \"status\": \"green\"\n",
      "                },\n",
      "                {\n",
      "                    \"bearing_index\": 1,\n",
      "                    \"status\": \"green\"\n",
      "                },\n",
      "                {\n",
      "                    \"bearing_index\": 2,\n",
      "                    \"status\": \"green\"\n",
      "                },\n",
      "                {\n",
      "                    \"bearing_index\": 3,\n",
      "                    \"status\": \"yellow\"\n",
      "                }\n",
      "            ]\n",
      "        },\n",
      "        {\n",
      "            \"machine_index\": 34,\n",
      "            \"bearings\": [\n",
      "                {\n",
      "                    \"bearing_index\": 0,\n",
      "                    \"status\": \"green\"\n",
      "                },\n",
      "                {\n",
      "                    \"bearing_index\": 1,\n",
      "                    \"status\": \"yellow\"\n",
      "                },\n",
      "                {\n",
      "                    \"bearing_index\": 2,\n",
      "                    \"status\": \"green\"\n",
      "                },\n",
      "                {\n",
      "                    \"bearing_index\": 3,\n",
      "                    \"status\": \"green\"\n",
      "                }\n",
      "            ]\n",
      "        },\n",
      "        {\n",
      "            \"machine_index\": 35,\n",
      "            \"bearings\": [\n",
      "                {\n",
      "                    \"bearing_index\": 0,\n",
      "                    \"status\": \"green\"\n",
      "                },\n",
      "                {\n",
      "                    \"bearing_index\": 1,\n",
      "                    \"status\": \"green\"\n",
      "                },\n",
      "                {\n",
      "                    \"bearing_index\": 2,\n",
      "                    \"status\": \"yellow\"\n",
      "                },\n",
      "                {\n",
      "                    \"bearing_index\": 3,\n",
      "                    \"status\": \"green\"\n",
      "                }\n",
      "            ]\n",
      "        },\n",
      "        {\n",
      "            \"machine_index\": 36,\n",
      "            \"bearings\": [\n",
      "                {\n",
      "                    \"bearing_index\": 0,\n",
      "                    \"status\": \"green\"\n",
      "                },\n",
      "                {\n",
      "                    \"bearing_index\": 1,\n",
      "                    \"status\": \"green\"\n",
      "                },\n",
      "                {\n",
      "                    \"bearing_index\": 2,\n",
      "                    \"status\": \"green\"\n",
      "                },\n",
      "                {\n",
      "                    \"bearing_index\": 3,\n",
      "                    \"status\": \"green\"\n",
      "                }\n",
      "            ]\n",
      "        },\n",
      "        {\n",
      "            \"machine_index\": 37,\n",
      "            \"bearings\": [\n",
      "                {\n",
      "                    \"bearing_index\": 0,\n",
      "                    \"status\": \"green\"\n",
      "                },\n",
      "                {\n",
      "                    \"bearing_index\": 1,\n",
      "                    \"status\": \"green\"\n",
      "                },\n",
      "                {\n",
      "                    \"bearing_index\": 2,\n",
      "                    \"status\": \"green\"\n",
      "                },\n",
      "                {\n",
      "                    \"bearing_index\": 3,\n",
      "                    \"status\": \"green\"\n",
      "                }\n",
      "            ]\n",
      "        },\n",
      "        {\n",
      "            \"machine_index\": 38,\n",
      "            \"bearings\": [\n",
      "                {\n",
      "                    \"bearing_index\": 0,\n",
      "                    \"status\": \"green\"\n",
      "                },\n",
      "                {\n",
      "                    \"bearing_index\": 1,\n",
      "                    \"status\": \"green\"\n",
      "                },\n",
      "                {\n",
      "                    \"bearing_index\": 2,\n",
      "                    \"status\": \"green\"\n",
      "                },\n",
      "                {\n",
      "                    \"bearing_index\": 3,\n",
      "                    \"status\": \"green\"\n",
      "                }\n",
      "            ]\n",
      "        },\n",
      "        {\n",
      "            \"machine_index\": 39,\n",
      "            \"bearings\": [\n",
      "                {\n",
      "                    \"bearing_index\": 0,\n",
      "                    \"status\": \"green\"\n",
      "                },\n",
      "                {\n",
      "                    \"bearing_index\": 1,\n",
      "                    \"status\": \"green\"\n",
      "                },\n",
      "                {\n",
      "                    \"bearing_index\": 2,\n",
      "                    \"status\": \"green\"\n",
      "                },\n",
      "                {\n",
      "                    \"bearing_index\": 3,\n",
      "                    \"status\": \"green\"\n",
      "                }\n",
      "            ]\n",
      "        },\n",
      "        {\n",
      "            \"machine_index\": 40,\n",
      "            \"bearings\": [\n",
      "                {\n",
      "                    \"bearing_index\": 0,\n",
      "                    \"status\": \"green\"\n",
      "                },\n",
      "                {\n",
      "                    \"bearing_index\": 1,\n",
      "                    \"status\": \"green\"\n",
      "                },\n",
      "                {\n",
      "                    \"bearing_index\": 2,\n",
      "                    \"status\": \"green\"\n",
      "                },\n",
      "                {\n",
      "                    \"bearing_index\": 3,\n",
      "                    \"status\": \"green\"\n",
      "                }\n",
      "            ]\n",
      "        },\n",
      "        {\n",
      "            \"machine_index\": 41,\n",
      "            \"bearings\": [\n",
      "                {\n",
      "                    \"bearing_index\": 0,\n",
      "                    \"status\": \"green\"\n",
      "                },\n",
      "                {\n",
      "                    \"bearing_index\": 1,\n",
      "                    \"status\": \"green\"\n",
      "                },\n",
      "                {\n",
      "                    \"bearing_index\": 2,\n",
      "                    \"status\": \"green\"\n",
      "                },\n",
      "                {\n",
      "                    \"bearing_index\": 3,\n",
      "                    \"status\": \"green\"\n",
      "                }\n",
      "            ]\n",
      "        },\n",
      "        {\n",
      "            \"machine_index\": 42,\n",
      "            \"bearings\": [\n",
      "                {\n",
      "                    \"bearing_index\": 0,\n",
      "                    \"status\": \"green\"\n",
      "                },\n",
      "                {\n",
      "                    \"bearing_index\": 1,\n",
      "                    \"status\": \"green\"\n",
      "                },\n",
      "                {\n",
      "                    \"bearing_index\": 2,\n",
      "                    \"status\": \"green\"\n",
      "                },\n",
      "                {\n",
      "                    \"bearing_index\": 3,\n",
      "                    \"status\": \"green\"\n",
      "                }\n",
      "            ]\n",
      "        },\n",
      "        {\n",
      "            \"machine_index\": 43,\n",
      "            \"bearings\": [\n",
      "                {\n",
      "                    \"bearing_index\": 0,\n",
      "                    \"status\": \"green\"\n",
      "                },\n",
      "                {\n",
      "                    \"bearing_index\": 1,\n",
      "                    \"status\": \"green\"\n",
      "                },\n",
      "                {\n",
      "                    \"bearing_index\": 2,\n",
      "                    \"status\": \"green\"\n",
      "                },\n",
      "                {\n",
      "                    \"bearing_index\": 3,\n",
      "                    \"status\": \"green\"\n",
      "                }\n",
      "            ]\n",
      "        },\n",
      "        {\n",
      "            \"machine_index\": 44,\n",
      "            \"bearings\": [\n",
      "                {\n",
      "                    \"bearing_index\": 0,\n",
      "                    \"status\": \"green\"\n",
      "                },\n",
      "                {\n",
      "                    \"bearing_index\": 1,\n",
      "                    \"status\": \"green\"\n",
      "                },\n",
      "                {\n",
      "                    \"bearing_index\": 2,\n",
      "                    \"status\": \"green\"\n",
      "                },\n",
      "                {\n",
      "                    \"bearing_index\": 3,\n",
      "                    \"status\": \"green\"\n",
      "                }\n",
      "            ]\n",
      "        },\n",
      "        {\n",
      "            \"machine_index\": 45,\n",
      "            \"bearings\": [\n",
      "                {\n",
      "                    \"bearing_index\": 0,\n",
      "                    \"status\": \"green\"\n",
      "                },\n",
      "                {\n",
      "                    \"bearing_index\": 1,\n",
      "                    \"status\": \"green\"\n",
      "                },\n",
      "                {\n",
      "                    \"bearing_index\": 2,\n",
      "                    \"status\": \"green\"\n",
      "                },\n",
      "                {\n",
      "                    \"bearing_index\": 3,\n",
      "                    \"status\": \"green\"\n",
      "                }\n",
      "            ]\n",
      "        },\n",
      "        {\n",
      "            \"machine_index\": 46,\n",
      "            \"bearings\": [\n",
      "                {\n",
      "                    \"bearing_index\": 0,\n",
      "                    \"status\": \"green\"\n",
      "                },\n",
      "                {\n",
      "                    \"bearing_index\": 1,\n",
      "                    \"status\": \"green\"\n",
      "                },\n",
      "                {\n",
      "                    \"bearing_index\": 2,\n",
      "                    \"status\": \"green\"\n",
      "                },\n",
      "                {\n",
      "                    \"bearing_index\": 3,\n",
      "                    \"status\": \"green\"\n",
      "                }\n",
      "            ]\n",
      "        },\n",
      "        {\n",
      "            \"machine_index\": 47,\n",
      "            \"bearings\": [\n",
      "                {\n",
      "                    \"bearing_index\": 0,\n",
      "                    \"status\": \"green\"\n",
      "                },\n",
      "                {\n",
      "                    \"bearing_index\": 1,\n",
      "                    \"status\": \"green\"\n",
      "                },\n",
      "                {\n",
      "                    \"bearing_index\": 2,\n",
      "                    \"status\": \"green\"\n",
      "                },\n",
      "                {\n",
      "                    \"bearing_index\": 3,\n",
      "                    \"status\": \"green\"\n",
      "                }\n",
      "            ]\n",
      "        },\n",
      "        {\n",
      "            \"machine_index\": 48,\n",
      "            \"bearings\": [\n",
      "                {\n",
      "                    \"bearing_index\": 0,\n",
      "                    \"status\": \"green\"\n",
      "                },\n",
      "                {\n",
      "                    \"bearing_index\": 1,\n",
      "                    \"status\": \"green\"\n",
      "                },\n",
      "                {\n",
      "                    \"bearing_index\": 2,\n",
      "                    \"status\": \"green\"\n",
      "                },\n",
      "                {\n",
      "                    \"bearing_index\": 3,\n",
      "                    \"status\": \"green\"\n",
      "                }\n",
      "            ]\n",
      "        },\n",
      "        {\n",
      "            \"machine_index\": 49,\n",
      "            \"bearings\": [\n",
      "                {\n",
      "                    \"bearing_index\": 0,\n",
      "                    \"status\": \"green\"\n",
      "                },\n",
      "                {\n",
      "                    \"bearing_index\": 1,\n",
      "                    \"status\": \"green\"\n",
      "                },\n",
      "                {\n",
      "                    \"bearing_index\": 2,\n",
      "                    \"status\": \"green\"\n",
      "                },\n",
      "                {\n",
      "                    \"bearing_index\": 3,\n",
      "                    \"status\": \"green\"\n",
      "                }\n",
      "            ]\n",
      "        }\n",
      "    ],\n",
      "    \"layout\": {\n",
      "        \"barmode\": \"stack\",\n",
      "        \"bargap\": 0,\n",
      "        \"xaxis\": {\n",
      "            \"tickmode\": \"array\",\n",
      "            \"tickvals\": [\n",
      "                0,\n",
      "                1,\n",
      "                2,\n",
      "                3,\n",
      "                4,\n",
      "                5,\n",
      "                6,\n",
      "                7,\n",
      "                8,\n",
      "                9,\n",
      "                10,\n",
      "                11,\n",
      "                12,\n",
      "                13,\n",
      "                14,\n",
      "                15,\n",
      "                16,\n",
      "                17,\n",
      "                18,\n",
      "                19,\n",
      "                20,\n",
      "                21,\n",
      "                22,\n",
      "                23,\n",
      "                24,\n",
      "                25,\n",
      "                26,\n",
      "                27,\n",
      "                28,\n",
      "                29,\n",
      "                30,\n",
      "                31,\n",
      "                32,\n",
      "                33,\n",
      "                34,\n",
      "                35,\n",
      "                36,\n",
      "                37,\n",
      "                38,\n",
      "                39,\n",
      "                40,\n",
      "                41,\n",
      "                42,\n",
      "                43,\n",
      "                44,\n",
      "                45,\n",
      "                46,\n",
      "                47,\n",
      "                48,\n",
      "                49\n",
      "            ],\n",
      "            \"ticktext\": [\n",
      "                \"Machine 11\",\n",
      "                \"Machine 50\",\n",
      "                \"Machine 20\",\n",
      "                \"Machine 29\",\n",
      "                \"Machine 34\",\n",
      "                \"Machine 23\",\n",
      "                \"Machine 10\",\n",
      "                \"Machine 9\",\n",
      "                \"Machine 24\",\n",
      "                \"Machine 6\",\n",
      "                \"Machine 41\",\n",
      "                \"Machine 42\",\n",
      "                \"Machine 43\",\n",
      "                \"Machine 39\",\n",
      "                \"Machine 38\",\n",
      "                \"Machine 37\",\n",
      "                \"Machine 36\",\n",
      "                \"Machine 44\",\n",
      "                \"Machine 32\",\n",
      "                \"Machine 46\",\n",
      "                \"Machine 47\",\n",
      "                \"Machine 28\",\n",
      "                \"Machine 27\",\n",
      "                \"Machine 40\",\n",
      "                \"Machine 1\",\n",
      "                \"Machine 25\",\n",
      "                \"Machine 22\",\n",
      "                \"Machine 21\",\n",
      "                \"Machine 2\",\n",
      "                \"Machine 3\",\n",
      "                \"Machine 18\",\n",
      "                \"Machine 4\",\n",
      "                \"Machine 5\",\n",
      "                \"Machine 7\",\n",
      "                \"Machine 8\",\n",
      "                \"Machine 12\",\n",
      "                \"Machine 48\",\n",
      "                \"Machine 45\",\n",
      "                \"Machine 26\",\n",
      "                \"Machine 49\",\n",
      "                \"Machine 15\",\n",
      "                \"Machine 16\",\n",
      "                \"Machine 35\",\n",
      "                \"Machine 17\",\n",
      "                \"Machine 33\",\n",
      "                \"Machine 31\",\n",
      "                \"Machine 30\",\n",
      "                \"Machine 19\",\n",
      "                \"Machine 13\",\n",
      "                \"Machine 14\"\n",
      "            ]\n",
      "        },\n",
      "        \"yaxis\": {\n",
      "            \"range\": [\n",
      "                0,\n",
      "                4\n",
      "            ]\n",
      "        }\n",
      "    }\n",
      "}\n"
     ]
    }
   ],
   "source": [
    "file_name = parameter_dict[plot_mode]['json_file_name']\n",
    "\n",
    "# Prepare JSON data structure\n",
    "plot_json = {\n",
    "    \"x_series\": \"Machine Index\",  # Identifies what the x-axis represents\n",
    "    \"y_series\": \"Bearing Count\",  # Identifies what the y-axis represents\n",
    "    \"labels\": {\n",
    "        \"title\": \"Machines and Bearings Status\",\n",
    "        \"x\": \"Machines\",\n",
    "        \"y\": \"Bearings\"\n",
    "    },\n",
    "    \"data\": [\n",
    "        {\n",
    "            \"machine_index\": int(i),  # Machine index for identification\n",
    "            \"bearings\": [\n",
    "                {\n",
    "                    \"bearing_index\": int(j),\n",
    "                    \"status\": parameter_dict[plot_mode]['color'] if status else \"green\"\n",
    "                }\n",
    "                for j, status in enumerate(dataset[sorted_indices[i]])\n",
    "            ]\n",
    "        }\n",
    "        for i in range(num_machines)\n",
    "    ],\n",
    "    \"layout\": {\n",
    "        \"barmode\": \"stack\",\n",
    "        \"bargap\": 0,\n",
    "        \"xaxis\": {\n",
    "            \"tickmode\": \"array\",\n",
    "            \"tickvals\": list(range(num_machines)),\n",
    "            \"ticktext\": [f\"Machine {i+1}\" for i in sorted_indices]\n",
    "        },\n",
    "        \"yaxis\": {\n",
    "            \"range\": [0, num_bearings]\n",
    "        }\n",
    "    }\n",
    "}\n",
    "\n",
    "# Serialize JSON data to a string\n",
    "json_str = json.dumps(plot_json, indent=4)\n",
    "print(json_str)\n",
    "\n",
    "# Optionally, write to a file\n",
    "with open(os.path.join(output_dir, file_name), 'w') as f:\n",
    "    json.dump(plot_json, f, indent=4)"
   ]
  },
  {
   "cell_type": "code",
   "execution_count": null,
   "metadata": {},
   "outputs": [],
   "source": []
  },
  {
   "cell_type": "markdown",
   "metadata": {},
   "source": []
  }
 ],
 "metadata": {
  "kernelspec": {
   "display_name": "base",
   "language": "python",
   "name": "python3"
  },
  "language_info": {
   "codemirror_mode": {
    "name": "ipython",
    "version": 3
   },
   "file_extension": ".py",
   "mimetype": "text/x-python",
   "name": "python",
   "nbconvert_exporter": "python",
   "pygments_lexer": "ipython3",
   "version": "3.11.7"
  }
 },
 "nbformat": 4,
 "nbformat_minor": 2
}
